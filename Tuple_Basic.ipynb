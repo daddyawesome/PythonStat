{
  "nbformat": 4,
  "nbformat_minor": 0,
  "metadata": {
    "colab": {
      "name": "Tuple_Basic.ipynb",
      "provenance": [],
      "authorship_tag": "ABX9TyMTz+S9d1oo/lVO7HaXUB/k",
      "include_colab_link": true
    },
    "kernelspec": {
      "name": "python3",
      "display_name": "Python 3"
    }
  },
  "cells": [
    {
      "cell_type": "markdown",
      "metadata": {
        "id": "view-in-github",
        "colab_type": "text"
      },
      "source": [
        "<a href=\"https://colab.research.google.com/github/daddyawesome/PythonStat/blob/master/Tuple_Basic.ipynb\" target=\"_parent\"><img src=\"https://colab.research.google.com/assets/colab-badge.svg\" alt=\"Open In Colab\"/></a>"
      ]
    },
    {
      "cell_type": "markdown",
      "metadata": {
        "id": "TCC5HfczvYRA",
        "colab_type": "text"
      },
      "source": [
        "# Tuples\n",
        "Tuples are an immutable sequence data type that are commonly used to hold short collections of related data. For instance, if you wanted to store latitude and longitude coordinates for cities, tuples might be a good choice, because the values are related and not likely to change. Like lists, tuples can store objects of different types.\n",
        "\n",
        "Construct a tuple with a comma separated sequence of objects within parentheses:"
      ]
    },
    {
      "cell_type": "code",
      "metadata": {
        "id": "tUF6wyrgt6hM",
        "colab_type": "code",
        "colab": {}
      },
      "source": [
        "my_tuple = (1,3,5)\n",
        "\n",
        "print(my_tuple)"
      ],
      "execution_count": 0,
      "outputs": []
    },
    {
      "cell_type": "markdown",
      "metadata": {
        "id": "ozJdmma-v1hl",
        "colab_type": "text"
      },
      "source": [
        "Alternatively, you can construct a tuple by passing an iterable into the `tuple()` function:"
      ]
    },
    {
      "cell_type": "code",
      "metadata": {
        "id": "Dckm5zkZv6vd",
        "colab_type": "code",
        "colab": {
          "base_uri": "https://localhost:8080/",
          "height": 34
        },
        "outputId": "a2ef5cd7-3071-4b22-dc09-97c41cd422dc"
      },
      "source": [
        "my_list = [2,3,1,4]\n",
        "\n",
        "another_tuple = tuple(my_list)\n",
        "\n",
        "another_tuple"
      ],
      "execution_count": 1,
      "outputs": [
        {
          "output_type": "execute_result",
          "data": {
            "text/plain": [
              "(2, 3, 1, 4)"
            ]
          },
          "metadata": {
            "tags": []
          },
          "execution_count": 1
        }
      ]
    },
    {
      "cell_type": "markdown",
      "metadata": {
        "id": "xzJFR-Aow05O",
        "colab_type": "text"
      },
      "source": [
        "Tuples generally support the same indexing and slicing operations as lists and they also support some of the same functions, with the caveat that tuples cannot be changed after they are created. This means we can do things like find the length, max or min of a tuple, but we can't append new values to them or remove values from them:"
      ]
    },
    {
      "cell_type": "code",
      "metadata": {
        "id": "xCE5LZOaw5xh",
        "colab_type": "code",
        "colab": {
          "base_uri": "https://localhost:8080/",
          "height": 34
        },
        "outputId": "a9c0d837-87a5-4223-c83a-cbc213f1714b"
      },
      "source": [
        "another_tuple[2]     # You can index into tuples"
      ],
      "execution_count": 3,
      "outputs": [
        {
          "output_type": "execute_result",
          "data": {
            "text/plain": [
              "1"
            ]
          },
          "metadata": {
            "tags": []
          },
          "execution_count": 3
        }
      ]
    },
    {
      "cell_type": "code",
      "metadata": {
        "id": "h40hEsh9w8by",
        "colab_type": "code",
        "colab": {
          "base_uri": "https://localhost:8080/",
          "height": 34
        },
        "outputId": "992620e8-50ec-45d6-d0a3-21f736837900"
      },
      "source": [
        "another_tuple[2:4]   # You can slice tuples"
      ],
      "execution_count": 4,
      "outputs": [
        {
          "output_type": "execute_result",
          "data": {
            "text/plain": [
              "(1, 4)"
            ]
          },
          "metadata": {
            "tags": []
          },
          "execution_count": 4
        }
      ]
    },
    {
      "cell_type": "code",
      "metadata": {
        "id": "F0Q9KTDDxIAA",
        "colab_type": "code",
        "colab": {
          "base_uri": "https://localhost:8080/",
          "height": 85
        },
        "outputId": "44732990-d693-45ce-f82e-0f3e98e97cdc"
      },
      "source": [
        "# You can use common sequence functions on tuples:\n",
        "\n",
        "print( len(another_tuple))   \n",
        "print( min(another_tuple))  \n",
        "print( max(another_tuple))  \n",
        "print( sum(another_tuple))  "
      ],
      "execution_count": 5,
      "outputs": [
        {
          "output_type": "stream",
          "text": [
            "4\n",
            "1\n",
            "4\n",
            "10\n"
          ],
          "name": "stdout"
        }
      ]
    },
    {
      "cell_type": "code",
      "metadata": {
        "id": "XjmpWgdUxLrw",
        "colab_type": "code",
        "colab": {
          "base_uri": "https://localhost:8080/",
          "height": 163
        },
        "outputId": "5c2c4f34-96ab-4091-8d65-35d6da94ff55"
      },
      "source": [
        "another_tuple.append(1)    # You can't append to a tuple"
      ],
      "execution_count": 6,
      "outputs": [
        {
          "output_type": "error",
          "ename": "AttributeError",
          "evalue": "ignored",
          "traceback": [
            "\u001b[0;31m---------------------------------------------------------------------------\u001b[0m",
            "\u001b[0;31mAttributeError\u001b[0m                            Traceback (most recent call last)",
            "\u001b[0;32m<ipython-input-6-786543ec12ae>\u001b[0m in \u001b[0;36m<module>\u001b[0;34m()\u001b[0m\n\u001b[0;32m----> 1\u001b[0;31m \u001b[0manother_tuple\u001b[0m\u001b[0;34m.\u001b[0m\u001b[0mappend\u001b[0m\u001b[0;34m(\u001b[0m\u001b[0;36m1\u001b[0m\u001b[0;34m)\u001b[0m    \u001b[0;31m# You can't append to a tuple\u001b[0m\u001b[0;34m\u001b[0m\u001b[0;34m\u001b[0m\u001b[0m\n\u001b[0m",
            "\u001b[0;31mAttributeError\u001b[0m: 'tuple' object has no attribute 'append'"
          ]
        }
      ]
    },
    {
      "cell_type": "code",
      "metadata": {
        "id": "rBukFhVIxPEo",
        "colab_type": "code",
        "colab": {
          "base_uri": "https://localhost:8080/",
          "height": 163
        },
        "outputId": "60427132-9a8b-42b2-fece-eb26a72bdb9d"
      },
      "source": [
        "del another_tuple[1]      # You can't delete from a tuple"
      ],
      "execution_count": 7,
      "outputs": [
        {
          "output_type": "error",
          "ename": "TypeError",
          "evalue": "ignored",
          "traceback": [
            "\u001b[0;31m---------------------------------------------------------------------------\u001b[0m",
            "\u001b[0;31mTypeError\u001b[0m                                 Traceback (most recent call last)",
            "\u001b[0;32m<ipython-input-7-bc733fb46832>\u001b[0m in \u001b[0;36m<module>\u001b[0;34m()\u001b[0m\n\u001b[0;32m----> 1\u001b[0;31m \u001b[0;32mdel\u001b[0m \u001b[0manother_tuple\u001b[0m\u001b[0;34m[\u001b[0m\u001b[0;36m1\u001b[0m\u001b[0;34m]\u001b[0m      \u001b[0;31m# You can't delete from a tuple\u001b[0m\u001b[0;34m\u001b[0m\u001b[0;34m\u001b[0m\u001b[0m\n\u001b[0m",
            "\u001b[0;31mTypeError\u001b[0m: 'tuple' object doesn't support item deletion"
          ]
        }
      ]
    },
    {
      "cell_type": "markdown",
      "metadata": {
        "id": "3bMQ0pC9xU_Q",
        "colab_type": "text"
      },
      "source": [
        "You can sort the objects in tuple using the `sorted()` function, but doing so creates a new list containing the result rather than sorting the original tuple itself like the `list.sort()` function does with lists:"
      ]
    },
    {
      "cell_type": "code",
      "metadata": {
        "id": "-8vSbVQaxb_I",
        "colab_type": "code",
        "colab": {
          "base_uri": "https://localhost:8080/",
          "height": 34
        },
        "outputId": "ae8725b5-aefb-40d6-a9c7-5d3c5efb9076"
      },
      "source": [
        "sorted(another_tuple)"
      ],
      "execution_count": 8,
      "outputs": [
        {
          "output_type": "execute_result",
          "data": {
            "text/plain": [
              "[1, 2, 3, 4]"
            ]
          },
          "metadata": {
            "tags": []
          },
          "execution_count": 8
        }
      ]
    },
    {
      "cell_type": "code",
      "metadata": {
        "id": "dhsa44oGxgKw",
        "colab_type": "code",
        "colab": {
          "base_uri": "https://localhost:8080/",
          "height": 34
        },
        "outputId": "dfd3b6a6-7bf5-4c40-daa4-7e5f55990ae0"
      },
      "source": [
        "list1 = [1,2,3]\n",
        "\n",
        "tuple1 = (\"Tuples are Immutable\", list1)\n",
        "\n",
        "tuple2 = tuple1[:]                       # Make a shallow copy\n",
        "\n",
        "list1.append(\"But lists are mutable\")\n",
        "\n",
        "print( tuple2 )                          # Print the copy"
      ],
      "execution_count": 9,
      "outputs": [
        {
          "output_type": "stream",
          "text": [
            "('Tuples are Immutable', [1, 2, 3, 'But lists are mutable'])\n"
          ],
          "name": "stdout"
        }
      ]
    },
    {
      "cell_type": "markdown",
      "metadata": {
        "id": "D69PGvYMxmTo",
        "colab_type": "text"
      },
      "source": [
        "To avoid this behavior, make a deepcopy using the copy library:"
      ]
    },
    {
      "cell_type": "code",
      "metadata": {
        "id": "fiJAsrJnxrBQ",
        "colab_type": "code",
        "colab": {
          "base_uri": "https://localhost:8080/",
          "height": 34
        },
        "outputId": "ca5a52c5-ccea-4823-d725-d7d6da85302e"
      },
      "source": [
        "import copy\n",
        "\n",
        "list1 = [1,2,3]\n",
        "\n",
        "tuple1 = (\"Tuples are Immutable\", list1)\n",
        "\n",
        "tuple2 = copy.deepcopy(tuple1)           # Make a deep copy\n",
        "\n",
        "list1.append(\"But lists are mutable\")\n",
        "\n",
        "print( tuple2 )                          # Print the copy"
      ],
      "execution_count": 10,
      "outputs": [
        {
          "output_type": "stream",
          "text": [
            "('Tuples are Immutable', [1, 2, 3])\n"
          ],
          "name": "stdout"
        }
      ]
    }
  ]
}