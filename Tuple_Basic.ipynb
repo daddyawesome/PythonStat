{
  "nbformat": 4,
  "nbformat_minor": 0,
  "metadata": {
    "colab": {
      "name": "Tuple_Basic.ipynb",
      "provenance": [],
      "authorship_tag": "ABX9TyMoPBxpceJjm/Hg8JkVi0ny",
      "include_colab_link": true
    },
    "kernelspec": {
      "name": "python3",
      "display_name": "Python 3"
    }
  },
  "cells": [
    {
      "cell_type": "markdown",
      "metadata": {
        "id": "view-in-github",
        "colab_type": "text"
      },
      "source": [
        "<a href=\"https://colab.research.google.com/github/daddyawesome/PythonStat/blob/master/Tuple_Basic.ipynb\" target=\"_parent\"><img src=\"https://colab.research.google.com/assets/colab-badge.svg\" alt=\"Open In Colab\"/></a>"
      ]
    },
    {
      "cell_type": "markdown",
      "metadata": {
        "id": "TCC5HfczvYRA",
        "colab_type": "text"
      },
      "source": [
        "# Tuples\n",
        "Tuples are an immutable sequence data type that are commonly used to hold short collections of related data. For instance, if you wanted to store latitude and longitude coordinates for cities, tuples might be a good choice, because the values are related and not likely to change. Like lists, tuples can store objects of different types.\n",
        "\n",
        "Construct a tuple with a comma separated sequence of objects within parentheses:"
      ]
    },
    {
      "cell_type": "code",
      "metadata": {
        "id": "tUF6wyrgt6hM",
        "colab_type": "code",
        "colab": {
          "base_uri": "https://localhost:8080/",
          "height": 34
        },
        "outputId": "9ba9362c-9bc8-4646-96b3-8422e2b85a8a"
      },
      "source": [
        "my_tuple = (1,3,5)\n",
        "\n",
        "print(my_tuple)"
      ],
      "execution_count": 7,
      "outputs": [
        {
          "output_type": "stream",
          "text": [
            "(1, 3, 5)\n"
          ],
          "name": "stdout"
        }
      ]
    },
    {
      "cell_type": "markdown",
      "metadata": {
        "id": "ozJdmma-v1hl",
        "colab_type": "text"
      },
      "source": [
        "Alternatively, you can construct a tuple by passing an iterable into the `tuple()` function:"
      ]
    },
    {
      "cell_type": "code",
      "metadata": {
        "id": "Dckm5zkZv6vd",
        "colab_type": "code",
        "colab": {
          "base_uri": "https://localhost:8080/",
          "height": 34
        },
        "outputId": "47f93817-95ab-4c00-b9d5-d26282e92e99"
      },
      "source": [
        "my_list = [2,3,1,4]\n",
        "\n",
        "another_tuple = tuple(my_list)\n",
        "\n",
        "another_tuple"
      ],
      "execution_count": 8,
      "outputs": [
        {
          "output_type": "execute_result",
          "data": {
            "text/plain": [
              "(2, 3, 1, 4)"
            ]
          },
          "metadata": {
            "tags": []
          },
          "execution_count": 8
        }
      ]
    },
    {
      "cell_type": "markdown",
      "metadata": {
        "id": "xzJFR-Aow05O",
        "colab_type": "text"
      },
      "source": [
        "Tuples generally support the same indexing and slicing operations as lists and they also support some of the same functions, with the caveat that tuples cannot be changed after they are created. This means we can do things like find the length, max or min of a tuple, but we can't append new values to them or remove values from them:"
      ]
    },
    {
      "cell_type": "code",
      "metadata": {
        "id": "xCE5LZOaw5xh",
        "colab_type": "code",
        "colab": {
          "base_uri": "https://localhost:8080/",
          "height": 34
        },
        "outputId": "931153ea-e354-4254-a788-c8081430df78"
      },
      "source": [
        "another_tuple[2]     # You can index into tuples"
      ],
      "execution_count": 9,
      "outputs": [
        {
          "output_type": "execute_result",
          "data": {
            "text/plain": [
              "1"
            ]
          },
          "metadata": {
            "tags": []
          },
          "execution_count": 9
        }
      ]
    },
    {
      "cell_type": "code",
      "metadata": {
        "id": "h40hEsh9w8by",
        "colab_type": "code",
        "colab": {
          "base_uri": "https://localhost:8080/",
          "height": 34
        },
        "outputId": "82067617-79d5-4c16-cda8-d4421dd82f67"
      },
      "source": [
        "another_tuple[2:4]   # You can slice tuples"
      ],
      "execution_count": 10,
      "outputs": [
        {
          "output_type": "execute_result",
          "data": {
            "text/plain": [
              "(1, 4)"
            ]
          },
          "metadata": {
            "tags": []
          },
          "execution_count": 10
        }
      ]
    },
    {
      "cell_type": "code",
      "metadata": {
        "id": "F0Q9KTDDxIAA",
        "colab_type": "code",
        "colab": {
          "base_uri": "https://localhost:8080/",
          "height": 85
        },
        "outputId": "f0a74878-d966-4a67-e73d-17477395975c"
      },
      "source": [
        "# You can use common sequence functions on tuples:\n",
        "\n",
        "print( len(another_tuple))   \n",
        "print( min(another_tuple))  \n",
        "print( max(another_tuple))  \n",
        "print( sum(another_tuple))  "
      ],
      "execution_count": 11,
      "outputs": [
        {
          "output_type": "stream",
          "text": [
            "4\n",
            "1\n",
            "4\n",
            "10\n"
          ],
          "name": "stdout"
        }
      ]
    },
    {
      "cell_type": "code",
      "metadata": {
        "id": "XjmpWgdUxLrw",
        "colab_type": "code",
        "colab": {
          "base_uri": "https://localhost:8080/",
          "height": 163
        },
        "outputId": "7356afe6-f3fe-4673-ee93-a7e52f604a13"
      },
      "source": [
        "another_tuple.append(1)    # You can't append to a tuple"
      ],
      "execution_count": 12,
      "outputs": [
        {
          "output_type": "error",
          "ename": "AttributeError",
          "evalue": "ignored",
          "traceback": [
            "\u001b[0;31m---------------------------------------------------------------------------\u001b[0m",
            "\u001b[0;31mAttributeError\u001b[0m                            Traceback (most recent call last)",
            "\u001b[0;32m<ipython-input-12-786543ec12ae>\u001b[0m in \u001b[0;36m<module>\u001b[0;34m()\u001b[0m\n\u001b[0;32m----> 1\u001b[0;31m \u001b[0manother_tuple\u001b[0m\u001b[0;34m.\u001b[0m\u001b[0mappend\u001b[0m\u001b[0;34m(\u001b[0m\u001b[0;36m1\u001b[0m\u001b[0;34m)\u001b[0m    \u001b[0;31m# You can't append to a tuple\u001b[0m\u001b[0;34m\u001b[0m\u001b[0;34m\u001b[0m\u001b[0m\n\u001b[0m",
            "\u001b[0;31mAttributeError\u001b[0m: 'tuple' object has no attribute 'append'"
          ]
        }
      ]
    },
    {
      "cell_type": "code",
      "metadata": {
        "id": "rBukFhVIxPEo",
        "colab_type": "code",
        "colab": {
          "base_uri": "https://localhost:8080/",
          "height": 163
        },
        "outputId": "b6810fdd-6239-47a2-c218-b753ab6cf3ed"
      },
      "source": [
        "del another_tuple[1]      # You can't delete from a tuple"
      ],
      "execution_count": 13,
      "outputs": [
        {
          "output_type": "error",
          "ename": "TypeError",
          "evalue": "ignored",
          "traceback": [
            "\u001b[0;31m---------------------------------------------------------------------------\u001b[0m",
            "\u001b[0;31mTypeError\u001b[0m                                 Traceback (most recent call last)",
            "\u001b[0;32m<ipython-input-13-bc733fb46832>\u001b[0m in \u001b[0;36m<module>\u001b[0;34m()\u001b[0m\n\u001b[0;32m----> 1\u001b[0;31m \u001b[0;32mdel\u001b[0m \u001b[0manother_tuple\u001b[0m\u001b[0;34m[\u001b[0m\u001b[0;36m1\u001b[0m\u001b[0;34m]\u001b[0m      \u001b[0;31m# You can't delete from a tuple\u001b[0m\u001b[0;34m\u001b[0m\u001b[0;34m\u001b[0m\u001b[0m\n\u001b[0m",
            "\u001b[0;31mTypeError\u001b[0m: 'tuple' object doesn't support item deletion"
          ]
        }
      ]
    },
    {
      "cell_type": "markdown",
      "metadata": {
        "id": "3bMQ0pC9xU_Q",
        "colab_type": "text"
      },
      "source": [
        "You can sort the objects in tuple using the `sorted()` function, but doing so creates a new list containing the result rather than sorting the original tuple itself like the `list.sort()` function does with lists:"
      ]
    },
    {
      "cell_type": "code",
      "metadata": {
        "id": "-8vSbVQaxb_I",
        "colab_type": "code",
        "colab": {
          "base_uri": "https://localhost:8080/",
          "height": 34
        },
        "outputId": "57d3a33a-b571-4e1e-dfcd-b075d97fe0be"
      },
      "source": [
        "sorted(another_tuple)"
      ],
      "execution_count": 14,
      "outputs": [
        {
          "output_type": "execute_result",
          "data": {
            "text/plain": [
              "[1, 2, 3, 4]"
            ]
          },
          "metadata": {
            "tags": []
          },
          "execution_count": 14
        }
      ]
    },
    {
      "cell_type": "code",
      "metadata": {
        "id": "dhsa44oGxgKw",
        "colab_type": "code",
        "colab": {
          "base_uri": "https://localhost:8080/",
          "height": 34
        },
        "outputId": "2897df53-e249-4ffa-deb9-6b3ebe37dc27"
      },
      "source": [
        "list1 = [1,2,3]\n",
        "\n",
        "tuple1 = (\"Tuples are Immutable\", list1)\n",
        "\n",
        "tuple2 = tuple1[:]                       # Make a shallow copy\n",
        "\n",
        "list1.append(\"But lists are mutable\")\n",
        "\n",
        "print( tuple2 )                          # Print the copy"
      ],
      "execution_count": 15,
      "outputs": [
        {
          "output_type": "stream",
          "text": [
            "('Tuples are Immutable', [1, 2, 3, 'But lists are mutable'])\n"
          ],
          "name": "stdout"
        }
      ]
    },
    {
      "cell_type": "markdown",
      "metadata": {
        "id": "D69PGvYMxmTo",
        "colab_type": "text"
      },
      "source": [
        "To avoid this behavior, make a deepcopy using the copy library:"
      ]
    },
    {
      "cell_type": "code",
      "metadata": {
        "id": "fiJAsrJnxrBQ",
        "colab_type": "code",
        "colab": {
          "base_uri": "https://localhost:8080/",
          "height": 34
        },
        "outputId": "bb7f607d-17ca-49cd-d228-5685ec70b2ee"
      },
      "source": [
        "import copy\n",
        "\n",
        "list1 = [1,2,3]\n",
        "\n",
        "tuple1 = (\"Tuples are Immutable\", list1)\n",
        "\n",
        "tuple2 = copy.deepcopy(tuple1)           # Make a deep copy\n",
        "\n",
        "list1.append(\"But lists are mutable\")\n",
        "\n",
        "print( tuple2 )                          # Print the copy"
      ],
      "execution_count": 16,
      "outputs": [
        {
          "output_type": "stream",
          "text": [
            "('Tuples are Immutable', [1, 2, 3])\n"
          ],
          "name": "stdout"
        }
      ]
    },
    {
      "cell_type": "markdown",
      "metadata": {
        "id": "lxYNd-74o8q4",
        "colab_type": "text"
      },
      "source": [
        "# Strings\n",
        "We already learned a little bit about strings in the lesson on basic data types, but strings are technically sequences: immutable sequences of text characters. As sequences, they support indexing operations where the first character of a string is index 0. This means we can get individual letters or slices of letters with indexing:"
      ]
    },
    {
      "cell_type": "code",
      "metadata": {
        "id": "KCatYxkzpAIm",
        "colab_type": "code",
        "colab": {
          "base_uri": "https://localhost:8080/",
          "height": 34
        },
        "outputId": "14a8d072-a129-4af2-ad50-a135fd36eda4"
      },
      "source": [
        "my_string = \"Hello world\"\n",
        "\n",
        "my_string[3]    # Get the character at index 3"
      ],
      "execution_count": 17,
      "outputs": [
        {
          "output_type": "execute_result",
          "data": {
            "text/plain": [
              "'l'"
            ]
          },
          "metadata": {
            "tags": []
          },
          "execution_count": 17
        }
      ]
    },
    {
      "cell_type": "markdown",
      "metadata": {
        "id": "CnHulYucpLoM",
        "colab_type": "text"
      },
      "source": [
        ""
      ]
    }
  ]
}