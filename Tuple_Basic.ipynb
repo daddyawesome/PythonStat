{
  "nbformat": 4,
  "nbformat_minor": 0,
  "metadata": {
    "colab": {
      "name": "Tuple_Basic.ipynb",
      "provenance": [],
      "authorship_tag": "ABX9TyPoxVDDrOzdktzkBXx0b0L9",
      "include_colab_link": true
    },
    "kernelspec": {
      "name": "python3",
      "display_name": "Python 3"
    }
  },
  "cells": [
    {
      "cell_type": "markdown",
      "metadata": {
        "id": "view-in-github",
        "colab_type": "text"
      },
      "source": [
        "<a href=\"https://colab.research.google.com/github/daddyawesome/PythonStat/blob/master/Tuple_Basic.ipynb\" target=\"_parent\"><img src=\"https://colab.research.google.com/assets/colab-badge.svg\" alt=\"Open In Colab\"/></a>"
      ]
    },
    {
      "cell_type": "markdown",
      "metadata": {
        "id": "TCC5HfczvYRA",
        "colab_type": "text"
      },
      "source": [
        "# Tuples\n",
        "Tuples are an immutable sequence data type that are commonly used to hold short collections of related data. For instance, if you wanted to store latitude and longitude coordinates for cities, tuples might be a good choice, because the values are related and not likely to change. Like lists, tuples can store objects of different types.\n",
        "\n",
        "Construct a tuple with a comma separated sequence of objects within parentheses:"
      ]
    },
    {
      "cell_type": "code",
      "metadata": {
        "id": "tUF6wyrgt6hM",
        "colab_type": "code",
        "colab": {
          "base_uri": "https://localhost:8080/",
          "height": 34
        },
        "outputId": "4bcb3809-0991-412c-ca23-63806409dff8"
      },
      "source": [
        "my_tuple = (1,3,5)\n",
        "\n",
        "print(my_tuple)"
      ],
      "execution_count": 33,
      "outputs": [
        {
          "output_type": "stream",
          "text": [
            "(1, 3, 5)\n"
          ],
          "name": "stdout"
        }
      ]
    },
    {
      "cell_type": "markdown",
      "metadata": {
        "id": "ozJdmma-v1hl",
        "colab_type": "text"
      },
      "source": [
        "Alternatively, you can construct a tuple by passing an iterable into the `tuple()` function:"
      ]
    },
    {
      "cell_type": "code",
      "metadata": {
        "id": "Dckm5zkZv6vd",
        "colab_type": "code",
        "colab": {
          "base_uri": "https://localhost:8080/",
          "height": 34
        },
        "outputId": "19e8769d-cbb6-41b6-bed4-0fbeeb2ea0e0"
      },
      "source": [
        "my_list = [2,3,1,4]\n",
        "\n",
        "another_tuple = tuple(my_list)\n",
        "\n",
        "another_tuple"
      ],
      "execution_count": 34,
      "outputs": [
        {
          "output_type": "execute_result",
          "data": {
            "text/plain": [
              "(2, 3, 1, 4)"
            ]
          },
          "metadata": {
            "tags": []
          },
          "execution_count": 34
        }
      ]
    },
    {
      "cell_type": "markdown",
      "metadata": {
        "id": "xzJFR-Aow05O",
        "colab_type": "text"
      },
      "source": [
        "Tuples generally support the same indexing and slicing operations as lists and they also support some of the same functions, with the caveat that tuples cannot be changed after they are created. This means we can do things like find the length, max or min of a tuple, but we can't append new values to them or remove values from them:"
      ]
    },
    {
      "cell_type": "code",
      "metadata": {
        "id": "xCE5LZOaw5xh",
        "colab_type": "code",
        "colab": {
          "base_uri": "https://localhost:8080/",
          "height": 34
        },
        "outputId": "7d26be41-5441-4063-a5bc-2c2ff6cd1076"
      },
      "source": [
        "another_tuple[2]     # You can index into tuples"
      ],
      "execution_count": 35,
      "outputs": [
        {
          "output_type": "execute_result",
          "data": {
            "text/plain": [
              "1"
            ]
          },
          "metadata": {
            "tags": []
          },
          "execution_count": 35
        }
      ]
    },
    {
      "cell_type": "code",
      "metadata": {
        "id": "h40hEsh9w8by",
        "colab_type": "code",
        "colab": {
          "base_uri": "https://localhost:8080/",
          "height": 34
        },
        "outputId": "dfdc3ab1-3b5a-4466-f8a3-2821002bdd62"
      },
      "source": [
        "another_tuple[2:4]   # You can slice tuples"
      ],
      "execution_count": 36,
      "outputs": [
        {
          "output_type": "execute_result",
          "data": {
            "text/plain": [
              "(1, 4)"
            ]
          },
          "metadata": {
            "tags": []
          },
          "execution_count": 36
        }
      ]
    },
    {
      "cell_type": "code",
      "metadata": {
        "id": "F0Q9KTDDxIAA",
        "colab_type": "code",
        "colab": {
          "base_uri": "https://localhost:8080/",
          "height": 85
        },
        "outputId": "0fbbf0c1-129f-409d-8784-13534aa9422e"
      },
      "source": [
        "# You can use common sequence functions on tuples:\n",
        "\n",
        "print( len(another_tuple))   \n",
        "print( min(another_tuple))  \n",
        "print( max(another_tuple))  \n",
        "print( sum(another_tuple))  "
      ],
      "execution_count": 37,
      "outputs": [
        {
          "output_type": "stream",
          "text": [
            "4\n",
            "1\n",
            "4\n",
            "10\n"
          ],
          "name": "stdout"
        }
      ]
    },
    {
      "cell_type": "code",
      "metadata": {
        "id": "XjmpWgdUxLrw",
        "colab_type": "code",
        "colab": {
          "base_uri": "https://localhost:8080/",
          "height": 163
        },
        "outputId": "7a08258d-aae0-4ece-adb1-89f082a3c253"
      },
      "source": [
        "another_tuple.append(1)    # You can't append to a tuple"
      ],
      "execution_count": 38,
      "outputs": [
        {
          "output_type": "error",
          "ename": "AttributeError",
          "evalue": "ignored",
          "traceback": [
            "\u001b[0;31m---------------------------------------------------------------------------\u001b[0m",
            "\u001b[0;31mAttributeError\u001b[0m                            Traceback (most recent call last)",
            "\u001b[0;32m<ipython-input-38-786543ec12ae>\u001b[0m in \u001b[0;36m<module>\u001b[0;34m()\u001b[0m\n\u001b[0;32m----> 1\u001b[0;31m \u001b[0manother_tuple\u001b[0m\u001b[0;34m.\u001b[0m\u001b[0mappend\u001b[0m\u001b[0;34m(\u001b[0m\u001b[0;36m1\u001b[0m\u001b[0;34m)\u001b[0m    \u001b[0;31m# You can't append to a tuple\u001b[0m\u001b[0;34m\u001b[0m\u001b[0;34m\u001b[0m\u001b[0m\n\u001b[0m",
            "\u001b[0;31mAttributeError\u001b[0m: 'tuple' object has no attribute 'append'"
          ]
        }
      ]
    },
    {
      "cell_type": "code",
      "metadata": {
        "id": "rBukFhVIxPEo",
        "colab_type": "code",
        "colab": {}
      },
      "source": [
        "del another_tuple[1]      # You can't delete from a tuple"
      ],
      "execution_count": 0,
      "outputs": []
    },
    {
      "cell_type": "markdown",
      "metadata": {
        "id": "3bMQ0pC9xU_Q",
        "colab_type": "text"
      },
      "source": [
        "You can sort the objects in tuple using the `sorted()` function, but doing so creates a new list containing the result rather than sorting the original tuple itself like the `list.sort()` function does with lists:"
      ]
    },
    {
      "cell_type": "code",
      "metadata": {
        "id": "-8vSbVQaxb_I",
        "colab_type": "code",
        "colab": {}
      },
      "source": [
        "sorted(another_tuple)"
      ],
      "execution_count": 0,
      "outputs": []
    },
    {
      "cell_type": "code",
      "metadata": {
        "id": "dhsa44oGxgKw",
        "colab_type": "code",
        "colab": {}
      },
      "source": [
        "list1 = [1,2,3]\n",
        "\n",
        "tuple1 = (\"Tuples are Immutable\", list1)\n",
        "\n",
        "tuple2 = tuple1[:]                       # Make a shallow copy\n",
        "\n",
        "list1.append(\"But lists are mutable\")\n",
        "\n",
        "print( tuple2 )                          # Print the copy"
      ],
      "execution_count": 0,
      "outputs": []
    },
    {
      "cell_type": "markdown",
      "metadata": {
        "id": "D69PGvYMxmTo",
        "colab_type": "text"
      },
      "source": [
        "To avoid this behavior, make a deepcopy using the copy library:"
      ]
    },
    {
      "cell_type": "code",
      "metadata": {
        "id": "fiJAsrJnxrBQ",
        "colab_type": "code",
        "colab": {}
      },
      "source": [
        "import copy\n",
        "\n",
        "list1 = [1,2,3]\n",
        "\n",
        "tuple1 = (\"Tuples are Immutable\", list1)\n",
        "\n",
        "tuple2 = copy.deepcopy(tuple1)           # Make a deep copy\n",
        "\n",
        "list1.append(\"But lists are mutable\")\n",
        "\n",
        "print( tuple2 )                          # Print the copy"
      ],
      "execution_count": 0,
      "outputs": []
    },
    {
      "cell_type": "markdown",
      "metadata": {
        "id": "lxYNd-74o8q4",
        "colab_type": "text"
      },
      "source": [
        "# Strings\n",
        "We already learned a little bit about strings in the lesson on basic data types, but strings are technically sequences: immutable sequences of text characters. As sequences, they support indexing operations where the first character of a string is index 0. This means we can get individual letters or slices of letters with indexing:"
      ]
    },
    {
      "cell_type": "code",
      "metadata": {
        "id": "KCatYxkzpAIm",
        "colab_type": "code",
        "colab": {}
      },
      "source": [
        "my_string = \"Hello world\"\n",
        "\n",
        "my_string[3]    # Get the character at index 3"
      ],
      "execution_count": 0,
      "outputs": []
    },
    {
      "cell_type": "code",
      "metadata": {
        "id": "39DY7AEeqL6s",
        "colab_type": "code",
        "colab": {}
      },
      "source": [
        "my_string[3:]   # Slice from the third index to the end"
      ],
      "execution_count": 0,
      "outputs": []
    },
    {
      "cell_type": "code",
      "metadata": {
        "id": "2KR0LSeRqPCX",
        "colab_type": "code",
        "colab": {}
      },
      "source": [
        "my_string[::-1]  # Reverse the string"
      ],
      "execution_count": 0,
      "outputs": []
    },
    {
      "cell_type": "markdown",
      "metadata": {
        "id": "CnHulYucpLoM",
        "colab_type": "text"
      },
      "source": [
        "In addition, certain sequence functions like `len()` and `count()` work on strings:"
      ]
    },
    {
      "cell_type": "code",
      "metadata": {
        "id": "lTtQv4L5qZb4",
        "colab_type": "code",
        "colab": {}
      },
      "source": [
        "len(my_string)"
      ],
      "execution_count": 0,
      "outputs": []
    },
    {
      "cell_type": "code",
      "metadata": {
        "id": "jPmolK_Gqf__",
        "colab_type": "code",
        "colab": {}
      },
      "source": [
        "my_string.count(\"l\")  # Count the l's in the string"
      ],
      "execution_count": 0,
      "outputs": []
    },
    {
      "cell_type": "markdown",
      "metadata": {
        "id": "eR9B_7R3qcgx",
        "colab_type": "text"
      },
      "source": [
        "As immutable objects, you can't change a string itself: every time you transform a string with a function, Python makes a new string object, rather than actually altering the original string that exists in your computer's memory.\n",
        "\n",
        "Strings have many associated functions. Some basic string functions include:"
      ]
    },
    {
      "cell_type": "code",
      "metadata": {
        "id": "Uiz65-iYqmXu",
        "colab_type": "code",
        "colab": {}
      },
      "source": [
        "# str.lower()     \n",
        "\n",
        "my_string.lower()   # Make all characters lowercase"
      ],
      "execution_count": 0,
      "outputs": []
    },
    {
      "cell_type": "code",
      "metadata": {
        "id": "NiU2lyZ7qqXu",
        "colab_type": "code",
        "colab": {}
      },
      "source": [
        "# str.upper()     \n",
        "\n",
        "my_string.upper()   # Make all characters uppercase"
      ],
      "execution_count": 0,
      "outputs": []
    },
    {
      "cell_type": "code",
      "metadata": {
        "id": "dLM0qT1QqtQ2",
        "colab_type": "code",
        "colab": {}
      },
      "source": [
        "# str.title()\n",
        "\n",
        "my_string.title()   # Make the first letter of each word uppercase"
      ],
      "execution_count": 0,
      "outputs": []
    },
    {
      "cell_type": "markdown",
      "metadata": {
        "id": "rSnV-YLUqxQo",
        "colab_type": "text"
      },
      "source": [
        "Find the index of the first appearing substring within a string using `str.find()`. If the substring does not appear, `find()` returns -1:"
      ]
    },
    {
      "cell_type": "code",
      "metadata": {
        "id": "cEvaG8ZrqvEG",
        "colab_type": "code",
        "colab": {}
      },
      "source": [
        "my_string.find(\"W\")"
      ],
      "execution_count": 0,
      "outputs": []
    },
    {
      "cell_type": "markdown",
      "metadata": {
        "id": "fEz0Ema5vTaD",
        "colab_type": "text"
      },
      "source": [
        "Notice that since strings are immutable, we never actually changed the original value of my_string with any of the code above, but instead generated new strings that were printed to the console. This means \"W\" does not exist in my_string even though our call to `str.title()` produced the output 'Hello World'. The original lowercase \"w\" still exists at index position 6:"
      ]
    },
    {
      "cell_type": "code",
      "metadata": {
        "id": "GNVI7TBTvb72",
        "colab_type": "code",
        "colab": {}
      },
      "source": [
        "my_string.find(\"w\")"
      ],
      "execution_count": 0,
      "outputs": []
    },
    {
      "cell_type": "markdown",
      "metadata": {
        "id": "B9hBkbq4vib_",
        "colab_type": "text"
      },
      "source": [
        "Find and replace a target substring within a string using `str.replace()`:"
      ]
    },
    {
      "cell_type": "code",
      "metadata": {
        "id": "B5O_dhQnveWD",
        "colab_type": "code",
        "colab": {}
      },
      "source": [
        "my_string.replace(\"world\",    # Substring to replace\n",
        "                  \"friend\")   # New substring"
      ],
      "execution_count": 0,
      "outputs": []
    },
    {
      "cell_type": "markdown",
      "metadata": {
        "id": "Q1sbLxlxvsL1",
        "colab_type": "text"
      },
      "source": [
        "Split a string into a list of substrings based on a given separating character with `str.split()`:"
      ]
    },
    {
      "cell_type": "code",
      "metadata": {
        "id": "HLQEwH-Rvvul",
        "colab_type": "code",
        "colab": {}
      },
      "source": [
        "my_string.split()     # str.split() splits on spaces by default"
      ],
      "execution_count": 0,
      "outputs": []
    },
    {
      "cell_type": "code",
      "metadata": {
        "id": "EhfNom-Av4Hs",
        "colab_type": "code",
        "colab": {}
      },
      "source": [
        "my_string.split(\"l\")  # Supply a substring to split on other values"
      ],
      "execution_count": 0,
      "outputs": []
    },
    {
      "cell_type": "markdown",
      "metadata": {
        "id": "cjPw17l-v6hl",
        "colab_type": "text"
      },
      "source": [
        "Split a multi-line string into a list of lines using str.splitlines():"
      ]
    },
    {
      "cell_type": "code",
      "metadata": {
        "id": "OKRSxorzwAyr",
        "colab_type": "code",
        "colab": {}
      },
      "source": [
        "multiline_string = \"\"\"I am\n",
        "a multiline \n",
        "string!\n",
        "\"\"\"\n",
        "\n",
        "multiline_string.splitlines()"
      ],
      "execution_count": 0,
      "outputs": []
    },
    {
      "cell_type": "markdown",
      "metadata": {
        "id": "NCLXFXUHB4Nj",
        "colab_type": "text"
      },
      "source": [
        "Strip leading and trailing characters from both ends of a string with `str.strip().`"
      ]
    },
    {
      "cell_type": "code",
      "metadata": {
        "id": "amWyWKEMB8AR",
        "colab_type": "code",
        "colab": {
          "base_uri": "https://localhost:8080/",
          "height": 34
        },
        "outputId": "d864cb63-03fc-4a50-fb83-b89f2a973e67"
      },
      "source": [
        "# str.strip() removes whitespace by default\n",
        "\n",
        "\"    strip white space!   \".strip() "
      ],
      "execution_count": 39,
      "outputs": [
        {
          "output_type": "execute_result",
          "data": {
            "text/plain": [
              "'strip white space!'"
            ]
          },
          "metadata": {
            "tags": []
          },
          "execution_count": 39
        }
      ]
    },
    {
      "cell_type": "markdown",
      "metadata": {
        "id": "3L214A7hCCVI",
        "colab_type": "text"
      },
      "source": [
        "Override the default by supplying a string containing all characters you'd like to strip as an argument to the function:"
      ]
    },
    {
      "cell_type": "code",
      "metadata": {
        "id": "_ZpjEzuUCD0B",
        "colab_type": "code",
        "colab": {
          "base_uri": "https://localhost:8080/",
          "height": 34
        },
        "outputId": "75fa4762-17d1-49f3-bbca-1259df86d3d9"
      },
      "source": [
        "\"xXxxBuyNOWxxXx\".strip(\"xX\")"
      ],
      "execution_count": 40,
      "outputs": [
        {
          "output_type": "execute_result",
          "data": {
            "text/plain": [
              "'BuyNOW'"
            ]
          },
          "metadata": {
            "tags": []
          },
          "execution_count": 40
        }
      ]
    }
  ]
}