{
  "nbformat": 4,
  "nbformat_minor": 0,
  "metadata": {
    "colab": {
      "name": "Tuple_Basic.ipynb",
      "provenance": [],
      "authorship_tag": "ABX9TyNdUiXaGACDrVqJhTY56suz",
      "include_colab_link": true
    },
    "kernelspec": {
      "name": "python3",
      "display_name": "Python 3"
    }
  },
  "cells": [
    {
      "cell_type": "markdown",
      "metadata": {
        "id": "view-in-github",
        "colab_type": "text"
      },
      "source": [
        "<a href=\"https://colab.research.google.com/github/daddyawesome/PythonStat/blob/master/Tuple_Basic.ipynb\" target=\"_parent\"><img src=\"https://colab.research.google.com/assets/colab-badge.svg\" alt=\"Open In Colab\"/></a>"
      ]
    },
    {
      "cell_type": "markdown",
      "metadata": {
        "id": "TCC5HfczvYRA",
        "colab_type": "text"
      },
      "source": [
        "# Tuples\n",
        "Tuples are an immutable sequence data type that are commonly used to hold short collections of related data. For instance, if you wanted to store latitude and longitude coordinates for cities, tuples might be a good choice, because the values are related and not likely to change. Like lists, tuples can store objects of different types.\n",
        "\n",
        "Construct a tuple with a comma separated sequence of objects within parentheses:"
      ]
    },
    {
      "cell_type": "code",
      "metadata": {
        "id": "tUF6wyrgt6hM",
        "colab_type": "code",
        "colab": {}
      },
      "source": [
        "my_tuple = (1,3,5)\n",
        "\n",
        "print(my_tuple)"
      ],
      "execution_count": 0,
      "outputs": []
    },
    {
      "cell_type": "markdown",
      "metadata": {
        "id": "ozJdmma-v1hl",
        "colab_type": "text"
      },
      "source": [
        "Alternatively, you can construct a tuple by passing an iterable into the `tuple()` function:"
      ]
    },
    {
      "cell_type": "code",
      "metadata": {
        "id": "Dckm5zkZv6vd",
        "colab_type": "code",
        "colab": {
          "base_uri": "https://localhost:8080/",
          "height": 34
        },
        "outputId": "a2ef5cd7-3071-4b22-dc09-97c41cd422dc"
      },
      "source": [
        "my_list = [2,3,1,4]\n",
        "\n",
        "another_tuple = tuple(my_list)\n",
        "\n",
        "another_tuple"
      ],
      "execution_count": 1,
      "outputs": [
        {
          "output_type": "execute_result",
          "data": {
            "text/plain": [
              "(2, 3, 1, 4)"
            ]
          },
          "metadata": {
            "tags": []
          },
          "execution_count": 1
        }
      ]
    }
  ]
}