{
  "nbformat": 4,
  "nbformat_minor": 0,
  "metadata": {
    "colab": {
      "name": "python and sql",
      "provenance": [],
      "include_colab_link": true
    },
    "kernelspec": {
      "name": "python3",
      "display_name": "Python 3"
    }
  },
  "cells": [
    {
      "cell_type": "markdown",
      "metadata": {
        "id": "view-in-github",
        "colab_type": "text"
      },
      "source": [
        "<a href=\"https://colab.research.google.com/github/daddyawesome/PythonStat/blob/master/python_and_sql.ipynb\" target=\"_parent\"><img src=\"https://colab.research.google.com/assets/colab-badge.svg\" alt=\"Open In Colab\"/></a>"
      ]
    },
    {
      "cell_type": "markdown",
      "metadata": {
        "id": "Ex0xWkXkEsfL",
        "colab_type": "text"
      },
      "source": [
        "# Create Database"
      ]
    },
    {
      "cell_type": "code",
      "metadata": {
        "id": "vVCY-PFDEKQ1",
        "colab_type": "code",
        "colab": {}
      },
      "source": [
        "import sqlite3\n",
        "\n",
        "#create database\n",
        "con = sqlite3.connect('db.sqlite3')\n",
        "cur = con.cursor() # instantiate a cursor obj\n",
        "\n"
      ],
      "execution_count": 0,
      "outputs": []
    },
    {
      "cell_type": "markdown",
      "metadata": {
        "id": "reQHKIk1EzaE",
        "colab_type": "text"
      },
      "source": [
        "#Creating Tables"
      ]
    },
    {
      "cell_type": "code",
      "metadata": {
        "id": "REhNl1r2EyMK",
        "colab_type": "code",
        "colab": {}
      },
      "source": [
        "#Creating Tables\n",
        "customers_sql = \"\"\"\n",
        " CREATE TABLE customers (\n",
        "     id integer PRIMARY KEY,\n",
        "     first_name text NOT NULL,\n",
        "     last_name text NOT NULL)\"\"\"\n",
        "cur.execute(customers_sql)\n",
        "\n",
        "products_sql = \"\"\"\n",
        " CREATE TABLE products (\n",
        "     id integer PRIMARY KEY,\n",
        "     name text NOT NULL,\n",
        "     price real NOT NULL)\"\"\"\n",
        "cur.execute(products_sql)\n",
        "\n",
        "orders_sql = \"\"\"\n",
        " CREATE TABLE orders (\n",
        "     id integer PRIMARY KEY,\n",
        "     date text NOT NULL,\n",
        "     customer_id integer,\n",
        "     FOREIGN KEY (customer_id) REFERENCES customers (id))\"\"\"\n",
        "cur.execute(orders_sql)\n",
        "\n",
        "\n"
      ],
      "execution_count": 0,
      "outputs": []
    },
    {
      "cell_type": "markdown",
      "metadata": {
        "id": "G2Zgtae1FDYg",
        "colab_type": "text"
      },
      "source": [
        "#Loading the Data"
      ]
    },
    {
      "cell_type": "code",
      "metadata": {
        "id": "6WcNLZ7uFDxL",
        "colab_type": "code",
        "colab": {}
      },
      "source": [
        "\n",
        "\n",
        "product_sql = \"INSERT INTO products (name, price) VALUES (?, ?)\"\n",
        "cur.execute(product_sql, ('Introduction to Combinatorics', 7.99))\n",
        "cur.execute(product_sql, ('A Guide to Writing Short Stories', 17.99))\n",
        "cur.execute(product_sql, ('Data Structures and Algorithms', 11.99))\n",
        "cur.execute(product_sql, ('Advanced Set Theory', 16.99))\n"
      ],
      "execution_count": 0,
      "outputs": []
    },
    {
      "cell_type": "markdown",
      "metadata": {
        "id": "mLlp1S0wFLSM",
        "colab_type": "text"
      },
      "source": [
        "#Checking Data"
      ]
    },
    {
      "cell_type": "code",
      "metadata": {
        "id": "zAK1L7exFLt8",
        "colab_type": "code",
        "colab": {}
      },
      "source": [
        "\n",
        "#Checking Data\n",
        "cur.execute(\"SELECT id, name, price FROM products\")\n",
        "formatted_result = [f\"{id:<5}{name:<35}{price:>5}\" for id, name, price in cur.fetchall()]\n",
        "id, product, price = \"Id\", \"Product\", \"Price\"\n",
        "print('\\n'.join([f\"{id:<5}{product:<35}{price:>5}\"] + formatted_result))"
      ],
      "execution_count": 0,
      "outputs": []
    },
    {
      "cell_type": "markdown",
      "metadata": {
        "id": "PKSTkmWUFutB",
        "colab_type": "text"
      },
      "source": [
        "#Creating Methods to Insert Data to Tables"
      ]
    },
    {
      "cell_type": "code",
      "metadata": {
        "id": "QMczwe0nFvL-",
        "colab_type": "code",
        "colab": {}
      },
      "source": [
        "def create_customer(con, first_name, last_name):\n",
        "    sql = \"\"\"\n",
        "        INSERT INTO customers (first_name, last_name)\n",
        "        VALUES (?, ?)\"\"\"\n",
        "    cur = con.cursor()\n",
        "    cur.execute(sql, (first_name, last_name))\n",
        "    return cur.lastrowid\n",
        "\n",
        "def create_order(con, customer_id, date):\n",
        "    sql = \"\"\"\n",
        "        INSERT INTO orders (customer_id, date)\n",
        "        VALUES (?, ?)\"\"\"\n",
        "    cur = con.cursor()\n",
        "    cur.execute(sql, (customer_id, date))\n",
        "    return cur.lastrowid\n",
        "\n",
        "def create_lineitem(con, order_id, product_id, qty, total):\n",
        "    sql = \"\"\"\n",
        "        INSERT INTO lineitems\n",
        "            (order_id, product_id, quantity, total)\n",
        "        VALUES (?, ?, ?, ?)\"\"\"\n",
        "    cur = con.cursor()\n",
        "    cur.execute(sql, (order_id, product_id, qty, total))\n",
        "    return cur.lastrowid"
      ],
      "execution_count": 0,
      "outputs": []
    },
    {
      "cell_type": "code",
      "metadata": {
        "id": "87CxkXyDGRla",
        "colab_type": "code",
        "colab": {}
      },
      "source": [
        "try:\n",
        "    codd_id = create_customer(con, 'Edgar', 'Codd')\n",
        "    codd_order = create_order(con, codd_id, '1969-01-12')\n",
        "    codd_li = create_lineitem(con, codd_order, 4, 1, 16.99)\n",
        "    knuth_id = create_customer(con, 'Donald', 'Knuth')\n",
        "    knuth_order = create_order(con, knuth_id, '1967-07-03')\n",
        "    knuth_li1 = create_lineitem(con, knuth_order, 2, 1, 17.99)\n",
        "    knuth_li2 = create_lineitem(con, knuth_order, 3, 1, 11.99)\n",
        "\n",
        "    # commit the statements\n",
        "    con.commit()\n",
        "except:\n",
        "    # rollback all database actions since last commit\n",
        "    con.rollback()\n",
        "    raise RuntimeError(\"Uh oh, an error occurred ...\")"
      ],
      "execution_count": 0,
      "outputs": []
    },
    {
      "cell_type": "code",
      "metadata": {
        "id": "-TlreAzcHXKV",
        "colab_type": "code",
        "colab": {}
      },
      "source": [
        "cur.execute(\"SELECT id, first_name, last_name FROM customers\")\n",
        "results = cur.fetchall()\n",
        "for row in results:\n",
        "     print(row)"
      ],
      "execution_count": 0,
      "outputs": []
    },
    {
      "cell_type": "code",
      "metadata": {
        "id": "2TIwdNDsHebr",
        "colab_type": "code",
        "colab": {}
      },
      "source": [
        "cur.execute(\"SELECT id, first_name, last_name FROM customers WHERE id = 2\")\n",
        "result = cur.fetchone()\n",
        "print(result)"
      ],
      "execution_count": 0,
      "outputs": []
    },
    {
      "cell_type": "code",
      "metadata": {
        "id": "xsvWil9DHn2z",
        "colab_type": "code",
        "colab": {}
      },
      "source": [
        "\n",
        "con.row_factory = sqlite3.Row\n",
        "cur = con.cursor()\n",
        "cur.execute(\"SELECT id, first_name, last_name FROM customers WHERE id = 2\")\n",
        "result = cur.fetchone()\n",
        "id, first_name, last_name = result['id'], result['first_name'], result['last_name']\n",
        "print(f\"Customer: {first_name} {last_name}'s id is {id}\")"
      ],
      "execution_count": 0,
      "outputs": []
    },
    {
      "cell_type": "markdown",
      "metadata": {
        "id": "wcSs7Fve0n8C",
        "colab_type": "text"
      },
      "source": [
        "# The Sql\n",
        "\n"
      ]
    },
    {
      "cell_type": "code",
      "metadata": {
        "id": "voD1DAca0nBz",
        "colab_type": "code",
        "colab": {}
      },
      "source": [
        ""
      ],
      "execution_count": 0,
      "outputs": []
    }
  ]
}