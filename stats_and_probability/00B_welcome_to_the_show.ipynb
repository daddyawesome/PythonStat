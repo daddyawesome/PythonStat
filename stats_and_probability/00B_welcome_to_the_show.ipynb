{
 "cells": [
  {
   "cell_type": "markdown",
   "metadata": {},
   "source": [
    "# Welcome to the Dark Art of Coding:\n",
    "## Introduction to Data Science Fundamentals\n",
    "Opening thoughts... about Statistics and Probability\n",
    "\n",
    "<img src='images/logos.3.600.wide.png' height='250' width='300' style=\"float:right\">"
   ]
  },
  {
   "cell_type": "markdown",
   "metadata": {},
   "source": [
    "# A moment of gratitude"
   ]
  },
  {
   "cell_type": "markdown",
   "metadata": {},
   "source": [
    "* Family and friends\n",
    "* Booz Allen Hamilton\n",
    "* Pycon Tutorial Selection committee\n",
    "* The mentors\n",
    "* You, the students"
   ]
  },
  {
   "cell_type": "markdown",
   "metadata": {},
   "source": [
    "# What to expect/Not expect"
   ]
  },
  {
   "cell_type": "markdown",
   "metadata": {},
   "source": [
    "## ... What to expect\n",
    "* Overview of Probability and Statistics principles and techniques\n",
    "* Snippets of Python code (NOTE: more to allow us to demo than for true statistical analysis)\n",
    "* Level-up opportunities to practice concepts and explore code\n",
    "* Gotchas: things to look out for\n",
    "* Insights/resources to continue your learning journey\n",
    "\n",
    "## ... What NOT to expect\n",
    "* A typical college course is ~ 40 hours spread over weeks/months > we have 3.5 hours (3.0 if we account for biology)\n",
    "* Robust, industrialized code\n",
    "* Deep dives ... we just won't have the time\n",
    "\n",
    "## ... More of what to expect: logistics\n",
    "\n",
    "* **Independent practice/Pair practice**: During the exercises, if you want to work together with the person next to you, I find that to be a great way for the two of you to learn, discuss, practice. If you are uncomfortable with this, then please feel free to work independently\n",
    "* **Post-its** When you complete the exercises, please put your green post-it on the top of your monitor so I can see who is finished.\n",
    "* **Struggling?** If you run into a snag, please put a red post-it on the top of your monitor so we can come and assist\n",
    "* **Survey** Will likely to be a survey. Please fill it out. I am eager to see your thoughts on how to improve this workshop.\n",
    "* I love questions, but I may choose not to answer them... more on that\n"
   ]
  },
  {
   "cell_type": "markdown",
   "metadata": {},
   "source": [
    "# How to get the most of this experience"
   ]
  },
  {
   "cell_type": "markdown",
   "metadata": {},
   "source": [
    "## Play\n",
    "\n",
    "I love this picture: this literally is how I learn... everything.\n",
    "\n",
    "\n",
    "<img src='images/changing_stuff.jpg' width='450'>\n",
    "\n",
    "* To wrap your head around statistics and probability, your best results will often come from applying the tools and techniques, time and time again. \n",
    "* Learning will especially come through play, where you ask all the **\"what if...?\"** or **\"what will happen if...?\"** questions. I encourage you to:\n",
    "    * Ask these questions!\n",
    "    * Try for yourself, to see what happens!\n",
    "    * Generally, you won't break anything\n",
    "    * IF you do, you will still learn something\n"
   ]
  },
  {
   "cell_type": "markdown",
   "metadata": {},
   "source": [
    "## Resist the gremlins\n",
    "\n",
    "We all fall into the depths of anxiety and boredom...\n",
    "\n",
    "I get that controlling the mental gremlins is a tough row to hoe.\n",
    "\n",
    "My only advice is to try not to fret if you see a concept that you don't get... here... today. \n",
    "\n",
    "Trust me on that >>> I have read many, many books, articles, etc on probability and statistics and:\n",
    "\n",
    "* each author explains things in different ways that click with me\n",
    "* even in the course of building this tutorial, light bulbs came on around a number of topics that had been fuzzy in my head\n",
    "\n",
    "When it comes time for exercises, etc... you probably won't finish them all. This is perfectly fine. When you get home, go back through the lesson material, try all the exercises again.\n",
    "\n",
    "<img src='images/anxiety-boredom-3.png' width='450'>"
   ]
  },
  {
   "cell_type": "markdown",
   "metadata": {},
   "source": [
    "We all suffer through these feelings...\n",
    "\n",
    "<img src='images/moron_genius.png' width='450'>"
   ]
  },
  {
   "cell_type": "markdown",
   "metadata": {},
   "source": [
    "Ultimately, our hope is to show you enough about statistics/probability to encourage you to seek out more, to continue your exploration of a fun and fascinating subject. \n",
    "\n",
    "Let's get started!"
   ]
  },
  {
   "cell_type": "code",
   "execution_count": null,
   "metadata": {},
   "outputs": [],
   "source": []
  }
 ],
 "metadata": {
  "kernelspec": {
   "display_name": "Python 3",
   "language": "python",
   "name": "python3"
  },
  "language_info": {
   "codemirror_mode": {
    "name": "ipython",
    "version": 3
   },
   "file_extension": ".py",
   "mimetype": "text/x-python",
   "name": "python",
   "nbconvert_exporter": "python",
   "pygments_lexer": "ipython3",
   "version": "3.6.4"
  }
 },
 "nbformat": 4,
 "nbformat_minor": 2
}
