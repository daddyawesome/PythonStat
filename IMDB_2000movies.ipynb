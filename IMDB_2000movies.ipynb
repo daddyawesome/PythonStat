{
  "nbformat": 4,
  "nbformat_minor": 0,
  "metadata": {
    "colab": {
      "name": "IMDB_2000movies",
      "provenance": [],
      "include_colab_link": true
    },
    "kernelspec": {
      "name": "python3",
      "display_name": "Python 3"
    }
  },
  "cells": [
    {
      "cell_type": "markdown",
      "metadata": {
        "id": "view-in-github",
        "colab_type": "text"
      },
      "source": [
        "<a href=\"https://colab.research.google.com/github/daddyawesome/PythonStat/blob/master/IMDB_2000movies.ipynb\" target=\"_parent\"><img src=\"https://colab.research.google.com/assets/colab-badge.svg\" alt=\"Open In Colab\"/></a>"
      ]
    },
    {
      "cell_type": "markdown",
      "metadata": {
        "id": "Xqsl-c3f_ORI",
        "colab_type": "text"
      },
      "source": [
        "# 1 Introduction\n",
        "## Web Scraping and BeautifulSoup\n",
        "\n",
        "Scraping data for over 2000 movies\n",
        "\n",
        "We want to analyze the distributions of [IMDB](IMDB.COM) and [Metacritic](METACRITIC.COM) movie ratings to see if we find anything interesting. To do this, we’ll first scrape data for over 2000 movies.\n",
        "\n",
        "It’s essential to identify the goal of our scraping right from the beginning. Writing a scraping script can take a lot of time, especially if we want to scrape more than one web page. We want to avoid spending hours writing a script which scrapes data we won’t actually need.\n"
      ]
    },
    {
      "cell_type": "markdown",
      "metadata": {
        "id": "fFV1c8KM_e3X",
        "colab_type": "text"
      },
      "source": [
        "## 1.0.1 Imports\n",
        "- import libraries and write settings here"
      ]
    },
    {
      "cell_type": "code",
      "metadata": {
        "id": "GbTOr4z5_Eyw",
        "colab_type": "code",
        "outputId": "81e2a510-5da7-4a19-b1b7-ad4a2780642a",
        "colab": {
          "base_uri": "https://localhost:8080/",
          "height": 17
        }
      },
      "source": [
        "# Data manipulation\n",
        "import pandas as pd\n",
        "import numpy as np\n",
        "\n",
        "# Options for pandas\n",
        "\n",
        "\n",
        "# Display all cells output\n",
        "from IPython.core.interactiveshell import InteractiveShell\n",
        "InteractiveShell.ast_node_interactivity = 'all'\n",
        "\n",
        "from IPython import get_ipython\n",
        "ipython = get_ipython()\n",
        "\n",
        "# Autoreload extensions\n",
        "if 'autoreload' not in ipython.extension_manager.loaded:\n",
        "  %load_ext autoreload\n",
        "\n",
        "%autoreload 2\n",
        "\n",
        "# Visualizations\n",
        "import chart_studio.plotly as py\n",
        "import plotly.graph_objs as go\n",
        "from plotly.offline import iplot, init_notebook_mode\n",
        "init_notebook_mode(connected = True)\n",
        "\n",
        "import cufflinks as cf\n",
        "cf.go_offline(connected = True)\n",
        "cf.set_config_file(theme = 'white')\n",
        "\n",
        "\n"
      ],
      "execution_count": 0,
      "outputs": [
        {
          "output_type": "display_data",
          "data": {
            "text/html": [
              "        <script type=\"text/javascript\">\n",
              "        window.PlotlyConfig = {MathJaxConfig: 'local'};\n",
              "        if (window.MathJax) {MathJax.Hub.Config({SVG: {font: \"STIX-Web\"}});}\n",
              "        if (typeof require !== 'undefined') {\n",
              "        require.undef(\"plotly\");\n",
              "        requirejs.config({\n",
              "            paths: {\n",
              "                'plotly': ['https://cdn.plot.ly/plotly-latest.min']\n",
              "            }\n",
              "        });\n",
              "        require(['plotly'], function(Plotly) {\n",
              "            window._Plotly = Plotly;\n",
              "        });\n",
              "        }\n",
              "        </script>\n",
              "        "
            ]
          },
          "metadata": {
            "tags": []
          }
        },
        {
          "output_type": "display_data",
          "data": {
            "text/html": [
              "        <script type=\"text/javascript\">\n",
              "        window.PlotlyConfig = {MathJaxConfig: 'local'};\n",
              "        if (window.MathJax) {MathJax.Hub.Config({SVG: {font: \"STIX-Web\"}});}\n",
              "        if (typeof require !== 'undefined') {\n",
              "        require.undef(\"plotly\");\n",
              "        requirejs.config({\n",
              "            paths: {\n",
              "                'plotly': ['https://cdn.plot.ly/plotly-latest.min']\n",
              "            }\n",
              "        });\n",
              "        require(['plotly'], function(Plotly) {\n",
              "            window._Plotly = Plotly;\n",
              "        });\n",
              "        }\n",
              "        </script>\n",
              "        "
            ]
          },
          "metadata": {
            "tags": []
          }
        }
      ]
    },
    {
      "cell_type": "markdown",
      "metadata": {
        "id": "u2YVQ27aAXMD",
        "colab_type": "text"
      },
      "source": [
        "# 2 Analysis/Modeling\n",
        "Let’s start writing the script by requesting the content of this single web page: \n",
        "`http://www.imdb.com/search/title?release_date=2017&sort=num_votes,desc&page=1`.\n",
        "\n",
        "In the following code cell we will:\n",
        "\n",
        "*   Import the `get()` function from the requests module.\n",
        "*   Assign the address of the web page to a variable named `url`.\n",
        "*   Request the server the content of the web page by using `get()`, and store the server’s response in the variable `response`.\n",
        "*   Print a small part of `response`‘s content by accessing its `.text` attribute (`response` is now a `Response` object).\n"
      ]
    },
    {
      "cell_type": "code",
      "metadata": {
        "id": "TVyv72y5K7-9",
        "colab_type": "code",
        "outputId": "49a2b48f-0b4c-469e-9b80-72554cbe1716",
        "colab": {
          "base_uri": "https://localhost:8080/",
          "height": 403
        }
      },
      "source": [
        "from requests import get\n",
        "url = 'http://www.imdb.com/search/title?release_date=2017&sort=num_votes,desc&page=1'\n",
        "response = get(url)\n",
        "print(response.text[:500])"
      ],
      "execution_count": 0,
      "outputs": [
        {
          "output_type": "stream",
          "text": [
            "\n",
            "\n",
            "\n",
            "<!DOCTYPE html>\n",
            "<html\n",
            "    xmlns:og=\"http://ogp.me/ns#\"\n",
            "    xmlns:fb=\"http://www.facebook.com/2008/fbml\">\n",
            "    <head>\n",
            "         \n",
            "        <meta charset=\"utf-8\">\n",
            "        <meta http-equiv=\"X-UA-Compatible\" content=\"IE=edge\">\n",
            "\n",
            "    <meta name=\"apple-itunes-app\" content=\"app-id=342792525, app-argument=imdb:///?src=mdot\">\n",
            "\n",
            "\n",
            "\n",
            "        <script type=\"text/javascript\">var IMDbTimer={starttime: new Date().getTime(),pt:'java'};</script>\n",
            "\n",
            "<script>\n",
            "    if (typeof uet == 'function') {\n",
            "      uet(\"bb\", \"LoadTitle\"\n"
          ],
          "name": "stdout"
        }
      ]
    },
    {
      "cell_type": "markdown",
      "metadata": {
        "id": "2D0BstWoLwun",
        "colab_type": "text"
      },
      "source": [
        ""
      ]
    },
    {
      "cell_type": "code",
      "metadata": {
        "id": "hnQ5z7ODMvEG",
        "colab_type": "code",
        "colab": {}
      },
      "source": [
        ""
      ],
      "execution_count": 0,
      "outputs": []
    },
    {
      "cell_type": "markdown",
      "metadata": {
        "id": "Vkt8YdbeAhSw",
        "colab_type": "text"
      },
      "source": [
        "# 3 Results\n",
        "-show graph and stats here"
      ]
    },
    {
      "cell_type": "markdown",
      "metadata": {
        "id": "K5LZ_xrVAsV8",
        "colab_type": "text"
      },
      "source": [
        "# 4 Conclusions and Next Steps\n",
        "- summarize findings here"
      ]
    }
  ]
}