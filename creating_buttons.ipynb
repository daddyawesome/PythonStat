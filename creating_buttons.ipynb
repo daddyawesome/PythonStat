{
  "nbformat": 4,
  "nbformat_minor": 0,
  "metadata": {
    "colab": {
      "name": "creating_buttons.ipynb",
      "provenance": [],
      "include_colab_link": true
    },
    "kernelspec": {
      "name": "python3",
      "display_name": "Python 3"
    }
  },
  "cells": [
    {
      "cell_type": "markdown",
      "metadata": {
        "id": "view-in-github",
        "colab_type": "text"
      },
      "source": [
        "<a href=\"https://colab.research.google.com/github/daddyawesome/PythonStat/blob/master/creating_buttons.ipynb\" target=\"_parent\"><img src=\"https://colab.research.google.com/assets/colab-badge.svg\" alt=\"Open In Colab\"/></a>"
      ]
    },
    {
      "cell_type": "code",
      "metadata": {
        "id": "ccWWnbudsoVk",
        "colab_type": "code",
        "colab": {}
      },
      "source": [
        "# some handy functions to use along widgets\n",
        "from IPython.display import display, Markdown, clear_output\n",
        "\n",
        "# widget packages\n",
        "import ipywidgets as widgets\n",
        "\n",
        "# defining some widgets\n",
        "text = widgets.Text(\n",
        "       value='My Text',\n",
        "       description='Title', )\n",
        "\n",
        "calendar = widgets.DatePicker(\n",
        "           description='Select Date')\n",
        "\n",
        "slider = widgets.FloatSlider(\n",
        "         value=1,\n",
        "         min=0,\n",
        "         max=10.0,\n",
        "         step=0.1,)\n",
        "\n",
        "menu = widgets.Dropdown(\n",
        "       options=['red', 'blue', 'green'],\n",
        "       value='red',\n",
        "       description='Color:')\n",
        "\n",
        "checkbox = widgets.Checkbox(\n",
        "           description='Check to invert',)"
      ],
      "execution_count": 0,
      "outputs": []
    }
  ]
}