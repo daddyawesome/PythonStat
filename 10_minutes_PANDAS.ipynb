{
  "nbformat": 4,
  "nbformat_minor": 0,
  "metadata": {
    "kernelspec": {
      "name": "python3",
      "display_name": "Python 3",
      "language": "python"
    },
    "language_info": {
      "version": "3.6.3",
      "mimetype": "text/x-python",
      "name": "python",
      "codemirror_mode": {
        "version": 3,
        "name": "ipython"
      },
      "file_extension": ".py",
      "pygments_lexer": "ipython3",
      "nbconvert_exporter": "python"
    },
    "colab": {
      "name": "10_minutes_PANDAS.ipynb",
      "provenance": [],
      "include_colab_link": true
    }
  },
  "cells": [
    {
      "cell_type": "markdown",
      "metadata": {
        "id": "view-in-github",
        "colab_type": "text"
      },
      "source": [
        "<a href=\"https://colab.research.google.com/github/daddyawesome/PythonStat/blob/master/10_minutes_PANDAS.ipynb\" target=\"_parent\"><img src=\"https://colab.research.google.com/assets/colab-badge.svg\" alt=\"Open In Colab\"/></a>"
      ]
    },
    {
      "cell_type": "markdown",
      "metadata": {
        "_cell_guid": "daffadeb-f0c8-4a27-b62c-aea950edc588",
        "_uuid": "e0e294bdfc0df9aa8f58fb8b6ae828c7ae062ccd",
        "id": "s-jNBBBFA08_",
        "colab_type": "text"
      },
      "source": [
        "This guide comes directly from the [10 Minute Guide to Pandas](https://pandas.pydata.org/pandas-docs/stable/10min.html) on the Pandas official website. I ported it into this kernel to make the code more accessible. This guide is geared towards beginners who haven't used Pandas before. It has great examples on how powerful Pandas can be. Enjoy!"
      ]
    },
    {
      "cell_type": "markdown",
      "metadata": {
        "_cell_guid": "da21b90d-98fc-483f-bf58-bd1dacf7027c",
        "_kg_hide-input": true,
        "_uuid": "90fb4599b093efccc95cacb6db2da95bcd695545",
        "id": "EiEwidjmA09E",
        "colab_type": "text"
      },
      "source": [
        "### This is a short introduction to pandas, geared mainly for new users. You can see more complex recipes in the [Cookbook](https://pandas.pydata.org/pandas-docs/stable/cookbook.html#cookbook)"
      ]
    },
    {
      "cell_type": "code",
      "metadata": {
        "_cell_guid": "f26dff57-ef68-4cbf-86f1-b027cc75d6c1",
        "_uuid": "e0a227d03ea6a2d1995268f8cea078357eb596d4",
        "id": "X1QfpTFyA09G",
        "colab_type": "code",
        "colab": {}
      },
      "source": [
        "import pandas as pd\n",
        "import numpy as np\n",
        "import matplotlib.pyplot as plt"
      ],
      "execution_count": 0,
      "outputs": []
    },
    {
      "cell_type": "markdown",
      "metadata": {
        "_cell_guid": "0c4de500-e940-428a-a624-d72cf69055ae",
        "_uuid": "666bd202e06457942b464ff348f49256eb40cb10",
        "id": "3xrvt59HA09K",
        "colab_type": "text"
      },
      "source": [
        "# Object Creation\n",
        "See the [Data Structure Intro section](Data Structure Intro section). Creating a Series by passing a list of values, letting pandas create a default integer index:"
      ]
    },
    {
      "cell_type": "code",
      "metadata": {
        "_cell_guid": "684d2ff9-f491-4384-b51d-d89a545f40a6",
        "_uuid": "3d527ebba36697ffcf0b5d46ef717172edcb0539",
        "id": "bhBdjPsRA09K",
        "colab_type": "code",
        "colab": {
          "base_uri": "https://localhost:8080/",
          "height": 136
        },
        "outputId": "975c4fce-9cb7-4f95-b89c-b7db76d4383d"
      },
      "source": [
        "s = pd.Series([1,3,5,np.nan,6,8])\n",
        "s"
      ],
      "execution_count": 2,
      "outputs": [
        {
          "output_type": "execute_result",
          "data": {
            "text/plain": [
              "0    1.0\n",
              "1    3.0\n",
              "2    5.0\n",
              "3    NaN\n",
              "4    6.0\n",
              "5    8.0\n",
              "dtype: float64"
            ]
          },
          "metadata": {
            "tags": []
          },
          "execution_count": 2
        }
      ]
    },
    {
      "cell_type": "markdown",
      "metadata": {
        "_cell_guid": "a34354da-ed7a-4b6c-b29a-371b98778256",
        "_uuid": "762a9ec540f47f1aeba21b5a7deb1cf51a0994eb",
        "id": "5PmObIzBA09N",
        "colab_type": "text"
      },
      "source": [
        "Creating a [DataFrame](https://pandas.pydata.org/pandas-docs/stable/generated/pandas.DataFrame.html#pandas.DataFrame) by passing a numpy array, with a datetime index and labeled columns:"
      ]
    },
    {
      "cell_type": "code",
      "metadata": {
        "_cell_guid": "1f57494c-5ec2-49a4-adb4-4843d5c39c62",
        "_uuid": "50b786a38ed5b11ec29c308d29599623c26f0f23",
        "id": "sg_ZnIgmA09O",
        "colab_type": "code",
        "colab": {
          "base_uri": "https://localhost:8080/",
          "height": 68
        },
        "outputId": "c254fc04-b6ba-42a4-be20-6d9c9c044321"
      },
      "source": [
        "dates = pd.date_range('20141101', periods=6)\n",
        "dates"
      ],
      "execution_count": 3,
      "outputs": [
        {
          "output_type": "execute_result",
          "data": {
            "text/plain": [
              "DatetimeIndex(['2014-11-01', '2014-11-02', '2014-11-03', '2014-11-04',\n",
              "               '2014-11-05', '2014-11-06'],\n",
              "              dtype='datetime64[ns]', freq='D')"
            ]
          },
          "metadata": {
            "tags": []
          },
          "execution_count": 3
        }
      ]
    },
    {
      "cell_type": "code",
      "metadata": {
        "_cell_guid": "e29399aa-3818-4dd8-bc3b-634aa5c3fe78",
        "_uuid": "b21c8f9e3992c18eb839851aaa6ad057654e9082",
        "id": "713gGwGqA09Q",
        "colab_type": "code",
        "colab": {
          "base_uri": "https://localhost:8080/",
          "height": 235
        },
        "outputId": "b2e209cf-a775-4e71-a93a-64519d18f9e9"
      },
      "source": [
        "df = pd.DataFrame(np.random.randn(6,4), index=dates,columns=['one','two','three','four'])\n",
        "df"
      ],
      "execution_count": 4,
      "outputs": [
        {
          "output_type": "execute_result",
          "data": {
            "text/html": [
              "<div>\n",
              "<style scoped>\n",
              "    .dataframe tbody tr th:only-of-type {\n",
              "        vertical-align: middle;\n",
              "    }\n",
              "\n",
              "    .dataframe tbody tr th {\n",
              "        vertical-align: top;\n",
              "    }\n",
              "\n",
              "    .dataframe thead th {\n",
              "        text-align: right;\n",
              "    }\n",
              "</style>\n",
              "<table border=\"1\" class=\"dataframe\">\n",
              "  <thead>\n",
              "    <tr style=\"text-align: right;\">\n",
              "      <th></th>\n",
              "      <th>one</th>\n",
              "      <th>two</th>\n",
              "      <th>three</th>\n",
              "      <th>four</th>\n",
              "    </tr>\n",
              "  </thead>\n",
              "  <tbody>\n",
              "    <tr>\n",
              "      <th>2014-11-01</th>\n",
              "      <td>0.977333</td>\n",
              "      <td>-0.603178</td>\n",
              "      <td>0.119375</td>\n",
              "      <td>-0.446140</td>\n",
              "    </tr>\n",
              "    <tr>\n",
              "      <th>2014-11-02</th>\n",
              "      <td>0.165023</td>\n",
              "      <td>-0.508143</td>\n",
              "      <td>0.001456</td>\n",
              "      <td>0.643376</td>\n",
              "    </tr>\n",
              "    <tr>\n",
              "      <th>2014-11-03</th>\n",
              "      <td>0.429971</td>\n",
              "      <td>-0.848484</td>\n",
              "      <td>-1.025006</td>\n",
              "      <td>0.892447</td>\n",
              "    </tr>\n",
              "    <tr>\n",
              "      <th>2014-11-04</th>\n",
              "      <td>-1.079263</td>\n",
              "      <td>-0.926630</td>\n",
              "      <td>-3.083885</td>\n",
              "      <td>0.068161</td>\n",
              "    </tr>\n",
              "    <tr>\n",
              "      <th>2014-11-05</th>\n",
              "      <td>0.388456</td>\n",
              "      <td>0.427070</td>\n",
              "      <td>0.466814</td>\n",
              "      <td>0.622423</td>\n",
              "    </tr>\n",
              "    <tr>\n",
              "      <th>2014-11-06</th>\n",
              "      <td>-0.693551</td>\n",
              "      <td>-0.092560</td>\n",
              "      <td>1.550926</td>\n",
              "      <td>-0.534368</td>\n",
              "    </tr>\n",
              "  </tbody>\n",
              "</table>\n",
              "</div>"
            ],
            "text/plain": [
              "                 one       two     three      four\n",
              "2014-11-01  0.977333 -0.603178  0.119375 -0.446140\n",
              "2014-11-02  0.165023 -0.508143  0.001456  0.643376\n",
              "2014-11-03  0.429971 -0.848484 -1.025006  0.892447\n",
              "2014-11-04 -1.079263 -0.926630 -3.083885  0.068161\n",
              "2014-11-05  0.388456  0.427070  0.466814  0.622423\n",
              "2014-11-06 -0.693551 -0.092560  1.550926 -0.534368"
            ]
          },
          "metadata": {
            "tags": []
          },
          "execution_count": 4
        }
      ]
    },
    {
      "cell_type": "markdown",
      "metadata": {
        "_cell_guid": "6622566b-e889-4589-88db-9e6ac53bda43",
        "_uuid": "886f7623a8e6ef893a83174796656aa7417c72be",
        "id": "0qLtnGvmA09T",
        "colab_type": "text"
      },
      "source": [
        "Creating a DataFrame by passing a dict of objects that can be converted to series-like."
      ]
    },
    {
      "cell_type": "code",
      "metadata": {
        "_cell_guid": "a36d23bb-aa78-4964-984f-1c0fef73c85b",
        "_uuid": "91c969a5e0dede5ed222df08fda0a19e7ecb6ba9",
        "id": "rMPChUf9A09T",
        "colab_type": "code",
        "colab": {
          "base_uri": "https://localhost:8080/",
          "height": 173
        },
        "outputId": "30e5a924-f621-4222-f73d-2d7064a42ec2"
      },
      "source": [
        "df2 = pd.DataFrame({ 'A' : 1.,\n",
        "   ....:                      'B' : pd.Timestamp('20130102'),\n",
        "   ....:                      'C' : pd.Series(1,index=list(range(4)),dtype='float32'),\n",
        "   ....:                      'D' : np.array([3] * 4,dtype='int32'),\n",
        "   ....:                      'E' : pd.Categorical([\"test\",\"train\",\"test\",\"train\"]),\n",
        "   ....:                      'F' : 'foo' })\n",
        "   ....: \n",
        "df2"
      ],
      "execution_count": 5,
      "outputs": [
        {
          "output_type": "execute_result",
          "data": {
            "text/html": [
              "<div>\n",
              "<style scoped>\n",
              "    .dataframe tbody tr th:only-of-type {\n",
              "        vertical-align: middle;\n",
              "    }\n",
              "\n",
              "    .dataframe tbody tr th {\n",
              "        vertical-align: top;\n",
              "    }\n",
              "\n",
              "    .dataframe thead th {\n",
              "        text-align: right;\n",
              "    }\n",
              "</style>\n",
              "<table border=\"1\" class=\"dataframe\">\n",
              "  <thead>\n",
              "    <tr style=\"text-align: right;\">\n",
              "      <th></th>\n",
              "      <th>A</th>\n",
              "      <th>B</th>\n",
              "      <th>C</th>\n",
              "      <th>D</th>\n",
              "      <th>E</th>\n",
              "      <th>F</th>\n",
              "    </tr>\n",
              "  </thead>\n",
              "  <tbody>\n",
              "    <tr>\n",
              "      <th>0</th>\n",
              "      <td>1.0</td>\n",
              "      <td>2013-01-02</td>\n",
              "      <td>1.0</td>\n",
              "      <td>3</td>\n",
              "      <td>test</td>\n",
              "      <td>foo</td>\n",
              "    </tr>\n",
              "    <tr>\n",
              "      <th>1</th>\n",
              "      <td>1.0</td>\n",
              "      <td>2013-01-02</td>\n",
              "      <td>1.0</td>\n",
              "      <td>3</td>\n",
              "      <td>train</td>\n",
              "      <td>foo</td>\n",
              "    </tr>\n",
              "    <tr>\n",
              "      <th>2</th>\n",
              "      <td>1.0</td>\n",
              "      <td>2013-01-02</td>\n",
              "      <td>1.0</td>\n",
              "      <td>3</td>\n",
              "      <td>test</td>\n",
              "      <td>foo</td>\n",
              "    </tr>\n",
              "    <tr>\n",
              "      <th>3</th>\n",
              "      <td>1.0</td>\n",
              "      <td>2013-01-02</td>\n",
              "      <td>1.0</td>\n",
              "      <td>3</td>\n",
              "      <td>train</td>\n",
              "      <td>foo</td>\n",
              "    </tr>\n",
              "  </tbody>\n",
              "</table>\n",
              "</div>"
            ],
            "text/plain": [
              "     A          B    C  D      E    F\n",
              "0  1.0 2013-01-02  1.0  3   test  foo\n",
              "1  1.0 2013-01-02  1.0  3  train  foo\n",
              "2  1.0 2013-01-02  1.0  3   test  foo\n",
              "3  1.0 2013-01-02  1.0  3  train  foo"
            ]
          },
          "metadata": {
            "tags": []
          },
          "execution_count": 5
        }
      ]
    },
    {
      "cell_type": "markdown",
      "metadata": {
        "_cell_guid": "10d03951-7cbd-4ee0-9302-1a77697a74f2",
        "_uuid": "05e30726935db33f49e624f496fc8c953be46383",
        "id": "OSH2kIg6A09W",
        "colab_type": "text"
      },
      "source": [
        "Having specific [dtypes](https://pandas.pydata.org/pandas-docs/stable/basics.html#basics-dtypes):"
      ]
    },
    {
      "cell_type": "code",
      "metadata": {
        "_cell_guid": "e862ec95-5893-4f46-ac7d-4d8a638ffc1f",
        "_uuid": "9e7f0e3693cf1f63718fce13feed81c93ed22d58",
        "id": "FGcO00j5A09X",
        "colab_type": "code",
        "colab": {
          "base_uri": "https://localhost:8080/",
          "height": 136
        },
        "outputId": "cdcc3383-c4fc-4a6c-ef15-818d752bdad3"
      },
      "source": [
        "df2.dtypes"
      ],
      "execution_count": 6,
      "outputs": [
        {
          "output_type": "execute_result",
          "data": {
            "text/plain": [
              "A           float64\n",
              "B    datetime64[ns]\n",
              "C           float32\n",
              "D             int32\n",
              "E          category\n",
              "F            object\n",
              "dtype: object"
            ]
          },
          "metadata": {
            "tags": []
          },
          "execution_count": 6
        }
      ]
    },
    {
      "cell_type": "markdown",
      "metadata": {
        "_cell_guid": "860dc5f5-ce12-47b0-b0b1-09cc4aba5f73",
        "_uuid": "886b98db6af991c2ec742c18085b0b8a7b88d31f",
        "id": "6PxE3jVyA09a",
        "colab_type": "text"
      },
      "source": [
        "\n",
        "# Viewing Data\n",
        "See the [Basics section](https://pandas.pydata.org/pandas-docs/stable/basics.html#basics)\n",
        "See the top & bottom rows of the frame"
      ]
    },
    {
      "cell_type": "code",
      "metadata": {
        "_cell_guid": "b1b5ca0e-4b43-4ec9-80ee-65b807d234d2",
        "_uuid": "c1d9e77ee2cfdc5b81af10b29565a9166ca01994",
        "id": "Nchl5ingA09a",
        "colab_type": "code",
        "colab": {
          "base_uri": "https://localhost:8080/",
          "height": 204
        },
        "outputId": "45235e01-8a13-47cd-e402-3d085e785d5f"
      },
      "source": [
        "df.head()"
      ],
      "execution_count": 7,
      "outputs": [
        {
          "output_type": "execute_result",
          "data": {
            "text/html": [
              "<div>\n",
              "<style scoped>\n",
              "    .dataframe tbody tr th:only-of-type {\n",
              "        vertical-align: middle;\n",
              "    }\n",
              "\n",
              "    .dataframe tbody tr th {\n",
              "        vertical-align: top;\n",
              "    }\n",
              "\n",
              "    .dataframe thead th {\n",
              "        text-align: right;\n",
              "    }\n",
              "</style>\n",
              "<table border=\"1\" class=\"dataframe\">\n",
              "  <thead>\n",
              "    <tr style=\"text-align: right;\">\n",
              "      <th></th>\n",
              "      <th>one</th>\n",
              "      <th>two</th>\n",
              "      <th>three</th>\n",
              "      <th>four</th>\n",
              "    </tr>\n",
              "  </thead>\n",
              "  <tbody>\n",
              "    <tr>\n",
              "      <th>2014-11-01</th>\n",
              "      <td>0.977333</td>\n",
              "      <td>-0.603178</td>\n",
              "      <td>0.119375</td>\n",
              "      <td>-0.446140</td>\n",
              "    </tr>\n",
              "    <tr>\n",
              "      <th>2014-11-02</th>\n",
              "      <td>0.165023</td>\n",
              "      <td>-0.508143</td>\n",
              "      <td>0.001456</td>\n",
              "      <td>0.643376</td>\n",
              "    </tr>\n",
              "    <tr>\n",
              "      <th>2014-11-03</th>\n",
              "      <td>0.429971</td>\n",
              "      <td>-0.848484</td>\n",
              "      <td>-1.025006</td>\n",
              "      <td>0.892447</td>\n",
              "    </tr>\n",
              "    <tr>\n",
              "      <th>2014-11-04</th>\n",
              "      <td>-1.079263</td>\n",
              "      <td>-0.926630</td>\n",
              "      <td>-3.083885</td>\n",
              "      <td>0.068161</td>\n",
              "    </tr>\n",
              "    <tr>\n",
              "      <th>2014-11-05</th>\n",
              "      <td>0.388456</td>\n",
              "      <td>0.427070</td>\n",
              "      <td>0.466814</td>\n",
              "      <td>0.622423</td>\n",
              "    </tr>\n",
              "  </tbody>\n",
              "</table>\n",
              "</div>"
            ],
            "text/plain": [
              "                 one       two     three      four\n",
              "2014-11-01  0.977333 -0.603178  0.119375 -0.446140\n",
              "2014-11-02  0.165023 -0.508143  0.001456  0.643376\n",
              "2014-11-03  0.429971 -0.848484 -1.025006  0.892447\n",
              "2014-11-04 -1.079263 -0.926630 -3.083885  0.068161\n",
              "2014-11-05  0.388456  0.427070  0.466814  0.622423"
            ]
          },
          "metadata": {
            "tags": []
          },
          "execution_count": 7
        }
      ]
    },
    {
      "cell_type": "code",
      "metadata": {
        "_cell_guid": "3428b24c-520e-4d23-b439-9c9e2b8d353d",
        "_uuid": "74c7c24d7adc0382cdc6055a88643ea7cbe2c111",
        "id": "4szSo9z4A09d",
        "colab_type": "code",
        "colab": {
          "base_uri": "https://localhost:8080/",
          "height": 142
        },
        "outputId": "00780b19-a5d8-4a05-fb6b-9d50a5f4efb5"
      },
      "source": [
        "df.tail(3)"
      ],
      "execution_count": 8,
      "outputs": [
        {
          "output_type": "execute_result",
          "data": {
            "text/html": [
              "<div>\n",
              "<style scoped>\n",
              "    .dataframe tbody tr th:only-of-type {\n",
              "        vertical-align: middle;\n",
              "    }\n",
              "\n",
              "    .dataframe tbody tr th {\n",
              "        vertical-align: top;\n",
              "    }\n",
              "\n",
              "    .dataframe thead th {\n",
              "        text-align: right;\n",
              "    }\n",
              "</style>\n",
              "<table border=\"1\" class=\"dataframe\">\n",
              "  <thead>\n",
              "    <tr style=\"text-align: right;\">\n",
              "      <th></th>\n",
              "      <th>one</th>\n",
              "      <th>two</th>\n",
              "      <th>three</th>\n",
              "      <th>four</th>\n",
              "    </tr>\n",
              "  </thead>\n",
              "  <tbody>\n",
              "    <tr>\n",
              "      <th>2014-11-04</th>\n",
              "      <td>-1.079263</td>\n",
              "      <td>-0.92663</td>\n",
              "      <td>-3.083885</td>\n",
              "      <td>0.068161</td>\n",
              "    </tr>\n",
              "    <tr>\n",
              "      <th>2014-11-05</th>\n",
              "      <td>0.388456</td>\n",
              "      <td>0.42707</td>\n",
              "      <td>0.466814</td>\n",
              "      <td>0.622423</td>\n",
              "    </tr>\n",
              "    <tr>\n",
              "      <th>2014-11-06</th>\n",
              "      <td>-0.693551</td>\n",
              "      <td>-0.09256</td>\n",
              "      <td>1.550926</td>\n",
              "      <td>-0.534368</td>\n",
              "    </tr>\n",
              "  </tbody>\n",
              "</table>\n",
              "</div>"
            ],
            "text/plain": [
              "                 one      two     three      four\n",
              "2014-11-04 -1.079263 -0.92663 -3.083885  0.068161\n",
              "2014-11-05  0.388456  0.42707  0.466814  0.622423\n",
              "2014-11-06 -0.693551 -0.09256  1.550926 -0.534368"
            ]
          },
          "metadata": {
            "tags": []
          },
          "execution_count": 8
        }
      ]
    },
    {
      "cell_type": "markdown",
      "metadata": {
        "_cell_guid": "efec648c-6c39-4b09-a87e-cf3dc723ff0b",
        "_uuid": "5c4372dac3fba6ebf7fc16e222ab135529dfb3fe",
        "id": "oasEsug-A09f",
        "colab_type": "text"
      },
      "source": [
        "Display the index, columns, and the underlying numpy data"
      ]
    },
    {
      "cell_type": "code",
      "metadata": {
        "_cell_guid": "53a240a3-ecb2-4f38-8862-da1d00aedf7c",
        "_uuid": "056ab69a40592e47b9e07cb2514784eb50d81ade",
        "id": "xZFttXxaA09g",
        "colab_type": "code",
        "colab": {
          "base_uri": "https://localhost:8080/",
          "height": 68
        },
        "outputId": "edabedd9-4232-4d1a-f6ee-aa4c4b124b8f"
      },
      "source": [
        "df.index"
      ],
      "execution_count": 9,
      "outputs": [
        {
          "output_type": "execute_result",
          "data": {
            "text/plain": [
              "DatetimeIndex(['2014-11-01', '2014-11-02', '2014-11-03', '2014-11-04',\n",
              "               '2014-11-05', '2014-11-06'],\n",
              "              dtype='datetime64[ns]', freq='D')"
            ]
          },
          "metadata": {
            "tags": []
          },
          "execution_count": 9
        }
      ]
    },
    {
      "cell_type": "code",
      "metadata": {
        "_cell_guid": "a9cae030-681e-4b3d-993f-0e2cbaaa10a9",
        "_uuid": "b86456edbcc2249100502525c1fd38dd4235d0f3",
        "id": "WLWs_tRjA09i",
        "colab_type": "code",
        "colab": {
          "base_uri": "https://localhost:8080/",
          "height": 34
        },
        "outputId": "fb0d297b-adc2-4d90-8492-f35774d1fa6d"
      },
      "source": [
        "df.columns"
      ],
      "execution_count": 10,
      "outputs": [
        {
          "output_type": "execute_result",
          "data": {
            "text/plain": [
              "Index(['one', 'two', 'three', 'four'], dtype='object')"
            ]
          },
          "metadata": {
            "tags": []
          },
          "execution_count": 10
        }
      ]
    },
    {
      "cell_type": "code",
      "metadata": {
        "_cell_guid": "0d442ada-0d41-4fe4-a843-48592068306d",
        "_uuid": "842fe1b27b0714ee2155a657e3eec4f3719a40b0",
        "id": "4ozKBMfpA09k",
        "colab_type": "code",
        "colab": {
          "base_uri": "https://localhost:8080/",
          "height": 221
        },
        "outputId": "c366cd6b-0f34-4b04-9002-faab88d58175"
      },
      "source": [
        "df.values"
      ],
      "execution_count": 11,
      "outputs": [
        {
          "output_type": "execute_result",
          "data": {
            "text/plain": [
              "array([[ 9.77332681e-01, -6.03178365e-01,  1.19374931e-01,\n",
              "        -4.46139943e-01],\n",
              "       [ 1.65022894e-01, -5.08142938e-01,  1.45582795e-03,\n",
              "         6.43375933e-01],\n",
              "       [ 4.29970605e-01, -8.48483948e-01, -1.02500579e+00,\n",
              "         8.92446506e-01],\n",
              "       [-1.07926277e+00, -9.26629505e-01, -3.08388547e+00,\n",
              "         6.81611809e-02],\n",
              "       [ 3.88456013e-01,  4.27069641e-01,  4.66814496e-01,\n",
              "         6.22422979e-01],\n",
              "       [-6.93551200e-01, -9.25598488e-02,  1.55092595e+00,\n",
              "        -5.34368222e-01]])"
            ]
          },
          "metadata": {
            "tags": []
          },
          "execution_count": 11
        }
      ]
    },
    {
      "cell_type": "markdown",
      "metadata": {
        "_cell_guid": "ab9e7b9e-f32b-4c0f-9df6-32d4464a4cb2",
        "_uuid": "7ef425f14c048accd98f18f3a5e0974fa9fe8a78",
        "id": "pNQ3zlnjA09n",
        "colab_type": "text"
      },
      "source": [
        "Describe shows a quick statistic summary of your data"
      ]
    },
    {
      "cell_type": "code",
      "metadata": {
        "_cell_guid": "43393dfd-989c-43a6-834e-550c8d3ccbd4",
        "_uuid": "1f1dbb5dd09ffa4c2ee0c3c289328de4c070ad2b",
        "id": "e2HKgw55A09o",
        "colab_type": "code",
        "colab": {
          "base_uri": "https://localhost:8080/",
          "height": 297
        },
        "outputId": "2e7522cb-9f6b-4d7d-d24e-65e3761a8ccd"
      },
      "source": [
        "df.describe()"
      ],
      "execution_count": 12,
      "outputs": [
        {
          "output_type": "execute_result",
          "data": {
            "text/html": [
              "<div>\n",
              "<style scoped>\n",
              "    .dataframe tbody tr th:only-of-type {\n",
              "        vertical-align: middle;\n",
              "    }\n",
              "\n",
              "    .dataframe tbody tr th {\n",
              "        vertical-align: top;\n",
              "    }\n",
              "\n",
              "    .dataframe thead th {\n",
              "        text-align: right;\n",
              "    }\n",
              "</style>\n",
              "<table border=\"1\" class=\"dataframe\">\n",
              "  <thead>\n",
              "    <tr style=\"text-align: right;\">\n",
              "      <th></th>\n",
              "      <th>one</th>\n",
              "      <th>two</th>\n",
              "      <th>three</th>\n",
              "      <th>four</th>\n",
              "    </tr>\n",
              "  </thead>\n",
              "  <tbody>\n",
              "    <tr>\n",
              "      <th>count</th>\n",
              "      <td>6.000000</td>\n",
              "      <td>6.000000</td>\n",
              "      <td>6.000000</td>\n",
              "      <td>6.000000</td>\n",
              "    </tr>\n",
              "    <tr>\n",
              "      <th>mean</th>\n",
              "      <td>0.031328</td>\n",
              "      <td>-0.425321</td>\n",
              "      <td>-0.328387</td>\n",
              "      <td>0.207650</td>\n",
              "    </tr>\n",
              "    <tr>\n",
              "      <th>std</th>\n",
              "      <td>0.769171</td>\n",
              "      <td>0.511110</td>\n",
              "      <td>1.584393</td>\n",
              "      <td>0.604703</td>\n",
              "    </tr>\n",
              "    <tr>\n",
              "      <th>min</th>\n",
              "      <td>-1.079263</td>\n",
              "      <td>-0.926630</td>\n",
              "      <td>-3.083885</td>\n",
              "      <td>-0.534368</td>\n",
              "    </tr>\n",
              "    <tr>\n",
              "      <th>25%</th>\n",
              "      <td>-0.478908</td>\n",
              "      <td>-0.787158</td>\n",
              "      <td>-0.768390</td>\n",
              "      <td>-0.317565</td>\n",
              "    </tr>\n",
              "    <tr>\n",
              "      <th>50%</th>\n",
              "      <td>0.276739</td>\n",
              "      <td>-0.555661</td>\n",
              "      <td>0.060415</td>\n",
              "      <td>0.345292</td>\n",
              "    </tr>\n",
              "    <tr>\n",
              "      <th>75%</th>\n",
              "      <td>0.419592</td>\n",
              "      <td>-0.196456</td>\n",
              "      <td>0.379955</td>\n",
              "      <td>0.638138</td>\n",
              "    </tr>\n",
              "    <tr>\n",
              "      <th>max</th>\n",
              "      <td>0.977333</td>\n",
              "      <td>0.427070</td>\n",
              "      <td>1.550926</td>\n",
              "      <td>0.892447</td>\n",
              "    </tr>\n",
              "  </tbody>\n",
              "</table>\n",
              "</div>"
            ],
            "text/plain": [
              "            one       two     three      four\n",
              "count  6.000000  6.000000  6.000000  6.000000\n",
              "mean   0.031328 -0.425321 -0.328387  0.207650\n",
              "std    0.769171  0.511110  1.584393  0.604703\n",
              "min   -1.079263 -0.926630 -3.083885 -0.534368\n",
              "25%   -0.478908 -0.787158 -0.768390 -0.317565\n",
              "50%    0.276739 -0.555661  0.060415  0.345292\n",
              "75%    0.419592 -0.196456  0.379955  0.638138\n",
              "max    0.977333  0.427070  1.550926  0.892447"
            ]
          },
          "metadata": {
            "tags": []
          },
          "execution_count": 12
        }
      ]
    },
    {
      "cell_type": "markdown",
      "metadata": {
        "_cell_guid": "21ba544f-8736-4382-8462-20f02c353328",
        "_uuid": "e5fb874c26019da50f1b68fbea8bcf0e7940809f",
        "id": "zmhUU0DxA09q",
        "colab_type": "text"
      },
      "source": [
        "Transposing your data"
      ]
    },
    {
      "cell_type": "code",
      "metadata": {
        "_cell_guid": "13e0e285-eac4-48fc-8a82-23491e8ebaf0",
        "_uuid": "ee5d4078cd8d5a545be55483208e73b9c9e939f4",
        "id": "6tqDj4J1A09r",
        "colab_type": "code",
        "colab": {
          "base_uri": "https://localhost:8080/",
          "height": 173
        },
        "outputId": "c25d9991-6f96-47b6-b06c-3478da3434be"
      },
      "source": [
        "df.T"
      ],
      "execution_count": 13,
      "outputs": [
        {
          "output_type": "execute_result",
          "data": {
            "text/html": [
              "<div>\n",
              "<style scoped>\n",
              "    .dataframe tbody tr th:only-of-type {\n",
              "        vertical-align: middle;\n",
              "    }\n",
              "\n",
              "    .dataframe tbody tr th {\n",
              "        vertical-align: top;\n",
              "    }\n",
              "\n",
              "    .dataframe thead th {\n",
              "        text-align: right;\n",
              "    }\n",
              "</style>\n",
              "<table border=\"1\" class=\"dataframe\">\n",
              "  <thead>\n",
              "    <tr style=\"text-align: right;\">\n",
              "      <th></th>\n",
              "      <th>2014-11-01</th>\n",
              "      <th>2014-11-02</th>\n",
              "      <th>2014-11-03</th>\n",
              "      <th>2014-11-04</th>\n",
              "      <th>2014-11-05</th>\n",
              "      <th>2014-11-06</th>\n",
              "    </tr>\n",
              "  </thead>\n",
              "  <tbody>\n",
              "    <tr>\n",
              "      <th>one</th>\n",
              "      <td>0.977333</td>\n",
              "      <td>0.165023</td>\n",
              "      <td>0.429971</td>\n",
              "      <td>-1.079263</td>\n",
              "      <td>0.388456</td>\n",
              "      <td>-0.693551</td>\n",
              "    </tr>\n",
              "    <tr>\n",
              "      <th>two</th>\n",
              "      <td>-0.603178</td>\n",
              "      <td>-0.508143</td>\n",
              "      <td>-0.848484</td>\n",
              "      <td>-0.926630</td>\n",
              "      <td>0.427070</td>\n",
              "      <td>-0.092560</td>\n",
              "    </tr>\n",
              "    <tr>\n",
              "      <th>three</th>\n",
              "      <td>0.119375</td>\n",
              "      <td>0.001456</td>\n",
              "      <td>-1.025006</td>\n",
              "      <td>-3.083885</td>\n",
              "      <td>0.466814</td>\n",
              "      <td>1.550926</td>\n",
              "    </tr>\n",
              "    <tr>\n",
              "      <th>four</th>\n",
              "      <td>-0.446140</td>\n",
              "      <td>0.643376</td>\n",
              "      <td>0.892447</td>\n",
              "      <td>0.068161</td>\n",
              "      <td>0.622423</td>\n",
              "      <td>-0.534368</td>\n",
              "    </tr>\n",
              "  </tbody>\n",
              "</table>\n",
              "</div>"
            ],
            "text/plain": [
              "       2014-11-01  2014-11-02  2014-11-03  2014-11-04  2014-11-05  2014-11-06\n",
              "one      0.977333    0.165023    0.429971   -1.079263    0.388456   -0.693551\n",
              "two     -0.603178   -0.508143   -0.848484   -0.926630    0.427070   -0.092560\n",
              "three    0.119375    0.001456   -1.025006   -3.083885    0.466814    1.550926\n",
              "four    -0.446140    0.643376    0.892447    0.068161    0.622423   -0.534368"
            ]
          },
          "metadata": {
            "tags": []
          },
          "execution_count": 13
        }
      ]
    },
    {
      "cell_type": "markdown",
      "metadata": {
        "_cell_guid": "d92b9eac-9dc6-446e-b87e-d50ef52630a8",
        "_uuid": "b526362d5e5f451a460ca3add042b633538055dc",
        "id": "N5KjGJErA09t",
        "colab_type": "text"
      },
      "source": [
        "Sorting by an axis (In this case, sorting the columns in reverse alphabetical order):"
      ]
    },
    {
      "cell_type": "code",
      "metadata": {
        "_cell_guid": "1dfd42f4-5231-4508-900f-1ddc37cdd250",
        "_uuid": "397ac00b05aa5867ba188f537ae7ac814275352c",
        "id": "473knT8kA09u",
        "colab_type": "code",
        "colab": {
          "base_uri": "https://localhost:8080/",
          "height": 235
        },
        "outputId": "56168193-42a7-4c25-bc8f-05ecc017200c"
      },
      "source": [
        "df.sort_index(axis=1, ascending=False)"
      ],
      "execution_count": 14,
      "outputs": [
        {
          "output_type": "execute_result",
          "data": {
            "text/html": [
              "<div>\n",
              "<style scoped>\n",
              "    .dataframe tbody tr th:only-of-type {\n",
              "        vertical-align: middle;\n",
              "    }\n",
              "\n",
              "    .dataframe tbody tr th {\n",
              "        vertical-align: top;\n",
              "    }\n",
              "\n",
              "    .dataframe thead th {\n",
              "        text-align: right;\n",
              "    }\n",
              "</style>\n",
              "<table border=\"1\" class=\"dataframe\">\n",
              "  <thead>\n",
              "    <tr style=\"text-align: right;\">\n",
              "      <th></th>\n",
              "      <th>two</th>\n",
              "      <th>three</th>\n",
              "      <th>one</th>\n",
              "      <th>four</th>\n",
              "    </tr>\n",
              "  </thead>\n",
              "  <tbody>\n",
              "    <tr>\n",
              "      <th>2014-11-01</th>\n",
              "      <td>-0.603178</td>\n",
              "      <td>0.119375</td>\n",
              "      <td>0.977333</td>\n",
              "      <td>-0.446140</td>\n",
              "    </tr>\n",
              "    <tr>\n",
              "      <th>2014-11-02</th>\n",
              "      <td>-0.508143</td>\n",
              "      <td>0.001456</td>\n",
              "      <td>0.165023</td>\n",
              "      <td>0.643376</td>\n",
              "    </tr>\n",
              "    <tr>\n",
              "      <th>2014-11-03</th>\n",
              "      <td>-0.848484</td>\n",
              "      <td>-1.025006</td>\n",
              "      <td>0.429971</td>\n",
              "      <td>0.892447</td>\n",
              "    </tr>\n",
              "    <tr>\n",
              "      <th>2014-11-04</th>\n",
              "      <td>-0.926630</td>\n",
              "      <td>-3.083885</td>\n",
              "      <td>-1.079263</td>\n",
              "      <td>0.068161</td>\n",
              "    </tr>\n",
              "    <tr>\n",
              "      <th>2014-11-05</th>\n",
              "      <td>0.427070</td>\n",
              "      <td>0.466814</td>\n",
              "      <td>0.388456</td>\n",
              "      <td>0.622423</td>\n",
              "    </tr>\n",
              "    <tr>\n",
              "      <th>2014-11-06</th>\n",
              "      <td>-0.092560</td>\n",
              "      <td>1.550926</td>\n",
              "      <td>-0.693551</td>\n",
              "      <td>-0.534368</td>\n",
              "    </tr>\n",
              "  </tbody>\n",
              "</table>\n",
              "</div>"
            ],
            "text/plain": [
              "                 two     three       one      four\n",
              "2014-11-01 -0.603178  0.119375  0.977333 -0.446140\n",
              "2014-11-02 -0.508143  0.001456  0.165023  0.643376\n",
              "2014-11-03 -0.848484 -1.025006  0.429971  0.892447\n",
              "2014-11-04 -0.926630 -3.083885 -1.079263  0.068161\n",
              "2014-11-05  0.427070  0.466814  0.388456  0.622423\n",
              "2014-11-06 -0.092560  1.550926 -0.693551 -0.534368"
            ]
          },
          "metadata": {
            "tags": []
          },
          "execution_count": 14
        }
      ]
    },
    {
      "cell_type": "markdown",
      "metadata": {
        "_cell_guid": "9898c02b-57bd-48d6-884f-3fe8eb53b34a",
        "_uuid": "e3c6b93d9352a0660f989b63e09f03e05c9e1feb",
        "id": "bGuDoYK-A09w",
        "colab_type": "text"
      },
      "source": [
        "Sorting by values"
      ]
    },
    {
      "cell_type": "code",
      "metadata": {
        "_cell_guid": "389c1344-4f60-4628-b6c1-de736d429d3a",
        "_uuid": "df1ac4e8bc643bbcc49f0769c52778ca19761a9e",
        "id": "2BC3V8nMA09x",
        "colab_type": "code",
        "colab": {
          "base_uri": "https://localhost:8080/",
          "height": 235
        },
        "outputId": "3a2d1de6-cf4f-40a4-ffd6-371bf9c0f31b"
      },
      "source": [
        "df.sort_values(by='two')"
      ],
      "execution_count": 15,
      "outputs": [
        {
          "output_type": "execute_result",
          "data": {
            "text/html": [
              "<div>\n",
              "<style scoped>\n",
              "    .dataframe tbody tr th:only-of-type {\n",
              "        vertical-align: middle;\n",
              "    }\n",
              "\n",
              "    .dataframe tbody tr th {\n",
              "        vertical-align: top;\n",
              "    }\n",
              "\n",
              "    .dataframe thead th {\n",
              "        text-align: right;\n",
              "    }\n",
              "</style>\n",
              "<table border=\"1\" class=\"dataframe\">\n",
              "  <thead>\n",
              "    <tr style=\"text-align: right;\">\n",
              "      <th></th>\n",
              "      <th>one</th>\n",
              "      <th>two</th>\n",
              "      <th>three</th>\n",
              "      <th>four</th>\n",
              "    </tr>\n",
              "  </thead>\n",
              "  <tbody>\n",
              "    <tr>\n",
              "      <th>2014-11-04</th>\n",
              "      <td>-1.079263</td>\n",
              "      <td>-0.926630</td>\n",
              "      <td>-3.083885</td>\n",
              "      <td>0.068161</td>\n",
              "    </tr>\n",
              "    <tr>\n",
              "      <th>2014-11-03</th>\n",
              "      <td>0.429971</td>\n",
              "      <td>-0.848484</td>\n",
              "      <td>-1.025006</td>\n",
              "      <td>0.892447</td>\n",
              "    </tr>\n",
              "    <tr>\n",
              "      <th>2014-11-01</th>\n",
              "      <td>0.977333</td>\n",
              "      <td>-0.603178</td>\n",
              "      <td>0.119375</td>\n",
              "      <td>-0.446140</td>\n",
              "    </tr>\n",
              "    <tr>\n",
              "      <th>2014-11-02</th>\n",
              "      <td>0.165023</td>\n",
              "      <td>-0.508143</td>\n",
              "      <td>0.001456</td>\n",
              "      <td>0.643376</td>\n",
              "    </tr>\n",
              "    <tr>\n",
              "      <th>2014-11-06</th>\n",
              "      <td>-0.693551</td>\n",
              "      <td>-0.092560</td>\n",
              "      <td>1.550926</td>\n",
              "      <td>-0.534368</td>\n",
              "    </tr>\n",
              "    <tr>\n",
              "      <th>2014-11-05</th>\n",
              "      <td>0.388456</td>\n",
              "      <td>0.427070</td>\n",
              "      <td>0.466814</td>\n",
              "      <td>0.622423</td>\n",
              "    </tr>\n",
              "  </tbody>\n",
              "</table>\n",
              "</div>"
            ],
            "text/plain": [
              "                 one       two     three      four\n",
              "2014-11-04 -1.079263 -0.926630 -3.083885  0.068161\n",
              "2014-11-03  0.429971 -0.848484 -1.025006  0.892447\n",
              "2014-11-01  0.977333 -0.603178  0.119375 -0.446140\n",
              "2014-11-02  0.165023 -0.508143  0.001456  0.643376\n",
              "2014-11-06 -0.693551 -0.092560  1.550926 -0.534368\n",
              "2014-11-05  0.388456  0.427070  0.466814  0.622423"
            ]
          },
          "metadata": {
            "tags": []
          },
          "execution_count": 15
        }
      ]
    },
    {
      "cell_type": "markdown",
      "metadata": {
        "_cell_guid": "6e80dc85-7f33-4803-928c-8f327da5c15a",
        "_uuid": "5202ddc8b46f9ce7333977c7dc4c919304fbfd4b",
        "id": "CQ8wNe4OA090",
        "colab_type": "text"
      },
      "source": [
        "# Selection"
      ]
    },
    {
      "cell_type": "markdown",
      "metadata": {
        "_cell_guid": "cbf1a871-cf24-46ae-8384-72d99f6b3c9a",
        "_uuid": "dd007c4689288bd481c99133d13cb05e204ca1a8",
        "id": "sKhFLuIIA091",
        "colab_type": "text"
      },
      "source": [
        "Note While standard Python / Numpy expressions for selecting and setting are intuitive and come in handy for interactive work, for production code, we recommend the optimized pandas data access methods, .at, .iat, .loc, .iloc and .ix.\n",
        "See the indexing documentation [Indexing and Selecting Data](https://pandas.pydata.org/pandas-docs/stable/indexing.html#indexing) and [MultiIndex / Advanced Indexing](https://pandas.pydata.org/pandas-docs/stable/advanced.html#advanced)"
      ]
    },
    {
      "cell_type": "markdown",
      "metadata": {
        "_cell_guid": "002668d8-3da6-4f78-bb84-0c1d3d42c81c",
        "_uuid": "446149fabdb526d11b6d42aa58a7219043a63210",
        "id": "YgPbaCzqA091",
        "colab_type": "text"
      },
      "source": [
        "## Getting"
      ]
    },
    {
      "cell_type": "markdown",
      "metadata": {
        "_cell_guid": "04f82f76-6390-4f0e-9a64-67619cc85e42",
        "_uuid": "8f34cc17657fc7f8b77f35c5beefdca76343994e",
        "id": "kP-7L0WLA093",
        "colab_type": "text"
      },
      "source": [
        "Selecting a single column, which yields a Series, equivalent to df.one"
      ]
    },
    {
      "cell_type": "code",
      "metadata": {
        "_cell_guid": "4be8e75e-64f3-453e-b3e5-b788b1c967a5",
        "_uuid": "9bd8927534a077d8d9c3d74747ea6ab3f5070d68",
        "id": "9E9O7vE-A095",
        "colab_type": "code",
        "colab": {
          "base_uri": "https://localhost:8080/",
          "height": 0
        },
        "outputId": "ddd218f6-b69b-44ab-b7a4-86192f01b363"
      },
      "source": [
        "df['one']"
      ],
      "execution_count": 16,
      "outputs": [
        {
          "output_type": "execute_result",
          "data": {
            "text/plain": [
              "2014-11-01    0.977333\n",
              "2014-11-02    0.165023\n",
              "2014-11-03    0.429971\n",
              "2014-11-04   -1.079263\n",
              "2014-11-05    0.388456\n",
              "2014-11-06   -0.693551\n",
              "Freq: D, Name: one, dtype: float64"
            ]
          },
          "metadata": {
            "tags": []
          },
          "execution_count": 16
        }
      ]
    },
    {
      "cell_type": "code",
      "metadata": {
        "_cell_guid": "c0092d95-8fd7-4059-8938-580a05c70f6b",
        "_uuid": "9678ff7f4faaffc358ad10bb176d96c7d45ac236",
        "id": "0UUw-VPlA099",
        "colab_type": "code",
        "colab": {
          "base_uri": "https://localhost:8080/",
          "height": 0
        },
        "outputId": "026e5f24-651f-401a-d6f4-dc29d8dfd240"
      },
      "source": [
        "df.one"
      ],
      "execution_count": 17,
      "outputs": [
        {
          "output_type": "execute_result",
          "data": {
            "text/plain": [
              "2014-11-01    0.977333\n",
              "2014-11-02    0.165023\n",
              "2014-11-03    0.429971\n",
              "2014-11-04   -1.079263\n",
              "2014-11-05    0.388456\n",
              "2014-11-06   -0.693551\n",
              "Freq: D, Name: one, dtype: float64"
            ]
          },
          "metadata": {
            "tags": []
          },
          "execution_count": 17
        }
      ]
    },
    {
      "cell_type": "markdown",
      "metadata": {
        "_cell_guid": "a9160b5a-2a8d-42f7-a1a0-cf59481bbbe5",
        "_uuid": "724ce079707e2d58e3e6ec122a128fb280f85010",
        "id": "vBSZ4i7NA0-A",
        "colab_type": "text"
      },
      "source": [
        "Selecting via [], which slices the rows."
      ]
    },
    {
      "cell_type": "code",
      "metadata": {
        "_cell_guid": "f5909120-c5ee-498a-8ed1-b4316b51226e",
        "_uuid": "dbcd1c56866336f25d10ebfb1dbd457b1c5c415e",
        "id": "VcFQTGIfA0-A",
        "colab_type": "code",
        "colab": {
          "base_uri": "https://localhost:8080/",
          "height": 0
        },
        "outputId": "b6b0e2a4-5717-4b31-d9c1-5fe081ab453a"
      },
      "source": [
        "df[0:3]"
      ],
      "execution_count": 18,
      "outputs": [
        {
          "output_type": "execute_result",
          "data": {
            "text/html": [
              "<div>\n",
              "<style scoped>\n",
              "    .dataframe tbody tr th:only-of-type {\n",
              "        vertical-align: middle;\n",
              "    }\n",
              "\n",
              "    .dataframe tbody tr th {\n",
              "        vertical-align: top;\n",
              "    }\n",
              "\n",
              "    .dataframe thead th {\n",
              "        text-align: right;\n",
              "    }\n",
              "</style>\n",
              "<table border=\"1\" class=\"dataframe\">\n",
              "  <thead>\n",
              "    <tr style=\"text-align: right;\">\n",
              "      <th></th>\n",
              "      <th>one</th>\n",
              "      <th>two</th>\n",
              "      <th>three</th>\n",
              "      <th>four</th>\n",
              "    </tr>\n",
              "  </thead>\n",
              "  <tbody>\n",
              "    <tr>\n",
              "      <th>2014-11-01</th>\n",
              "      <td>0.977333</td>\n",
              "      <td>-0.603178</td>\n",
              "      <td>0.119375</td>\n",
              "      <td>-0.446140</td>\n",
              "    </tr>\n",
              "    <tr>\n",
              "      <th>2014-11-02</th>\n",
              "      <td>0.165023</td>\n",
              "      <td>-0.508143</td>\n",
              "      <td>0.001456</td>\n",
              "      <td>0.643376</td>\n",
              "    </tr>\n",
              "    <tr>\n",
              "      <th>2014-11-03</th>\n",
              "      <td>0.429971</td>\n",
              "      <td>-0.848484</td>\n",
              "      <td>-1.025006</td>\n",
              "      <td>0.892447</td>\n",
              "    </tr>\n",
              "  </tbody>\n",
              "</table>\n",
              "</div>"
            ],
            "text/plain": [
              "                 one       two     three      four\n",
              "2014-11-01  0.977333 -0.603178  0.119375 -0.446140\n",
              "2014-11-02  0.165023 -0.508143  0.001456  0.643376\n",
              "2014-11-03  0.429971 -0.848484 -1.025006  0.892447"
            ]
          },
          "metadata": {
            "tags": []
          },
          "execution_count": 18
        }
      ]
    },
    {
      "cell_type": "code",
      "metadata": {
        "_cell_guid": "0b5c50db-08a3-487e-8f9b-3fac98f0c336",
        "_uuid": "1bc96862bd0c4fde57487e71bce38dc272763a36",
        "id": "ee1ieaNRA0-C",
        "colab_type": "code",
        "colab": {
          "base_uri": "https://localhost:8080/",
          "height": 0
        },
        "outputId": "a16c8963-62a7-4c5f-c49e-235e436a708c"
      },
      "source": [
        "df['20141102':'20141104']"
      ],
      "execution_count": 19,
      "outputs": [
        {
          "output_type": "execute_result",
          "data": {
            "text/html": [
              "<div>\n",
              "<style scoped>\n",
              "    .dataframe tbody tr th:only-of-type {\n",
              "        vertical-align: middle;\n",
              "    }\n",
              "\n",
              "    .dataframe tbody tr th {\n",
              "        vertical-align: top;\n",
              "    }\n",
              "\n",
              "    .dataframe thead th {\n",
              "        text-align: right;\n",
              "    }\n",
              "</style>\n",
              "<table border=\"1\" class=\"dataframe\">\n",
              "  <thead>\n",
              "    <tr style=\"text-align: right;\">\n",
              "      <th></th>\n",
              "      <th>one</th>\n",
              "      <th>two</th>\n",
              "      <th>three</th>\n",
              "      <th>four</th>\n",
              "    </tr>\n",
              "  </thead>\n",
              "  <tbody>\n",
              "    <tr>\n",
              "      <th>2014-11-02</th>\n",
              "      <td>0.165023</td>\n",
              "      <td>-0.508143</td>\n",
              "      <td>0.001456</td>\n",
              "      <td>0.643376</td>\n",
              "    </tr>\n",
              "    <tr>\n",
              "      <th>2014-11-03</th>\n",
              "      <td>0.429971</td>\n",
              "      <td>-0.848484</td>\n",
              "      <td>-1.025006</td>\n",
              "      <td>0.892447</td>\n",
              "    </tr>\n",
              "    <tr>\n",
              "      <th>2014-11-04</th>\n",
              "      <td>-1.079263</td>\n",
              "      <td>-0.926630</td>\n",
              "      <td>-3.083885</td>\n",
              "      <td>0.068161</td>\n",
              "    </tr>\n",
              "  </tbody>\n",
              "</table>\n",
              "</div>"
            ],
            "text/plain": [
              "                 one       two     three      four\n",
              "2014-11-02  0.165023 -0.508143  0.001456  0.643376\n",
              "2014-11-03  0.429971 -0.848484 -1.025006  0.892447\n",
              "2014-11-04 -1.079263 -0.926630 -3.083885  0.068161"
            ]
          },
          "metadata": {
            "tags": []
          },
          "execution_count": 19
        }
      ]
    },
    {
      "cell_type": "markdown",
      "metadata": {
        "_cell_guid": "47120656-c870-4ccb-87d6-cdf0cb10628b",
        "_uuid": "50e9f44238b630e0f854dffa849f4a26f2b7abfd",
        "id": "155Z4nHfA0-F",
        "colab_type": "text"
      },
      "source": [
        "## Selecting by Label"
      ]
    },
    {
      "cell_type": "markdown",
      "metadata": {
        "_cell_guid": "5eb8a10b-100c-4949-bf57-fc1b0b709023",
        "_uuid": "6c5b006e3dabd7dc506fb4c840b003667cdcb019",
        "id": "-C67kNktA0-F",
        "colab_type": "text"
      },
      "source": [
        "See more in[ Selection by Label](https://pandas.pydata.org/pandas-docs/stable/indexing.html#indexing-label)\n",
        "\n",
        "For getting a cross section using a label"
      ]
    },
    {
      "cell_type": "code",
      "metadata": {
        "_cell_guid": "07d52142-94b9-42fb-a649-63f2f56bd3af",
        "_uuid": "34c5205092732b67a2de0667418af4f3e73fa18f",
        "id": "d7xtIeT9A0-G",
        "colab_type": "code",
        "colab": {
          "base_uri": "https://localhost:8080/",
          "height": 0
        },
        "outputId": "29643e80-df7c-4bc2-d982-67e60006176b"
      },
      "source": [
        "df.loc[dates[0]]"
      ],
      "execution_count": 20,
      "outputs": [
        {
          "output_type": "execute_result",
          "data": {
            "text/plain": [
              "one      0.977333\n",
              "two     -0.603178\n",
              "three    0.119375\n",
              "four    -0.446140\n",
              "Name: 2014-11-01 00:00:00, dtype: float64"
            ]
          },
          "metadata": {
            "tags": []
          },
          "execution_count": 20
        }
      ]
    },
    {
      "cell_type": "markdown",
      "metadata": {
        "_cell_guid": "6a647eb5-c61b-4a01-a9a9-cc9de6284338",
        "_uuid": "847a4c224d66434bc572cdd3106c99bce8925607",
        "id": "CMxcqs2LA0-J",
        "colab_type": "text"
      },
      "source": [
        "Selecting on a multi-axis by label"
      ]
    },
    {
      "cell_type": "code",
      "metadata": {
        "_cell_guid": "7001a024-168a-4c7f-bf36-d813fb798bfb",
        "_uuid": "f46aa94ce3199632c14f66aea3f9155fc57c8d3e",
        "id": "yKs_jM7-A0-K",
        "colab_type": "code",
        "colab": {
          "base_uri": "https://localhost:8080/",
          "height": 0
        },
        "outputId": "2725018e-acd5-4c78-f56a-566deb213258"
      },
      "source": [
        "df.loc[:,['one','two']]"
      ],
      "execution_count": 21,
      "outputs": [
        {
          "output_type": "execute_result",
          "data": {
            "text/html": [
              "<div>\n",
              "<style scoped>\n",
              "    .dataframe tbody tr th:only-of-type {\n",
              "        vertical-align: middle;\n",
              "    }\n",
              "\n",
              "    .dataframe tbody tr th {\n",
              "        vertical-align: top;\n",
              "    }\n",
              "\n",
              "    .dataframe thead th {\n",
              "        text-align: right;\n",
              "    }\n",
              "</style>\n",
              "<table border=\"1\" class=\"dataframe\">\n",
              "  <thead>\n",
              "    <tr style=\"text-align: right;\">\n",
              "      <th></th>\n",
              "      <th>one</th>\n",
              "      <th>two</th>\n",
              "    </tr>\n",
              "  </thead>\n",
              "  <tbody>\n",
              "    <tr>\n",
              "      <th>2014-11-01</th>\n",
              "      <td>0.977333</td>\n",
              "      <td>-0.603178</td>\n",
              "    </tr>\n",
              "    <tr>\n",
              "      <th>2014-11-02</th>\n",
              "      <td>0.165023</td>\n",
              "      <td>-0.508143</td>\n",
              "    </tr>\n",
              "    <tr>\n",
              "      <th>2014-11-03</th>\n",
              "      <td>0.429971</td>\n",
              "      <td>-0.848484</td>\n",
              "    </tr>\n",
              "    <tr>\n",
              "      <th>2014-11-04</th>\n",
              "      <td>-1.079263</td>\n",
              "      <td>-0.926630</td>\n",
              "    </tr>\n",
              "    <tr>\n",
              "      <th>2014-11-05</th>\n",
              "      <td>0.388456</td>\n",
              "      <td>0.427070</td>\n",
              "    </tr>\n",
              "    <tr>\n",
              "      <th>2014-11-06</th>\n",
              "      <td>-0.693551</td>\n",
              "      <td>-0.092560</td>\n",
              "    </tr>\n",
              "  </tbody>\n",
              "</table>\n",
              "</div>"
            ],
            "text/plain": [
              "                 one       two\n",
              "2014-11-01  0.977333 -0.603178\n",
              "2014-11-02  0.165023 -0.508143\n",
              "2014-11-03  0.429971 -0.848484\n",
              "2014-11-04 -1.079263 -0.926630\n",
              "2014-11-05  0.388456  0.427070\n",
              "2014-11-06 -0.693551 -0.092560"
            ]
          },
          "metadata": {
            "tags": []
          },
          "execution_count": 21
        }
      ]
    },
    {
      "cell_type": "markdown",
      "metadata": {
        "_cell_guid": "e28a81bd-14eb-4931-a839-98d0ecaecd3c",
        "_uuid": "9a6ae941b46b104db1cd8def0545981d4733bfe9",
        "id": "X2JHJUl-A0-M",
        "colab_type": "text"
      },
      "source": [
        "Showing label slicing, both endpoints are included"
      ]
    },
    {
      "cell_type": "code",
      "metadata": {
        "_cell_guid": "96ab0649-01d3-48f2-b519-dd78c2186336",
        "_uuid": "e02bd76d6a3169255570d96c2cb84d1d19baafe9",
        "id": "lOp0zVu2A0-N",
        "colab_type": "code",
        "colab": {
          "base_uri": "https://localhost:8080/",
          "height": 0
        },
        "outputId": "17b73fd0-593d-41b9-d784-7fdabbc04f66"
      },
      "source": [
        "df.loc['20141102':'20141104',['one','two']]"
      ],
      "execution_count": 22,
      "outputs": [
        {
          "output_type": "execute_result",
          "data": {
            "text/html": [
              "<div>\n",
              "<style scoped>\n",
              "    .dataframe tbody tr th:only-of-type {\n",
              "        vertical-align: middle;\n",
              "    }\n",
              "\n",
              "    .dataframe tbody tr th {\n",
              "        vertical-align: top;\n",
              "    }\n",
              "\n",
              "    .dataframe thead th {\n",
              "        text-align: right;\n",
              "    }\n",
              "</style>\n",
              "<table border=\"1\" class=\"dataframe\">\n",
              "  <thead>\n",
              "    <tr style=\"text-align: right;\">\n",
              "      <th></th>\n",
              "      <th>one</th>\n",
              "      <th>two</th>\n",
              "    </tr>\n",
              "  </thead>\n",
              "  <tbody>\n",
              "    <tr>\n",
              "      <th>2014-11-02</th>\n",
              "      <td>0.165023</td>\n",
              "      <td>-0.508143</td>\n",
              "    </tr>\n",
              "    <tr>\n",
              "      <th>2014-11-03</th>\n",
              "      <td>0.429971</td>\n",
              "      <td>-0.848484</td>\n",
              "    </tr>\n",
              "    <tr>\n",
              "      <th>2014-11-04</th>\n",
              "      <td>-1.079263</td>\n",
              "      <td>-0.926630</td>\n",
              "    </tr>\n",
              "  </tbody>\n",
              "</table>\n",
              "</div>"
            ],
            "text/plain": [
              "                 one       two\n",
              "2014-11-02  0.165023 -0.508143\n",
              "2014-11-03  0.429971 -0.848484\n",
              "2014-11-04 -1.079263 -0.926630"
            ]
          },
          "metadata": {
            "tags": []
          },
          "execution_count": 22
        }
      ]
    },
    {
      "cell_type": "markdown",
      "metadata": {
        "_cell_guid": "1da0f850-8b42-4221-ae51-223924b40266",
        "_uuid": "74e06e2a77ac27d580b88b90068a795052f00e8e",
        "id": "vMjbAKr0A0-Q",
        "colab_type": "text"
      },
      "source": [
        "Reduction in the dimensions of the returned object"
      ]
    },
    {
      "cell_type": "code",
      "metadata": {
        "_cell_guid": "e7b0cb7d-70cc-41f6-8b55-32824b804241",
        "_uuid": "6477a1db5cf42f8260bc8c2cee54c2745fb255a1",
        "id": "DxshMsyfA0-S",
        "colab_type": "code",
        "colab": {
          "base_uri": "https://localhost:8080/",
          "height": 0
        },
        "outputId": "1efb5204-482b-4811-e20a-9b70ed4bd418"
      },
      "source": [
        "df.loc['20141102',['one','two']]"
      ],
      "execution_count": 23,
      "outputs": [
        {
          "output_type": "execute_result",
          "data": {
            "text/plain": [
              "one    0.165023\n",
              "two   -0.508143\n",
              "Name: 2014-11-02 00:00:00, dtype: float64"
            ]
          },
          "metadata": {
            "tags": []
          },
          "execution_count": 23
        }
      ]
    },
    {
      "cell_type": "markdown",
      "metadata": {
        "_cell_guid": "3d623580-97fc-456e-924f-5bab3121d87d",
        "_uuid": "9f4dd3322a60f1b105d9a21783287edb27c8ea0c",
        "id": "EfjZ45fHA0-W",
        "colab_type": "text"
      },
      "source": [
        "For getting a scalar value"
      ]
    },
    {
      "cell_type": "code",
      "metadata": {
        "_cell_guid": "5097b9ad-5170-41d8-857f-97142be556f5",
        "_uuid": "9f1d7120553ca8bb9a6b658c2f04e3bfe67f97a6",
        "id": "WWoKqHCqA0-X",
        "colab_type": "code",
        "colab": {
          "base_uri": "https://localhost:8080/",
          "height": 0
        },
        "outputId": "2322b918-54a7-4670-e9b1-0cc94bc9494a"
      },
      "source": [
        "df.loc[dates[0],'one']"
      ],
      "execution_count": 24,
      "outputs": [
        {
          "output_type": "execute_result",
          "data": {
            "text/plain": [
              "0.977332681076379"
            ]
          },
          "metadata": {
            "tags": []
          },
          "execution_count": 24
        }
      ]
    },
    {
      "cell_type": "markdown",
      "metadata": {
        "_cell_guid": "68f229fd-5117-4207-856e-5c6e4b58c135",
        "_uuid": "3586bfb5875d760a36ecf78e62dd0ca38a67b54b",
        "id": "7quMlWxVA0-Z",
        "colab_type": "text"
      },
      "source": [
        "For getting fast access to a scalar (equiv to the prior method)"
      ]
    },
    {
      "cell_type": "code",
      "metadata": {
        "_cell_guid": "39271947-9c6d-456a-aaf3-307e55d24442",
        "_uuid": "c30b411195fff3849b54bcdc3b658fbcc96cecbb",
        "id": "iEipfP4jA0-a",
        "colab_type": "code",
        "colab": {
          "base_uri": "https://localhost:8080/",
          "height": 0
        },
        "outputId": "894c1f10-4537-4d27-87eb-532031aa5b2c"
      },
      "source": [
        "df.at[dates[0],'one']"
      ],
      "execution_count": 25,
      "outputs": [
        {
          "output_type": "execute_result",
          "data": {
            "text/plain": [
              "0.977332681076379"
            ]
          },
          "metadata": {
            "tags": []
          },
          "execution_count": 25
        }
      ]
    },
    {
      "cell_type": "markdown",
      "metadata": {
        "_cell_guid": "7dd7fef8-149a-420f-a45b-af912c3f2369",
        "_uuid": "16f6dc5101bf7f1cef79a016c9b557ee910930ad",
        "id": "FraXOiaIA0-d",
        "colab_type": "text"
      },
      "source": [
        "## Selection by Position"
      ]
    },
    {
      "cell_type": "markdown",
      "metadata": {
        "_cell_guid": "428d1a82-86e1-41d0-a416-52906afc8995",
        "_uuid": "a789524d4da761f0fa9b77b459acf52e8a6291b6",
        "id": "xMDFfNDcA0-d",
        "colab_type": "text"
      },
      "source": [
        "See more in [Selection by Position](Selection by Position)\n",
        "\n",
        "Select via the position of the passed integers"
      ]
    },
    {
      "cell_type": "code",
      "metadata": {
        "_cell_guid": "fe438107-8d37-4714-8da7-d1c5b3afc846",
        "_uuid": "62558a81897d581168ee6c2b41f76267b9c91124",
        "id": "ZboUNuHgA0-e",
        "colab_type": "code",
        "colab": {
          "base_uri": "https://localhost:8080/",
          "height": 0
        },
        "outputId": "3fbcf028-03dd-477d-e206-d70bb391a405"
      },
      "source": [
        "df.iloc[3]"
      ],
      "execution_count": 26,
      "outputs": [
        {
          "output_type": "execute_result",
          "data": {
            "text/plain": [
              "one     -1.079263\n",
              "two     -0.926630\n",
              "three   -3.083885\n",
              "four     0.068161\n",
              "Name: 2014-11-04 00:00:00, dtype: float64"
            ]
          },
          "metadata": {
            "tags": []
          },
          "execution_count": 26
        }
      ]
    },
    {
      "cell_type": "markdown",
      "metadata": {
        "_cell_guid": "cd04525c-ada2-4260-b5f7-747d4e5df884",
        "_uuid": "4709ff3e512e7d238ed456980113d4934499b5d6",
        "id": "c5VzcWFYA0-g",
        "colab_type": "text"
      },
      "source": [
        "By integer slices, acting similar to numpy/python"
      ]
    },
    {
      "cell_type": "markdown",
      "metadata": {
        "_cell_guid": "728cc20e-ba9d-413d-9ee5-e76eb2735c8a",
        "_uuid": "602b716b2b8d28bede8043ce95f3247233d3b94c",
        "id": "YTm1DOWFA0-g",
        "colab_type": "text"
      },
      "source": [
        "By lists of integer position locations, similar to the numpy/python style"
      ]
    },
    {
      "cell_type": "code",
      "metadata": {
        "_cell_guid": "0af7f46d-7da7-4b36-bcfd-02a9fdb8dbe5",
        "_uuid": "83f0a59d8beabd0bb6192467ebe9b287a3216776",
        "id": "_JRSiPLUA0-h",
        "colab_type": "code",
        "colab": {
          "base_uri": "https://localhost:8080/",
          "height": 0
        },
        "outputId": "148ac026-0bad-42bc-c65c-d3e17a8ef281"
      },
      "source": [
        "df.iloc[[1,2,4],[0,2]]"
      ],
      "execution_count": 27,
      "outputs": [
        {
          "output_type": "execute_result",
          "data": {
            "text/html": [
              "<div>\n",
              "<style scoped>\n",
              "    .dataframe tbody tr th:only-of-type {\n",
              "        vertical-align: middle;\n",
              "    }\n",
              "\n",
              "    .dataframe tbody tr th {\n",
              "        vertical-align: top;\n",
              "    }\n",
              "\n",
              "    .dataframe thead th {\n",
              "        text-align: right;\n",
              "    }\n",
              "</style>\n",
              "<table border=\"1\" class=\"dataframe\">\n",
              "  <thead>\n",
              "    <tr style=\"text-align: right;\">\n",
              "      <th></th>\n",
              "      <th>one</th>\n",
              "      <th>three</th>\n",
              "    </tr>\n",
              "  </thead>\n",
              "  <tbody>\n",
              "    <tr>\n",
              "      <th>2014-11-02</th>\n",
              "      <td>0.165023</td>\n",
              "      <td>0.001456</td>\n",
              "    </tr>\n",
              "    <tr>\n",
              "      <th>2014-11-03</th>\n",
              "      <td>0.429971</td>\n",
              "      <td>-1.025006</td>\n",
              "    </tr>\n",
              "    <tr>\n",
              "      <th>2014-11-05</th>\n",
              "      <td>0.388456</td>\n",
              "      <td>0.466814</td>\n",
              "    </tr>\n",
              "  </tbody>\n",
              "</table>\n",
              "</div>"
            ],
            "text/plain": [
              "                 one     three\n",
              "2014-11-02  0.165023  0.001456\n",
              "2014-11-03  0.429971 -1.025006\n",
              "2014-11-05  0.388456  0.466814"
            ]
          },
          "metadata": {
            "tags": []
          },
          "execution_count": 27
        }
      ]
    },
    {
      "cell_type": "markdown",
      "metadata": {
        "_cell_guid": "e9f6b749-ad67-4d89-aaed-4024b8530936",
        "_uuid": "61639e9a7523b05fb1a03d464ffa1f1eb1688efb",
        "id": "B5fyqBiSA0-m",
        "colab_type": "text"
      },
      "source": [
        "For slicing rows explicitly"
      ]
    },
    {
      "cell_type": "code",
      "metadata": {
        "_cell_guid": "467719ff-d23e-45c2-9657-0b7bcaff6655",
        "_uuid": "8d69d0090825b1644d037ecb051afdb9633628d3",
        "id": "HuEqOqmPA0-o",
        "colab_type": "code",
        "colab": {
          "base_uri": "https://localhost:8080/",
          "height": 0
        },
        "outputId": "6bee671c-e3b6-4275-aa1c-9d9b2b91761a"
      },
      "source": [
        "df.iloc[1:3,:]"
      ],
      "execution_count": 28,
      "outputs": [
        {
          "output_type": "execute_result",
          "data": {
            "text/html": [
              "<div>\n",
              "<style scoped>\n",
              "    .dataframe tbody tr th:only-of-type {\n",
              "        vertical-align: middle;\n",
              "    }\n",
              "\n",
              "    .dataframe tbody tr th {\n",
              "        vertical-align: top;\n",
              "    }\n",
              "\n",
              "    .dataframe thead th {\n",
              "        text-align: right;\n",
              "    }\n",
              "</style>\n",
              "<table border=\"1\" class=\"dataframe\">\n",
              "  <thead>\n",
              "    <tr style=\"text-align: right;\">\n",
              "      <th></th>\n",
              "      <th>one</th>\n",
              "      <th>two</th>\n",
              "      <th>three</th>\n",
              "      <th>four</th>\n",
              "    </tr>\n",
              "  </thead>\n",
              "  <tbody>\n",
              "    <tr>\n",
              "      <th>2014-11-02</th>\n",
              "      <td>0.165023</td>\n",
              "      <td>-0.508143</td>\n",
              "      <td>0.001456</td>\n",
              "      <td>0.643376</td>\n",
              "    </tr>\n",
              "    <tr>\n",
              "      <th>2014-11-03</th>\n",
              "      <td>0.429971</td>\n",
              "      <td>-0.848484</td>\n",
              "      <td>-1.025006</td>\n",
              "      <td>0.892447</td>\n",
              "    </tr>\n",
              "  </tbody>\n",
              "</table>\n",
              "</div>"
            ],
            "text/plain": [
              "                 one       two     three      four\n",
              "2014-11-02  0.165023 -0.508143  0.001456  0.643376\n",
              "2014-11-03  0.429971 -0.848484 -1.025006  0.892447"
            ]
          },
          "metadata": {
            "tags": []
          },
          "execution_count": 28
        }
      ]
    },
    {
      "cell_type": "markdown",
      "metadata": {
        "_cell_guid": "38c01dfe-f13a-4cef-bfed-b49e77eef480",
        "_uuid": "aa3ccb6ed055424381bdb3e41b97ea2f881d19db",
        "id": "PZZsY7FwA0-p",
        "colab_type": "text"
      },
      "source": [
        "For slicing columns explicitly"
      ]
    },
    {
      "cell_type": "code",
      "metadata": {
        "_cell_guid": "7a0bdd04-6670-4821-8328-3090827a13ed",
        "_uuid": "c14695bf9699073d68e0aeb63973a58bee51c57c",
        "id": "2hfHQlrkA0-q",
        "colab_type": "code",
        "colab": {
          "base_uri": "https://localhost:8080/",
          "height": 0
        },
        "outputId": "a495726c-905a-45f7-a153-1a8459a1efd2"
      },
      "source": [
        "df.iloc[:,1:3]"
      ],
      "execution_count": 29,
      "outputs": [
        {
          "output_type": "execute_result",
          "data": {
            "text/html": [
              "<div>\n",
              "<style scoped>\n",
              "    .dataframe tbody tr th:only-of-type {\n",
              "        vertical-align: middle;\n",
              "    }\n",
              "\n",
              "    .dataframe tbody tr th {\n",
              "        vertical-align: top;\n",
              "    }\n",
              "\n",
              "    .dataframe thead th {\n",
              "        text-align: right;\n",
              "    }\n",
              "</style>\n",
              "<table border=\"1\" class=\"dataframe\">\n",
              "  <thead>\n",
              "    <tr style=\"text-align: right;\">\n",
              "      <th></th>\n",
              "      <th>two</th>\n",
              "      <th>three</th>\n",
              "    </tr>\n",
              "  </thead>\n",
              "  <tbody>\n",
              "    <tr>\n",
              "      <th>2014-11-01</th>\n",
              "      <td>-0.603178</td>\n",
              "      <td>0.119375</td>\n",
              "    </tr>\n",
              "    <tr>\n",
              "      <th>2014-11-02</th>\n",
              "      <td>-0.508143</td>\n",
              "      <td>0.001456</td>\n",
              "    </tr>\n",
              "    <tr>\n",
              "      <th>2014-11-03</th>\n",
              "      <td>-0.848484</td>\n",
              "      <td>-1.025006</td>\n",
              "    </tr>\n",
              "    <tr>\n",
              "      <th>2014-11-04</th>\n",
              "      <td>-0.926630</td>\n",
              "      <td>-3.083885</td>\n",
              "    </tr>\n",
              "    <tr>\n",
              "      <th>2014-11-05</th>\n",
              "      <td>0.427070</td>\n",
              "      <td>0.466814</td>\n",
              "    </tr>\n",
              "    <tr>\n",
              "      <th>2014-11-06</th>\n",
              "      <td>-0.092560</td>\n",
              "      <td>1.550926</td>\n",
              "    </tr>\n",
              "  </tbody>\n",
              "</table>\n",
              "</div>"
            ],
            "text/plain": [
              "                 two     three\n",
              "2014-11-01 -0.603178  0.119375\n",
              "2014-11-02 -0.508143  0.001456\n",
              "2014-11-03 -0.848484 -1.025006\n",
              "2014-11-04 -0.926630 -3.083885\n",
              "2014-11-05  0.427070  0.466814\n",
              "2014-11-06 -0.092560  1.550926"
            ]
          },
          "metadata": {
            "tags": []
          },
          "execution_count": 29
        }
      ]
    },
    {
      "cell_type": "markdown",
      "metadata": {
        "_cell_guid": "c7526fcd-5d0f-41c0-946f-726fadd3d8cf",
        "_uuid": "728d45f365a6e58c4fe60caaec27170c956b47e5",
        "id": "jBWhdQrKA0-t",
        "colab_type": "text"
      },
      "source": [
        "For getting a value explicitly"
      ]
    },
    {
      "cell_type": "code",
      "metadata": {
        "_cell_guid": "32c6bb98-903a-45b1-b430-08d1b898e813",
        "_uuid": "8c824f1f3d44d8ed41b7b1328354863861ee9ef2",
        "id": "nJNr7qB9A0-u",
        "colab_type": "code",
        "colab": {
          "base_uri": "https://localhost:8080/",
          "height": 0
        },
        "outputId": "afa8a4a6-dd8f-4d32-b08f-edf7626d59bb"
      },
      "source": [
        "df.iloc[1,1]"
      ],
      "execution_count": 30,
      "outputs": [
        {
          "output_type": "execute_result",
          "data": {
            "text/plain": [
              "-0.5081429376858615"
            ]
          },
          "metadata": {
            "tags": []
          },
          "execution_count": 30
        }
      ]
    },
    {
      "cell_type": "markdown",
      "metadata": {
        "_cell_guid": "24a9bd7b-8362-4722-8aa2-0c2484163586",
        "_uuid": "9cc662005289530c6cf43b87dabd314a313ffde1",
        "id": "UjkPiEndA0-v",
        "colab_type": "text"
      },
      "source": [
        "For getting fast access to a scalar (equiv to the prior method)"
      ]
    },
    {
      "cell_type": "code",
      "metadata": {
        "_cell_guid": "2080b00d-b540-4bba-b8bc-682b80356290",
        "_uuid": "dfedfb75ff53703c78c0558f2822b01a0b8af49e",
        "id": "UlfOves6A0-w",
        "colab_type": "code",
        "colab": {
          "base_uri": "https://localhost:8080/",
          "height": 0
        },
        "outputId": "d1033484-592c-4fd1-c8a3-85c8cdea9eb3"
      },
      "source": [
        "df.iat[0,0]"
      ],
      "execution_count": 31,
      "outputs": [
        {
          "output_type": "execute_result",
          "data": {
            "text/plain": [
              "0.977332681076379"
            ]
          },
          "metadata": {
            "tags": []
          },
          "execution_count": 31
        }
      ]
    },
    {
      "cell_type": "markdown",
      "metadata": {
        "_cell_guid": "4205069b-9b81-4015-8113-80e5997ed02a",
        "_uuid": "1f65376861105ccf80d8230b7518ec631e869383",
        "id": "YgdRg2KvA0-y",
        "colab_type": "text"
      },
      "source": [
        "## Boolean Indexing\n",
        "Using a single column’s values to select data."
      ]
    },
    {
      "cell_type": "code",
      "metadata": {
        "_cell_guid": "b7d6f231-8fca-4b94-b4da-7e1077bfc1c6",
        "_uuid": "0897ab764824072dc3d6d45bc03c70f1f29c6833",
        "id": "ZaKSb_j1A0-z",
        "colab_type": "code",
        "colab": {
          "base_uri": "https://localhost:8080/",
          "height": 0
        },
        "outputId": "53437da0-45ea-4030-8bc6-5d2adceb2186"
      },
      "source": [
        "df[df.one > 0.5]"
      ],
      "execution_count": 32,
      "outputs": [
        {
          "output_type": "execute_result",
          "data": {
            "text/html": [
              "<div>\n",
              "<style scoped>\n",
              "    .dataframe tbody tr th:only-of-type {\n",
              "        vertical-align: middle;\n",
              "    }\n",
              "\n",
              "    .dataframe tbody tr th {\n",
              "        vertical-align: top;\n",
              "    }\n",
              "\n",
              "    .dataframe thead th {\n",
              "        text-align: right;\n",
              "    }\n",
              "</style>\n",
              "<table border=\"1\" class=\"dataframe\">\n",
              "  <thead>\n",
              "    <tr style=\"text-align: right;\">\n",
              "      <th></th>\n",
              "      <th>one</th>\n",
              "      <th>two</th>\n",
              "      <th>three</th>\n",
              "      <th>four</th>\n",
              "    </tr>\n",
              "  </thead>\n",
              "  <tbody>\n",
              "    <tr>\n",
              "      <th>2014-11-01</th>\n",
              "      <td>0.977333</td>\n",
              "      <td>-0.603178</td>\n",
              "      <td>0.119375</td>\n",
              "      <td>-0.44614</td>\n",
              "    </tr>\n",
              "  </tbody>\n",
              "</table>\n",
              "</div>"
            ],
            "text/plain": [
              "                 one       two     three     four\n",
              "2014-11-01  0.977333 -0.603178  0.119375 -0.44614"
            ]
          },
          "metadata": {
            "tags": []
          },
          "execution_count": 32
        }
      ]
    },
    {
      "cell_type": "markdown",
      "metadata": {
        "_cell_guid": "001075c2-f7be-4218-9683-ffa1f5d9240e",
        "_uuid": "4b70f057a80db995d082b8d30c54ba603fe2cb62",
        "id": "Sm2h2ABSA0-1",
        "colab_type": "text"
      },
      "source": [
        "Selecting values from a DataFrame where a boolean condition is met."
      ]
    },
    {
      "cell_type": "code",
      "metadata": {
        "_cell_guid": "01955ea3-17c6-4b0d-8d2e-cc5d654bb6cf",
        "_uuid": "8a6a6d699089df278c1436c28b9ff50c18e424ec",
        "id": "VGebWWblA0-1",
        "colab_type": "code",
        "colab": {
          "base_uri": "https://localhost:8080/",
          "height": 0
        },
        "outputId": "ca676537-c27d-4263-9a38-5b24bf66845c"
      },
      "source": [
        "df[df>0]"
      ],
      "execution_count": 33,
      "outputs": [
        {
          "output_type": "execute_result",
          "data": {
            "text/html": [
              "<div>\n",
              "<style scoped>\n",
              "    .dataframe tbody tr th:only-of-type {\n",
              "        vertical-align: middle;\n",
              "    }\n",
              "\n",
              "    .dataframe tbody tr th {\n",
              "        vertical-align: top;\n",
              "    }\n",
              "\n",
              "    .dataframe thead th {\n",
              "        text-align: right;\n",
              "    }\n",
              "</style>\n",
              "<table border=\"1\" class=\"dataframe\">\n",
              "  <thead>\n",
              "    <tr style=\"text-align: right;\">\n",
              "      <th></th>\n",
              "      <th>one</th>\n",
              "      <th>two</th>\n",
              "      <th>three</th>\n",
              "      <th>four</th>\n",
              "    </tr>\n",
              "  </thead>\n",
              "  <tbody>\n",
              "    <tr>\n",
              "      <th>2014-11-01</th>\n",
              "      <td>0.977333</td>\n",
              "      <td>NaN</td>\n",
              "      <td>0.119375</td>\n",
              "      <td>NaN</td>\n",
              "    </tr>\n",
              "    <tr>\n",
              "      <th>2014-11-02</th>\n",
              "      <td>0.165023</td>\n",
              "      <td>NaN</td>\n",
              "      <td>0.001456</td>\n",
              "      <td>0.643376</td>\n",
              "    </tr>\n",
              "    <tr>\n",
              "      <th>2014-11-03</th>\n",
              "      <td>0.429971</td>\n",
              "      <td>NaN</td>\n",
              "      <td>NaN</td>\n",
              "      <td>0.892447</td>\n",
              "    </tr>\n",
              "    <tr>\n",
              "      <th>2014-11-04</th>\n",
              "      <td>NaN</td>\n",
              "      <td>NaN</td>\n",
              "      <td>NaN</td>\n",
              "      <td>0.068161</td>\n",
              "    </tr>\n",
              "    <tr>\n",
              "      <th>2014-11-05</th>\n",
              "      <td>0.388456</td>\n",
              "      <td>0.42707</td>\n",
              "      <td>0.466814</td>\n",
              "      <td>0.622423</td>\n",
              "    </tr>\n",
              "    <tr>\n",
              "      <th>2014-11-06</th>\n",
              "      <td>NaN</td>\n",
              "      <td>NaN</td>\n",
              "      <td>1.550926</td>\n",
              "      <td>NaN</td>\n",
              "    </tr>\n",
              "  </tbody>\n",
              "</table>\n",
              "</div>"
            ],
            "text/plain": [
              "                 one      two     three      four\n",
              "2014-11-01  0.977333      NaN  0.119375       NaN\n",
              "2014-11-02  0.165023      NaN  0.001456  0.643376\n",
              "2014-11-03  0.429971      NaN       NaN  0.892447\n",
              "2014-11-04       NaN      NaN       NaN  0.068161\n",
              "2014-11-05  0.388456  0.42707  0.466814  0.622423\n",
              "2014-11-06       NaN      NaN  1.550926       NaN"
            ]
          },
          "metadata": {
            "tags": []
          },
          "execution_count": 33
        }
      ]
    },
    {
      "cell_type": "markdown",
      "metadata": {
        "_cell_guid": "0d9b0104-071e-4b67-a28c-af0a3b5298c5",
        "_uuid": "152e38c5f8c9b1623f719b3d733d4a7dd83d37bd",
        "id": "XJ0HOyFfA0-3",
        "colab_type": "text"
      },
      "source": [
        "Using the isin method for filtering:"
      ]
    },
    {
      "cell_type": "code",
      "metadata": {
        "_cell_guid": "81efdb26-8d6d-4d30-8095-0212e2068bd7",
        "_uuid": "ac6deb8efac6fea270befc2c5a444825de86a270",
        "id": "UnwF8wxSA0-3",
        "colab_type": "code",
        "colab": {
          "base_uri": "https://localhost:8080/",
          "height": 0
        },
        "outputId": "6ca62fe7-d339-4a5e-ce1c-99717e631b84"
      },
      "source": [
        "df2 = df.copy()\n",
        "df2['five'] = ['one', 'one','two','three','four','three']\n",
        "df2"
      ],
      "execution_count": 34,
      "outputs": [
        {
          "output_type": "execute_result",
          "data": {
            "text/html": [
              "<div>\n",
              "<style scoped>\n",
              "    .dataframe tbody tr th:only-of-type {\n",
              "        vertical-align: middle;\n",
              "    }\n",
              "\n",
              "    .dataframe tbody tr th {\n",
              "        vertical-align: top;\n",
              "    }\n",
              "\n",
              "    .dataframe thead th {\n",
              "        text-align: right;\n",
              "    }\n",
              "</style>\n",
              "<table border=\"1\" class=\"dataframe\">\n",
              "  <thead>\n",
              "    <tr style=\"text-align: right;\">\n",
              "      <th></th>\n",
              "      <th>one</th>\n",
              "      <th>two</th>\n",
              "      <th>three</th>\n",
              "      <th>four</th>\n",
              "      <th>five</th>\n",
              "    </tr>\n",
              "  </thead>\n",
              "  <tbody>\n",
              "    <tr>\n",
              "      <th>2014-11-01</th>\n",
              "      <td>0.977333</td>\n",
              "      <td>-0.603178</td>\n",
              "      <td>0.119375</td>\n",
              "      <td>-0.446140</td>\n",
              "      <td>one</td>\n",
              "    </tr>\n",
              "    <tr>\n",
              "      <th>2014-11-02</th>\n",
              "      <td>0.165023</td>\n",
              "      <td>-0.508143</td>\n",
              "      <td>0.001456</td>\n",
              "      <td>0.643376</td>\n",
              "      <td>one</td>\n",
              "    </tr>\n",
              "    <tr>\n",
              "      <th>2014-11-03</th>\n",
              "      <td>0.429971</td>\n",
              "      <td>-0.848484</td>\n",
              "      <td>-1.025006</td>\n",
              "      <td>0.892447</td>\n",
              "      <td>two</td>\n",
              "    </tr>\n",
              "    <tr>\n",
              "      <th>2014-11-04</th>\n",
              "      <td>-1.079263</td>\n",
              "      <td>-0.926630</td>\n",
              "      <td>-3.083885</td>\n",
              "      <td>0.068161</td>\n",
              "      <td>three</td>\n",
              "    </tr>\n",
              "    <tr>\n",
              "      <th>2014-11-05</th>\n",
              "      <td>0.388456</td>\n",
              "      <td>0.427070</td>\n",
              "      <td>0.466814</td>\n",
              "      <td>0.622423</td>\n",
              "      <td>four</td>\n",
              "    </tr>\n",
              "    <tr>\n",
              "      <th>2014-11-06</th>\n",
              "      <td>-0.693551</td>\n",
              "      <td>-0.092560</td>\n",
              "      <td>1.550926</td>\n",
              "      <td>-0.534368</td>\n",
              "      <td>three</td>\n",
              "    </tr>\n",
              "  </tbody>\n",
              "</table>\n",
              "</div>"
            ],
            "text/plain": [
              "                 one       two     three      four   five\n",
              "2014-11-01  0.977333 -0.603178  0.119375 -0.446140    one\n",
              "2014-11-02  0.165023 -0.508143  0.001456  0.643376    one\n",
              "2014-11-03  0.429971 -0.848484 -1.025006  0.892447    two\n",
              "2014-11-04 -1.079263 -0.926630 -3.083885  0.068161  three\n",
              "2014-11-05  0.388456  0.427070  0.466814  0.622423   four\n",
              "2014-11-06 -0.693551 -0.092560  1.550926 -0.534368  three"
            ]
          },
          "metadata": {
            "tags": []
          },
          "execution_count": 34
        }
      ]
    },
    {
      "cell_type": "code",
      "metadata": {
        "_cell_guid": "b8a6507a-ab97-4884-ad6b-86ce08b562b1",
        "_uuid": "1057b0c34eae282d8b234583497a6e9d53a254f5",
        "id": "svaRODfRA0-5",
        "colab_type": "code",
        "colab": {
          "base_uri": "https://localhost:8080/",
          "height": 0
        },
        "outputId": "90387df8-170f-4af5-abc2-b41f8b61f902"
      },
      "source": [
        "df2[df2['five'].isin(['two','four'])]"
      ],
      "execution_count": 35,
      "outputs": [
        {
          "output_type": "execute_result",
          "data": {
            "text/html": [
              "<div>\n",
              "<style scoped>\n",
              "    .dataframe tbody tr th:only-of-type {\n",
              "        vertical-align: middle;\n",
              "    }\n",
              "\n",
              "    .dataframe tbody tr th {\n",
              "        vertical-align: top;\n",
              "    }\n",
              "\n",
              "    .dataframe thead th {\n",
              "        text-align: right;\n",
              "    }\n",
              "</style>\n",
              "<table border=\"1\" class=\"dataframe\">\n",
              "  <thead>\n",
              "    <tr style=\"text-align: right;\">\n",
              "      <th></th>\n",
              "      <th>one</th>\n",
              "      <th>two</th>\n",
              "      <th>three</th>\n",
              "      <th>four</th>\n",
              "      <th>five</th>\n",
              "    </tr>\n",
              "  </thead>\n",
              "  <tbody>\n",
              "    <tr>\n",
              "      <th>2014-11-03</th>\n",
              "      <td>0.429971</td>\n",
              "      <td>-0.848484</td>\n",
              "      <td>-1.025006</td>\n",
              "      <td>0.892447</td>\n",
              "      <td>two</td>\n",
              "    </tr>\n",
              "    <tr>\n",
              "      <th>2014-11-05</th>\n",
              "      <td>0.388456</td>\n",
              "      <td>0.427070</td>\n",
              "      <td>0.466814</td>\n",
              "      <td>0.622423</td>\n",
              "      <td>four</td>\n",
              "    </tr>\n",
              "  </tbody>\n",
              "</table>\n",
              "</div>"
            ],
            "text/plain": [
              "                 one       two     three      four  five\n",
              "2014-11-03  0.429971 -0.848484 -1.025006  0.892447   two\n",
              "2014-11-05  0.388456  0.427070  0.466814  0.622423  four"
            ]
          },
          "metadata": {
            "tags": []
          },
          "execution_count": 35
        }
      ]
    },
    {
      "cell_type": "markdown",
      "metadata": {
        "_cell_guid": "b6eff184-f774-4668-a5fa-2eb792a8ee19",
        "_uuid": "36dc62173e385467dca8e0b12398ce00cd3bc7c9",
        "id": "rVum5ytNA0-7",
        "colab_type": "text"
      },
      "source": [
        "## Setting\n",
        "Setting a new column automatically aligns the data by the indexes"
      ]
    },
    {
      "cell_type": "code",
      "metadata": {
        "_cell_guid": "4d61f140-af66-4b4c-9296-17e243bf4991",
        "_uuid": "c0f9338b687ee3fb7b535f772955de1cb232e10e",
        "id": "-cLLoMeCA0-8",
        "colab_type": "code",
        "colab": {
          "base_uri": "https://localhost:8080/",
          "height": 0
        },
        "outputId": "178c101e-780e-4211-8010-97d24e7e7658"
      },
      "source": [
        "s1 = pd.Series([1,2,3,4,5,6], index=pd.date_range('20141101', periods=6))\n",
        "s1"
      ],
      "execution_count": 36,
      "outputs": [
        {
          "output_type": "execute_result",
          "data": {
            "text/plain": [
              "2014-11-01    1\n",
              "2014-11-02    2\n",
              "2014-11-03    3\n",
              "2014-11-04    4\n",
              "2014-11-05    5\n",
              "2014-11-06    6\n",
              "Freq: D, dtype: int64"
            ]
          },
          "metadata": {
            "tags": []
          },
          "execution_count": 36
        }
      ]
    },
    {
      "cell_type": "code",
      "metadata": {
        "_cell_guid": "ef2e599f-68db-48c8-b750-e8f5143fe407",
        "_uuid": "6f01ca50121e0d9289c675ea6de02a716ae66dfb",
        "id": "4_SyFAjUA0--",
        "colab_type": "code",
        "colab": {
          "base_uri": "https://localhost:8080/",
          "height": 0
        },
        "outputId": "817e16b7-4eb1-4f6d-efe4-e9e5e6d6e201"
      },
      "source": [
        "df['six'] = s1\n",
        "df"
      ],
      "execution_count": 37,
      "outputs": [
        {
          "output_type": "execute_result",
          "data": {
            "text/html": [
              "<div>\n",
              "<style scoped>\n",
              "    .dataframe tbody tr th:only-of-type {\n",
              "        vertical-align: middle;\n",
              "    }\n",
              "\n",
              "    .dataframe tbody tr th {\n",
              "        vertical-align: top;\n",
              "    }\n",
              "\n",
              "    .dataframe thead th {\n",
              "        text-align: right;\n",
              "    }\n",
              "</style>\n",
              "<table border=\"1\" class=\"dataframe\">\n",
              "  <thead>\n",
              "    <tr style=\"text-align: right;\">\n",
              "      <th></th>\n",
              "      <th>one</th>\n",
              "      <th>two</th>\n",
              "      <th>three</th>\n",
              "      <th>four</th>\n",
              "      <th>six</th>\n",
              "    </tr>\n",
              "  </thead>\n",
              "  <tbody>\n",
              "    <tr>\n",
              "      <th>2014-11-01</th>\n",
              "      <td>0.977333</td>\n",
              "      <td>-0.603178</td>\n",
              "      <td>0.119375</td>\n",
              "      <td>-0.446140</td>\n",
              "      <td>1</td>\n",
              "    </tr>\n",
              "    <tr>\n",
              "      <th>2014-11-02</th>\n",
              "      <td>0.165023</td>\n",
              "      <td>-0.508143</td>\n",
              "      <td>0.001456</td>\n",
              "      <td>0.643376</td>\n",
              "      <td>2</td>\n",
              "    </tr>\n",
              "    <tr>\n",
              "      <th>2014-11-03</th>\n",
              "      <td>0.429971</td>\n",
              "      <td>-0.848484</td>\n",
              "      <td>-1.025006</td>\n",
              "      <td>0.892447</td>\n",
              "      <td>3</td>\n",
              "    </tr>\n",
              "    <tr>\n",
              "      <th>2014-11-04</th>\n",
              "      <td>-1.079263</td>\n",
              "      <td>-0.926630</td>\n",
              "      <td>-3.083885</td>\n",
              "      <td>0.068161</td>\n",
              "      <td>4</td>\n",
              "    </tr>\n",
              "    <tr>\n",
              "      <th>2014-11-05</th>\n",
              "      <td>0.388456</td>\n",
              "      <td>0.427070</td>\n",
              "      <td>0.466814</td>\n",
              "      <td>0.622423</td>\n",
              "      <td>5</td>\n",
              "    </tr>\n",
              "    <tr>\n",
              "      <th>2014-11-06</th>\n",
              "      <td>-0.693551</td>\n",
              "      <td>-0.092560</td>\n",
              "      <td>1.550926</td>\n",
              "      <td>-0.534368</td>\n",
              "      <td>6</td>\n",
              "    </tr>\n",
              "  </tbody>\n",
              "</table>\n",
              "</div>"
            ],
            "text/plain": [
              "                 one       two     three      four  six\n",
              "2014-11-01  0.977333 -0.603178  0.119375 -0.446140    1\n",
              "2014-11-02  0.165023 -0.508143  0.001456  0.643376    2\n",
              "2014-11-03  0.429971 -0.848484 -1.025006  0.892447    3\n",
              "2014-11-04 -1.079263 -0.926630 -3.083885  0.068161    4\n",
              "2014-11-05  0.388456  0.427070  0.466814  0.622423    5\n",
              "2014-11-06 -0.693551 -0.092560  1.550926 -0.534368    6"
            ]
          },
          "metadata": {
            "tags": []
          },
          "execution_count": 37
        }
      ]
    },
    {
      "cell_type": "markdown",
      "metadata": {
        "_cell_guid": "360096be-309b-4cc7-8ecb-d23721cb14a2",
        "_uuid": "ae8946ddaffc0e88adab4a082e2ffd2252700078",
        "id": "lIDbyT7IA0_A",
        "colab_type": "text"
      },
      "source": [
        "Setting values by label:"
      ]
    },
    {
      "cell_type": "code",
      "metadata": {
        "_cell_guid": "a3acd34a-8443-4d9a-83e7-8b98dc75ba63",
        "_uuid": "190aff49aae8c1396239b406e9909e62de82c0b3",
        "id": "6LUWjKxNA0_A",
        "colab_type": "code",
        "colab": {
          "base_uri": "https://localhost:8080/",
          "height": 0
        },
        "outputId": "a40be56f-bd41-429d-cf1d-604c7ca35a80"
      },
      "source": [
        "df.at[dates[0],'one'] = 0\n",
        "df"
      ],
      "execution_count": 38,
      "outputs": [
        {
          "output_type": "execute_result",
          "data": {
            "text/html": [
              "<div>\n",
              "<style scoped>\n",
              "    .dataframe tbody tr th:only-of-type {\n",
              "        vertical-align: middle;\n",
              "    }\n",
              "\n",
              "    .dataframe tbody tr th {\n",
              "        vertical-align: top;\n",
              "    }\n",
              "\n",
              "    .dataframe thead th {\n",
              "        text-align: right;\n",
              "    }\n",
              "</style>\n",
              "<table border=\"1\" class=\"dataframe\">\n",
              "  <thead>\n",
              "    <tr style=\"text-align: right;\">\n",
              "      <th></th>\n",
              "      <th>one</th>\n",
              "      <th>two</th>\n",
              "      <th>three</th>\n",
              "      <th>four</th>\n",
              "      <th>six</th>\n",
              "    </tr>\n",
              "  </thead>\n",
              "  <tbody>\n",
              "    <tr>\n",
              "      <th>2014-11-01</th>\n",
              "      <td>0.000000</td>\n",
              "      <td>-0.603178</td>\n",
              "      <td>0.119375</td>\n",
              "      <td>-0.446140</td>\n",
              "      <td>1</td>\n",
              "    </tr>\n",
              "    <tr>\n",
              "      <th>2014-11-02</th>\n",
              "      <td>0.165023</td>\n",
              "      <td>-0.508143</td>\n",
              "      <td>0.001456</td>\n",
              "      <td>0.643376</td>\n",
              "      <td>2</td>\n",
              "    </tr>\n",
              "    <tr>\n",
              "      <th>2014-11-03</th>\n",
              "      <td>0.429971</td>\n",
              "      <td>-0.848484</td>\n",
              "      <td>-1.025006</td>\n",
              "      <td>0.892447</td>\n",
              "      <td>3</td>\n",
              "    </tr>\n",
              "    <tr>\n",
              "      <th>2014-11-04</th>\n",
              "      <td>-1.079263</td>\n",
              "      <td>-0.926630</td>\n",
              "      <td>-3.083885</td>\n",
              "      <td>0.068161</td>\n",
              "      <td>4</td>\n",
              "    </tr>\n",
              "    <tr>\n",
              "      <th>2014-11-05</th>\n",
              "      <td>0.388456</td>\n",
              "      <td>0.427070</td>\n",
              "      <td>0.466814</td>\n",
              "      <td>0.622423</td>\n",
              "      <td>5</td>\n",
              "    </tr>\n",
              "    <tr>\n",
              "      <th>2014-11-06</th>\n",
              "      <td>-0.693551</td>\n",
              "      <td>-0.092560</td>\n",
              "      <td>1.550926</td>\n",
              "      <td>-0.534368</td>\n",
              "      <td>6</td>\n",
              "    </tr>\n",
              "  </tbody>\n",
              "</table>\n",
              "</div>"
            ],
            "text/plain": [
              "                 one       two     three      four  six\n",
              "2014-11-01  0.000000 -0.603178  0.119375 -0.446140    1\n",
              "2014-11-02  0.165023 -0.508143  0.001456  0.643376    2\n",
              "2014-11-03  0.429971 -0.848484 -1.025006  0.892447    3\n",
              "2014-11-04 -1.079263 -0.926630 -3.083885  0.068161    4\n",
              "2014-11-05  0.388456  0.427070  0.466814  0.622423    5\n",
              "2014-11-06 -0.693551 -0.092560  1.550926 -0.534368    6"
            ]
          },
          "metadata": {
            "tags": []
          },
          "execution_count": 38
        }
      ]
    },
    {
      "cell_type": "markdown",
      "metadata": {
        "_cell_guid": "0da27b58-8d50-424c-85a5-a13606a93e8a",
        "_uuid": "2b4a495f12e347c3d5b6db4951766e7390dc516f",
        "id": "C8rhHQ7eA0_E",
        "colab_type": "text"
      },
      "source": [
        "Setting values by position:"
      ]
    },
    {
      "cell_type": "code",
      "metadata": {
        "_cell_guid": "a6891c06-b41e-440a-a15e-8e80bedef5fe",
        "_uuid": "1500650883a2caeaf0d0cb3c1895bb305fa58eb7",
        "id": "5mCZRdnMA0_E",
        "colab_type": "code",
        "colab": {
          "base_uri": "https://localhost:8080/",
          "height": 0
        },
        "outputId": "27f8531f-b8b7-4227-fbad-83e22b4a3b4a"
      },
      "source": [
        "df.iat[0,1] = 0\n",
        "df"
      ],
      "execution_count": 39,
      "outputs": [
        {
          "output_type": "execute_result",
          "data": {
            "text/html": [
              "<div>\n",
              "<style scoped>\n",
              "    .dataframe tbody tr th:only-of-type {\n",
              "        vertical-align: middle;\n",
              "    }\n",
              "\n",
              "    .dataframe tbody tr th {\n",
              "        vertical-align: top;\n",
              "    }\n",
              "\n",
              "    .dataframe thead th {\n",
              "        text-align: right;\n",
              "    }\n",
              "</style>\n",
              "<table border=\"1\" class=\"dataframe\">\n",
              "  <thead>\n",
              "    <tr style=\"text-align: right;\">\n",
              "      <th></th>\n",
              "      <th>one</th>\n",
              "      <th>two</th>\n",
              "      <th>three</th>\n",
              "      <th>four</th>\n",
              "      <th>six</th>\n",
              "    </tr>\n",
              "  </thead>\n",
              "  <tbody>\n",
              "    <tr>\n",
              "      <th>2014-11-01</th>\n",
              "      <td>0.000000</td>\n",
              "      <td>0.000000</td>\n",
              "      <td>0.119375</td>\n",
              "      <td>-0.446140</td>\n",
              "      <td>1</td>\n",
              "    </tr>\n",
              "    <tr>\n",
              "      <th>2014-11-02</th>\n",
              "      <td>0.165023</td>\n",
              "      <td>-0.508143</td>\n",
              "      <td>0.001456</td>\n",
              "      <td>0.643376</td>\n",
              "      <td>2</td>\n",
              "    </tr>\n",
              "    <tr>\n",
              "      <th>2014-11-03</th>\n",
              "      <td>0.429971</td>\n",
              "      <td>-0.848484</td>\n",
              "      <td>-1.025006</td>\n",
              "      <td>0.892447</td>\n",
              "      <td>3</td>\n",
              "    </tr>\n",
              "    <tr>\n",
              "      <th>2014-11-04</th>\n",
              "      <td>-1.079263</td>\n",
              "      <td>-0.926630</td>\n",
              "      <td>-3.083885</td>\n",
              "      <td>0.068161</td>\n",
              "      <td>4</td>\n",
              "    </tr>\n",
              "    <tr>\n",
              "      <th>2014-11-05</th>\n",
              "      <td>0.388456</td>\n",
              "      <td>0.427070</td>\n",
              "      <td>0.466814</td>\n",
              "      <td>0.622423</td>\n",
              "      <td>5</td>\n",
              "    </tr>\n",
              "    <tr>\n",
              "      <th>2014-11-06</th>\n",
              "      <td>-0.693551</td>\n",
              "      <td>-0.092560</td>\n",
              "      <td>1.550926</td>\n",
              "      <td>-0.534368</td>\n",
              "      <td>6</td>\n",
              "    </tr>\n",
              "  </tbody>\n",
              "</table>\n",
              "</div>"
            ],
            "text/plain": [
              "                 one       two     three      four  six\n",
              "2014-11-01  0.000000  0.000000  0.119375 -0.446140    1\n",
              "2014-11-02  0.165023 -0.508143  0.001456  0.643376    2\n",
              "2014-11-03  0.429971 -0.848484 -1.025006  0.892447    3\n",
              "2014-11-04 -1.079263 -0.926630 -3.083885  0.068161    4\n",
              "2014-11-05  0.388456  0.427070  0.466814  0.622423    5\n",
              "2014-11-06 -0.693551 -0.092560  1.550926 -0.534368    6"
            ]
          },
          "metadata": {
            "tags": []
          },
          "execution_count": 39
        }
      ]
    },
    {
      "cell_type": "code",
      "metadata": {
        "_cell_guid": "1e8225cf-4459-4cb4-98ef-a32d09c382e2",
        "_uuid": "6993b6c151f135cc7a965730c4c572775cbd8a01",
        "id": "9AANTBrcA0_G",
        "colab_type": "code",
        "colab": {
          "base_uri": "https://localhost:8080/",
          "height": 0
        },
        "outputId": "3e42ec22-6bae-4306-f9fa-08310999e80b"
      },
      "source": [
        "df.loc[:,'four'] = np.array([5] * len(df))\n",
        "df"
      ],
      "execution_count": 40,
      "outputs": [
        {
          "output_type": "execute_result",
          "data": {
            "text/html": [
              "<div>\n",
              "<style scoped>\n",
              "    .dataframe tbody tr th:only-of-type {\n",
              "        vertical-align: middle;\n",
              "    }\n",
              "\n",
              "    .dataframe tbody tr th {\n",
              "        vertical-align: top;\n",
              "    }\n",
              "\n",
              "    .dataframe thead th {\n",
              "        text-align: right;\n",
              "    }\n",
              "</style>\n",
              "<table border=\"1\" class=\"dataframe\">\n",
              "  <thead>\n",
              "    <tr style=\"text-align: right;\">\n",
              "      <th></th>\n",
              "      <th>one</th>\n",
              "      <th>two</th>\n",
              "      <th>three</th>\n",
              "      <th>four</th>\n",
              "      <th>six</th>\n",
              "    </tr>\n",
              "  </thead>\n",
              "  <tbody>\n",
              "    <tr>\n",
              "      <th>2014-11-01</th>\n",
              "      <td>0.000000</td>\n",
              "      <td>0.000000</td>\n",
              "      <td>0.119375</td>\n",
              "      <td>5</td>\n",
              "      <td>1</td>\n",
              "    </tr>\n",
              "    <tr>\n",
              "      <th>2014-11-02</th>\n",
              "      <td>0.165023</td>\n",
              "      <td>-0.508143</td>\n",
              "      <td>0.001456</td>\n",
              "      <td>5</td>\n",
              "      <td>2</td>\n",
              "    </tr>\n",
              "    <tr>\n",
              "      <th>2014-11-03</th>\n",
              "      <td>0.429971</td>\n",
              "      <td>-0.848484</td>\n",
              "      <td>-1.025006</td>\n",
              "      <td>5</td>\n",
              "      <td>3</td>\n",
              "    </tr>\n",
              "    <tr>\n",
              "      <th>2014-11-04</th>\n",
              "      <td>-1.079263</td>\n",
              "      <td>-0.926630</td>\n",
              "      <td>-3.083885</td>\n",
              "      <td>5</td>\n",
              "      <td>4</td>\n",
              "    </tr>\n",
              "    <tr>\n",
              "      <th>2014-11-05</th>\n",
              "      <td>0.388456</td>\n",
              "      <td>0.427070</td>\n",
              "      <td>0.466814</td>\n",
              "      <td>5</td>\n",
              "      <td>5</td>\n",
              "    </tr>\n",
              "    <tr>\n",
              "      <th>2014-11-06</th>\n",
              "      <td>-0.693551</td>\n",
              "      <td>-0.092560</td>\n",
              "      <td>1.550926</td>\n",
              "      <td>5</td>\n",
              "      <td>6</td>\n",
              "    </tr>\n",
              "  </tbody>\n",
              "</table>\n",
              "</div>"
            ],
            "text/plain": [
              "                 one       two     three  four  six\n",
              "2014-11-01  0.000000  0.000000  0.119375     5    1\n",
              "2014-11-02  0.165023 -0.508143  0.001456     5    2\n",
              "2014-11-03  0.429971 -0.848484 -1.025006     5    3\n",
              "2014-11-04 -1.079263 -0.926630 -3.083885     5    4\n",
              "2014-11-05  0.388456  0.427070  0.466814     5    5\n",
              "2014-11-06 -0.693551 -0.092560  1.550926     5    6"
            ]
          },
          "metadata": {
            "tags": []
          },
          "execution_count": 40
        }
      ]
    },
    {
      "cell_type": "markdown",
      "metadata": {
        "_cell_guid": "5ac1ed59-30d2-41c3-883c-bb96634f4830",
        "_uuid": "1f0389c283d54453415ca78a3eafc8d127ba2893",
        "id": "0Y9zYvqQA0_I",
        "colab_type": "text"
      },
      "source": [
        "A where operation with setting."
      ]
    },
    {
      "cell_type": "code",
      "metadata": {
        "_cell_guid": "7108c375-08f9-4402-9f39-7e68f3ac929f",
        "_uuid": "783d37539e38075c324ebd1c29689211afb66a03",
        "id": "f1Es_Ra6A0_J",
        "colab_type": "code",
        "colab": {
          "base_uri": "https://localhost:8080/",
          "height": 0
        },
        "outputId": "581472d4-572f-4e71-8974-913da3c72677"
      },
      "source": [
        "df2 = df.copy()\n",
        "df2[df2 > 0] = -df2\n",
        "df2"
      ],
      "execution_count": 41,
      "outputs": [
        {
          "output_type": "execute_result",
          "data": {
            "text/html": [
              "<div>\n",
              "<style scoped>\n",
              "    .dataframe tbody tr th:only-of-type {\n",
              "        vertical-align: middle;\n",
              "    }\n",
              "\n",
              "    .dataframe tbody tr th {\n",
              "        vertical-align: top;\n",
              "    }\n",
              "\n",
              "    .dataframe thead th {\n",
              "        text-align: right;\n",
              "    }\n",
              "</style>\n",
              "<table border=\"1\" class=\"dataframe\">\n",
              "  <thead>\n",
              "    <tr style=\"text-align: right;\">\n",
              "      <th></th>\n",
              "      <th>one</th>\n",
              "      <th>two</th>\n",
              "      <th>three</th>\n",
              "      <th>four</th>\n",
              "      <th>six</th>\n",
              "    </tr>\n",
              "  </thead>\n",
              "  <tbody>\n",
              "    <tr>\n",
              "      <th>2014-11-01</th>\n",
              "      <td>0.000000</td>\n",
              "      <td>0.000000</td>\n",
              "      <td>-0.119375</td>\n",
              "      <td>-5</td>\n",
              "      <td>-1</td>\n",
              "    </tr>\n",
              "    <tr>\n",
              "      <th>2014-11-02</th>\n",
              "      <td>-0.165023</td>\n",
              "      <td>-0.508143</td>\n",
              "      <td>-0.001456</td>\n",
              "      <td>-5</td>\n",
              "      <td>-2</td>\n",
              "    </tr>\n",
              "    <tr>\n",
              "      <th>2014-11-03</th>\n",
              "      <td>-0.429971</td>\n",
              "      <td>-0.848484</td>\n",
              "      <td>-1.025006</td>\n",
              "      <td>-5</td>\n",
              "      <td>-3</td>\n",
              "    </tr>\n",
              "    <tr>\n",
              "      <th>2014-11-04</th>\n",
              "      <td>-1.079263</td>\n",
              "      <td>-0.926630</td>\n",
              "      <td>-3.083885</td>\n",
              "      <td>-5</td>\n",
              "      <td>-4</td>\n",
              "    </tr>\n",
              "    <tr>\n",
              "      <th>2014-11-05</th>\n",
              "      <td>-0.388456</td>\n",
              "      <td>-0.427070</td>\n",
              "      <td>-0.466814</td>\n",
              "      <td>-5</td>\n",
              "      <td>-5</td>\n",
              "    </tr>\n",
              "    <tr>\n",
              "      <th>2014-11-06</th>\n",
              "      <td>-0.693551</td>\n",
              "      <td>-0.092560</td>\n",
              "      <td>-1.550926</td>\n",
              "      <td>-5</td>\n",
              "      <td>-6</td>\n",
              "    </tr>\n",
              "  </tbody>\n",
              "</table>\n",
              "</div>"
            ],
            "text/plain": [
              "                 one       two     three  four  six\n",
              "2014-11-01  0.000000  0.000000 -0.119375    -5   -1\n",
              "2014-11-02 -0.165023 -0.508143 -0.001456    -5   -2\n",
              "2014-11-03 -0.429971 -0.848484 -1.025006    -5   -3\n",
              "2014-11-04 -1.079263 -0.926630 -3.083885    -5   -4\n",
              "2014-11-05 -0.388456 -0.427070 -0.466814    -5   -5\n",
              "2014-11-06 -0.693551 -0.092560 -1.550926    -5   -6"
            ]
          },
          "metadata": {
            "tags": []
          },
          "execution_count": 41
        }
      ]
    },
    {
      "cell_type": "markdown",
      "metadata": {
        "_cell_guid": "4bab0a44-3ea1-4817-ae0e-233d159e74e5",
        "collapsed": true,
        "_uuid": "5481ab3311350209e065b43c612af4b85bee6a1d",
        "id": "z5PYv1IoA0_M",
        "colab_type": "text"
      },
      "source": [
        "## Missing Data\n",
        "pandas primarily uses the value np.nan to represent missing data. It is by default not included in computations. See the [Missing Data section](https://pandas.pydata.org/pandas-docs/stable/missing_data.html#missing-data)\n",
        "\n",
        "Reindexing allows you to change/add/delete the index on a specified axis. This returns a copy of the data."
      ]
    },
    {
      "cell_type": "code",
      "metadata": {
        "_cell_guid": "8ea992cf-a44c-48ba-8c29-772a76a62e25",
        "_uuid": "b34287e42a0e574b9ada0dd0660e7610bde2a4a2",
        "id": "96F2Ix_pA0_M",
        "colab_type": "code",
        "colab": {
          "base_uri": "https://localhost:8080/",
          "height": 0
        },
        "outputId": "55846be1-1a30-4cc5-9787-f3d1a8f01cba"
      },
      "source": [
        "df1 = df.reindex(index=dates[0:4], columns=list(df.columns) + ['E'])\n",
        "df1.loc[dates[0]:dates[1],'E'] = 1\n",
        "df1"
      ],
      "execution_count": 42,
      "outputs": [
        {
          "output_type": "execute_result",
          "data": {
            "text/html": [
              "<div>\n",
              "<style scoped>\n",
              "    .dataframe tbody tr th:only-of-type {\n",
              "        vertical-align: middle;\n",
              "    }\n",
              "\n",
              "    .dataframe tbody tr th {\n",
              "        vertical-align: top;\n",
              "    }\n",
              "\n",
              "    .dataframe thead th {\n",
              "        text-align: right;\n",
              "    }\n",
              "</style>\n",
              "<table border=\"1\" class=\"dataframe\">\n",
              "  <thead>\n",
              "    <tr style=\"text-align: right;\">\n",
              "      <th></th>\n",
              "      <th>one</th>\n",
              "      <th>two</th>\n",
              "      <th>three</th>\n",
              "      <th>four</th>\n",
              "      <th>six</th>\n",
              "      <th>E</th>\n",
              "    </tr>\n",
              "  </thead>\n",
              "  <tbody>\n",
              "    <tr>\n",
              "      <th>2014-11-01</th>\n",
              "      <td>0.000000</td>\n",
              "      <td>0.000000</td>\n",
              "      <td>0.119375</td>\n",
              "      <td>5</td>\n",
              "      <td>1</td>\n",
              "      <td>1.0</td>\n",
              "    </tr>\n",
              "    <tr>\n",
              "      <th>2014-11-02</th>\n",
              "      <td>0.165023</td>\n",
              "      <td>-0.508143</td>\n",
              "      <td>0.001456</td>\n",
              "      <td>5</td>\n",
              "      <td>2</td>\n",
              "      <td>1.0</td>\n",
              "    </tr>\n",
              "    <tr>\n",
              "      <th>2014-11-03</th>\n",
              "      <td>0.429971</td>\n",
              "      <td>-0.848484</td>\n",
              "      <td>-1.025006</td>\n",
              "      <td>5</td>\n",
              "      <td>3</td>\n",
              "      <td>NaN</td>\n",
              "    </tr>\n",
              "    <tr>\n",
              "      <th>2014-11-04</th>\n",
              "      <td>-1.079263</td>\n",
              "      <td>-0.926630</td>\n",
              "      <td>-3.083885</td>\n",
              "      <td>5</td>\n",
              "      <td>4</td>\n",
              "      <td>NaN</td>\n",
              "    </tr>\n",
              "  </tbody>\n",
              "</table>\n",
              "</div>"
            ],
            "text/plain": [
              "                 one       two     three  four  six    E\n",
              "2014-11-01  0.000000  0.000000  0.119375     5    1  1.0\n",
              "2014-11-02  0.165023 -0.508143  0.001456     5    2  1.0\n",
              "2014-11-03  0.429971 -0.848484 -1.025006     5    3  NaN\n",
              "2014-11-04 -1.079263 -0.926630 -3.083885     5    4  NaN"
            ]
          },
          "metadata": {
            "tags": []
          },
          "execution_count": 42
        }
      ]
    },
    {
      "cell_type": "markdown",
      "metadata": {
        "_cell_guid": "7e0319e8-fc11-4556-a0e6-4bc520b2179f",
        "_uuid": "46eaf209fd3122be95d2ef0804dc8bd665794205",
        "id": "-FKh3MMdA0_O",
        "colab_type": "text"
      },
      "source": [
        "To drop any rows that have missing data:"
      ]
    },
    {
      "cell_type": "code",
      "metadata": {
        "_cell_guid": "9c118c95-34b0-4a03-9ae6-4a4e2fb3ab52",
        "_uuid": "be778687edde438a54f9378d59f532c9fe9d87da",
        "id": "KXl-WizRA0_P",
        "colab_type": "code",
        "colab": {
          "base_uri": "https://localhost:8080/",
          "height": 0
        },
        "outputId": "603e5ad1-f69e-4615-f67f-1a2cb8865537"
      },
      "source": [
        "df1.dropna(how='any')"
      ],
      "execution_count": 43,
      "outputs": [
        {
          "output_type": "execute_result",
          "data": {
            "text/html": [
              "<div>\n",
              "<style scoped>\n",
              "    .dataframe tbody tr th:only-of-type {\n",
              "        vertical-align: middle;\n",
              "    }\n",
              "\n",
              "    .dataframe tbody tr th {\n",
              "        vertical-align: top;\n",
              "    }\n",
              "\n",
              "    .dataframe thead th {\n",
              "        text-align: right;\n",
              "    }\n",
              "</style>\n",
              "<table border=\"1\" class=\"dataframe\">\n",
              "  <thead>\n",
              "    <tr style=\"text-align: right;\">\n",
              "      <th></th>\n",
              "      <th>one</th>\n",
              "      <th>two</th>\n",
              "      <th>three</th>\n",
              "      <th>four</th>\n",
              "      <th>six</th>\n",
              "      <th>E</th>\n",
              "    </tr>\n",
              "  </thead>\n",
              "  <tbody>\n",
              "    <tr>\n",
              "      <th>2014-11-01</th>\n",
              "      <td>0.000000</td>\n",
              "      <td>0.000000</td>\n",
              "      <td>0.119375</td>\n",
              "      <td>5</td>\n",
              "      <td>1</td>\n",
              "      <td>1.0</td>\n",
              "    </tr>\n",
              "    <tr>\n",
              "      <th>2014-11-02</th>\n",
              "      <td>0.165023</td>\n",
              "      <td>-0.508143</td>\n",
              "      <td>0.001456</td>\n",
              "      <td>5</td>\n",
              "      <td>2</td>\n",
              "      <td>1.0</td>\n",
              "    </tr>\n",
              "  </tbody>\n",
              "</table>\n",
              "</div>"
            ],
            "text/plain": [
              "                 one       two     three  four  six    E\n",
              "2014-11-01  0.000000  0.000000  0.119375     5    1  1.0\n",
              "2014-11-02  0.165023 -0.508143  0.001456     5    2  1.0"
            ]
          },
          "metadata": {
            "tags": []
          },
          "execution_count": 43
        }
      ]
    },
    {
      "cell_type": "markdown",
      "metadata": {
        "_cell_guid": "b833f8bd-684d-42d6-babb-6a2d02257757",
        "_uuid": "8a107a35dfb6b1f888a3760b1ddc1a2fc8ef1eae",
        "id": "26h8Gp3tA0_Q",
        "colab_type": "text"
      },
      "source": [
        "Filling missing data:"
      ]
    },
    {
      "cell_type": "code",
      "metadata": {
        "_cell_guid": "f2521f7e-c916-4de2-abb5-c9c5ebebc600",
        "_uuid": "a5089cfe6c94a390800d4ebc997f143f5c000e8e",
        "id": "pX4Pqtz8A0_R",
        "colab_type": "code",
        "colab": {
          "base_uri": "https://localhost:8080/",
          "height": 0
        },
        "outputId": "da4b8b68-5cb0-4fd9-eb64-c292cc3c9d14"
      },
      "source": [
        "df1.fillna(value=5)"
      ],
      "execution_count": 44,
      "outputs": [
        {
          "output_type": "execute_result",
          "data": {
            "text/html": [
              "<div>\n",
              "<style scoped>\n",
              "    .dataframe tbody tr th:only-of-type {\n",
              "        vertical-align: middle;\n",
              "    }\n",
              "\n",
              "    .dataframe tbody tr th {\n",
              "        vertical-align: top;\n",
              "    }\n",
              "\n",
              "    .dataframe thead th {\n",
              "        text-align: right;\n",
              "    }\n",
              "</style>\n",
              "<table border=\"1\" class=\"dataframe\">\n",
              "  <thead>\n",
              "    <tr style=\"text-align: right;\">\n",
              "      <th></th>\n",
              "      <th>one</th>\n",
              "      <th>two</th>\n",
              "      <th>three</th>\n",
              "      <th>four</th>\n",
              "      <th>six</th>\n",
              "      <th>E</th>\n",
              "    </tr>\n",
              "  </thead>\n",
              "  <tbody>\n",
              "    <tr>\n",
              "      <th>2014-11-01</th>\n",
              "      <td>0.000000</td>\n",
              "      <td>0.000000</td>\n",
              "      <td>0.119375</td>\n",
              "      <td>5</td>\n",
              "      <td>1</td>\n",
              "      <td>1.0</td>\n",
              "    </tr>\n",
              "    <tr>\n",
              "      <th>2014-11-02</th>\n",
              "      <td>0.165023</td>\n",
              "      <td>-0.508143</td>\n",
              "      <td>0.001456</td>\n",
              "      <td>5</td>\n",
              "      <td>2</td>\n",
              "      <td>1.0</td>\n",
              "    </tr>\n",
              "    <tr>\n",
              "      <th>2014-11-03</th>\n",
              "      <td>0.429971</td>\n",
              "      <td>-0.848484</td>\n",
              "      <td>-1.025006</td>\n",
              "      <td>5</td>\n",
              "      <td>3</td>\n",
              "      <td>5.0</td>\n",
              "    </tr>\n",
              "    <tr>\n",
              "      <th>2014-11-04</th>\n",
              "      <td>-1.079263</td>\n",
              "      <td>-0.926630</td>\n",
              "      <td>-3.083885</td>\n",
              "      <td>5</td>\n",
              "      <td>4</td>\n",
              "      <td>5.0</td>\n",
              "    </tr>\n",
              "  </tbody>\n",
              "</table>\n",
              "</div>"
            ],
            "text/plain": [
              "                 one       two     three  four  six    E\n",
              "2014-11-01  0.000000  0.000000  0.119375     5    1  1.0\n",
              "2014-11-02  0.165023 -0.508143  0.001456     5    2  1.0\n",
              "2014-11-03  0.429971 -0.848484 -1.025006     5    3  5.0\n",
              "2014-11-04 -1.079263 -0.926630 -3.083885     5    4  5.0"
            ]
          },
          "metadata": {
            "tags": []
          },
          "execution_count": 44
        }
      ]
    },
    {
      "cell_type": "markdown",
      "metadata": {
        "_cell_guid": "02f262f9-27dd-4e4e-9c6d-030c23123e90",
        "_uuid": "3f1f384adbd5d3081028c45a797f6ab1f0174490",
        "id": "6gXmDN4HA0_S",
        "colab_type": "text"
      },
      "source": [
        "## Operations\n",
        "See the [Basic section on Binary Ops](https://pandas.pydata.org/pandas-docs/stable/basics.html#basics-binop)"
      ]
    },
    {
      "cell_type": "markdown",
      "metadata": {
        "_cell_guid": "a599044b-97a5-4ff1-ac07-d2205c9bd275",
        "_uuid": "7dd84063efa95105e26e900a85b3b593c5f79406",
        "id": "PPSZFaYbA0_T",
        "colab_type": "text"
      },
      "source": [
        "### Stats\n",
        "Operations in general *exclude* missing data.\n",
        "\n",
        "Performing a descriptive statistic:"
      ]
    },
    {
      "cell_type": "code",
      "metadata": {
        "_cell_guid": "873b0539-d75a-4d8f-81e2-42c1ee70f945",
        "_uuid": "18a53af2b3fcb793e6c52ddfabc3bf4b01edc3ae",
        "id": "zi1hnrTaA0_U",
        "colab_type": "code",
        "colab": {
          "base_uri": "https://localhost:8080/",
          "height": 0
        },
        "outputId": "6b3ae461-ed5a-4a9b-c622-a9636f499ea7"
      },
      "source": [
        "df.mean()"
      ],
      "execution_count": 45,
      "outputs": [
        {
          "output_type": "execute_result",
          "data": {
            "text/plain": [
              "one     -0.131561\n",
              "two     -0.324791\n",
              "three   -0.328387\n",
              "four     5.000000\n",
              "six      3.500000\n",
              "dtype: float64"
            ]
          },
          "metadata": {
            "tags": []
          },
          "execution_count": 45
        }
      ]
    },
    {
      "cell_type": "markdown",
      "metadata": {
        "_cell_guid": "20530588-c864-428f-aad0-4ad48a3df1e5",
        "_uuid": "f066371c33bd242c801bb35fb61caed24cff26f6",
        "id": "LAWr_BL_A0_V",
        "colab_type": "text"
      },
      "source": [
        "Same operation on the other axis:"
      ]
    },
    {
      "cell_type": "code",
      "metadata": {
        "_cell_guid": "88cdbfa8-728c-4803-a400-5b348828e03e",
        "_uuid": "25a698388c134cb27fc648f76ecef27c12471fce",
        "id": "oVEamQSYA0_W",
        "colab_type": "code",
        "colab": {
          "base_uri": "https://localhost:8080/",
          "height": 0
        },
        "outputId": "86ef8d3e-f0a5-418d-9027-3591ac704945"
      },
      "source": [
        "df.mean(1)"
      ],
      "execution_count": 46,
      "outputs": [
        {
          "output_type": "execute_result",
          "data": {
            "text/plain": [
              "2014-11-01    1.223875\n",
              "2014-11-02    1.331667\n",
              "2014-11-03    1.311296\n",
              "2014-11-04    0.782044\n",
              "2014-11-05    2.256468\n",
              "2014-11-06    2.352963\n",
              "Freq: D, dtype: float64"
            ]
          },
          "metadata": {
            "tags": []
          },
          "execution_count": 46
        }
      ]
    },
    {
      "cell_type": "markdown",
      "metadata": {
        "_cell_guid": "1fffe4d6-a49d-42e5-8b89-e44724ad03db",
        "_uuid": "a10e0ecc601023ea17c043b422ae7774a718e97e",
        "id": "WpymzoltA0_Z",
        "colab_type": "text"
      },
      "source": [
        "Operating with objects that have different dimensionality and need alignment. In addition, pandas automatically broadcasts along the specified dimension. The following code also shifts the data vertically, leaving NaN values in the unoccupied spaces"
      ]
    },
    {
      "cell_type": "code",
      "metadata": {
        "_cell_guid": "e461e77a-cc2d-4186-9a6f-00f7b898328d",
        "_uuid": "7eda48639b578d0a9fb2e6e3a3f4ba76fbde780c",
        "id": "pgrrAt09A0_a",
        "colab_type": "code",
        "colab": {
          "base_uri": "https://localhost:8080/",
          "height": 0
        },
        "outputId": "31075420-456f-4667-c9ac-d11ab4197720"
      },
      "source": [
        "s = pd.Series([1,3,5,np.nan,6,8], index=dates).shift(2)\n",
        "s"
      ],
      "execution_count": 47,
      "outputs": [
        {
          "output_type": "execute_result",
          "data": {
            "text/plain": [
              "2014-11-01    NaN\n",
              "2014-11-02    NaN\n",
              "2014-11-03    1.0\n",
              "2014-11-04    3.0\n",
              "2014-11-05    5.0\n",
              "2014-11-06    NaN\n",
              "Freq: D, dtype: float64"
            ]
          },
          "metadata": {
            "tags": []
          },
          "execution_count": 47
        }
      ]
    },
    {
      "cell_type": "code",
      "metadata": {
        "_cell_guid": "950ca30f-af5b-4184-9556-f98187afe6d5",
        "_uuid": "b88c2ac00262f1176bc919dc4bfa9e37bafa3d07",
        "id": "q6Me-4d9A0_b",
        "colab_type": "code",
        "colab": {
          "base_uri": "https://localhost:8080/",
          "height": 0
        },
        "outputId": "fc37e6f6-5e92-41ad-9891-ab0d4d20b950"
      },
      "source": [
        "df.sub(s, axis='index')"
      ],
      "execution_count": 48,
      "outputs": [
        {
          "output_type": "execute_result",
          "data": {
            "text/html": [
              "<div>\n",
              "<style scoped>\n",
              "    .dataframe tbody tr th:only-of-type {\n",
              "        vertical-align: middle;\n",
              "    }\n",
              "\n",
              "    .dataframe tbody tr th {\n",
              "        vertical-align: top;\n",
              "    }\n",
              "\n",
              "    .dataframe thead th {\n",
              "        text-align: right;\n",
              "    }\n",
              "</style>\n",
              "<table border=\"1\" class=\"dataframe\">\n",
              "  <thead>\n",
              "    <tr style=\"text-align: right;\">\n",
              "      <th></th>\n",
              "      <th>one</th>\n",
              "      <th>two</th>\n",
              "      <th>three</th>\n",
              "      <th>four</th>\n",
              "      <th>six</th>\n",
              "    </tr>\n",
              "  </thead>\n",
              "  <tbody>\n",
              "    <tr>\n",
              "      <th>2014-11-01</th>\n",
              "      <td>NaN</td>\n",
              "      <td>NaN</td>\n",
              "      <td>NaN</td>\n",
              "      <td>NaN</td>\n",
              "      <td>NaN</td>\n",
              "    </tr>\n",
              "    <tr>\n",
              "      <th>2014-11-02</th>\n",
              "      <td>NaN</td>\n",
              "      <td>NaN</td>\n",
              "      <td>NaN</td>\n",
              "      <td>NaN</td>\n",
              "      <td>NaN</td>\n",
              "    </tr>\n",
              "    <tr>\n",
              "      <th>2014-11-03</th>\n",
              "      <td>-0.570029</td>\n",
              "      <td>-1.848484</td>\n",
              "      <td>-2.025006</td>\n",
              "      <td>4.0</td>\n",
              "      <td>2.0</td>\n",
              "    </tr>\n",
              "    <tr>\n",
              "      <th>2014-11-04</th>\n",
              "      <td>-4.079263</td>\n",
              "      <td>-3.926630</td>\n",
              "      <td>-6.083885</td>\n",
              "      <td>2.0</td>\n",
              "      <td>1.0</td>\n",
              "    </tr>\n",
              "    <tr>\n",
              "      <th>2014-11-05</th>\n",
              "      <td>-4.611544</td>\n",
              "      <td>-4.572930</td>\n",
              "      <td>-4.533186</td>\n",
              "      <td>0.0</td>\n",
              "      <td>0.0</td>\n",
              "    </tr>\n",
              "    <tr>\n",
              "      <th>2014-11-06</th>\n",
              "      <td>NaN</td>\n",
              "      <td>NaN</td>\n",
              "      <td>NaN</td>\n",
              "      <td>NaN</td>\n",
              "      <td>NaN</td>\n",
              "    </tr>\n",
              "  </tbody>\n",
              "</table>\n",
              "</div>"
            ],
            "text/plain": [
              "                 one       two     three  four  six\n",
              "2014-11-01       NaN       NaN       NaN   NaN  NaN\n",
              "2014-11-02       NaN       NaN       NaN   NaN  NaN\n",
              "2014-11-03 -0.570029 -1.848484 -2.025006   4.0  2.0\n",
              "2014-11-04 -4.079263 -3.926630 -6.083885   2.0  1.0\n",
              "2014-11-05 -4.611544 -4.572930 -4.533186   0.0  0.0\n",
              "2014-11-06       NaN       NaN       NaN   NaN  NaN"
            ]
          },
          "metadata": {
            "tags": []
          },
          "execution_count": 48
        }
      ]
    },
    {
      "cell_type": "markdown",
      "metadata": {
        "_cell_guid": "8a609a42-405f-4145-a258-2b2a1a836fa6",
        "_uuid": "a82c28ab38951a030fc5aaffc9229091af226cf8",
        "id": "j2e4PPPyA0_e",
        "colab_type": "text"
      },
      "source": [
        "### Apply\n",
        "Applying functions to the data"
      ]
    },
    {
      "cell_type": "code",
      "metadata": {
        "_cell_guid": "ed25e76b-00c8-4f75-b8f2-a6b2669e264f",
        "_uuid": "0fdf92e9b753e997301f3d7c9e88941f87e086b1",
        "id": "O8C-oP6HA0_f",
        "colab_type": "code",
        "colab": {
          "base_uri": "https://localhost:8080/",
          "height": 0
        },
        "outputId": "5abad878-bcf3-490d-ae9a-1fded17a8dc5"
      },
      "source": [
        "df.apply(np.cumsum)"
      ],
      "execution_count": 49,
      "outputs": [
        {
          "output_type": "execute_result",
          "data": {
            "text/html": [
              "<div>\n",
              "<style scoped>\n",
              "    .dataframe tbody tr th:only-of-type {\n",
              "        vertical-align: middle;\n",
              "    }\n",
              "\n",
              "    .dataframe tbody tr th {\n",
              "        vertical-align: top;\n",
              "    }\n",
              "\n",
              "    .dataframe thead th {\n",
              "        text-align: right;\n",
              "    }\n",
              "</style>\n",
              "<table border=\"1\" class=\"dataframe\">\n",
              "  <thead>\n",
              "    <tr style=\"text-align: right;\">\n",
              "      <th></th>\n",
              "      <th>one</th>\n",
              "      <th>two</th>\n",
              "      <th>three</th>\n",
              "      <th>four</th>\n",
              "      <th>six</th>\n",
              "    </tr>\n",
              "  </thead>\n",
              "  <tbody>\n",
              "    <tr>\n",
              "      <th>2014-11-01</th>\n",
              "      <td>0.000000</td>\n",
              "      <td>0.000000</td>\n",
              "      <td>0.119375</td>\n",
              "      <td>5</td>\n",
              "      <td>1</td>\n",
              "    </tr>\n",
              "    <tr>\n",
              "      <th>2014-11-02</th>\n",
              "      <td>0.165023</td>\n",
              "      <td>-0.508143</td>\n",
              "      <td>0.120831</td>\n",
              "      <td>10</td>\n",
              "      <td>3</td>\n",
              "    </tr>\n",
              "    <tr>\n",
              "      <th>2014-11-03</th>\n",
              "      <td>0.594993</td>\n",
              "      <td>-1.356627</td>\n",
              "      <td>-0.904175</td>\n",
              "      <td>15</td>\n",
              "      <td>6</td>\n",
              "    </tr>\n",
              "    <tr>\n",
              "      <th>2014-11-04</th>\n",
              "      <td>-0.484269</td>\n",
              "      <td>-2.283256</td>\n",
              "      <td>-3.988060</td>\n",
              "      <td>20</td>\n",
              "      <td>10</td>\n",
              "    </tr>\n",
              "    <tr>\n",
              "      <th>2014-11-05</th>\n",
              "      <td>-0.095813</td>\n",
              "      <td>-1.856187</td>\n",
              "      <td>-3.521246</td>\n",
              "      <td>25</td>\n",
              "      <td>15</td>\n",
              "    </tr>\n",
              "    <tr>\n",
              "      <th>2014-11-06</th>\n",
              "      <td>-0.789364</td>\n",
              "      <td>-1.948747</td>\n",
              "      <td>-1.970320</td>\n",
              "      <td>30</td>\n",
              "      <td>21</td>\n",
              "    </tr>\n",
              "  </tbody>\n",
              "</table>\n",
              "</div>"
            ],
            "text/plain": [
              "                 one       two     three  four  six\n",
              "2014-11-01  0.000000  0.000000  0.119375     5    1\n",
              "2014-11-02  0.165023 -0.508143  0.120831    10    3\n",
              "2014-11-03  0.594993 -1.356627 -0.904175    15    6\n",
              "2014-11-04 -0.484269 -2.283256 -3.988060    20   10\n",
              "2014-11-05 -0.095813 -1.856187 -3.521246    25   15\n",
              "2014-11-06 -0.789364 -1.948747 -1.970320    30   21"
            ]
          },
          "metadata": {
            "tags": []
          },
          "execution_count": 49
        }
      ]
    },
    {
      "cell_type": "markdown",
      "metadata": {
        "_cell_guid": "c29ce7af-9539-4857-9f41-0453d788992f",
        "_uuid": "f016b295830e32f680784dbe2f41b568215d9efb",
        "id": "fjPWwofRA0_h",
        "colab_type": "text"
      },
      "source": [
        "### Histogramming \n",
        "See more at [Histogramming and Discretization](https://pandas.pydata.org/pandas-docs/stable/basics.html#basics-discretization)"
      ]
    },
    {
      "cell_type": "code",
      "metadata": {
        "_cell_guid": "765ec7fe-83b0-4180-acdc-540a28422a85",
        "_uuid": "8cc61eeda690d11eefecf2116e28136020ca0003",
        "id": "y3fKiQ3gA0_i",
        "colab_type": "code",
        "colab": {
          "base_uri": "https://localhost:8080/",
          "height": 0
        },
        "outputId": "93dcb68b-def1-414d-c87d-68d540b112c7"
      },
      "source": [
        "s = pd.Series(np.random.randint(0, 7, size=10))\n",
        "s"
      ],
      "execution_count": 50,
      "outputs": [
        {
          "output_type": "execute_result",
          "data": {
            "text/plain": [
              "0    4\n",
              "1    2\n",
              "2    2\n",
              "3    5\n",
              "4    1\n",
              "5    5\n",
              "6    0\n",
              "7    6\n",
              "8    1\n",
              "9    5\n",
              "dtype: int64"
            ]
          },
          "metadata": {
            "tags": []
          },
          "execution_count": 50
        }
      ]
    },
    {
      "cell_type": "code",
      "metadata": {
        "_cell_guid": "cd3bda59-12a7-434c-9195-23c4dcba5b8b",
        "_uuid": "77963d7b3d63b8e939652cc2c114a0731baa359e",
        "id": "KY9mBcYbA0_n",
        "colab_type": "code",
        "colab": {
          "base_uri": "https://localhost:8080/",
          "height": 0
        },
        "outputId": "0008192b-b791-4df8-884c-5ce1970f4487"
      },
      "source": [
        "s.value_counts()"
      ],
      "execution_count": 51,
      "outputs": [
        {
          "output_type": "execute_result",
          "data": {
            "text/plain": [
              "5    3\n",
              "2    2\n",
              "1    2\n",
              "6    1\n",
              "4    1\n",
              "0    1\n",
              "dtype: int64"
            ]
          },
          "metadata": {
            "tags": []
          },
          "execution_count": 51
        }
      ]
    },
    {
      "cell_type": "markdown",
      "metadata": {
        "_cell_guid": "cb8c8038-acc7-4b09-8e70-3354521439e6",
        "_uuid": "e74ee3f403a6358e6658dcfae2f2909128d64130",
        "id": "KpqaJWvyA0_p",
        "colab_type": "text"
      },
      "source": [
        "### String Methods\n",
        "Series is equipped with a set of string processing methods in the str attribute that make it easy to operate on each element of the array, as in the code snippet below. Note that pattern-matching in str generally uses [regular expressions](https://docs.python.org/2/library/re.html) by default (and in some cases always uses them). See more at [Vectorized String Methods](https://pandas.pydata.org/pandas-docs/stable/text.html#text-string-methods)."
      ]
    },
    {
      "cell_type": "code",
      "metadata": {
        "_cell_guid": "d6eb8ddf-f32a-406d-8d9e-bd0c0a76bdc9",
        "_uuid": "b74596be6dc4925c11bbc9552f52e0ab8a401b19",
        "id": "wWUN6p4lA0_p",
        "colab_type": "code",
        "colab": {}
      },
      "source": [
        "s = pd.Series(['A', 'B', 'C', 'Aaba', 'Baca', np.nan, 'CABA', 'dog', 'cat'])\n"
      ],
      "execution_count": 0,
      "outputs": []
    },
    {
      "cell_type": "code",
      "metadata": {
        "_cell_guid": "ea018f68-1d1e-487a-9d8d-e985f2c1d08f",
        "_uuid": "fb5a35db50d449608f76c79aaacf3c27f79ac398",
        "id": "uvaZ0iFQA0_s",
        "colab_type": "code",
        "colab": {
          "base_uri": "https://localhost:8080/",
          "height": 0
        },
        "outputId": "43471758-bc26-4e0a-e909-f459ac0d8e1a"
      },
      "source": [
        "s.str.lower()"
      ],
      "execution_count": 53,
      "outputs": [
        {
          "output_type": "execute_result",
          "data": {
            "text/plain": [
              "0       a\n",
              "1       b\n",
              "2       c\n",
              "3    aaba\n",
              "4    baca\n",
              "5     NaN\n",
              "6    caba\n",
              "7     dog\n",
              "8     cat\n",
              "dtype: object"
            ]
          },
          "metadata": {
            "tags": []
          },
          "execution_count": 53
        }
      ]
    },
    {
      "cell_type": "markdown",
      "metadata": {
        "_cell_guid": "bbeb9a06-d07c-4d38-96f6-fd96f8109a36",
        "_uuid": "9ecce4d43cdb73c250c231bd1f6ced47238ee848",
        "id": "FyD3lbt3A0_u",
        "colab_type": "text"
      },
      "source": [
        "# Merge\n",
        "### Concat\n",
        "pandas provides various facilities for easily combining together Series, DataFrame, and Panel objects with various kinds of set logic for the indexes and relational algebra functionality in the case of join / merge-type operations.\n",
        "\n",
        "See the [Merging section](https://pandas.pydata.org/pandas-docs/stable/merging.html#merging)\n",
        "\n",
        "Concatenating pandas objects together with [concat()](https://pandas.pydata.org/pandas-docs/stable/generated/pandas.concat.html#pandas.concat):"
      ]
    },
    {
      "cell_type": "code",
      "metadata": {
        "_cell_guid": "35b5371c-d03f-4014-b43e-0ea171cc2af5",
        "_uuid": "0e198af891bd5bd91c825d3e3f825211106140a6",
        "id": "fAJIK3fVA0_v",
        "colab_type": "code",
        "colab": {
          "base_uri": "https://localhost:8080/",
          "height": 0
        },
        "outputId": "b957a05b-ec4c-4591-bcbf-41ad746dd609"
      },
      "source": [
        "df = pd.DataFrame(np.random.randn(10, 4))\n",
        "df"
      ],
      "execution_count": 54,
      "outputs": [
        {
          "output_type": "execute_result",
          "data": {
            "text/html": [
              "<div>\n",
              "<style scoped>\n",
              "    .dataframe tbody tr th:only-of-type {\n",
              "        vertical-align: middle;\n",
              "    }\n",
              "\n",
              "    .dataframe tbody tr th {\n",
              "        vertical-align: top;\n",
              "    }\n",
              "\n",
              "    .dataframe thead th {\n",
              "        text-align: right;\n",
              "    }\n",
              "</style>\n",
              "<table border=\"1\" class=\"dataframe\">\n",
              "  <thead>\n",
              "    <tr style=\"text-align: right;\">\n",
              "      <th></th>\n",
              "      <th>0</th>\n",
              "      <th>1</th>\n",
              "      <th>2</th>\n",
              "      <th>3</th>\n",
              "    </tr>\n",
              "  </thead>\n",
              "  <tbody>\n",
              "    <tr>\n",
              "      <th>0</th>\n",
              "      <td>2.067959</td>\n",
              "      <td>-2.513070</td>\n",
              "      <td>0.258238</td>\n",
              "      <td>-1.361629</td>\n",
              "    </tr>\n",
              "    <tr>\n",
              "      <th>1</th>\n",
              "      <td>-0.923398</td>\n",
              "      <td>1.356303</td>\n",
              "      <td>-0.949429</td>\n",
              "      <td>-1.486241</td>\n",
              "    </tr>\n",
              "    <tr>\n",
              "      <th>2</th>\n",
              "      <td>0.772684</td>\n",
              "      <td>-2.030880</td>\n",
              "      <td>-0.489753</td>\n",
              "      <td>-0.287914</td>\n",
              "    </tr>\n",
              "    <tr>\n",
              "      <th>3</th>\n",
              "      <td>-0.296005</td>\n",
              "      <td>-1.384844</td>\n",
              "      <td>1.703679</td>\n",
              "      <td>0.797943</td>\n",
              "    </tr>\n",
              "    <tr>\n",
              "      <th>4</th>\n",
              "      <td>-1.007086</td>\n",
              "      <td>1.534453</td>\n",
              "      <td>1.076915</td>\n",
              "      <td>-1.049132</td>\n",
              "    </tr>\n",
              "    <tr>\n",
              "      <th>5</th>\n",
              "      <td>0.253015</td>\n",
              "      <td>-0.171693</td>\n",
              "      <td>0.972358</td>\n",
              "      <td>-1.303895</td>\n",
              "    </tr>\n",
              "    <tr>\n",
              "      <th>6</th>\n",
              "      <td>-1.863252</td>\n",
              "      <td>0.897566</td>\n",
              "      <td>0.109796</td>\n",
              "      <td>0.209550</td>\n",
              "    </tr>\n",
              "    <tr>\n",
              "      <th>7</th>\n",
              "      <td>0.540129</td>\n",
              "      <td>-0.524481</td>\n",
              "      <td>1.848659</td>\n",
              "      <td>-1.004895</td>\n",
              "    </tr>\n",
              "    <tr>\n",
              "      <th>8</th>\n",
              "      <td>-1.846704</td>\n",
              "      <td>0.223262</td>\n",
              "      <td>-0.349449</td>\n",
              "      <td>-0.753488</td>\n",
              "    </tr>\n",
              "    <tr>\n",
              "      <th>9</th>\n",
              "      <td>1.298263</td>\n",
              "      <td>0.586146</td>\n",
              "      <td>0.038663</td>\n",
              "      <td>-0.004357</td>\n",
              "    </tr>\n",
              "  </tbody>\n",
              "</table>\n",
              "</div>"
            ],
            "text/plain": [
              "          0         1         2         3\n",
              "0  2.067959 -2.513070  0.258238 -1.361629\n",
              "1 -0.923398  1.356303 -0.949429 -1.486241\n",
              "2  0.772684 -2.030880 -0.489753 -0.287914\n",
              "3 -0.296005 -1.384844  1.703679  0.797943\n",
              "4 -1.007086  1.534453  1.076915 -1.049132\n",
              "5  0.253015 -0.171693  0.972358 -1.303895\n",
              "6 -1.863252  0.897566  0.109796  0.209550\n",
              "7  0.540129 -0.524481  1.848659 -1.004895\n",
              "8 -1.846704  0.223262 -0.349449 -0.753488\n",
              "9  1.298263  0.586146  0.038663 -0.004357"
            ]
          },
          "metadata": {
            "tags": []
          },
          "execution_count": 54
        }
      ]
    },
    {
      "cell_type": "code",
      "metadata": {
        "_cell_guid": "295ac685-5727-4a04-b910-34810572e984",
        "_uuid": "e1b0e0b7a541f0347586622dbd355ca42b7778cd",
        "id": "18VN8KeqA0_x",
        "colab_type": "code",
        "colab": {
          "base_uri": "https://localhost:8080/",
          "height": 0
        },
        "outputId": "b2ed39fd-1918-461a-d27b-1bf15c059a6a"
      },
      "source": [
        "#break it into pieces:\n",
        "pieces = [df[:3], df[3:7], df[7:]]\n",
        "pieces"
      ],
      "execution_count": 55,
      "outputs": [
        {
          "output_type": "execute_result",
          "data": {
            "text/plain": [
              "[          0         1         2         3\n",
              " 0  2.067959 -2.513070  0.258238 -1.361629\n",
              " 1 -0.923398  1.356303 -0.949429 -1.486241\n",
              " 2  0.772684 -2.030880 -0.489753 -0.287914,\n",
              "           0         1         2         3\n",
              " 3 -0.296005 -1.384844  1.703679  0.797943\n",
              " 4 -1.007086  1.534453  1.076915 -1.049132\n",
              " 5  0.253015 -0.171693  0.972358 -1.303895\n",
              " 6 -1.863252  0.897566  0.109796  0.209550,\n",
              "           0         1         2         3\n",
              " 7  0.540129 -0.524481  1.848659 -1.004895\n",
              " 8 -1.846704  0.223262 -0.349449 -0.753488\n",
              " 9  1.298263  0.586146  0.038663 -0.004357]"
            ]
          },
          "metadata": {
            "tags": []
          },
          "execution_count": 55
        }
      ]
    },
    {
      "cell_type": "code",
      "metadata": {
        "_cell_guid": "aa28f68e-a314-4bbe-a71b-568238c3be23",
        "_uuid": "ec51477795c9b3f0bd0366d130175b226cc9232b",
        "id": "YCZbKJyKA0_z",
        "colab_type": "code",
        "colab": {
          "base_uri": "https://localhost:8080/",
          "height": 0
        },
        "outputId": "3f892e3c-370f-4ebf-cb0a-409b3bf6fa95"
      },
      "source": [
        "pd.concat(pieces)\n"
      ],
      "execution_count": 56,
      "outputs": [
        {
          "output_type": "execute_result",
          "data": {
            "text/html": [
              "<div>\n",
              "<style scoped>\n",
              "    .dataframe tbody tr th:only-of-type {\n",
              "        vertical-align: middle;\n",
              "    }\n",
              "\n",
              "    .dataframe tbody tr th {\n",
              "        vertical-align: top;\n",
              "    }\n",
              "\n",
              "    .dataframe thead th {\n",
              "        text-align: right;\n",
              "    }\n",
              "</style>\n",
              "<table border=\"1\" class=\"dataframe\">\n",
              "  <thead>\n",
              "    <tr style=\"text-align: right;\">\n",
              "      <th></th>\n",
              "      <th>0</th>\n",
              "      <th>1</th>\n",
              "      <th>2</th>\n",
              "      <th>3</th>\n",
              "    </tr>\n",
              "  </thead>\n",
              "  <tbody>\n",
              "    <tr>\n",
              "      <th>0</th>\n",
              "      <td>2.067959</td>\n",
              "      <td>-2.513070</td>\n",
              "      <td>0.258238</td>\n",
              "      <td>-1.361629</td>\n",
              "    </tr>\n",
              "    <tr>\n",
              "      <th>1</th>\n",
              "      <td>-0.923398</td>\n",
              "      <td>1.356303</td>\n",
              "      <td>-0.949429</td>\n",
              "      <td>-1.486241</td>\n",
              "    </tr>\n",
              "    <tr>\n",
              "      <th>2</th>\n",
              "      <td>0.772684</td>\n",
              "      <td>-2.030880</td>\n",
              "      <td>-0.489753</td>\n",
              "      <td>-0.287914</td>\n",
              "    </tr>\n",
              "    <tr>\n",
              "      <th>3</th>\n",
              "      <td>-0.296005</td>\n",
              "      <td>-1.384844</td>\n",
              "      <td>1.703679</td>\n",
              "      <td>0.797943</td>\n",
              "    </tr>\n",
              "    <tr>\n",
              "      <th>4</th>\n",
              "      <td>-1.007086</td>\n",
              "      <td>1.534453</td>\n",
              "      <td>1.076915</td>\n",
              "      <td>-1.049132</td>\n",
              "    </tr>\n",
              "    <tr>\n",
              "      <th>5</th>\n",
              "      <td>0.253015</td>\n",
              "      <td>-0.171693</td>\n",
              "      <td>0.972358</td>\n",
              "      <td>-1.303895</td>\n",
              "    </tr>\n",
              "    <tr>\n",
              "      <th>6</th>\n",
              "      <td>-1.863252</td>\n",
              "      <td>0.897566</td>\n",
              "      <td>0.109796</td>\n",
              "      <td>0.209550</td>\n",
              "    </tr>\n",
              "    <tr>\n",
              "      <th>7</th>\n",
              "      <td>0.540129</td>\n",
              "      <td>-0.524481</td>\n",
              "      <td>1.848659</td>\n",
              "      <td>-1.004895</td>\n",
              "    </tr>\n",
              "    <tr>\n",
              "      <th>8</th>\n",
              "      <td>-1.846704</td>\n",
              "      <td>0.223262</td>\n",
              "      <td>-0.349449</td>\n",
              "      <td>-0.753488</td>\n",
              "    </tr>\n",
              "    <tr>\n",
              "      <th>9</th>\n",
              "      <td>1.298263</td>\n",
              "      <td>0.586146</td>\n",
              "      <td>0.038663</td>\n",
              "      <td>-0.004357</td>\n",
              "    </tr>\n",
              "  </tbody>\n",
              "</table>\n",
              "</div>"
            ],
            "text/plain": [
              "          0         1         2         3\n",
              "0  2.067959 -2.513070  0.258238 -1.361629\n",
              "1 -0.923398  1.356303 -0.949429 -1.486241\n",
              "2  0.772684 -2.030880 -0.489753 -0.287914\n",
              "3 -0.296005 -1.384844  1.703679  0.797943\n",
              "4 -1.007086  1.534453  1.076915 -1.049132\n",
              "5  0.253015 -0.171693  0.972358 -1.303895\n",
              "6 -1.863252  0.897566  0.109796  0.209550\n",
              "7  0.540129 -0.524481  1.848659 -1.004895\n",
              "8 -1.846704  0.223262 -0.349449 -0.753488\n",
              "9  1.298263  0.586146  0.038663 -0.004357"
            ]
          },
          "metadata": {
            "tags": []
          },
          "execution_count": 56
        }
      ]
    },
    {
      "cell_type": "markdown",
      "metadata": {
        "_cell_guid": "62030eae-f3ff-4d73-816b-a7c9b16d557d",
        "_uuid": "bd71a71d0715857037ccb116bec2084ac65f0a17",
        "id": "gwNbV7ZGA0_1",
        "colab_type": "text"
      },
      "source": [
        "### Join"
      ]
    },
    {
      "cell_type": "markdown",
      "metadata": {
        "_cell_guid": "1fc997a6-5359-4fcd-bd1a-b0348f71b819",
        "_uuid": "2e5ea2b06b8349ad6e39af887988652edb8fbb73",
        "id": "ARMS8Uh2A0_2",
        "colab_type": "text"
      },
      "source": [
        "SQL style merges. See the [Database style joining](https://pandas.pydata.org/pandas-docs/stable/merging.html#merging-join)"
      ]
    },
    {
      "cell_type": "code",
      "metadata": {
        "_cell_guid": "e4564981-808b-4154-8e35-6e94c2883821",
        "_uuid": "ae963f9acd041abc13954a8b57425a162550106f",
        "id": "G2juaKHlA0_2",
        "colab_type": "code",
        "colab": {
          "base_uri": "https://localhost:8080/",
          "height": 0
        },
        "outputId": "b4844814-773c-42b5-d560-e7ad521c3d83"
      },
      "source": [
        "left = pd.DataFrame({'key': ['foo', 'foo'], 'lval': [1, 2]})\n",
        "left"
      ],
      "execution_count": 57,
      "outputs": [
        {
          "output_type": "execute_result",
          "data": {
            "text/html": [
              "<div>\n",
              "<style scoped>\n",
              "    .dataframe tbody tr th:only-of-type {\n",
              "        vertical-align: middle;\n",
              "    }\n",
              "\n",
              "    .dataframe tbody tr th {\n",
              "        vertical-align: top;\n",
              "    }\n",
              "\n",
              "    .dataframe thead th {\n",
              "        text-align: right;\n",
              "    }\n",
              "</style>\n",
              "<table border=\"1\" class=\"dataframe\">\n",
              "  <thead>\n",
              "    <tr style=\"text-align: right;\">\n",
              "      <th></th>\n",
              "      <th>key</th>\n",
              "      <th>lval</th>\n",
              "    </tr>\n",
              "  </thead>\n",
              "  <tbody>\n",
              "    <tr>\n",
              "      <th>0</th>\n",
              "      <td>foo</td>\n",
              "      <td>1</td>\n",
              "    </tr>\n",
              "    <tr>\n",
              "      <th>1</th>\n",
              "      <td>foo</td>\n",
              "      <td>2</td>\n",
              "    </tr>\n",
              "  </tbody>\n",
              "</table>\n",
              "</div>"
            ],
            "text/plain": [
              "   key  lval\n",
              "0  foo     1\n",
              "1  foo     2"
            ]
          },
          "metadata": {
            "tags": []
          },
          "execution_count": 57
        }
      ]
    },
    {
      "cell_type": "code",
      "metadata": {
        "_cell_guid": "4fc7aac1-cf73-4026-9f1a-765b5a8177b3",
        "_uuid": "4c66f190e7c6b22d22629bba2da2b253ebc0258d",
        "id": "FT6w3u9OA0_6",
        "colab_type": "code",
        "colab": {
          "base_uri": "https://localhost:8080/",
          "height": 0
        },
        "outputId": "1c9417b9-381f-4981-f143-943cb05a655d"
      },
      "source": [
        "right = pd.DataFrame({'key': ['foo', 'foo'], 'rval': [4, 5]})\n",
        "right"
      ],
      "execution_count": 58,
      "outputs": [
        {
          "output_type": "execute_result",
          "data": {
            "text/html": [
              "<div>\n",
              "<style scoped>\n",
              "    .dataframe tbody tr th:only-of-type {\n",
              "        vertical-align: middle;\n",
              "    }\n",
              "\n",
              "    .dataframe tbody tr th {\n",
              "        vertical-align: top;\n",
              "    }\n",
              "\n",
              "    .dataframe thead th {\n",
              "        text-align: right;\n",
              "    }\n",
              "</style>\n",
              "<table border=\"1\" class=\"dataframe\">\n",
              "  <thead>\n",
              "    <tr style=\"text-align: right;\">\n",
              "      <th></th>\n",
              "      <th>key</th>\n",
              "      <th>rval</th>\n",
              "    </tr>\n",
              "  </thead>\n",
              "  <tbody>\n",
              "    <tr>\n",
              "      <th>0</th>\n",
              "      <td>foo</td>\n",
              "      <td>4</td>\n",
              "    </tr>\n",
              "    <tr>\n",
              "      <th>1</th>\n",
              "      <td>foo</td>\n",
              "      <td>5</td>\n",
              "    </tr>\n",
              "  </tbody>\n",
              "</table>\n",
              "</div>"
            ],
            "text/plain": [
              "   key  rval\n",
              "0  foo     4\n",
              "1  foo     5"
            ]
          },
          "metadata": {
            "tags": []
          },
          "execution_count": 58
        }
      ]
    },
    {
      "cell_type": "code",
      "metadata": {
        "_cell_guid": "d5208a6c-f5d4-4e03-9ae0-bbfb8c119e36",
        "_uuid": "72654ecbb57e52b793ee3be15f82cade614c6158",
        "id": "ETrxIA4uA0_7",
        "colab_type": "code",
        "colab": {
          "base_uri": "https://localhost:8080/",
          "height": 0
        },
        "outputId": "d10dc456-591e-47bc-9259-4f75f23bb72f"
      },
      "source": [
        "pd.merge(left,right,on='key')"
      ],
      "execution_count": 59,
      "outputs": [
        {
          "output_type": "execute_result",
          "data": {
            "text/html": [
              "<div>\n",
              "<style scoped>\n",
              "    .dataframe tbody tr th:only-of-type {\n",
              "        vertical-align: middle;\n",
              "    }\n",
              "\n",
              "    .dataframe tbody tr th {\n",
              "        vertical-align: top;\n",
              "    }\n",
              "\n",
              "    .dataframe thead th {\n",
              "        text-align: right;\n",
              "    }\n",
              "</style>\n",
              "<table border=\"1\" class=\"dataframe\">\n",
              "  <thead>\n",
              "    <tr style=\"text-align: right;\">\n",
              "      <th></th>\n",
              "      <th>key</th>\n",
              "      <th>lval</th>\n",
              "      <th>rval</th>\n",
              "    </tr>\n",
              "  </thead>\n",
              "  <tbody>\n",
              "    <tr>\n",
              "      <th>0</th>\n",
              "      <td>foo</td>\n",
              "      <td>1</td>\n",
              "      <td>4</td>\n",
              "    </tr>\n",
              "    <tr>\n",
              "      <th>1</th>\n",
              "      <td>foo</td>\n",
              "      <td>1</td>\n",
              "      <td>5</td>\n",
              "    </tr>\n",
              "    <tr>\n",
              "      <th>2</th>\n",
              "      <td>foo</td>\n",
              "      <td>2</td>\n",
              "      <td>4</td>\n",
              "    </tr>\n",
              "    <tr>\n",
              "      <th>3</th>\n",
              "      <td>foo</td>\n",
              "      <td>2</td>\n",
              "      <td>5</td>\n",
              "    </tr>\n",
              "  </tbody>\n",
              "</table>\n",
              "</div>"
            ],
            "text/plain": [
              "   key  lval  rval\n",
              "0  foo     1     4\n",
              "1  foo     1     5\n",
              "2  foo     2     4\n",
              "3  foo     2     5"
            ]
          },
          "metadata": {
            "tags": []
          },
          "execution_count": 59
        }
      ]
    },
    {
      "cell_type": "markdown",
      "metadata": {
        "_cell_guid": "1bac3a7a-793c-4af0-a6a4-7a52ee72058d",
        "_uuid": "c1d886d9d9ebee002af9f789a1b7acf9ede81959",
        "id": "PaNobFADA0_9",
        "colab_type": "text"
      },
      "source": [
        "Another example that can be given is:"
      ]
    },
    {
      "cell_type": "code",
      "metadata": {
        "_cell_guid": "ec2e4826-c7f0-44e1-90aa-cd981d8deb4f",
        "_uuid": "bc2f4621a6c78f60b886b35ec9a6aceaf4f7f1a6",
        "id": "NCivBt8WA0_9",
        "colab_type": "code",
        "colab": {
          "base_uri": "https://localhost:8080/",
          "height": 0
        },
        "outputId": "617eaad3-f5db-4e67-df3f-2e141c3e4d33"
      },
      "source": [
        "left = pd.DataFrame({'key': ['foo', 'bar'], 'lval': [1, 2]})\n",
        "left"
      ],
      "execution_count": 60,
      "outputs": [
        {
          "output_type": "execute_result",
          "data": {
            "text/html": [
              "<div>\n",
              "<style scoped>\n",
              "    .dataframe tbody tr th:only-of-type {\n",
              "        vertical-align: middle;\n",
              "    }\n",
              "\n",
              "    .dataframe tbody tr th {\n",
              "        vertical-align: top;\n",
              "    }\n",
              "\n",
              "    .dataframe thead th {\n",
              "        text-align: right;\n",
              "    }\n",
              "</style>\n",
              "<table border=\"1\" class=\"dataframe\">\n",
              "  <thead>\n",
              "    <tr style=\"text-align: right;\">\n",
              "      <th></th>\n",
              "      <th>key</th>\n",
              "      <th>lval</th>\n",
              "    </tr>\n",
              "  </thead>\n",
              "  <tbody>\n",
              "    <tr>\n",
              "      <th>0</th>\n",
              "      <td>foo</td>\n",
              "      <td>1</td>\n",
              "    </tr>\n",
              "    <tr>\n",
              "      <th>1</th>\n",
              "      <td>bar</td>\n",
              "      <td>2</td>\n",
              "    </tr>\n",
              "  </tbody>\n",
              "</table>\n",
              "</div>"
            ],
            "text/plain": [
              "   key  lval\n",
              "0  foo     1\n",
              "1  bar     2"
            ]
          },
          "metadata": {
            "tags": []
          },
          "execution_count": 60
        }
      ]
    },
    {
      "cell_type": "code",
      "metadata": {
        "_cell_guid": "e5c24cf6-23e1-4949-9fee-bdedd1ad4130",
        "_uuid": "337fd14edbbaeedb42b598f0a185e235f71d673a",
        "id": "dw-AeLhKA0__",
        "colab_type": "code",
        "colab": {
          "base_uri": "https://localhost:8080/",
          "height": 0
        },
        "outputId": "d49809ec-2ae1-4870-99ec-5654baaa368f"
      },
      "source": [
        "right = pd.DataFrame({'key': ['foo', 'bar'], 'rval': [4, 5]})\n",
        "right"
      ],
      "execution_count": 61,
      "outputs": [
        {
          "output_type": "execute_result",
          "data": {
            "text/html": [
              "<div>\n",
              "<style scoped>\n",
              "    .dataframe tbody tr th:only-of-type {\n",
              "        vertical-align: middle;\n",
              "    }\n",
              "\n",
              "    .dataframe tbody tr th {\n",
              "        vertical-align: top;\n",
              "    }\n",
              "\n",
              "    .dataframe thead th {\n",
              "        text-align: right;\n",
              "    }\n",
              "</style>\n",
              "<table border=\"1\" class=\"dataframe\">\n",
              "  <thead>\n",
              "    <tr style=\"text-align: right;\">\n",
              "      <th></th>\n",
              "      <th>key</th>\n",
              "      <th>rval</th>\n",
              "    </tr>\n",
              "  </thead>\n",
              "  <tbody>\n",
              "    <tr>\n",
              "      <th>0</th>\n",
              "      <td>foo</td>\n",
              "      <td>4</td>\n",
              "    </tr>\n",
              "    <tr>\n",
              "      <th>1</th>\n",
              "      <td>bar</td>\n",
              "      <td>5</td>\n",
              "    </tr>\n",
              "  </tbody>\n",
              "</table>\n",
              "</div>"
            ],
            "text/plain": [
              "   key  rval\n",
              "0  foo     4\n",
              "1  bar     5"
            ]
          },
          "metadata": {
            "tags": []
          },
          "execution_count": 61
        }
      ]
    },
    {
      "cell_type": "code",
      "metadata": {
        "_cell_guid": "475c1acd-7405-4994-a861-28c7a8416b54",
        "_uuid": "acdb46712ef690150987d134784361bbc32eb90b",
        "id": "mAcHtOA_A1AD",
        "colab_type": "code",
        "colab": {
          "base_uri": "https://localhost:8080/",
          "height": 0
        },
        "outputId": "361406c8-9518-446b-b3d0-2262d98d229e"
      },
      "source": [
        "pd.merge(left, right, on='key')"
      ],
      "execution_count": 62,
      "outputs": [
        {
          "output_type": "execute_result",
          "data": {
            "text/html": [
              "<div>\n",
              "<style scoped>\n",
              "    .dataframe tbody tr th:only-of-type {\n",
              "        vertical-align: middle;\n",
              "    }\n",
              "\n",
              "    .dataframe tbody tr th {\n",
              "        vertical-align: top;\n",
              "    }\n",
              "\n",
              "    .dataframe thead th {\n",
              "        text-align: right;\n",
              "    }\n",
              "</style>\n",
              "<table border=\"1\" class=\"dataframe\">\n",
              "  <thead>\n",
              "    <tr style=\"text-align: right;\">\n",
              "      <th></th>\n",
              "      <th>key</th>\n",
              "      <th>lval</th>\n",
              "      <th>rval</th>\n",
              "    </tr>\n",
              "  </thead>\n",
              "  <tbody>\n",
              "    <tr>\n",
              "      <th>0</th>\n",
              "      <td>foo</td>\n",
              "      <td>1</td>\n",
              "      <td>4</td>\n",
              "    </tr>\n",
              "    <tr>\n",
              "      <th>1</th>\n",
              "      <td>bar</td>\n",
              "      <td>2</td>\n",
              "      <td>5</td>\n",
              "    </tr>\n",
              "  </tbody>\n",
              "</table>\n",
              "</div>"
            ],
            "text/plain": [
              "   key  lval  rval\n",
              "0  foo     1     4\n",
              "1  bar     2     5"
            ]
          },
          "metadata": {
            "tags": []
          },
          "execution_count": 62
        }
      ]
    },
    {
      "cell_type": "markdown",
      "metadata": {
        "_cell_guid": "dae9ef46-214d-48e2-ba5c-7e8191f33320",
        "_uuid": "52dfbaeb0fc5416d2e15972f3f544b689f32b701",
        "id": "zzwIB-IBA1AE",
        "colab_type": "text"
      },
      "source": [
        "### Append\n",
        "Append rows to a dataframe. See the [Appending](https://pandas.pydata.org/pandas-docs/stable/merging.html#merging-concatenation)"
      ]
    },
    {
      "cell_type": "code",
      "metadata": {
        "_cell_guid": "df5cdd4b-3313-4a96-82cc-873ad0c67565",
        "_uuid": "4475724eba1b82530cfd5c7d32d46f4d3c2be1a5",
        "id": "AfdbaSOZA1AF",
        "colab_type": "code",
        "colab": {
          "base_uri": "https://localhost:8080/",
          "height": 0
        },
        "outputId": "fefec0bb-4a89-42bc-a6ba-2a153f76d119"
      },
      "source": [
        "df = pd.DataFrame(np.random.randn(8, 4), columns=['A','B','C','D'])\n",
        "df"
      ],
      "execution_count": 63,
      "outputs": [
        {
          "output_type": "execute_result",
          "data": {
            "text/html": [
              "<div>\n",
              "<style scoped>\n",
              "    .dataframe tbody tr th:only-of-type {\n",
              "        vertical-align: middle;\n",
              "    }\n",
              "\n",
              "    .dataframe tbody tr th {\n",
              "        vertical-align: top;\n",
              "    }\n",
              "\n",
              "    .dataframe thead th {\n",
              "        text-align: right;\n",
              "    }\n",
              "</style>\n",
              "<table border=\"1\" class=\"dataframe\">\n",
              "  <thead>\n",
              "    <tr style=\"text-align: right;\">\n",
              "      <th></th>\n",
              "      <th>A</th>\n",
              "      <th>B</th>\n",
              "      <th>C</th>\n",
              "      <th>D</th>\n",
              "    </tr>\n",
              "  </thead>\n",
              "  <tbody>\n",
              "    <tr>\n",
              "      <th>0</th>\n",
              "      <td>1.000472</td>\n",
              "      <td>0.391288</td>\n",
              "      <td>0.355205</td>\n",
              "      <td>1.149670</td>\n",
              "    </tr>\n",
              "    <tr>\n",
              "      <th>1</th>\n",
              "      <td>0.627573</td>\n",
              "      <td>-1.247157</td>\n",
              "      <td>-0.521394</td>\n",
              "      <td>-1.579084</td>\n",
              "    </tr>\n",
              "    <tr>\n",
              "      <th>2</th>\n",
              "      <td>0.530704</td>\n",
              "      <td>0.050987</td>\n",
              "      <td>-0.601773</td>\n",
              "      <td>-0.007957</td>\n",
              "    </tr>\n",
              "    <tr>\n",
              "      <th>3</th>\n",
              "      <td>-0.661288</td>\n",
              "      <td>-0.567275</td>\n",
              "      <td>-0.434530</td>\n",
              "      <td>-0.676850</td>\n",
              "    </tr>\n",
              "    <tr>\n",
              "      <th>4</th>\n",
              "      <td>-1.343922</td>\n",
              "      <td>0.925455</td>\n",
              "      <td>-0.575168</td>\n",
              "      <td>-0.707020</td>\n",
              "    </tr>\n",
              "    <tr>\n",
              "      <th>5</th>\n",
              "      <td>0.680960</td>\n",
              "      <td>-0.508805</td>\n",
              "      <td>-0.326015</td>\n",
              "      <td>-1.409702</td>\n",
              "    </tr>\n",
              "    <tr>\n",
              "      <th>6</th>\n",
              "      <td>0.309535</td>\n",
              "      <td>0.756027</td>\n",
              "      <td>-0.937972</td>\n",
              "      <td>-0.955143</td>\n",
              "    </tr>\n",
              "    <tr>\n",
              "      <th>7</th>\n",
              "      <td>0.591770</td>\n",
              "      <td>-1.612591</td>\n",
              "      <td>-1.928611</td>\n",
              "      <td>1.147080</td>\n",
              "    </tr>\n",
              "  </tbody>\n",
              "</table>\n",
              "</div>"
            ],
            "text/plain": [
              "          A         B         C         D\n",
              "0  1.000472  0.391288  0.355205  1.149670\n",
              "1  0.627573 -1.247157 -0.521394 -1.579084\n",
              "2  0.530704  0.050987 -0.601773 -0.007957\n",
              "3 -0.661288 -0.567275 -0.434530 -0.676850\n",
              "4 -1.343922  0.925455 -0.575168 -0.707020\n",
              "5  0.680960 -0.508805 -0.326015 -1.409702\n",
              "6  0.309535  0.756027 -0.937972 -0.955143\n",
              "7  0.591770 -1.612591 -1.928611  1.147080"
            ]
          },
          "metadata": {
            "tags": []
          },
          "execution_count": 63
        }
      ]
    },
    {
      "cell_type": "code",
      "metadata": {
        "_cell_guid": "b15aafac-1acf-4dff-87fc-3e43b9e0ae68",
        "_uuid": "963ccfe458e2b84996e688c787dc9daf00ddfa2f",
        "id": "0qfXgFwjA1AH",
        "colab_type": "code",
        "colab": {
          "base_uri": "https://localhost:8080/",
          "height": 0
        },
        "outputId": "e28eed13-8d86-4591-92a9-e7b1c0f9dd04"
      },
      "source": [
        "s = df.iloc[3]\n",
        "s"
      ],
      "execution_count": 64,
      "outputs": [
        {
          "output_type": "execute_result",
          "data": {
            "text/plain": [
              "A   -0.661288\n",
              "B   -0.567275\n",
              "C   -0.434530\n",
              "D   -0.676850\n",
              "Name: 3, dtype: float64"
            ]
          },
          "metadata": {
            "tags": []
          },
          "execution_count": 64
        }
      ]
    },
    {
      "cell_type": "code",
      "metadata": {
        "_cell_guid": "8e8e9c59-b72f-423a-888b-adb66ff31f0d",
        "_uuid": "5de0b99314a3e8b7d347050a5d09f729dd54ed52",
        "id": "2Itfc2RDA1AK",
        "colab_type": "code",
        "colab": {
          "base_uri": "https://localhost:8080/",
          "height": 0
        },
        "outputId": "44175858-4414-4e4b-b31c-03317624ca83"
      },
      "source": [
        "df.append(s,ignore_index=True)"
      ],
      "execution_count": 65,
      "outputs": [
        {
          "output_type": "execute_result",
          "data": {
            "text/html": [
              "<div>\n",
              "<style scoped>\n",
              "    .dataframe tbody tr th:only-of-type {\n",
              "        vertical-align: middle;\n",
              "    }\n",
              "\n",
              "    .dataframe tbody tr th {\n",
              "        vertical-align: top;\n",
              "    }\n",
              "\n",
              "    .dataframe thead th {\n",
              "        text-align: right;\n",
              "    }\n",
              "</style>\n",
              "<table border=\"1\" class=\"dataframe\">\n",
              "  <thead>\n",
              "    <tr style=\"text-align: right;\">\n",
              "      <th></th>\n",
              "      <th>A</th>\n",
              "      <th>B</th>\n",
              "      <th>C</th>\n",
              "      <th>D</th>\n",
              "    </tr>\n",
              "  </thead>\n",
              "  <tbody>\n",
              "    <tr>\n",
              "      <th>0</th>\n",
              "      <td>1.000472</td>\n",
              "      <td>0.391288</td>\n",
              "      <td>0.355205</td>\n",
              "      <td>1.149670</td>\n",
              "    </tr>\n",
              "    <tr>\n",
              "      <th>1</th>\n",
              "      <td>0.627573</td>\n",
              "      <td>-1.247157</td>\n",
              "      <td>-0.521394</td>\n",
              "      <td>-1.579084</td>\n",
              "    </tr>\n",
              "    <tr>\n",
              "      <th>2</th>\n",
              "      <td>0.530704</td>\n",
              "      <td>0.050987</td>\n",
              "      <td>-0.601773</td>\n",
              "      <td>-0.007957</td>\n",
              "    </tr>\n",
              "    <tr>\n",
              "      <th>3</th>\n",
              "      <td>-0.661288</td>\n",
              "      <td>-0.567275</td>\n",
              "      <td>-0.434530</td>\n",
              "      <td>-0.676850</td>\n",
              "    </tr>\n",
              "    <tr>\n",
              "      <th>4</th>\n",
              "      <td>-1.343922</td>\n",
              "      <td>0.925455</td>\n",
              "      <td>-0.575168</td>\n",
              "      <td>-0.707020</td>\n",
              "    </tr>\n",
              "    <tr>\n",
              "      <th>5</th>\n",
              "      <td>0.680960</td>\n",
              "      <td>-0.508805</td>\n",
              "      <td>-0.326015</td>\n",
              "      <td>-1.409702</td>\n",
              "    </tr>\n",
              "    <tr>\n",
              "      <th>6</th>\n",
              "      <td>0.309535</td>\n",
              "      <td>0.756027</td>\n",
              "      <td>-0.937972</td>\n",
              "      <td>-0.955143</td>\n",
              "    </tr>\n",
              "    <tr>\n",
              "      <th>7</th>\n",
              "      <td>0.591770</td>\n",
              "      <td>-1.612591</td>\n",
              "      <td>-1.928611</td>\n",
              "      <td>1.147080</td>\n",
              "    </tr>\n",
              "    <tr>\n",
              "      <th>8</th>\n",
              "      <td>-0.661288</td>\n",
              "      <td>-0.567275</td>\n",
              "      <td>-0.434530</td>\n",
              "      <td>-0.676850</td>\n",
              "    </tr>\n",
              "  </tbody>\n",
              "</table>\n",
              "</div>"
            ],
            "text/plain": [
              "          A         B         C         D\n",
              "0  1.000472  0.391288  0.355205  1.149670\n",
              "1  0.627573 -1.247157 -0.521394 -1.579084\n",
              "2  0.530704  0.050987 -0.601773 -0.007957\n",
              "3 -0.661288 -0.567275 -0.434530 -0.676850\n",
              "4 -1.343922  0.925455 -0.575168 -0.707020\n",
              "5  0.680960 -0.508805 -0.326015 -1.409702\n",
              "6  0.309535  0.756027 -0.937972 -0.955143\n",
              "7  0.591770 -1.612591 -1.928611  1.147080\n",
              "8 -0.661288 -0.567275 -0.434530 -0.676850"
            ]
          },
          "metadata": {
            "tags": []
          },
          "execution_count": 65
        }
      ]
    },
    {
      "cell_type": "markdown",
      "metadata": {
        "_cell_guid": "dbf8666d-7af7-4fd0-b40a-5dd3a93cc0cb",
        "_uuid": "9f29392de68aceec0cadc01ccdfc2c124e6821f2",
        "id": "ng7SRDvHA1AM",
        "colab_type": "text"
      },
      "source": [
        "# Grouping\n",
        "By “group by” we are referring to a process involving one or more of the following steps\n",
        "\n",
        "Splitting the data into groups based on some criteria\n",
        "Applying a function to each group independently\n",
        "Combining the results into a data structure\n",
        "\n",
        "See the [Grouping section](https://pandas.pydata.org/pandas-docs/stable/groupby.html#groupby)"
      ]
    },
    {
      "cell_type": "code",
      "metadata": {
        "_cell_guid": "23331b94-daca-4454-9f8c-f442169e5062",
        "_uuid": "4934d8285f1ed9fc748cb571d8bf212d6f4880ed",
        "id": "lKpeERnmA1AN",
        "colab_type": "code",
        "colab": {
          "base_uri": "https://localhost:8080/",
          "height": 0
        },
        "outputId": "d4b1a339-5442-4313-ddab-95f891763eff"
      },
      "source": [
        "df = pd.DataFrame({'A' : ['foo', 'bar', 'foo', 'bar',\n",
        "   ....:                           'foo', 'bar', 'foo', 'foo'],\n",
        "   ....:                    'B' : ['one', 'one', 'two', 'three',\n",
        "   ....:                           'two', 'two', 'one', 'three'],\n",
        "   ....:                    'C' : np.random.randn(8),\n",
        "   ....:                    'D' : np.random.randn(8)})\n",
        "df"
      ],
      "execution_count": 66,
      "outputs": [
        {
          "output_type": "execute_result",
          "data": {
            "text/html": [
              "<div>\n",
              "<style scoped>\n",
              "    .dataframe tbody tr th:only-of-type {\n",
              "        vertical-align: middle;\n",
              "    }\n",
              "\n",
              "    .dataframe tbody tr th {\n",
              "        vertical-align: top;\n",
              "    }\n",
              "\n",
              "    .dataframe thead th {\n",
              "        text-align: right;\n",
              "    }\n",
              "</style>\n",
              "<table border=\"1\" class=\"dataframe\">\n",
              "  <thead>\n",
              "    <tr style=\"text-align: right;\">\n",
              "      <th></th>\n",
              "      <th>A</th>\n",
              "      <th>B</th>\n",
              "      <th>C</th>\n",
              "      <th>D</th>\n",
              "    </tr>\n",
              "  </thead>\n",
              "  <tbody>\n",
              "    <tr>\n",
              "      <th>0</th>\n",
              "      <td>foo</td>\n",
              "      <td>one</td>\n",
              "      <td>1.050047</td>\n",
              "      <td>-0.652215</td>\n",
              "    </tr>\n",
              "    <tr>\n",
              "      <th>1</th>\n",
              "      <td>bar</td>\n",
              "      <td>one</td>\n",
              "      <td>1.189374</td>\n",
              "      <td>0.266139</td>\n",
              "    </tr>\n",
              "    <tr>\n",
              "      <th>2</th>\n",
              "      <td>foo</td>\n",
              "      <td>two</td>\n",
              "      <td>1.575754</td>\n",
              "      <td>0.742967</td>\n",
              "    </tr>\n",
              "    <tr>\n",
              "      <th>3</th>\n",
              "      <td>bar</td>\n",
              "      <td>three</td>\n",
              "      <td>0.678484</td>\n",
              "      <td>-1.622414</td>\n",
              "    </tr>\n",
              "    <tr>\n",
              "      <th>4</th>\n",
              "      <td>foo</td>\n",
              "      <td>two</td>\n",
              "      <td>-0.890176</td>\n",
              "      <td>0.669086</td>\n",
              "    </tr>\n",
              "    <tr>\n",
              "      <th>5</th>\n",
              "      <td>bar</td>\n",
              "      <td>two</td>\n",
              "      <td>-0.956500</td>\n",
              "      <td>0.020182</td>\n",
              "    </tr>\n",
              "    <tr>\n",
              "      <th>6</th>\n",
              "      <td>foo</td>\n",
              "      <td>one</td>\n",
              "      <td>-2.434200</td>\n",
              "      <td>-0.161469</td>\n",
              "    </tr>\n",
              "    <tr>\n",
              "      <th>7</th>\n",
              "      <td>foo</td>\n",
              "      <td>three</td>\n",
              "      <td>0.664696</td>\n",
              "      <td>-0.254127</td>\n",
              "    </tr>\n",
              "  </tbody>\n",
              "</table>\n",
              "</div>"
            ],
            "text/plain": [
              "     A      B         C         D\n",
              "0  foo    one  1.050047 -0.652215\n",
              "1  bar    one  1.189374  0.266139\n",
              "2  foo    two  1.575754  0.742967\n",
              "3  bar  three  0.678484 -1.622414\n",
              "4  foo    two -0.890176  0.669086\n",
              "5  bar    two -0.956500  0.020182\n",
              "6  foo    one -2.434200 -0.161469\n",
              "7  foo  three  0.664696 -0.254127"
            ]
          },
          "metadata": {
            "tags": []
          },
          "execution_count": 66
        }
      ]
    },
    {
      "cell_type": "markdown",
      "metadata": {
        "_cell_guid": "6ba9b996-c9dc-4ea0-901b-32ee9251529c",
        "_uuid": "c58620f714db8772c05d14a5945c69db2e2f8e62",
        "id": "c1r7VpnaA1AO",
        "colab_type": "text"
      },
      "source": [
        "Grouping and then applying a function sum to the resulting groups."
      ]
    },
    {
      "cell_type": "code",
      "metadata": {
        "_cell_guid": "ea8abe75-1945-402c-9a22-7d19393853ba",
        "_uuid": "98178d2cec0567107285d68e1dcb9aa411b74ad4",
        "id": "xXGGO_tAA1AP",
        "colab_type": "code",
        "colab": {
          "base_uri": "https://localhost:8080/",
          "height": 0
        },
        "outputId": "f12ddd91-c46e-439b-c230-6e3abf229290"
      },
      "source": [
        "df.groupby('A').sum()"
      ],
      "execution_count": 67,
      "outputs": [
        {
          "output_type": "execute_result",
          "data": {
            "text/html": [
              "<div>\n",
              "<style scoped>\n",
              "    .dataframe tbody tr th:only-of-type {\n",
              "        vertical-align: middle;\n",
              "    }\n",
              "\n",
              "    .dataframe tbody tr th {\n",
              "        vertical-align: top;\n",
              "    }\n",
              "\n",
              "    .dataframe thead th {\n",
              "        text-align: right;\n",
              "    }\n",
              "</style>\n",
              "<table border=\"1\" class=\"dataframe\">\n",
              "  <thead>\n",
              "    <tr style=\"text-align: right;\">\n",
              "      <th></th>\n",
              "      <th>C</th>\n",
              "      <th>D</th>\n",
              "    </tr>\n",
              "    <tr>\n",
              "      <th>A</th>\n",
              "      <th></th>\n",
              "      <th></th>\n",
              "    </tr>\n",
              "  </thead>\n",
              "  <tbody>\n",
              "    <tr>\n",
              "      <th>bar</th>\n",
              "      <td>0.911357</td>\n",
              "      <td>-1.336092</td>\n",
              "    </tr>\n",
              "    <tr>\n",
              "      <th>foo</th>\n",
              "      <td>-0.033877</td>\n",
              "      <td>0.344241</td>\n",
              "    </tr>\n",
              "  </tbody>\n",
              "</table>\n",
              "</div>"
            ],
            "text/plain": [
              "            C         D\n",
              "A                      \n",
              "bar  0.911357 -1.336092\n",
              "foo -0.033877  0.344241"
            ]
          },
          "metadata": {
            "tags": []
          },
          "execution_count": 67
        }
      ]
    },
    {
      "cell_type": "markdown",
      "metadata": {
        "_cell_guid": "8d5181e7-9196-4575-979a-5167e1347f99",
        "_uuid": "4e11d0fa50d0c5f4ba267e7f13af361eb78715fa",
        "id": "cgZko-crA1AR",
        "colab_type": "text"
      },
      "source": [
        "Grouping by multiple columns forms a hierarchical index, which we then apply the function."
      ]
    },
    {
      "cell_type": "code",
      "metadata": {
        "_cell_guid": "d4fd100b-cd69-4f81-afae-f1930e1d66c2",
        "_uuid": "f66bb1fb16b537febc7839743a177a222f4946e5",
        "id": "-jt6d1bSA1AR",
        "colab_type": "code",
        "colab": {
          "base_uri": "https://localhost:8080/",
          "height": 0
        },
        "outputId": "3d46b4ad-dbf3-4587-ae69-51e944f172fe"
      },
      "source": [
        "df.groupby(['A','B']).sum()"
      ],
      "execution_count": 68,
      "outputs": [
        {
          "output_type": "execute_result",
          "data": {
            "text/html": [
              "<div>\n",
              "<style scoped>\n",
              "    .dataframe tbody tr th:only-of-type {\n",
              "        vertical-align: middle;\n",
              "    }\n",
              "\n",
              "    .dataframe tbody tr th {\n",
              "        vertical-align: top;\n",
              "    }\n",
              "\n",
              "    .dataframe thead th {\n",
              "        text-align: right;\n",
              "    }\n",
              "</style>\n",
              "<table border=\"1\" class=\"dataframe\">\n",
              "  <thead>\n",
              "    <tr style=\"text-align: right;\">\n",
              "      <th></th>\n",
              "      <th></th>\n",
              "      <th>C</th>\n",
              "      <th>D</th>\n",
              "    </tr>\n",
              "    <tr>\n",
              "      <th>A</th>\n",
              "      <th>B</th>\n",
              "      <th></th>\n",
              "      <th></th>\n",
              "    </tr>\n",
              "  </thead>\n",
              "  <tbody>\n",
              "    <tr>\n",
              "      <th rowspan=\"3\" valign=\"top\">bar</th>\n",
              "      <th>one</th>\n",
              "      <td>1.189374</td>\n",
              "      <td>0.266139</td>\n",
              "    </tr>\n",
              "    <tr>\n",
              "      <th>three</th>\n",
              "      <td>0.678484</td>\n",
              "      <td>-1.622414</td>\n",
              "    </tr>\n",
              "    <tr>\n",
              "      <th>two</th>\n",
              "      <td>-0.956500</td>\n",
              "      <td>0.020182</td>\n",
              "    </tr>\n",
              "    <tr>\n",
              "      <th rowspan=\"3\" valign=\"top\">foo</th>\n",
              "      <th>one</th>\n",
              "      <td>-1.384152</td>\n",
              "      <td>-0.813685</td>\n",
              "    </tr>\n",
              "    <tr>\n",
              "      <th>three</th>\n",
              "      <td>0.664696</td>\n",
              "      <td>-0.254127</td>\n",
              "    </tr>\n",
              "    <tr>\n",
              "      <th>two</th>\n",
              "      <td>0.685579</td>\n",
              "      <td>1.412053</td>\n",
              "    </tr>\n",
              "  </tbody>\n",
              "</table>\n",
              "</div>"
            ],
            "text/plain": [
              "                  C         D\n",
              "A   B                        \n",
              "bar one    1.189374  0.266139\n",
              "    three  0.678484 -1.622414\n",
              "    two   -0.956500  0.020182\n",
              "foo one   -1.384152 -0.813685\n",
              "    three  0.664696 -0.254127\n",
              "    two    0.685579  1.412053"
            ]
          },
          "metadata": {
            "tags": []
          },
          "execution_count": 68
        }
      ]
    },
    {
      "cell_type": "markdown",
      "metadata": {
        "_cell_guid": "d0c596d2-7b4a-4b22-80c9-fad65f090aba",
        "_uuid": "15911cf2e4cddee344569d63d9ed362efca7f919",
        "id": "JF5t89zUA1AT",
        "colab_type": "text"
      },
      "source": [
        "# Reshaping\n",
        "See the sections on [Hierarchical Indexing](https://pandas.pydata.org/pandas-docs/stable/advanced.html#advanced-hierarchical) and [Reshaping](https://pandas.pydata.org/pandas-docs/stable/reshaping.html#reshaping-stacking).\n",
        "\n",
        "### Stack"
      ]
    },
    {
      "cell_type": "code",
      "metadata": {
        "_cell_guid": "266aea3e-433a-436a-83df-08551438f6df",
        "_uuid": "5d1deec928f77a06ad5d090b9a72c04168cda5c2",
        "id": "oDEdCMTiA1AU",
        "colab_type": "code",
        "colab": {
          "base_uri": "https://localhost:8080/",
          "height": 0
        },
        "outputId": "3ba9aece-77c3-4b1d-e6c1-ca73d3388b12"
      },
      "source": [
        "tuples = list(zip(*[['bar', 'bar', 'baz', 'baz',\n",
        "   ....:                      'foo', 'foo', 'qux', 'qux'],\n",
        "   ....:                     ['one', 'two', 'one', 'two',\n",
        "   ....:                      'one', 'two', 'one', 'two']]))\n",
        "tuples"
      ],
      "execution_count": 69,
      "outputs": [
        {
          "output_type": "execute_result",
          "data": {
            "text/plain": [
              "[('bar', 'one'),\n",
              " ('bar', 'two'),\n",
              " ('baz', 'one'),\n",
              " ('baz', 'two'),\n",
              " ('foo', 'one'),\n",
              " ('foo', 'two'),\n",
              " ('qux', 'one'),\n",
              " ('qux', 'two')]"
            ]
          },
          "metadata": {
            "tags": []
          },
          "execution_count": 69
        }
      ]
    },
    {
      "cell_type": "code",
      "metadata": {
        "_cell_guid": "084d1096-800c-4bc4-aa44-cea9599a65dd",
        "_uuid": "4568a8525a65f30a40a3c6cbae4b8c53eb403b97",
        "id": "LPwl0lL3A1AX",
        "colab_type": "code",
        "colab": {
          "base_uri": "https://localhost:8080/",
          "height": 0
        },
        "outputId": "0f05b809-961e-4017-d99a-f73bbae0035a"
      },
      "source": [
        "index = pd.MultiIndex.from_tuples(tuples, names=['first', 'second'])\n",
        "index"
      ],
      "execution_count": 70,
      "outputs": [
        {
          "output_type": "execute_result",
          "data": {
            "text/plain": [
              "MultiIndex([('bar', 'one'),\n",
              "            ('bar', 'two'),\n",
              "            ('baz', 'one'),\n",
              "            ('baz', 'two'),\n",
              "            ('foo', 'one'),\n",
              "            ('foo', 'two'),\n",
              "            ('qux', 'one'),\n",
              "            ('qux', 'two')],\n",
              "           names=['first', 'second'])"
            ]
          },
          "metadata": {
            "tags": []
          },
          "execution_count": 70
        }
      ]
    },
    {
      "cell_type": "code",
      "metadata": {
        "_cell_guid": "0764158a-666f-46d9-a981-c97df7b39b34",
        "_uuid": "a05b99f0ea1fa20c13aaad0e738045f14c97e8fb",
        "id": "V-RPMY4IA1AZ",
        "colab_type": "code",
        "colab": {
          "base_uri": "https://localhost:8080/",
          "height": 0
        },
        "outputId": "0874edba-a0b5-48b4-b71a-442cde97f55f"
      },
      "source": [
        "df = pd.DataFrame(np.random.randn(8, 2), index=index, columns=['A', 'B'])\n",
        "df"
      ],
      "execution_count": 71,
      "outputs": [
        {
          "output_type": "execute_result",
          "data": {
            "text/html": [
              "<div>\n",
              "<style scoped>\n",
              "    .dataframe tbody tr th:only-of-type {\n",
              "        vertical-align: middle;\n",
              "    }\n",
              "\n",
              "    .dataframe tbody tr th {\n",
              "        vertical-align: top;\n",
              "    }\n",
              "\n",
              "    .dataframe thead th {\n",
              "        text-align: right;\n",
              "    }\n",
              "</style>\n",
              "<table border=\"1\" class=\"dataframe\">\n",
              "  <thead>\n",
              "    <tr style=\"text-align: right;\">\n",
              "      <th></th>\n",
              "      <th></th>\n",
              "      <th>A</th>\n",
              "      <th>B</th>\n",
              "    </tr>\n",
              "    <tr>\n",
              "      <th>first</th>\n",
              "      <th>second</th>\n",
              "      <th></th>\n",
              "      <th></th>\n",
              "    </tr>\n",
              "  </thead>\n",
              "  <tbody>\n",
              "    <tr>\n",
              "      <th rowspan=\"2\" valign=\"top\">bar</th>\n",
              "      <th>one</th>\n",
              "      <td>-0.116047</td>\n",
              "      <td>-0.199027</td>\n",
              "    </tr>\n",
              "    <tr>\n",
              "      <th>two</th>\n",
              "      <td>-0.733117</td>\n",
              "      <td>-0.466681</td>\n",
              "    </tr>\n",
              "    <tr>\n",
              "      <th rowspan=\"2\" valign=\"top\">baz</th>\n",
              "      <th>one</th>\n",
              "      <td>0.237487</td>\n",
              "      <td>1.436321</td>\n",
              "    </tr>\n",
              "    <tr>\n",
              "      <th>two</th>\n",
              "      <td>-1.413743</td>\n",
              "      <td>-0.798164</td>\n",
              "    </tr>\n",
              "    <tr>\n",
              "      <th rowspan=\"2\" valign=\"top\">foo</th>\n",
              "      <th>one</th>\n",
              "      <td>0.604822</td>\n",
              "      <td>-1.124182</td>\n",
              "    </tr>\n",
              "    <tr>\n",
              "      <th>two</th>\n",
              "      <td>-1.134636</td>\n",
              "      <td>-1.326615</td>\n",
              "    </tr>\n",
              "    <tr>\n",
              "      <th rowspan=\"2\" valign=\"top\">qux</th>\n",
              "      <th>one</th>\n",
              "      <td>0.693102</td>\n",
              "      <td>-0.713515</td>\n",
              "    </tr>\n",
              "    <tr>\n",
              "      <th>two</th>\n",
              "      <td>-1.175385</td>\n",
              "      <td>0.927067</td>\n",
              "    </tr>\n",
              "  </tbody>\n",
              "</table>\n",
              "</div>"
            ],
            "text/plain": [
              "                     A         B\n",
              "first second                    \n",
              "bar   one    -0.116047 -0.199027\n",
              "      two    -0.733117 -0.466681\n",
              "baz   one     0.237487  1.436321\n",
              "      two    -1.413743 -0.798164\n",
              "foo   one     0.604822 -1.124182\n",
              "      two    -1.134636 -1.326615\n",
              "qux   one     0.693102 -0.713515\n",
              "      two    -1.175385  0.927067"
            ]
          },
          "metadata": {
            "tags": []
          },
          "execution_count": 71
        }
      ]
    },
    {
      "cell_type": "markdown",
      "metadata": {
        "_cell_guid": "35cca8ca-6aed-4f7e-9d52-14f5ec8e4e42",
        "_uuid": "3987868916766e10a30f5bdc3d1759ae29aec4b0",
        "id": "Vvyo-bkjA1Ab",
        "colab_type": "text"
      },
      "source": [
        "The [stack()](https://pandas.pydata.org/pandas-docs/stable/generated/pandas.DataFrame.stack.html#pandas.DataFrame.stack) method “compresses” a level in the DataFrame’s columns."
      ]
    },
    {
      "cell_type": "code",
      "metadata": {
        "_cell_guid": "ba300ff7-e5a1-4169-9b00-6c5a13e4d557",
        "_uuid": "a05087c82e0941531337c2166c6027ce8b8e9624",
        "id": "9EcxgySjA1Ab",
        "colab_type": "code",
        "colab": {
          "base_uri": "https://localhost:8080/",
          "height": 0
        },
        "outputId": "e302a9ce-3694-4375-d428-7bdc07c650f3"
      },
      "source": [
        "stacked = df.stack()\n",
        "stacked"
      ],
      "execution_count": 72,
      "outputs": [
        {
          "output_type": "execute_result",
          "data": {
            "text/plain": [
              "first  second   \n",
              "bar    one     A   -0.116047\n",
              "               B   -0.199027\n",
              "       two     A   -0.733117\n",
              "               B   -0.466681\n",
              "baz    one     A    0.237487\n",
              "               B    1.436321\n",
              "       two     A   -1.413743\n",
              "               B   -0.798164\n",
              "foo    one     A    0.604822\n",
              "               B   -1.124182\n",
              "       two     A   -1.134636\n",
              "               B   -1.326615\n",
              "qux    one     A    0.693102\n",
              "               B   -0.713515\n",
              "       two     A   -1.175385\n",
              "               B    0.927067\n",
              "dtype: float64"
            ]
          },
          "metadata": {
            "tags": []
          },
          "execution_count": 72
        }
      ]
    },
    {
      "cell_type": "markdown",
      "metadata": {
        "_cell_guid": "e15acb89-1dd2-4ff4-90ca-796d6dc510b3",
        "_uuid": "b8d507f4029c20f98bb3a782845bc8ca13637a82",
        "id": "BaWMz4APA1Ae",
        "colab_type": "text"
      },
      "source": [
        "With a “stacked” DataFrame or Series (having a MultiIndex as the index), the inverse operation of [stack()](https://pandas.pydata.org/pandas-docs/stable/generated/pandas.DataFrame.stack.html#pandas.DataFrame.stack) is [unstack()](https://pandas.pydata.org/pandas-docs/stable/generated/pandas.DataFrame.unstack.html#pandas.DataFrame.unstack), which by default unstacks the last level:"
      ]
    },
    {
      "cell_type": "code",
      "metadata": {
        "_cell_guid": "73d256c6-dd54-418d-b3c0-ce432f397763",
        "_uuid": "7ac035cd3392fdb6e9bc8bdf49b69c279309c018",
        "id": "-7bI3-_GA1Af",
        "colab_type": "code",
        "colab": {
          "base_uri": "https://localhost:8080/",
          "height": 0
        },
        "outputId": "7d25da91-ba38-4063-c5de-869a48df5325"
      },
      "source": [
        "stacked.unstack()"
      ],
      "execution_count": 73,
      "outputs": [
        {
          "output_type": "execute_result",
          "data": {
            "text/html": [
              "<div>\n",
              "<style scoped>\n",
              "    .dataframe tbody tr th:only-of-type {\n",
              "        vertical-align: middle;\n",
              "    }\n",
              "\n",
              "    .dataframe tbody tr th {\n",
              "        vertical-align: top;\n",
              "    }\n",
              "\n",
              "    .dataframe thead th {\n",
              "        text-align: right;\n",
              "    }\n",
              "</style>\n",
              "<table border=\"1\" class=\"dataframe\">\n",
              "  <thead>\n",
              "    <tr style=\"text-align: right;\">\n",
              "      <th></th>\n",
              "      <th></th>\n",
              "      <th>A</th>\n",
              "      <th>B</th>\n",
              "    </tr>\n",
              "    <tr>\n",
              "      <th>first</th>\n",
              "      <th>second</th>\n",
              "      <th></th>\n",
              "      <th></th>\n",
              "    </tr>\n",
              "  </thead>\n",
              "  <tbody>\n",
              "    <tr>\n",
              "      <th rowspan=\"2\" valign=\"top\">bar</th>\n",
              "      <th>one</th>\n",
              "      <td>-0.116047</td>\n",
              "      <td>-0.199027</td>\n",
              "    </tr>\n",
              "    <tr>\n",
              "      <th>two</th>\n",
              "      <td>-0.733117</td>\n",
              "      <td>-0.466681</td>\n",
              "    </tr>\n",
              "    <tr>\n",
              "      <th rowspan=\"2\" valign=\"top\">baz</th>\n",
              "      <th>one</th>\n",
              "      <td>0.237487</td>\n",
              "      <td>1.436321</td>\n",
              "    </tr>\n",
              "    <tr>\n",
              "      <th>two</th>\n",
              "      <td>-1.413743</td>\n",
              "      <td>-0.798164</td>\n",
              "    </tr>\n",
              "    <tr>\n",
              "      <th rowspan=\"2\" valign=\"top\">foo</th>\n",
              "      <th>one</th>\n",
              "      <td>0.604822</td>\n",
              "      <td>-1.124182</td>\n",
              "    </tr>\n",
              "    <tr>\n",
              "      <th>two</th>\n",
              "      <td>-1.134636</td>\n",
              "      <td>-1.326615</td>\n",
              "    </tr>\n",
              "    <tr>\n",
              "      <th rowspan=\"2\" valign=\"top\">qux</th>\n",
              "      <th>one</th>\n",
              "      <td>0.693102</td>\n",
              "      <td>-0.713515</td>\n",
              "    </tr>\n",
              "    <tr>\n",
              "      <th>two</th>\n",
              "      <td>-1.175385</td>\n",
              "      <td>0.927067</td>\n",
              "    </tr>\n",
              "  </tbody>\n",
              "</table>\n",
              "</div>"
            ],
            "text/plain": [
              "                     A         B\n",
              "first second                    \n",
              "bar   one    -0.116047 -0.199027\n",
              "      two    -0.733117 -0.466681\n",
              "baz   one     0.237487  1.436321\n",
              "      two    -1.413743 -0.798164\n",
              "foo   one     0.604822 -1.124182\n",
              "      two    -1.134636 -1.326615\n",
              "qux   one     0.693102 -0.713515\n",
              "      two    -1.175385  0.927067"
            ]
          },
          "metadata": {
            "tags": []
          },
          "execution_count": 73
        }
      ]
    },
    {
      "cell_type": "code",
      "metadata": {
        "_cell_guid": "cd7ae481-efc0-41cb-aacf-a7388c4111c0",
        "_uuid": "904cdcfbabb4492ab2a1a573c2cbd57f72bfe4bb",
        "id": "eWgTsITIA1Ag",
        "colab_type": "code",
        "colab": {
          "base_uri": "https://localhost:8080/",
          "height": 0
        },
        "outputId": "10e4ba41-4b0d-489d-ec91-f1e85ac31113"
      },
      "source": [
        "stacked.unstack(1)"
      ],
      "execution_count": 74,
      "outputs": [
        {
          "output_type": "execute_result",
          "data": {
            "text/html": [
              "<div>\n",
              "<style scoped>\n",
              "    .dataframe tbody tr th:only-of-type {\n",
              "        vertical-align: middle;\n",
              "    }\n",
              "\n",
              "    .dataframe tbody tr th {\n",
              "        vertical-align: top;\n",
              "    }\n",
              "\n",
              "    .dataframe thead th {\n",
              "        text-align: right;\n",
              "    }\n",
              "</style>\n",
              "<table border=\"1\" class=\"dataframe\">\n",
              "  <thead>\n",
              "    <tr style=\"text-align: right;\">\n",
              "      <th></th>\n",
              "      <th>second</th>\n",
              "      <th>one</th>\n",
              "      <th>two</th>\n",
              "    </tr>\n",
              "    <tr>\n",
              "      <th>first</th>\n",
              "      <th></th>\n",
              "      <th></th>\n",
              "      <th></th>\n",
              "    </tr>\n",
              "  </thead>\n",
              "  <tbody>\n",
              "    <tr>\n",
              "      <th rowspan=\"2\" valign=\"top\">bar</th>\n",
              "      <th>A</th>\n",
              "      <td>-0.116047</td>\n",
              "      <td>-0.733117</td>\n",
              "    </tr>\n",
              "    <tr>\n",
              "      <th>B</th>\n",
              "      <td>-0.199027</td>\n",
              "      <td>-0.466681</td>\n",
              "    </tr>\n",
              "    <tr>\n",
              "      <th rowspan=\"2\" valign=\"top\">baz</th>\n",
              "      <th>A</th>\n",
              "      <td>0.237487</td>\n",
              "      <td>-1.413743</td>\n",
              "    </tr>\n",
              "    <tr>\n",
              "      <th>B</th>\n",
              "      <td>1.436321</td>\n",
              "      <td>-0.798164</td>\n",
              "    </tr>\n",
              "    <tr>\n",
              "      <th rowspan=\"2\" valign=\"top\">foo</th>\n",
              "      <th>A</th>\n",
              "      <td>0.604822</td>\n",
              "      <td>-1.134636</td>\n",
              "    </tr>\n",
              "    <tr>\n",
              "      <th>B</th>\n",
              "      <td>-1.124182</td>\n",
              "      <td>-1.326615</td>\n",
              "    </tr>\n",
              "    <tr>\n",
              "      <th rowspan=\"2\" valign=\"top\">qux</th>\n",
              "      <th>A</th>\n",
              "      <td>0.693102</td>\n",
              "      <td>-1.175385</td>\n",
              "    </tr>\n",
              "    <tr>\n",
              "      <th>B</th>\n",
              "      <td>-0.713515</td>\n",
              "      <td>0.927067</td>\n",
              "    </tr>\n",
              "  </tbody>\n",
              "</table>\n",
              "</div>"
            ],
            "text/plain": [
              "second        one       two\n",
              "first                      \n",
              "bar   A -0.116047 -0.733117\n",
              "      B -0.199027 -0.466681\n",
              "baz   A  0.237487 -1.413743\n",
              "      B  1.436321 -0.798164\n",
              "foo   A  0.604822 -1.134636\n",
              "      B -1.124182 -1.326615\n",
              "qux   A  0.693102 -1.175385\n",
              "      B -0.713515  0.927067"
            ]
          },
          "metadata": {
            "tags": []
          },
          "execution_count": 74
        }
      ]
    },
    {
      "cell_type": "code",
      "metadata": {
        "_cell_guid": "63d4143c-2488-40a7-9d6a-8751ed8f5bec",
        "_uuid": "21092205bbd06eab81ab2b54fc709110c8ebedee",
        "id": "u6Uj92PaA1Ah",
        "colab_type": "code",
        "colab": {
          "base_uri": "https://localhost:8080/",
          "height": 0
        },
        "outputId": "e6fbec48-7d91-4e3d-df03-18e567c76457"
      },
      "source": [
        "stacked.unstack(0)"
      ],
      "execution_count": 75,
      "outputs": [
        {
          "output_type": "execute_result",
          "data": {
            "text/html": [
              "<div>\n",
              "<style scoped>\n",
              "    .dataframe tbody tr th:only-of-type {\n",
              "        vertical-align: middle;\n",
              "    }\n",
              "\n",
              "    .dataframe tbody tr th {\n",
              "        vertical-align: top;\n",
              "    }\n",
              "\n",
              "    .dataframe thead th {\n",
              "        text-align: right;\n",
              "    }\n",
              "</style>\n",
              "<table border=\"1\" class=\"dataframe\">\n",
              "  <thead>\n",
              "    <tr style=\"text-align: right;\">\n",
              "      <th></th>\n",
              "      <th>first</th>\n",
              "      <th>bar</th>\n",
              "      <th>baz</th>\n",
              "      <th>foo</th>\n",
              "      <th>qux</th>\n",
              "    </tr>\n",
              "    <tr>\n",
              "      <th>second</th>\n",
              "      <th></th>\n",
              "      <th></th>\n",
              "      <th></th>\n",
              "      <th></th>\n",
              "      <th></th>\n",
              "    </tr>\n",
              "  </thead>\n",
              "  <tbody>\n",
              "    <tr>\n",
              "      <th rowspan=\"2\" valign=\"top\">one</th>\n",
              "      <th>A</th>\n",
              "      <td>-0.116047</td>\n",
              "      <td>0.237487</td>\n",
              "      <td>0.604822</td>\n",
              "      <td>0.693102</td>\n",
              "    </tr>\n",
              "    <tr>\n",
              "      <th>B</th>\n",
              "      <td>-0.199027</td>\n",
              "      <td>1.436321</td>\n",
              "      <td>-1.124182</td>\n",
              "      <td>-0.713515</td>\n",
              "    </tr>\n",
              "    <tr>\n",
              "      <th rowspan=\"2\" valign=\"top\">two</th>\n",
              "      <th>A</th>\n",
              "      <td>-0.733117</td>\n",
              "      <td>-1.413743</td>\n",
              "      <td>-1.134636</td>\n",
              "      <td>-1.175385</td>\n",
              "    </tr>\n",
              "    <tr>\n",
              "      <th>B</th>\n",
              "      <td>-0.466681</td>\n",
              "      <td>-0.798164</td>\n",
              "      <td>-1.326615</td>\n",
              "      <td>0.927067</td>\n",
              "    </tr>\n",
              "  </tbody>\n",
              "</table>\n",
              "</div>"
            ],
            "text/plain": [
              "first          bar       baz       foo       qux\n",
              "second                                          \n",
              "one    A -0.116047  0.237487  0.604822  0.693102\n",
              "       B -0.199027  1.436321 -1.124182 -0.713515\n",
              "two    A -0.733117 -1.413743 -1.134636 -1.175385\n",
              "       B -0.466681 -0.798164 -1.326615  0.927067"
            ]
          },
          "metadata": {
            "tags": []
          },
          "execution_count": 75
        }
      ]
    },
    {
      "cell_type": "markdown",
      "metadata": {
        "_cell_guid": "2aeae2c4-7559-4fa7-a837-4500980c823c",
        "_uuid": "6108ff3064ecc74f8d264309548f6feb125ed9be",
        "id": "zddUbAOWA1Ai",
        "colab_type": "text"
      },
      "source": [
        "### Pivot Tables\n",
        "See the section on [Pivot Tables](https://pandas.pydata.org/pandas-docs/stable/reshaping.html#reshaping-pivot)."
      ]
    },
    {
      "cell_type": "code",
      "metadata": {
        "_cell_guid": "1a188e29-26e1-4ffc-acd1-5e8fb7c99465",
        "_uuid": "0acd04af17bb429101737d38d9f603571fb3006f",
        "id": "QINPa3AaA1Ai",
        "colab_type": "code",
        "colab": {
          "base_uri": "https://localhost:8080/",
          "height": 0
        },
        "outputId": "22f9eb9a-d304-4684-8eac-0e5727ae1051"
      },
      "source": [
        "df = pd.DataFrame({'A' : ['one', 'one', 'two', 'three'] * 3,\n",
        "   .....:                    'B' : ['A', 'B', 'C'] * 4,\n",
        "   .....:                    'C' : ['foo', 'foo', 'foo', 'bar', 'bar', 'bar'] * 2,\n",
        "   .....:                    'D' : np.random.randn(12),\n",
        "   .....:                    'E' : np.random.randn(12)})\n",
        "df"
      ],
      "execution_count": 76,
      "outputs": [
        {
          "output_type": "execute_result",
          "data": {
            "text/html": [
              "<div>\n",
              "<style scoped>\n",
              "    .dataframe tbody tr th:only-of-type {\n",
              "        vertical-align: middle;\n",
              "    }\n",
              "\n",
              "    .dataframe tbody tr th {\n",
              "        vertical-align: top;\n",
              "    }\n",
              "\n",
              "    .dataframe thead th {\n",
              "        text-align: right;\n",
              "    }\n",
              "</style>\n",
              "<table border=\"1\" class=\"dataframe\">\n",
              "  <thead>\n",
              "    <tr style=\"text-align: right;\">\n",
              "      <th></th>\n",
              "      <th>A</th>\n",
              "      <th>B</th>\n",
              "      <th>C</th>\n",
              "      <th>D</th>\n",
              "      <th>E</th>\n",
              "    </tr>\n",
              "  </thead>\n",
              "  <tbody>\n",
              "    <tr>\n",
              "      <th>0</th>\n",
              "      <td>one</td>\n",
              "      <td>A</td>\n",
              "      <td>foo</td>\n",
              "      <td>-0.323216</td>\n",
              "      <td>-1.133741</td>\n",
              "    </tr>\n",
              "    <tr>\n",
              "      <th>1</th>\n",
              "      <td>one</td>\n",
              "      <td>B</td>\n",
              "      <td>foo</td>\n",
              "      <td>0.625668</td>\n",
              "      <td>0.086055</td>\n",
              "    </tr>\n",
              "    <tr>\n",
              "      <th>2</th>\n",
              "      <td>two</td>\n",
              "      <td>C</td>\n",
              "      <td>foo</td>\n",
              "      <td>1.030933</td>\n",
              "      <td>0.304897</td>\n",
              "    </tr>\n",
              "    <tr>\n",
              "      <th>3</th>\n",
              "      <td>three</td>\n",
              "      <td>A</td>\n",
              "      <td>bar</td>\n",
              "      <td>-0.219035</td>\n",
              "      <td>-0.606067</td>\n",
              "    </tr>\n",
              "    <tr>\n",
              "      <th>4</th>\n",
              "      <td>one</td>\n",
              "      <td>B</td>\n",
              "      <td>bar</td>\n",
              "      <td>0.329057</td>\n",
              "      <td>-0.012856</td>\n",
              "    </tr>\n",
              "    <tr>\n",
              "      <th>5</th>\n",
              "      <td>one</td>\n",
              "      <td>C</td>\n",
              "      <td>bar</td>\n",
              "      <td>-0.390698</td>\n",
              "      <td>0.778487</td>\n",
              "    </tr>\n",
              "    <tr>\n",
              "      <th>6</th>\n",
              "      <td>two</td>\n",
              "      <td>A</td>\n",
              "      <td>foo</td>\n",
              "      <td>0.141161</td>\n",
              "      <td>0.228020</td>\n",
              "    </tr>\n",
              "    <tr>\n",
              "      <th>7</th>\n",
              "      <td>three</td>\n",
              "      <td>B</td>\n",
              "      <td>foo</td>\n",
              "      <td>-0.040809</td>\n",
              "      <td>0.452130</td>\n",
              "    </tr>\n",
              "    <tr>\n",
              "      <th>8</th>\n",
              "      <td>one</td>\n",
              "      <td>C</td>\n",
              "      <td>foo</td>\n",
              "      <td>-1.724118</td>\n",
              "      <td>0.577126</td>\n",
              "    </tr>\n",
              "    <tr>\n",
              "      <th>9</th>\n",
              "      <td>one</td>\n",
              "      <td>A</td>\n",
              "      <td>bar</td>\n",
              "      <td>-0.623725</td>\n",
              "      <td>-0.650270</td>\n",
              "    </tr>\n",
              "    <tr>\n",
              "      <th>10</th>\n",
              "      <td>two</td>\n",
              "      <td>B</td>\n",
              "      <td>bar</td>\n",
              "      <td>-2.268419</td>\n",
              "      <td>-1.527215</td>\n",
              "    </tr>\n",
              "    <tr>\n",
              "      <th>11</th>\n",
              "      <td>three</td>\n",
              "      <td>C</td>\n",
              "      <td>bar</td>\n",
              "      <td>1.042930</td>\n",
              "      <td>-1.235493</td>\n",
              "    </tr>\n",
              "  </tbody>\n",
              "</table>\n",
              "</div>"
            ],
            "text/plain": [
              "        A  B    C         D         E\n",
              "0     one  A  foo -0.323216 -1.133741\n",
              "1     one  B  foo  0.625668  0.086055\n",
              "2     two  C  foo  1.030933  0.304897\n",
              "3   three  A  bar -0.219035 -0.606067\n",
              "4     one  B  bar  0.329057 -0.012856\n",
              "5     one  C  bar -0.390698  0.778487\n",
              "6     two  A  foo  0.141161  0.228020\n",
              "7   three  B  foo -0.040809  0.452130\n",
              "8     one  C  foo -1.724118  0.577126\n",
              "9     one  A  bar -0.623725 -0.650270\n",
              "10    two  B  bar -2.268419 -1.527215\n",
              "11  three  C  bar  1.042930 -1.235493"
            ]
          },
          "metadata": {
            "tags": []
          },
          "execution_count": 76
        }
      ]
    },
    {
      "cell_type": "markdown",
      "metadata": {
        "_cell_guid": "2b2e7f69-e135-4cdb-9053-15446689a343",
        "_uuid": "8a59aa522a9c86d054fc8f1917117ff7131ce9d7",
        "id": "TWD7IVLvA1Aj",
        "colab_type": "text"
      },
      "source": [
        "We can produce pivot tables from this data very easily:"
      ]
    },
    {
      "cell_type": "code",
      "metadata": {
        "_cell_guid": "236b385e-a44c-4526-b7dd-826b858aec30",
        "_uuid": "24977494d59f97c71999811110baf456f25d9e1c",
        "id": "9Lp0o4CKA1Ak",
        "colab_type": "code",
        "colab": {
          "base_uri": "https://localhost:8080/",
          "height": 0
        },
        "outputId": "b44d799e-bc4c-4550-fad5-e8714fa94867"
      },
      "source": [
        "pd.pivot_table(df, values='D', index=['A', 'B'], columns=['C'])"
      ],
      "execution_count": 77,
      "outputs": [
        {
          "output_type": "execute_result",
          "data": {
            "text/html": [
              "<div>\n",
              "<style scoped>\n",
              "    .dataframe tbody tr th:only-of-type {\n",
              "        vertical-align: middle;\n",
              "    }\n",
              "\n",
              "    .dataframe tbody tr th {\n",
              "        vertical-align: top;\n",
              "    }\n",
              "\n",
              "    .dataframe thead th {\n",
              "        text-align: right;\n",
              "    }\n",
              "</style>\n",
              "<table border=\"1\" class=\"dataframe\">\n",
              "  <thead>\n",
              "    <tr style=\"text-align: right;\">\n",
              "      <th></th>\n",
              "      <th>C</th>\n",
              "      <th>bar</th>\n",
              "      <th>foo</th>\n",
              "    </tr>\n",
              "    <tr>\n",
              "      <th>A</th>\n",
              "      <th>B</th>\n",
              "      <th></th>\n",
              "      <th></th>\n",
              "    </tr>\n",
              "  </thead>\n",
              "  <tbody>\n",
              "    <tr>\n",
              "      <th rowspan=\"3\" valign=\"top\">one</th>\n",
              "      <th>A</th>\n",
              "      <td>-0.623725</td>\n",
              "      <td>-0.323216</td>\n",
              "    </tr>\n",
              "    <tr>\n",
              "      <th>B</th>\n",
              "      <td>0.329057</td>\n",
              "      <td>0.625668</td>\n",
              "    </tr>\n",
              "    <tr>\n",
              "      <th>C</th>\n",
              "      <td>-0.390698</td>\n",
              "      <td>-1.724118</td>\n",
              "    </tr>\n",
              "    <tr>\n",
              "      <th rowspan=\"3\" valign=\"top\">three</th>\n",
              "      <th>A</th>\n",
              "      <td>-0.219035</td>\n",
              "      <td>NaN</td>\n",
              "    </tr>\n",
              "    <tr>\n",
              "      <th>B</th>\n",
              "      <td>NaN</td>\n",
              "      <td>-0.040809</td>\n",
              "    </tr>\n",
              "    <tr>\n",
              "      <th>C</th>\n",
              "      <td>1.042930</td>\n",
              "      <td>NaN</td>\n",
              "    </tr>\n",
              "    <tr>\n",
              "      <th rowspan=\"3\" valign=\"top\">two</th>\n",
              "      <th>A</th>\n",
              "      <td>NaN</td>\n",
              "      <td>0.141161</td>\n",
              "    </tr>\n",
              "    <tr>\n",
              "      <th>B</th>\n",
              "      <td>-2.268419</td>\n",
              "      <td>NaN</td>\n",
              "    </tr>\n",
              "    <tr>\n",
              "      <th>C</th>\n",
              "      <td>NaN</td>\n",
              "      <td>1.030933</td>\n",
              "    </tr>\n",
              "  </tbody>\n",
              "</table>\n",
              "</div>"
            ],
            "text/plain": [
              "C             bar       foo\n",
              "A     B                    \n",
              "one   A -0.623725 -0.323216\n",
              "      B  0.329057  0.625668\n",
              "      C -0.390698 -1.724118\n",
              "three A -0.219035       NaN\n",
              "      B       NaN -0.040809\n",
              "      C  1.042930       NaN\n",
              "two   A       NaN  0.141161\n",
              "      B -2.268419       NaN\n",
              "      C       NaN  1.030933"
            ]
          },
          "metadata": {
            "tags": []
          },
          "execution_count": 77
        }
      ]
    },
    {
      "cell_type": "markdown",
      "metadata": {
        "_cell_guid": "d2a048eb-a0a2-49f1-8322-cec52e82f686",
        "_uuid": "1e9fb4493ac63b9741daf82d345cf4996fb534ae",
        "id": "XmofC9qyA1Al",
        "colab_type": "text"
      },
      "source": [
        "# Time Series\n",
        "pandas has simple, powerful, and efficient functionality for performing resampling operations during frequency conversion (e.g., converting secondly data into 5-minutely data). This is extremely common in, but not limited to, financial applications. See the [Time Series section](https://pandas.pydata.org/pandas-docs/stable/timeseries.html#timeseries)."
      ]
    },
    {
      "cell_type": "code",
      "metadata": {
        "_cell_guid": "8e241bb8-4365-46e1-af4e-e212c17ab73c",
        "_uuid": "0dce2c62fa3fe83d54a964e6be8edfc70f256167",
        "id": "zXZGdKT6A1Al",
        "colab_type": "code",
        "colab": {
          "base_uri": "https://localhost:8080/",
          "height": 0
        },
        "outputId": "c81dbf97-e7bc-409e-a882-728a6f624843"
      },
      "source": [
        "rng = pd.date_range('1/1/2017', periods=100, freq='S')\n",
        "ts = pd.Series(np.random.randint(0, 500, len(rng)), index=rng)\n",
        "ts.resample('5Min').sum()\n"
      ],
      "execution_count": 78,
      "outputs": [
        {
          "output_type": "execute_result",
          "data": {
            "text/plain": [
              "2017-01-01    25891\n",
              "Freq: 5T, dtype: int64"
            ]
          },
          "metadata": {
            "tags": []
          },
          "execution_count": 78
        }
      ]
    },
    {
      "cell_type": "markdown",
      "metadata": {
        "_cell_guid": "0daa2a55-6a1a-468f-84a0-593aa67ce25e",
        "_uuid": "81d2d75a0ce40e06025deccd8aa025de20b03b75",
        "id": "FBZ_YIiFA1Am",
        "colab_type": "text"
      },
      "source": [
        "Time zone representation"
      ]
    },
    {
      "cell_type": "code",
      "metadata": {
        "_cell_guid": "c5014c81-5303-432f-bc1f-bd4f7e667c30",
        "_uuid": "43018b7fc38618006b1ee7c3f755ff8d28c4662b",
        "id": "HO7s_eFYA1An",
        "colab_type": "code",
        "colab": {
          "base_uri": "https://localhost:8080/",
          "height": 0
        },
        "outputId": "79ff61ba-c1c9-4963-a8f0-a22256179803"
      },
      "source": [
        "rng = pd.date_range('3/6/2017 00:00', periods=5, freq='D')\n",
        "ts = pd.Series(np.random.randn(len(rng)), rng)\n",
        "ts"
      ],
      "execution_count": 79,
      "outputs": [
        {
          "output_type": "execute_result",
          "data": {
            "text/plain": [
              "2017-03-06    1.368641\n",
              "2017-03-07   -0.614120\n",
              "2017-03-08    0.179216\n",
              "2017-03-09    0.657587\n",
              "2017-03-10   -0.354269\n",
              "Freq: D, dtype: float64"
            ]
          },
          "metadata": {
            "tags": []
          },
          "execution_count": 79
        }
      ]
    },
    {
      "cell_type": "code",
      "metadata": {
        "_cell_guid": "641dbfaf-d904-4110-ac33-8fd6d51f35ae",
        "_uuid": "7f698edf03e66b1064830336ecfcf039d638629a",
        "id": "1-6AYwXSA1Ao",
        "colab_type": "code",
        "colab": {
          "base_uri": "https://localhost:8080/",
          "height": 0
        },
        "outputId": "bfea14ef-66b1-488e-8ebd-8156726dbbe8"
      },
      "source": [
        "ts_utc = ts.tz_localize('UTC')\n",
        "ts_utc"
      ],
      "execution_count": 80,
      "outputs": [
        {
          "output_type": "execute_result",
          "data": {
            "text/plain": [
              "2017-03-06 00:00:00+00:00    1.368641\n",
              "2017-03-07 00:00:00+00:00   -0.614120\n",
              "2017-03-08 00:00:00+00:00    0.179216\n",
              "2017-03-09 00:00:00+00:00    0.657587\n",
              "2017-03-10 00:00:00+00:00   -0.354269\n",
              "Freq: D, dtype: float64"
            ]
          },
          "metadata": {
            "tags": []
          },
          "execution_count": 80
        }
      ]
    },
    {
      "cell_type": "markdown",
      "metadata": {
        "_cell_guid": "1426cdde-ca90-4601-a103-5f36eab1738f",
        "_uuid": "91157d3eb394f4e4588bc97e4d45f2537e33dcca",
        "id": "cTqhpEtrA1Ap",
        "colab_type": "text"
      },
      "source": [
        "Convert to another time zone"
      ]
    },
    {
      "cell_type": "code",
      "metadata": {
        "_cell_guid": "7e2e2c12-6154-418a-acbb-8d1a67825b63",
        "_uuid": "910dcb7ee20644396fb426839cf6803cb9e7bbf1",
        "id": "rmIG3rO_A1Aq",
        "colab_type": "code",
        "colab": {
          "base_uri": "https://localhost:8080/",
          "height": 0
        },
        "outputId": "221b2db1-8798-41c8-ecd8-fa6f13e2e851"
      },
      "source": [
        "ts_utc.tz_convert('US/Eastern')"
      ],
      "execution_count": 81,
      "outputs": [
        {
          "output_type": "execute_result",
          "data": {
            "text/plain": [
              "2017-03-05 19:00:00-05:00    1.368641\n",
              "2017-03-06 19:00:00-05:00   -0.614120\n",
              "2017-03-07 19:00:00-05:00    0.179216\n",
              "2017-03-08 19:00:00-05:00    0.657587\n",
              "2017-03-09 19:00:00-05:00   -0.354269\n",
              "Freq: D, dtype: float64"
            ]
          },
          "metadata": {
            "tags": []
          },
          "execution_count": 81
        }
      ]
    },
    {
      "cell_type": "markdown",
      "metadata": {
        "_cell_guid": "0c0f6eec-5035-48dc-a2d4-8cc84a257ab9",
        "_uuid": "aeb2afaeacdd39a558b63e59cf98c4c27e194083",
        "id": "qbhQKOLuA1Ar",
        "colab_type": "text"
      },
      "source": [
        "Converting between time span representations"
      ]
    },
    {
      "cell_type": "code",
      "metadata": {
        "_cell_guid": "489d710f-c382-45f4-a368-fc78ce0819fb",
        "_uuid": "618d89ae23db202f5551fcca5f3db769843bc3a8",
        "id": "7nfHoY1xA1As",
        "colab_type": "code",
        "colab": {
          "base_uri": "https://localhost:8080/",
          "height": 0
        },
        "outputId": "acf7c8f4-576d-4f2e-a2d6-731413c4b292"
      },
      "source": [
        "rng = pd.date_range('1/1/2012', periods=5, freq='M')\n",
        "ts = pd.Series(np.random.randn(len(rng)), index=rng)\n",
        "ts"
      ],
      "execution_count": 82,
      "outputs": [
        {
          "output_type": "execute_result",
          "data": {
            "text/plain": [
              "2012-01-31    1.278537\n",
              "2012-02-29    1.636343\n",
              "2012-03-31    0.126941\n",
              "2012-04-30   -1.921226\n",
              "2012-05-31    0.304947\n",
              "Freq: M, dtype: float64"
            ]
          },
          "metadata": {
            "tags": []
          },
          "execution_count": 82
        }
      ]
    },
    {
      "cell_type": "code",
      "metadata": {
        "_cell_guid": "46e4915f-17a5-40eb-8506-49e8e5e434a8",
        "_uuid": "31c57985582c3ef27f84933dfab9321a6e0285f8",
        "id": "1sx1YKkuA1At",
        "colab_type": "code",
        "colab": {
          "base_uri": "https://localhost:8080/",
          "height": 0
        },
        "outputId": "a76e30c9-544c-405c-b36b-f691a3bb3a65"
      },
      "source": [
        "ps = ts.to_period('M')\n",
        "ps"
      ],
      "execution_count": 83,
      "outputs": [
        {
          "output_type": "execute_result",
          "data": {
            "text/plain": [
              "2012-01    1.278537\n",
              "2012-02    1.636343\n",
              "2012-03    0.126941\n",
              "2012-04   -1.921226\n",
              "2012-05    0.304947\n",
              "Freq: M, dtype: float64"
            ]
          },
          "metadata": {
            "tags": []
          },
          "execution_count": 83
        }
      ]
    },
    {
      "cell_type": "code",
      "metadata": {
        "_cell_guid": "3a8066ba-79d4-4975-86a2-804c82fe1dd6",
        "_uuid": "1589235a92ca818bc2be2cbb0a426d529335f0b2",
        "id": "ZItqR9CEA1At",
        "colab_type": "code",
        "colab": {
          "base_uri": "https://localhost:8080/",
          "height": 0
        },
        "outputId": "f9e2b623-fb1c-4d2c-cab8-48473d5efdab"
      },
      "source": [
        "ps.to_timestamp()"
      ],
      "execution_count": 84,
      "outputs": [
        {
          "output_type": "execute_result",
          "data": {
            "text/plain": [
              "2012-01-01    1.278537\n",
              "2012-02-01    1.636343\n",
              "2012-03-01    0.126941\n",
              "2012-04-01   -1.921226\n",
              "2012-05-01    0.304947\n",
              "Freq: MS, dtype: float64"
            ]
          },
          "metadata": {
            "tags": []
          },
          "execution_count": 84
        }
      ]
    },
    {
      "cell_type": "markdown",
      "metadata": {
        "_cell_guid": "d1e644da-5215-4870-aaf3-d1719c46588e",
        "_uuid": "1dd44d9eff96202caddabee5740aa912e9530223",
        "id": "gZSvjj2aA1Av",
        "colab_type": "text"
      },
      "source": [
        "Converting between period and timestamp enables some convenient arithmetic functions to be used. In the following example, we convert a quarterly frequency with year ending in November to 9am of the end of the month following the quarter end:"
      ]
    },
    {
      "cell_type": "code",
      "metadata": {
        "_cell_guid": "328ed5ad-d841-4b7a-8217-5e58b876daa6",
        "_uuid": "43d477d81ad7c6a7cc7dd4156eba62a794820a3e",
        "id": "pkwB5Z_bA1Av",
        "colab_type": "code",
        "colab": {
          "base_uri": "https://localhost:8080/",
          "height": 0
        },
        "outputId": "60e6e971-f320-4f0f-d545-ae5203a72784"
      },
      "source": [
        "prng = pd.period_range('1990Q1', '2000Q4', freq='Q-NOV')\n",
        "ts = pd.Series(np.random.randn(len(prng)), prng)\n",
        "ts.index = (prng.asfreq('M', 'e') + 1).asfreq('H', 's') + 9\n",
        "ts.head()"
      ],
      "execution_count": 85,
      "outputs": [
        {
          "output_type": "execute_result",
          "data": {
            "text/plain": [
              "1990-03-01 09:00    1.200452\n",
              "1990-06-01 09:00    1.153270\n",
              "1990-09-01 09:00    0.543267\n",
              "1990-12-01 09:00    2.732547\n",
              "1991-03-01 09:00   -1.178354\n",
              "Freq: H, dtype: float64"
            ]
          },
          "metadata": {
            "tags": []
          },
          "execution_count": 85
        }
      ]
    },
    {
      "cell_type": "markdown",
      "metadata": {
        "_cell_guid": "d10de9eb-33fc-4713-993b-b1acc275f8a7",
        "_uuid": "930ca52af7bf3d56dfe637764cf53dd6c91b8edf",
        "id": "NIInUK4zA1Aw",
        "colab_type": "text"
      },
      "source": [
        "# Categoricals\n",
        "pandas can include categorical data in a DataFrame. For full docs, see the [categorical introduction](https://pandas.pydata.org/pandas-docs/stable/categorical.html#categorical) and the [API documentation](https://pandas.pydata.org/pandas-docs/stable/api.html#api-categorical)."
      ]
    },
    {
      "cell_type": "code",
      "metadata": {
        "_cell_guid": "ab9789c4-b2e0-4012-8c7b-2923437a8223",
        "_uuid": "186d5dd0c91b786139eb600d599853e301e08c92",
        "id": "7kNM9U7pA1Ax",
        "colab_type": "code",
        "colab": {
          "base_uri": "https://localhost:8080/",
          "height": 0
        },
        "outputId": "1fd7589b-6773-4ea1-89cf-ef59eae40c10"
      },
      "source": [
        "df = pd.DataFrame({\"id\":[1,2,3,4,5,6], \"raw_grade\":['a', 'b', 'b', 'a', 'a', 'e']})\n",
        "df"
      ],
      "execution_count": 86,
      "outputs": [
        {
          "output_type": "execute_result",
          "data": {
            "text/html": [
              "<div>\n",
              "<style scoped>\n",
              "    .dataframe tbody tr th:only-of-type {\n",
              "        vertical-align: middle;\n",
              "    }\n",
              "\n",
              "    .dataframe tbody tr th {\n",
              "        vertical-align: top;\n",
              "    }\n",
              "\n",
              "    .dataframe thead th {\n",
              "        text-align: right;\n",
              "    }\n",
              "</style>\n",
              "<table border=\"1\" class=\"dataframe\">\n",
              "  <thead>\n",
              "    <tr style=\"text-align: right;\">\n",
              "      <th></th>\n",
              "      <th>id</th>\n",
              "      <th>raw_grade</th>\n",
              "    </tr>\n",
              "  </thead>\n",
              "  <tbody>\n",
              "    <tr>\n",
              "      <th>0</th>\n",
              "      <td>1</td>\n",
              "      <td>a</td>\n",
              "    </tr>\n",
              "    <tr>\n",
              "      <th>1</th>\n",
              "      <td>2</td>\n",
              "      <td>b</td>\n",
              "    </tr>\n",
              "    <tr>\n",
              "      <th>2</th>\n",
              "      <td>3</td>\n",
              "      <td>b</td>\n",
              "    </tr>\n",
              "    <tr>\n",
              "      <th>3</th>\n",
              "      <td>4</td>\n",
              "      <td>a</td>\n",
              "    </tr>\n",
              "    <tr>\n",
              "      <th>4</th>\n",
              "      <td>5</td>\n",
              "      <td>a</td>\n",
              "    </tr>\n",
              "    <tr>\n",
              "      <th>5</th>\n",
              "      <td>6</td>\n",
              "      <td>e</td>\n",
              "    </tr>\n",
              "  </tbody>\n",
              "</table>\n",
              "</div>"
            ],
            "text/plain": [
              "   id raw_grade\n",
              "0   1         a\n",
              "1   2         b\n",
              "2   3         b\n",
              "3   4         a\n",
              "4   5         a\n",
              "5   6         e"
            ]
          },
          "metadata": {
            "tags": []
          },
          "execution_count": 86
        }
      ]
    },
    {
      "cell_type": "markdown",
      "metadata": {
        "_cell_guid": "0d1cb293-571d-4c98-a17a-b15ead76786b",
        "_uuid": "ae51724d3f551ece6efffc7b39a325ab334631e1",
        "id": "t0maS3-uA1Ay",
        "colab_type": "text"
      },
      "source": [
        "Convert the raw grades to a categorical data type:"
      ]
    },
    {
      "cell_type": "code",
      "metadata": {
        "_cell_guid": "0fec7445-afdd-42cd-ad78-deab6ea43832",
        "_uuid": "db91d55922cbee6333b0b60b2eaa0066b1c682d8",
        "id": "wpLA6fB4A1Ay",
        "colab_type": "code",
        "colab": {
          "base_uri": "https://localhost:8080/",
          "height": 0
        },
        "outputId": "6b9cd6e0-384b-4e3b-e225-6e439d433b70"
      },
      "source": [
        "df[\"grade\"] = df[\"raw_grade\"].astype(\"category\")\n",
        "df[\"grade\"]"
      ],
      "execution_count": 87,
      "outputs": [
        {
          "output_type": "execute_result",
          "data": {
            "text/plain": [
              "0    a\n",
              "1    b\n",
              "2    b\n",
              "3    a\n",
              "4    a\n",
              "5    e\n",
              "Name: grade, dtype: category\n",
              "Categories (3, object): [a, b, e]"
            ]
          },
          "metadata": {
            "tags": []
          },
          "execution_count": 87
        }
      ]
    },
    {
      "cell_type": "markdown",
      "metadata": {
        "_cell_guid": "21e5d042-6245-4971-803f-e527357a654e",
        "_uuid": "b2e1342efaa7495d1a001e3ec9bb53a2d3c0a7e0",
        "id": "PlAQ6NVVA1Az",
        "colab_type": "text"
      },
      "source": [
        "Rename the categories to more meaningful names (assigning to Series.cat.categories is inplace!)"
      ]
    },
    {
      "cell_type": "code",
      "metadata": {
        "_cell_guid": "8e187065-c04e-4df2-b297-834d4452b5af",
        "_uuid": "1fde92f0bb025c22106fd9480bf879087b20d98b",
        "id": "Q0Y76Z1-A1Az",
        "colab_type": "code",
        "colab": {}
      },
      "source": [
        "df[\"grade\"].cat.categories = [\"very good\", \"good\", \"very bad\"]"
      ],
      "execution_count": 0,
      "outputs": []
    },
    {
      "cell_type": "markdown",
      "metadata": {
        "_cell_guid": "79ff2b61-ce4f-47bf-b400-44cce807b0a3",
        "_uuid": "a3edf0571ae751050f46690aa93bff03902ba7bb",
        "id": "huVL0QvPA1A0",
        "colab_type": "text"
      },
      "source": [
        "Reorder the categories and simultaneously add the missing categories (methods under Series .cat return a new Series per default)."
      ]
    },
    {
      "cell_type": "code",
      "metadata": {
        "_cell_guid": "17680b48-9fb9-4373-89c8-22197cd0b551",
        "_uuid": "07effd8ab8f0fcf8d202551d8c7b27d7c44676d7",
        "id": "K4DJnzyIA1A0",
        "colab_type": "code",
        "colab": {
          "base_uri": "https://localhost:8080/",
          "height": 0
        },
        "outputId": "c1824d39-3e38-4d90-e991-ea56f2d01631"
      },
      "source": [
        "df[\"grade\"] = df[\"grade\"].cat.set_categories([\"very bad\", \"bad\", \"medium\", \"good\", \"very good\"])\n",
        "df[\"grade\"]"
      ],
      "execution_count": 89,
      "outputs": [
        {
          "output_type": "execute_result",
          "data": {
            "text/plain": [
              "0    very good\n",
              "1         good\n",
              "2         good\n",
              "3    very good\n",
              "4    very good\n",
              "5     very bad\n",
              "Name: grade, dtype: category\n",
              "Categories (5, object): [very bad, bad, medium, good, very good]"
            ]
          },
          "metadata": {
            "tags": []
          },
          "execution_count": 89
        }
      ]
    },
    {
      "cell_type": "markdown",
      "metadata": {
        "_cell_guid": "d081f4d8-b9df-427a-abdd-af50ac3e1cb6",
        "_uuid": "6f39477d1629a4dfd818f58c8f1ad54e12cb1ccc",
        "id": "Hg76JCjhA1A3",
        "colab_type": "raw"
      },
      "source": [
        "Sorting is per order in the categories, not lexical order."
      ]
    },
    {
      "cell_type": "code",
      "metadata": {
        "_cell_guid": "32408bba-dbf0-44ed-b65d-03f66671e120",
        "_uuid": "cc7d213cf05e72e3eeb71438c457a0d520bd718f",
        "id": "95VjfKrRA1A3",
        "colab_type": "code",
        "colab": {
          "base_uri": "https://localhost:8080/",
          "height": 0
        },
        "outputId": "c91a64aa-33a6-45ca-d401-81ba52028767"
      },
      "source": [
        "df.sort_values(by=\"grade\")"
      ],
      "execution_count": 90,
      "outputs": [
        {
          "output_type": "execute_result",
          "data": {
            "text/html": [
              "<div>\n",
              "<style scoped>\n",
              "    .dataframe tbody tr th:only-of-type {\n",
              "        vertical-align: middle;\n",
              "    }\n",
              "\n",
              "    .dataframe tbody tr th {\n",
              "        vertical-align: top;\n",
              "    }\n",
              "\n",
              "    .dataframe thead th {\n",
              "        text-align: right;\n",
              "    }\n",
              "</style>\n",
              "<table border=\"1\" class=\"dataframe\">\n",
              "  <thead>\n",
              "    <tr style=\"text-align: right;\">\n",
              "      <th></th>\n",
              "      <th>id</th>\n",
              "      <th>raw_grade</th>\n",
              "      <th>grade</th>\n",
              "    </tr>\n",
              "  </thead>\n",
              "  <tbody>\n",
              "    <tr>\n",
              "      <th>5</th>\n",
              "      <td>6</td>\n",
              "      <td>e</td>\n",
              "      <td>very bad</td>\n",
              "    </tr>\n",
              "    <tr>\n",
              "      <th>1</th>\n",
              "      <td>2</td>\n",
              "      <td>b</td>\n",
              "      <td>good</td>\n",
              "    </tr>\n",
              "    <tr>\n",
              "      <th>2</th>\n",
              "      <td>3</td>\n",
              "      <td>b</td>\n",
              "      <td>good</td>\n",
              "    </tr>\n",
              "    <tr>\n",
              "      <th>0</th>\n",
              "      <td>1</td>\n",
              "      <td>a</td>\n",
              "      <td>very good</td>\n",
              "    </tr>\n",
              "    <tr>\n",
              "      <th>3</th>\n",
              "      <td>4</td>\n",
              "      <td>a</td>\n",
              "      <td>very good</td>\n",
              "    </tr>\n",
              "    <tr>\n",
              "      <th>4</th>\n",
              "      <td>5</td>\n",
              "      <td>a</td>\n",
              "      <td>very good</td>\n",
              "    </tr>\n",
              "  </tbody>\n",
              "</table>\n",
              "</div>"
            ],
            "text/plain": [
              "   id raw_grade      grade\n",
              "5   6         e   very bad\n",
              "1   2         b       good\n",
              "2   3         b       good\n",
              "0   1         a  very good\n",
              "3   4         a  very good\n",
              "4   5         a  very good"
            ]
          },
          "metadata": {
            "tags": []
          },
          "execution_count": 90
        }
      ]
    },
    {
      "cell_type": "markdown",
      "metadata": {
        "_cell_guid": "c36e4653-564c-4366-bd3e-9fcd0807ee45",
        "_uuid": "35364a872dd0c030ec3b09901b464762a4000ef9",
        "id": "URjrH8TYA1A6",
        "colab_type": "text"
      },
      "source": [
        "Grouping by a categorical column shows also empty categories."
      ]
    },
    {
      "cell_type": "code",
      "metadata": {
        "_cell_guid": "b7eb5c6c-8857-42bc-86ce-8c13dbc4044c",
        "_uuid": "300a83bdb3f4e92697b0fbf2b51ced032cdb507e",
        "id": "lI-7ckCeA1A6",
        "colab_type": "code",
        "colab": {
          "base_uri": "https://localhost:8080/",
          "height": 0
        },
        "outputId": "b5de853a-de7a-47e0-e6bf-ce217c301959"
      },
      "source": [
        "df.groupby(\"grade\").size()"
      ],
      "execution_count": 91,
      "outputs": [
        {
          "output_type": "execute_result",
          "data": {
            "text/plain": [
              "grade\n",
              "very bad     1\n",
              "bad          0\n",
              "medium       0\n",
              "good         2\n",
              "very good    3\n",
              "dtype: int64"
            ]
          },
          "metadata": {
            "tags": []
          },
          "execution_count": 91
        }
      ]
    },
    {
      "cell_type": "markdown",
      "metadata": {
        "_cell_guid": "f7329129-1fc9-434a-ac45-e79986ed395c",
        "_uuid": "4fad41dc8d59a36e31eee33e2e4ceadaef91ef5c",
        "id": "FF5DJrADA1A9",
        "colab_type": "text"
      },
      "source": [
        "# Plotting\n",
        "[Plotting](https://pandas.pydata.org/pandas-docs/stable/visualization.html#visualization) docs"
      ]
    },
    {
      "cell_type": "code",
      "metadata": {
        "_cell_guid": "161bb7ae-199a-4afb-a96e-cd44ce1ad5ba",
        "_uuid": "d7773d5d125e65665d1fa5742a5d96a4c4f66869",
        "id": "v4j5a599A1A9",
        "colab_type": "code",
        "colab": {
          "base_uri": "https://localhost:8080/",
          "height": 294
        },
        "outputId": "bb8499f8-1203-4fa7-ea33-cec260871d50"
      },
      "source": [
        "ts = pd.Series(np.random.randn(1000), index=pd.date_range('1/1/2000', periods=1000))\n",
        "ts = ts.cumsum()\n",
        "ts.plot()"
      ],
      "execution_count": 92,
      "outputs": [
        {
          "output_type": "execute_result",
          "data": {
            "text/plain": [
              "<matplotlib.axes._subplots.AxesSubplot at 0x7f89982cb2e8>"
            ]
          },
          "metadata": {
            "tags": []
          },
          "execution_count": 92
        },
        {
          "output_type": "display_data",
          "data": {
            "image/png": "[encoded data removed]",
            "text/plain": [
              "<Figure size 432x288 with 1 Axes>"
            ]
          },
          "metadata": {
            "tags": []
          }
        }
      ]
    },
    {
      "cell_type": "markdown",
      "metadata": {
        "_cell_guid": "0176b40e-ada1-4bcd-8e12-d3ff15e1b0f7",
        "_uuid": "7b6fa4a5c292aeadb392e26b6b8c22de265340e6",
        "id": "FiqjH-rgA1A-",
        "colab_type": "text"
      },
      "source": [
        "On DataFrame, plot() is a convenience to plot all of the columns with labels:"
      ]
    },
    {
      "cell_type": "code",
      "metadata": {
        "_cell_guid": "486b1a48-5629-43a9-a421-ab9659b3b5c2",
        "_uuid": "dd719ceca935f661779a4ae7a9d0bdb456707afd",
        "id": "MbSBWCRKA1A-",
        "colab_type": "code",
        "colab": {
          "base_uri": "https://localhost:8080/",
          "height": 311
        },
        "outputId": "d4edc1d6-9a99-4e4a-fbeb-d49947935616"
      },
      "source": [
        "df = pd.DataFrame(np.random.randn(1000, 4), index=ts.index,\n",
        "   .....:                   columns=['A', 'B', 'C', 'D'])\n",
        "df = df.cumsum()\n",
        "plt.figure(); df.plot(); plt.legend(loc='best')"
      ],
      "execution_count": 93,
      "outputs": [
        {
          "output_type": "execute_result",
          "data": {
            "text/plain": [
              "<matplotlib.legend.Legend at 0x7f8997d87400>"
            ]
          },
          "metadata": {
            "tags": []
          },
          "execution_count": 93
        },
        {
          "output_type": "display_data",
          "data": {
            "text/plain": [
              "<Figure size 432x288 with 0 Axes>"
            ]
          },
          "metadata": {
            "tags": []
          }
        },
        {
          "output_type": "display_data",
          "data": {
            "image/png": "[encoded data removed]",
            "text/plain": [
              "<Figure size 432x288 with 1 Axes>"
            ]
          },
          "metadata": {
            "tags": []
          }
        }
      ]
    },
    {
      "cell_type": "markdown",
      "metadata": {
        "_cell_guid": "8f173711-84cf-405d-a974-8f3d467a1699",
        "_uuid": "6707cccfbd1da29773303b644ad02a47e917e182",
        "id": "XvvzG82QA1A_",
        "colab_type": "text"
      },
      "source": [
        "# Getting Data In/Out\n",
        "### CSV\n",
        "[Writing to a csv file](https://pandas.pydata.org/pandas-docs/stable/io.html#io-store-in-csv)."
      ]
    },
    {
      "cell_type": "code",
      "metadata": {
        "_cell_guid": "c2854c44-5039-4c4f-9333-f4b0f33edc5b",
        "_uuid": "f321aa65d66246497c509d32969d3e1a3d717391",
        "id": "IL5sWBYHA1BA",
        "colab_type": "code",
        "colab": {}
      },
      "source": [
        "df.to_csv('foo.csv')"
      ],
      "execution_count": 0,
      "outputs": []
    },
    {
      "cell_type": "code",
      "metadata": {
        "_cell_guid": "746340a9-c552-4995-8cbd-067f7dd62e35",
        "_uuid": "c0daece574ad9366f247716b0bfe7f3fd0c9351e",
        "id": "WX3yCwR7A1BB",
        "colab_type": "code",
        "colab": {
          "base_uri": "https://localhost:8080/",
          "height": 0
        },
        "outputId": "1c7f3ef5-39bd-45bd-cf4d-fbf757794a59"
      },
      "source": [
        "pd.read_csv('foo.csv')"
      ],
      "execution_count": 95,
      "outputs": [
        {
          "output_type": "execute_result",
          "data": {
            "text/html": [
              "<div>\n",
              "<style scoped>\n",
              "    .dataframe tbody tr th:only-of-type {\n",
              "        vertical-align: middle;\n",
              "    }\n",
              "\n",
              "    .dataframe tbody tr th {\n",
              "        vertical-align: top;\n",
              "    }\n",
              "\n",
              "    .dataframe thead th {\n",
              "        text-align: right;\n",
              "    }\n",
              "</style>\n",
              "<table border=\"1\" class=\"dataframe\">\n",
              "  <thead>\n",
              "    <tr style=\"text-align: right;\">\n",
              "      <th></th>\n",
              "      <th>Unnamed: 0</th>\n",
              "      <th>A</th>\n",
              "      <th>B</th>\n",
              "      <th>C</th>\n",
              "      <th>D</th>\n",
              "    </tr>\n",
              "  </thead>\n",
              "  <tbody>\n",
              "    <tr>\n",
              "      <th>0</th>\n",
              "      <td>2000-01-01</td>\n",
              "      <td>0.270947</td>\n",
              "      <td>-0.188626</td>\n",
              "      <td>-0.317821</td>\n",
              "      <td>1.719964</td>\n",
              "    </tr>\n",
              "    <tr>\n",
              "      <th>1</th>\n",
              "      <td>2000-01-02</td>\n",
              "      <td>-0.333987</td>\n",
              "      <td>0.455385</td>\n",
              "      <td>-0.025290</td>\n",
              "      <td>2.091197</td>\n",
              "    </tr>\n",
              "    <tr>\n",
              "      <th>2</th>\n",
              "      <td>2000-01-03</td>\n",
              "      <td>-1.197875</td>\n",
              "      <td>1.436929</td>\n",
              "      <td>-0.322659</td>\n",
              "      <td>2.786931</td>\n",
              "    </tr>\n",
              "    <tr>\n",
              "      <th>3</th>\n",
              "      <td>2000-01-04</td>\n",
              "      <td>0.311970</td>\n",
              "      <td>1.445753</td>\n",
              "      <td>0.858867</td>\n",
              "      <td>3.743537</td>\n",
              "    </tr>\n",
              "    <tr>\n",
              "      <th>4</th>\n",
              "      <td>2000-01-05</td>\n",
              "      <td>-0.183480</td>\n",
              "      <td>2.014183</td>\n",
              "      <td>0.663175</td>\n",
              "      <td>3.893318</td>\n",
              "    </tr>\n",
              "    <tr>\n",
              "      <th>...</th>\n",
              "      <td>...</td>\n",
              "      <td>...</td>\n",
              "      <td>...</td>\n",
              "      <td>...</td>\n",
              "      <td>...</td>\n",
              "    </tr>\n",
              "    <tr>\n",
              "      <th>995</th>\n",
              "      <td>2002-09-22</td>\n",
              "      <td>-32.866003</td>\n",
              "      <td>23.021166</td>\n",
              "      <td>-37.985521</td>\n",
              "      <td>49.084261</td>\n",
              "    </tr>\n",
              "    <tr>\n",
              "      <th>996</th>\n",
              "      <td>2002-09-23</td>\n",
              "      <td>-33.142222</td>\n",
              "      <td>23.759978</td>\n",
              "      <td>-38.211119</td>\n",
              "      <td>47.534633</td>\n",
              "    </tr>\n",
              "    <tr>\n",
              "      <th>997</th>\n",
              "      <td>2002-09-24</td>\n",
              "      <td>-33.947881</td>\n",
              "      <td>22.712165</td>\n",
              "      <td>-38.031271</td>\n",
              "      <td>47.318079</td>\n",
              "    </tr>\n",
              "    <tr>\n",
              "      <th>998</th>\n",
              "      <td>2002-09-25</td>\n",
              "      <td>-32.603804</td>\n",
              "      <td>22.512098</td>\n",
              "      <td>-38.985446</td>\n",
              "      <td>46.847588</td>\n",
              "    </tr>\n",
              "    <tr>\n",
              "      <th>999</th>\n",
              "      <td>2002-09-26</td>\n",
              "      <td>-33.182230</td>\n",
              "      <td>23.766905</td>\n",
              "      <td>-38.516092</td>\n",
              "      <td>46.778187</td>\n",
              "    </tr>\n",
              "  </tbody>\n",
              "</table>\n",
              "<p>1000 rows × 5 columns</p>\n",
              "</div>"
            ],
            "text/plain": [
              "     Unnamed: 0          A          B          C          D\n",
              "0    2000-01-01   0.270947  -0.188626  -0.317821   1.719964\n",
              "1    2000-01-02  -0.333987   0.455385  -0.025290   2.091197\n",
              "2    2000-01-03  -1.197875   1.436929  -0.322659   2.786931\n",
              "3    2000-01-04   0.311970   1.445753   0.858867   3.743537\n",
              "4    2000-01-05  -0.183480   2.014183   0.663175   3.893318\n",
              "..          ...        ...        ...        ...        ...\n",
              "995  2002-09-22 -32.866003  23.021166 -37.985521  49.084261\n",
              "996  2002-09-23 -33.142222  23.759978 -38.211119  47.534633\n",
              "997  2002-09-24 -33.947881  22.712165 -38.031271  47.318079\n",
              "998  2002-09-25 -32.603804  22.512098 -38.985446  46.847588\n",
              "999  2002-09-26 -33.182230  23.766905 -38.516092  46.778187\n",
              "\n",
              "[1000 rows x 5 columns]"
            ]
          },
          "metadata": {
            "tags": []
          },
          "execution_count": 95
        }
      ]
    },
    {
      "cell_type": "markdown",
      "metadata": {
        "_cell_guid": "9150ae74-87f2-45cc-be98-402a4306eb0a",
        "_uuid": "fce91364024568435d238e35732efc3679beccd5",
        "id": "e6jIXDFdA1BC",
        "colab_type": "text"
      },
      "source": [
        "### HDF5\n",
        "Reading and writing to [HDFStores](https://pandas.pydata.org/pandas-docs/stable/io.html#io-hdf5).\n",
        "\n",
        "Writing to a HDF5 Store:"
      ]
    },
    {
      "cell_type": "code",
      "metadata": {
        "_cell_guid": "b94c044e-244b-493f-9278-43690d36694f",
        "_uuid": "a3fb0c63d5aadac15d06e76c56ada820058ef667",
        "id": "KxC7r7V5A1BC",
        "colab_type": "code",
        "colab": {}
      },
      "source": [
        "df.to_hdf('foo.h5','df')"
      ],
      "execution_count": 0,
      "outputs": []
    },
    {
      "cell_type": "markdown",
      "metadata": {
        "_cell_guid": "1ba92b6b-8e82-438d-91c8-cbe9990d0aef",
        "_uuid": "ae23a982a9599ad470198ba616318d781b71496a",
        "id": "GvBPu1KVA1BD",
        "colab_type": "text"
      },
      "source": [
        "Reading from a HDF5 Store:"
      ]
    },
    {
      "cell_type": "code",
      "metadata": {
        "_cell_guid": "0d0cc9f7-50e5-4aef-870b-2bb728223f2d",
        "_uuid": "6920cb4f6cfcbb0cfcf806447ef236051f8c1b45",
        "id": "Axe_DCaPA1BD",
        "colab_type": "code",
        "colab": {
          "base_uri": "https://localhost:8080/",
          "height": 0
        },
        "outputId": "dcb76da8-842d-4f28-8a7d-9f22fd1895a8"
      },
      "source": [
        "pd.read_hdf('foo.h5','df')"
      ],
      "execution_count": 97,
      "outputs": [
        {
          "output_type": "execute_result",
          "data": {
            "text/html": [
              "<div>\n",
              "<style scoped>\n",
              "    .dataframe tbody tr th:only-of-type {\n",
              "        vertical-align: middle;\n",
              "    }\n",
              "\n",
              "    .dataframe tbody tr th {\n",
              "        vertical-align: top;\n",
              "    }\n",
              "\n",
              "    .dataframe thead th {\n",
              "        text-align: right;\n",
              "    }\n",
              "</style>\n",
              "<table border=\"1\" class=\"dataframe\">\n",
              "  <thead>\n",
              "    <tr style=\"text-align: right;\">\n",
              "      <th></th>\n",
              "      <th>A</th>\n",
              "      <th>B</th>\n",
              "      <th>C</th>\n",
              "      <th>D</th>\n",
              "    </tr>\n",
              "  </thead>\n",
              "  <tbody>\n",
              "    <tr>\n",
              "      <th>2000-01-01</th>\n",
              "      <td>0.270947</td>\n",
              "      <td>-0.188626</td>\n",
              "      <td>-0.317821</td>\n",
              "      <td>1.719964</td>\n",
              "    </tr>\n",
              "    <tr>\n",
              "      <th>2000-01-02</th>\n",
              "      <td>-0.333987</td>\n",
              "      <td>0.455385</td>\n",
              "      <td>-0.025290</td>\n",
              "      <td>2.091197</td>\n",
              "    </tr>\n",
              "    <tr>\n",
              "      <th>2000-01-03</th>\n",
              "      <td>-1.197875</td>\n",
              "      <td>1.436929</td>\n",
              "      <td>-0.322659</td>\n",
              "      <td>2.786931</td>\n",
              "    </tr>\n",
              "    <tr>\n",
              "      <th>2000-01-04</th>\n",
              "      <td>0.311970</td>\n",
              "      <td>1.445753</td>\n",
              "      <td>0.858867</td>\n",
              "      <td>3.743537</td>\n",
              "    </tr>\n",
              "    <tr>\n",
              "      <th>2000-01-05</th>\n",
              "      <td>-0.183480</td>\n",
              "      <td>2.014183</td>\n",
              "      <td>0.663175</td>\n",
              "      <td>3.893318</td>\n",
              "    </tr>\n",
              "    <tr>\n",
              "      <th>...</th>\n",
              "      <td>...</td>\n",
              "      <td>...</td>\n",
              "      <td>...</td>\n",
              "      <td>...</td>\n",
              "    </tr>\n",
              "    <tr>\n",
              "      <th>2002-09-22</th>\n",
              "      <td>-32.866003</td>\n",
              "      <td>23.021166</td>\n",
              "      <td>-37.985521</td>\n",
              "      <td>49.084261</td>\n",
              "    </tr>\n",
              "    <tr>\n",
              "      <th>2002-09-23</th>\n",
              "      <td>-33.142222</td>\n",
              "      <td>23.759978</td>\n",
              "      <td>-38.211119</td>\n",
              "      <td>47.534633</td>\n",
              "    </tr>\n",
              "    <tr>\n",
              "      <th>2002-09-24</th>\n",
              "      <td>-33.947881</td>\n",
              "      <td>22.712165</td>\n",
              "      <td>-38.031271</td>\n",
              "      <td>47.318079</td>\n",
              "    </tr>\n",
              "    <tr>\n",
              "      <th>2002-09-25</th>\n",
              "      <td>-32.603804</td>\n",
              "      <td>22.512098</td>\n",
              "      <td>-38.985446</td>\n",
              "      <td>46.847588</td>\n",
              "    </tr>\n",
              "    <tr>\n",
              "      <th>2002-09-26</th>\n",
              "      <td>-33.182230</td>\n",
              "      <td>23.766905</td>\n",
              "      <td>-38.516092</td>\n",
              "      <td>46.778187</td>\n",
              "    </tr>\n",
              "  </tbody>\n",
              "</table>\n",
              "<p>1000 rows × 4 columns</p>\n",
              "</div>"
            ],
            "text/plain": [
              "                    A          B          C          D\n",
              "2000-01-01   0.270947  -0.188626  -0.317821   1.719964\n",
              "2000-01-02  -0.333987   0.455385  -0.025290   2.091197\n",
              "2000-01-03  -1.197875   1.436929  -0.322659   2.786931\n",
              "2000-01-04   0.311970   1.445753   0.858867   3.743537\n",
              "2000-01-05  -0.183480   2.014183   0.663175   3.893318\n",
              "...               ...        ...        ...        ...\n",
              "2002-09-22 -32.866003  23.021166 -37.985521  49.084261\n",
              "2002-09-23 -33.142222  23.759978 -38.211119  47.534633\n",
              "2002-09-24 -33.947881  22.712165 -38.031271  47.318079\n",
              "2002-09-25 -32.603804  22.512098 -38.985446  46.847588\n",
              "2002-09-26 -33.182230  23.766905 -38.516092  46.778187\n",
              "\n",
              "[1000 rows x 4 columns]"
            ]
          },
          "metadata": {
            "tags": []
          },
          "execution_count": 97
        }
      ]
    },
    {
      "cell_type": "markdown",
      "metadata": {
        "_cell_guid": "577ea484-5412-4e56-bce9-e7ac085f43e7",
        "_uuid": "1ed3197b98a526670ad2e5fc2fd3d783f4aa26df",
        "id": "5SxeX-AUA1BE",
        "colab_type": "text"
      },
      "source": [
        "### Excel\n",
        "Reading and writing to [MS Excel](https://pandas.pydata.org/pandas-docs/stable/io.html#io-excel).\n",
        "\n",
        "Writing to an excel file:"
      ]
    },
    {
      "cell_type": "code",
      "metadata": {
        "_cell_guid": "56ebcc49-1c6e-4fba-b0be-885bd38c8edd",
        "_uuid": "b4aa25c0d51d6981aefeb56d369f73892d89bf75",
        "id": "cfx69vJrA1BE",
        "colab_type": "code",
        "colab": {}
      },
      "source": [
        "df.to_excel('foo.xlsx', sheet_name='Sheet1')"
      ],
      "execution_count": 0,
      "outputs": []
    },
    {
      "cell_type": "markdown",
      "metadata": {
        "_cell_guid": "516aeff5-882d-464f-a4a8-23c39a9faa78",
        "_uuid": "53c3b30580b3f53be31cf66c379f0a930b5ebe6d",
        "id": "gSeJIadjA1BF",
        "colab_type": "text"
      },
      "source": [
        "Reading from an excel file:"
      ]
    },
    {
      "cell_type": "code",
      "metadata": {
        "_cell_guid": "7d1fb689-56d4-4ebf-bf7e-775f55268861",
        "_uuid": "80517bdf809673c3b298888c8b2e0835e1f862dc",
        "id": "1dVdfXw-A1BF",
        "colab_type": "code",
        "colab": {
          "base_uri": "https://localhost:8080/",
          "height": 0
        },
        "outputId": "99362108-042a-40d7-fb95-bb19beed72f7"
      },
      "source": [
        "pd.read_excel('foo.xlsx', 'Sheet1', index_col=None, na_values=['NA'])"
      ],
      "execution_count": 99,
      "outputs": [
        {
          "output_type": "execute_result",
          "data": {
            "text/html": [
              "<div>\n",
              "<style scoped>\n",
              "    .dataframe tbody tr th:only-of-type {\n",
              "        vertical-align: middle;\n",
              "    }\n",
              "\n",
              "    .dataframe tbody tr th {\n",
              "        vertical-align: top;\n",
              "    }\n",
              "\n",
              "    .dataframe thead th {\n",
              "        text-align: right;\n",
              "    }\n",
              "</style>\n",
              "<table border=\"1\" class=\"dataframe\">\n",
              "  <thead>\n",
              "    <tr style=\"text-align: right;\">\n",
              "      <th></th>\n",
              "      <th>Unnamed: 0</th>\n",
              "      <th>A</th>\n",
              "      <th>B</th>\n",
              "      <th>C</th>\n",
              "      <th>D</th>\n",
              "    </tr>\n",
              "  </thead>\n",
              "  <tbody>\n",
              "    <tr>\n",
              "      <th>0</th>\n",
              "      <td>2000-01-01</td>\n",
              "      <td>0.270947</td>\n",
              "      <td>-0.188626</td>\n",
              "      <td>-0.317821</td>\n",
              "      <td>1.719964</td>\n",
              "    </tr>\n",
              "    <tr>\n",
              "      <th>1</th>\n",
              "      <td>2000-01-02</td>\n",
              "      <td>-0.333987</td>\n",
              "      <td>0.455385</td>\n",
              "      <td>-0.025290</td>\n",
              "      <td>2.091197</td>\n",
              "    </tr>\n",
              "    <tr>\n",
              "      <th>2</th>\n",
              "      <td>2000-01-03</td>\n",
              "      <td>-1.197875</td>\n",
              "      <td>1.436929</td>\n",
              "      <td>-0.322659</td>\n",
              "      <td>2.786931</td>\n",
              "    </tr>\n",
              "    <tr>\n",
              "      <th>3</th>\n",
              "      <td>2000-01-04</td>\n",
              "      <td>0.311970</td>\n",
              "      <td>1.445753</td>\n",
              "      <td>0.858867</td>\n",
              "      <td>3.743537</td>\n",
              "    </tr>\n",
              "    <tr>\n",
              "      <th>4</th>\n",
              "      <td>2000-01-05</td>\n",
              "      <td>-0.183480</td>\n",
              "      <td>2.014183</td>\n",
              "      <td>0.663175</td>\n",
              "      <td>3.893318</td>\n",
              "    </tr>\n",
              "    <tr>\n",
              "      <th>...</th>\n",
              "      <td>...</td>\n",
              "      <td>...</td>\n",
              "      <td>...</td>\n",
              "      <td>...</td>\n",
              "      <td>...</td>\n",
              "    </tr>\n",
              "    <tr>\n",
              "      <th>995</th>\n",
              "      <td>2002-09-22</td>\n",
              "      <td>-32.866003</td>\n",
              "      <td>23.021166</td>\n",
              "      <td>-37.985521</td>\n",
              "      <td>49.084261</td>\n",
              "    </tr>\n",
              "    <tr>\n",
              "      <th>996</th>\n",
              "      <td>2002-09-23</td>\n",
              "      <td>-33.142222</td>\n",
              "      <td>23.759978</td>\n",
              "      <td>-38.211119</td>\n",
              "      <td>47.534633</td>\n",
              "    </tr>\n",
              "    <tr>\n",
              "      <th>997</th>\n",
              "      <td>2002-09-24</td>\n",
              "      <td>-33.947881</td>\n",
              "      <td>22.712165</td>\n",
              "      <td>-38.031271</td>\n",
              "      <td>47.318079</td>\n",
              "    </tr>\n",
              "    <tr>\n",
              "      <th>998</th>\n",
              "      <td>2002-09-25</td>\n",
              "      <td>-32.603804</td>\n",
              "      <td>22.512098</td>\n",
              "      <td>-38.985446</td>\n",
              "      <td>46.847588</td>\n",
              "    </tr>\n",
              "    <tr>\n",
              "      <th>999</th>\n",
              "      <td>2002-09-26</td>\n",
              "      <td>-33.182230</td>\n",
              "      <td>23.766905</td>\n",
              "      <td>-38.516092</td>\n",
              "      <td>46.778187</td>\n",
              "    </tr>\n",
              "  </tbody>\n",
              "</table>\n",
              "<p>1000 rows × 5 columns</p>\n",
              "</div>"
            ],
            "text/plain": [
              "    Unnamed: 0          A          B          C          D\n",
              "0   2000-01-01   0.270947  -0.188626  -0.317821   1.719964\n",
              "1   2000-01-02  -0.333987   0.455385  -0.025290   2.091197\n",
              "2   2000-01-03  -1.197875   1.436929  -0.322659   2.786931\n",
              "3   2000-01-04   0.311970   1.445753   0.858867   3.743537\n",
              "4   2000-01-05  -0.183480   2.014183   0.663175   3.893318\n",
              "..         ...        ...        ...        ...        ...\n",
              "995 2002-09-22 -32.866003  23.021166 -37.985521  49.084261\n",
              "996 2002-09-23 -33.142222  23.759978 -38.211119  47.534633\n",
              "997 2002-09-24 -33.947881  22.712165 -38.031271  47.318079\n",
              "998 2002-09-25 -32.603804  22.512098 -38.985446  46.847588\n",
              "999 2002-09-26 -33.182230  23.766905 -38.516092  46.778187\n",
              "\n",
              "[1000 rows x 5 columns]"
            ]
          },
          "metadata": {
            "tags": []
          },
          "execution_count": 99
        }
      ]
    },
    {
      "cell_type": "markdown",
      "metadata": {
        "_cell_guid": "830c58b5-67de-4ba4-9085-1bd6f1c36103",
        "_uuid": "94a7efe1ddf6a862c752a87095e6b3d9fe895a93",
        "id": "NlNUiF4KA1BG",
        "colab_type": "text"
      },
      "source": [
        "# Gotchas\n",
        "If you are trying an operation and you see an exception like:"
      ]
    },
    {
      "cell_type": "code",
      "metadata": {
        "_cell_guid": "68e21fe7-fdee-4f1f-a6be-421232f995be",
        "_uuid": "dff1fa5f0b4cedf3d85de3d630ee37071442a840",
        "scrolled": true,
        "id": "vF0sXbiaA1BI",
        "colab_type": "code",
        "colab": {
          "base_uri": "https://localhost:8080/",
          "height": 299
        },
        "outputId": "2e4cdfe5-fe91-4d54-f856-b109f36926c4"
      },
      "source": [
        "if pd.Series([False, True, False]):\n",
        "    print(\"I was true\")"
      ],
      "execution_count": 100,
      "outputs": [
        {
          "output_type": "error",
          "ename": "ValueError",
          "evalue": "ignored",
          "traceback": [
            "\u001b[0;31m---------------------------------------------------------------------------\u001b[0m",
            "\u001b[0;31mValueError\u001b[0m                                Traceback (most recent call last)",
            "\u001b[0;32m<ipython-input-100-5c782b38cd2f>\u001b[0m in \u001b[0;36m<module>\u001b[0;34m()\u001b[0m\n\u001b[0;32m----> 1\u001b[0;31m \u001b[0;32mif\u001b[0m \u001b[0mpd\u001b[0m\u001b[0;34m.\u001b[0m\u001b[0mSeries\u001b[0m\u001b[0;34m(\u001b[0m\u001b[0;34m[\u001b[0m\u001b[0;32mFalse\u001b[0m\u001b[0;34m,\u001b[0m \u001b[0;32mTrue\u001b[0m\u001b[0;34m,\u001b[0m \u001b[0;32mFalse\u001b[0m\u001b[0;34m]\u001b[0m\u001b[0;34m)\u001b[0m\u001b[0;34m:\u001b[0m\u001b[0;34m\u001b[0m\u001b[0;34m\u001b[0m\u001b[0m\n\u001b[0m\u001b[1;32m      2\u001b[0m     \u001b[0mprint\u001b[0m\u001b[0;34m(\u001b[0m\u001b[0;34m\"I was true\"\u001b[0m\u001b[0;34m)\u001b[0m\u001b[0;34m\u001b[0m\u001b[0;34m\u001b[0m\u001b[0m\n",
            "\u001b[0;32m/usr/local/lib/python3.6/dist-packages/pandas/core/generic.py\u001b[0m in \u001b[0;36m__nonzero__\u001b[0;34m(self)\u001b[0m\n\u001b[1;32m   1553\u001b[0m             \u001b[0;34m\"The truth value of a {0} is ambiguous. \"\u001b[0m\u001b[0;34m\u001b[0m\u001b[0;34m\u001b[0m\u001b[0m\n\u001b[1;32m   1554\u001b[0m             \"Use a.empty, a.bool(), a.item(), a.any() or a.all().\".format(\n\u001b[0;32m-> 1555\u001b[0;31m                 \u001b[0mself\u001b[0m\u001b[0;34m.\u001b[0m\u001b[0m__class__\u001b[0m\u001b[0;34m.\u001b[0m\u001b[0m__name__\u001b[0m\u001b[0;34m\u001b[0m\u001b[0;34m\u001b[0m\u001b[0m\n\u001b[0m\u001b[1;32m   1556\u001b[0m             )\n\u001b[1;32m   1557\u001b[0m         )\n",
            "\u001b[0;31mValueError\u001b[0m: The truth value of a Series is ambiguous. Use a.empty, a.bool(), a.item(), a.any() or a.all()."
          ]
        }
      ]
    },
    {
      "cell_type": "code",
      "metadata": {
        "id": "sSBA77Q70CY2",
        "colab_type": "code",
        "colab": {}
      },
      "source": [
        ""
      ],
      "execution_count": 0,
      "outputs": []
    },
    {
      "cell_type": "markdown",
      "metadata": {
        "_cell_guid": "8ec225d7-810b-445a-a9e2-4b8ca63c9585",
        "_uuid": "ee08221d61b141f4442820ecc5b749b1f66127a0",
        "id": "K5fJtP_qA1BJ",
        "colab_type": "text"
      },
      "source": [
        "See[ Comparisons](https://pandas.pydata.org/pandas-docs/stable/basics.html#basics-compare) for an explanation and what to do.\n",
        "\n",
        "See [Gotchas](https://pandas.pydata.org/pandas-docs/stable/gotchas.html#gotchas) as well."
      ]
    }
  ]
}