{
  "nbformat": 4,
  "nbformat_minor": 0,
  "metadata": {
    "colab": {
      "name": "Notebook Template.ipynb",
      "provenance": [],
      "include_colab_link": true
    },
    "kernelspec": {
      "name": "python3",
      "display_name": "Python 3"
    }
  },
  "cells": [
    {
      "cell_type": "markdown",
      "metadata": {
        "id": "view-in-github",
        "colab_type": "text"
      },
      "source": [
        "<a href=\"https://colab.research.google.com/github/daddyawesome/PythonStat/blob/master/Notebook_Template.ipynb\" target=\"_parent\"><img src=\"https://colab.research.google.com/assets/colab-badge.svg\" alt=\"Open In Colab\"/></a>"
      ]
    },
    {
      "cell_type": "markdown",
      "metadata": {
        "id": "Xqsl-c3f_ORI",
        "colab_type": "text"
      },
      "source": [
        "# 1 Introduction\n",
        "- write the introduction of your study here"
      ]
    },
    {
      "cell_type": "markdown",
      "metadata": {
        "id": "fFV1c8KM_e3X",
        "colab_type": "text"
      },
      "source": [
        "## 1.0.1 Imports\n",
        "- import libraries and write settings here"
      ]
    },
    {
      "cell_type": "code",
      "metadata": {
        "id": "GbTOr4z5_Eyw",
        "colab_type": "code",
        "colab": {}
      },
      "source": [
        "# Data manipulation\n",
        "import pandas as pd\n",
        "import numpy as np\n",
        "\n",
        "# Options for pandas\n",
        "\n",
        "\n",
        "# Display all cells output\n",
        "from IPython.core.interactiveshell import InteractiveShell\n",
        "InteractiveShell.ast_node_interactivity = 'all'\n",
        "\n",
        "from IPython import get_ipython\n",
        "ipython = get_ipython()\n",
        "\n",
        "# Autoreload extensions\n",
        "if 'autoreload' not in ipython.extension_manager.loaded:\n",
        "  %load_ext autoreload\n",
        "\n",
        "%autoreload 2\n",
        "\n",
        "# Visualizations\n",
        "import chart_studio.plotly as py\n",
        "import plotly.graph_objs as go\n",
        "from plotly.offline import iplot, init_notebook_mode\n",
        "init_notebook_mode(connected = True)\n",
        "\n",
        "import cufflinks as cf\n",
        "cf.go_offline(connected = True)\n",
        "cf.set_config_file(theme = 'white')\n",
        "\n",
        "\n"
      ],
      "execution_count": 0,
      "outputs": []
    },
    {
      "cell_type": "markdown",
      "metadata": {
        "id": "u2YVQ27aAXMD",
        "colab_type": "text"
      },
      "source": [
        "# 2 Analysis/Modeling\n",
        "-Do work here"
      ]
    },
    {
      "cell_type": "markdown",
      "metadata": {
        "id": "Vkt8YdbeAhSw",
        "colab_type": "text"
      },
      "source": [
        "# 3 Results\n",
        "-show graph and stats here"
      ]
    },
    {
      "cell_type": "markdown",
      "metadata": {
        "id": "K5LZ_xrVAsV8",
        "colab_type": "text"
      },
      "source": [
        "# 4 Conclusions and Next Steps\n",
        "- summarize findings here"
      ]
    }
  ]
}