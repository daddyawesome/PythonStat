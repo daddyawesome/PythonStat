{
  "nbformat": 4,
  "nbformat_minor": 0,
  "metadata": {
    "colab": {
      "name": "ListBasics.ipynb",
      "provenance": [],
      "authorship_tag": "ABX9TyN0X1PgVJM6+PwWiLmmSkha",
      "include_colab_link": true
    },
    "kernelspec": {
      "name": "python3",
      "display_name": "Python 3"
    }
  },
  "cells": [
    {
      "cell_type": "markdown",
      "metadata": {
        "id": "view-in-github",
        "colab_type": "text"
      },
      "source": [
        "<a href=\"https://colab.research.google.com/github/daddyawesome/PythonStat/blob/master/ListBasics.ipynb\" target=\"_parent\"><img src=\"https://colab.research.google.com/assets/colab-badge.svg\" alt=\"Open In Colab\"/></a>"
      ]
    },
    {
      "cell_type": "markdown",
      "metadata": {
        "id": "DEvNthMqaVGU",
        "colab_type": "text"
      },
      "source": [
        "# List Basics\n",
        "A list is a mutable, ordered collection of objects. *\"Mutable\"* means a list can be altered after it is created. You can, for example, add new items to a list or remove existing items. Lists are heterogeneous, meaning they can hold objects of different types.\n",
        "\n",
        "Construct a list with a comma separated sequence of objects within square brackets:"
      ]
    },
    {
      "cell_type": "code",
      "metadata": {
        "id": "owWfIGscaL9Y",
        "colab_type": "code",
        "outputId": "1eda6105-4cca-466b-95d0-ce55cfb7aa96",
        "colab": {
          "base_uri": "https://localhost:8080/",
          "height": 34
        }
      },
      "source": [
        "my_list = [\"Lesson\", 5, \"Is Fun?\", True]\n",
        "\n",
        "print(my_list)"
      ],
      "execution_count": 0,
      "outputs": [
        {
          "output_type": "stream",
          "text": [
            "['Lesson', 5, 'Is Fun?', True]\n"
          ],
          "name": "stdout"
        }
      ]
    },
    {
      "cell_type": "markdown",
      "metadata": {
        "id": "r5s5QI-8alSD",
        "colab_type": "text"
      },
      "source": [
        "Alternatively, you can construct a list by passing some other iterable into the `list()` function. An iterable describes an object you can look through one item at a time, such as lists, tuples, strings and other sequences."
      ]
    },
    {
      "cell_type": "code",
      "metadata": {
        "id": "HiPIgiWQatFL",
        "colab_type": "code",
        "outputId": "42c3ba68-da2e-4c22-8376-72a1067c1419",
        "colab": {
          "base_uri": "https://localhost:8080/",
          "height": 34
        }
      },
      "source": [
        "second_list = list(\"Life is Study\")  # Create a list from a string\n",
        "\n",
        "print(second_list)"
      ],
      "execution_count": 0,
      "outputs": [
        {
          "output_type": "stream",
          "text": [
            "['L', 'i', 'f', 'e', ' ', 'i', 's', ' ', 'S', 't', 'u', 'd', 'y']\n"
          ],
          "name": "stdout"
        }
      ]
    },
    {
      "cell_type": "markdown",
      "metadata": {
        "id": "NyKLXqOPzQlP",
        "colab_type": "text"
      },
      "source": [
        "A list with no contents is known as the empty list:"
      ]
    },
    {
      "cell_type": "code",
      "metadata": {
        "id": "OU3pBGnVzY5I",
        "colab_type": "code",
        "colab": {
          "base_uri": "https://localhost:8080/",
          "height": 34
        },
        "outputId": "b8e6b9db-32a7-4897-85ff-9aebf9973448"
      },
      "source": [
        "empty_list = []\n",
        "\n",
        "print( empty_list )"
      ],
      "execution_count": 1,
      "outputs": [
        {
          "output_type": "stream",
          "text": [
            "[]\n"
          ],
          "name": "stdout"
        }
      ]
    }
  ]
}