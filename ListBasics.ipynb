{
  "nbformat": 4,
  "nbformat_minor": 0,
  "metadata": {
    "colab": {
      "name": "ListBasics.ipynb",
      "provenance": [],
      "authorship_tag": "ABX9TyM5w1Ep+TR2uknLzmw5xuhi",
      "include_colab_link": true
    },
    "kernelspec": {
      "name": "python3",
      "display_name": "Python 3"
    }
  },
  "cells": [
    {
      "cell_type": "markdown",
      "metadata": {
        "id": "view-in-github",
        "colab_type": "text"
      },
      "source": [
        "<a href=\"https://colab.research.google.com/github/daddyawesome/PythonStat/blob/master/ListBasics.ipynb\" target=\"_parent\"><img src=\"https://colab.research.google.com/assets/colab-badge.svg\" alt=\"Open In Colab\"/></a>"
      ]
    },
    {
      "cell_type": "markdown",
      "metadata": {
        "id": "DEvNthMqaVGU",
        "colab_type": "text"
      },
      "source": [
        "# List Basics\n",
        "A list is a mutable, ordered collection of objects. *\"Mutable\"* means a list can be altered after it is created. You can, for example, add new items to a list or remove existing items. Lists are heterogeneous, meaning they can hold objects of different types.\n",
        "\n",
        "Construct a list with a comma separated sequence of objects within square brackets:"
      ]
    },
    {
      "cell_type": "code",
      "metadata": {
        "id": "owWfIGscaL9Y",
        "colab_type": "code",
        "outputId": "c9b3d546-1bbe-47ee-8a26-d8a871809364",
        "colab": {
          "base_uri": "https://localhost:8080/",
          "height": 35
        }
      },
      "source": [
        "my_list = [\"Lesson\", 5, \"Is Fun?\", True]\n",
        "\n",
        "print(my_list)"
      ],
      "execution_count": 1,
      "outputs": [
        {
          "output_type": "stream",
          "text": [
            "['Lesson', 5, 'Is Fun?', True]\n"
          ],
          "name": "stdout"
        }
      ]
    },
    {
      "cell_type": "markdown",
      "metadata": {
        "id": "r5s5QI-8alSD",
        "colab_type": "text"
      },
      "source": [
        "Alternatively, you can construct a list by passing some other iterable into the `list()` function. An iterable describes an object you can look through one item at a time, such as lists, tuples, strings and other sequences."
      ]
    },
    {
      "cell_type": "code",
      "metadata": {
        "id": "HiPIgiWQatFL",
        "colab_type": "code",
        "outputId": "d4fd1691-7f9a-4698-f9c2-562f6a2dd73d",
        "colab": {
          "base_uri": "https://localhost:8080/",
          "height": 35
        }
      },
      "source": [
        "second_list = list(\"Life is Study\")  # Create a list from a string\n",
        "\n",
        "print(second_list)"
      ],
      "execution_count": 2,
      "outputs": [
        {
          "output_type": "stream",
          "text": [
            "['L', 'i', 'f', 'e', ' ', 'i', 's', ' ', 'S', 't', 'u', 'd', 'y']\n"
          ],
          "name": "stdout"
        }
      ]
    },
    {
      "cell_type": "markdown",
      "metadata": {
        "id": "NyKLXqOPzQlP",
        "colab_type": "text"
      },
      "source": [
        "A list with no contents is known as the empty list:"
      ]
    },
    {
      "cell_type": "code",
      "metadata": {
        "id": "OU3pBGnVzY5I",
        "colab_type": "code",
        "outputId": "d92615f5-f8d9-454c-e258-8d214699f958",
        "colab": {
          "base_uri": "https://localhost:8080/",
          "height": 35
        }
      },
      "source": [
        "empty_list = []\n",
        "\n",
        "print( empty_list )"
      ],
      "execution_count": 3,
      "outputs": [
        {
          "output_type": "stream",
          "text": [
            "[]\n"
          ],
          "name": "stdout"
        }
      ]
    },
    {
      "cell_type": "markdown",
      "metadata": {
        "id": "eT0qhDMPzy2b",
        "colab_type": "text"
      },
      "source": [
        "You can add an item to an existing list with the `list.append()` function:"
      ]
    },
    {
      "cell_type": "code",
      "metadata": {
        "id": "7HANYakRz1QZ",
        "colab_type": "code",
        "outputId": "00e095aa-6da9-44a9-ad36-4c007b436cbc",
        "colab": {
          "base_uri": "https://localhost:8080/",
          "height": 35
        }
      },
      "source": [
        "empty_list.append(\"I'm no longer empty!\")\n",
        "\n",
        "print(empty_list)"
      ],
      "execution_count": 4,
      "outputs": [
        {
          "output_type": "stream",
          "text": [
            "[\"I'm no longer empty!\"]\n"
          ],
          "name": "stdout"
        }
      ]
    },
    {
      "cell_type": "markdown",
      "metadata": {
        "id": "YONxTa6gz7xI",
        "colab_type": "text"
      },
      "source": [
        "Remove a matching item from a list with `list.remove():`"
      ]
    },
    {
      "cell_type": "code",
      "metadata": {
        "id": "hFn_3D2p0AVY",
        "colab_type": "code",
        "outputId": "737e80ab-65d9-483c-9fff-7da106d425cb",
        "colab": {
          "base_uri": "https://localhost:8080/",
          "height": 35
        }
      },
      "source": [
        "my_list.remove(5)\n",
        "\n",
        "print(my_list)"
      ],
      "execution_count": 5,
      "outputs": [
        {
          "output_type": "stream",
          "text": [
            "['Lesson', 'Is Fun?', True]\n"
          ],
          "name": "stdout"
        }
      ]
    },
    {
      "cell_type": "markdown",
      "metadata": {
        "id": "p2QNz_0E0PoI",
        "colab_type": "text"
      },
      "source": [
        "*Note: Remove deletes the first matching item only.*\n",
        "\n",
        "Join two lists together with the `+` operator:"
      ]
    },
    {
      "cell_type": "code",
      "metadata": {
        "id": "dZy7mype0To_",
        "colab_type": "code",
        "outputId": "0065c8ce-95db-44dc-eb21-e4f34ea4ba62",
        "colab": {
          "base_uri": "https://localhost:8080/",
          "height": 35
        }
      },
      "source": [
        "combined_list = my_list + empty_list\n",
        "\n",
        "print(combined_list)"
      ],
      "execution_count": 6,
      "outputs": [
        {
          "output_type": "stream",
          "text": [
            "['Lesson', 'Is Fun?', True, \"I'm no longer empty!\"]\n"
          ],
          "name": "stdout"
        }
      ]
    },
    {
      "cell_type": "markdown",
      "metadata": {
        "id": "e4I2Um2R0a1X",
        "colab_type": "text"
      },
      "source": [
        "Check the length, maximum, minimum and sum of a list with the `len()`, `max()`, `min()` and `sum()` functions, respectively."
      ]
    },
    {
      "cell_type": "code",
      "metadata": {
        "id": "OmNB3Wi_0fmw",
        "colab_type": "code",
        "outputId": "31523ffd-a2d9-408e-ef1a-3267e08abace",
        "colab": {
          "base_uri": "https://localhost:8080/",
          "height": 109
        }
      },
      "source": [
        "num_list = [1, 3, 5, 7, 9]\n",
        "print( len(num_list))                # Check the length\n",
        "print( max(num_list))                # Check the max\n",
        "print( min(num_list))                # Check the min\n",
        "print( sum(num_list))                # Check the sum\n",
        "print( sum(num_list)/len(num_list))  # Check the mean*"
      ],
      "execution_count": 7,
      "outputs": [
        {
          "output_type": "stream",
          "text": [
            "5\n",
            "9\n",
            "1\n",
            "25\n",
            "5.0\n"
          ],
          "name": "stdout"
        }
      ]
    },
    {
      "cell_type": "markdown",
      "metadata": {
        "id": "nJKAWjo60mlX",
        "colab_type": "text"
      },
      "source": [
        "Note: *Python does not have a built in function to calculate the mean, but the numpy library we will introduce in upcoming lessons does.*\n",
        "\n",
        "You can check whether a list contains a certain object with the \"in\" keyword:"
      ]
    },
    {
      "cell_type": "code",
      "metadata": {
        "id": "rnl7Ar-c0yDv",
        "colab_type": "code",
        "outputId": "98b745c3-b6c9-4cac-e814-398998db271a",
        "colab": {
          "base_uri": "https://localhost:8080/",
          "height": 35
        }
      },
      "source": [
        "1 in num_list"
      ],
      "execution_count": 8,
      "outputs": [
        {
          "output_type": "execute_result",
          "data": {
            "text/plain": [
              "True"
            ]
          },
          "metadata": {
            "tags": []
          },
          "execution_count": 8
        }
      ]
    },
    {
      "cell_type": "markdown",
      "metadata": {
        "id": "MGtU2gGbq6fm",
        "colab_type": "text"
      },
      "source": [
        "Add the keyword \"`not`\" to test whether a list does not contain an object:"
      ]
    },
    {
      "cell_type": "code",
      "metadata": {
        "id": "jv9ITrYvq94x",
        "colab_type": "code",
        "outputId": "27790369-8c7d-43e6-e2de-f1a8bb538fc3",
        "colab": {
          "base_uri": "https://localhost:8080/",
          "height": 35
        }
      },
      "source": [
        "1 not in num_list"
      ],
      "execution_count": 9,
      "outputs": [
        {
          "output_type": "execute_result",
          "data": {
            "text/plain": [
              "False"
            ]
          },
          "metadata": {
            "tags": []
          },
          "execution_count": 9
        }
      ]
    },
    {
      "cell_type": "markdown",
      "metadata": {
        "id": "R-RjBJFSrBJJ",
        "colab_type": "text"
      },
      "source": [
        "Count the occurrences of an object within a list using the list.count() function:"
      ]
    },
    {
      "cell_type": "code",
      "metadata": {
        "id": "nPvjHoPmrHq4",
        "colab_type": "code",
        "outputId": "809b5ac9-32e2-4dff-e1c2-dcff2c8c41e5",
        "colab": {
          "base_uri": "https://localhost:8080/",
          "height": 35
        }
      },
      "source": [
        "num_list.count(3)"
      ],
      "execution_count": 10,
      "outputs": [
        {
          "output_type": "execute_result",
          "data": {
            "text/plain": [
              "1"
            ]
          },
          "metadata": {
            "tags": []
          },
          "execution_count": 10
        }
      ]
    },
    {
      "cell_type": "markdown",
      "metadata": {
        "id": "e3rYo41GrQRP",
        "colab_type": "text"
      },
      "source": [
        "Other common list functions include `list.sort()` and `list.reverse()`:"
      ]
    },
    {
      "cell_type": "code",
      "metadata": {
        "id": "8CM25h6trWQ8",
        "colab_type": "code",
        "outputId": "71a26822-6930-4e2b-c318-bb5a26b8295f",
        "colab": {
          "base_uri": "https://localhost:8080/",
          "height": 54
        }
      },
      "source": [
        "new_list = [1, 5, 4, 2, 3, 6]      # Make a new list\n",
        "\n",
        "new_list.reverse()                 # Reverse the list\n",
        "print(\"Reversed list\", new_list)\n",
        "\n",
        "new_list.sort()                    # Sort the list\n",
        "print(\"Sorted list\", new_list)"
      ],
      "execution_count": 11,
      "outputs": [
        {
          "output_type": "stream",
          "text": [
            "Reversed list [6, 3, 2, 4, 5, 1]\n",
            "Sorted list [1, 2, 3, 4, 5, 6]\n"
          ],
          "name": "stdout"
        }
      ]
    },
    {
      "cell_type": "markdown",
      "metadata": {
        "id": "1PmnqzFjrt1M",
        "colab_type": "text"
      },
      "source": [
        "\n",
        "# List Indexing and Slicing\n",
        "\n",
        "Lists and other Python sequences are indexed, meaning each position in the sequence has a corresponding number called the index that you can use to look up the value at that position. Python sequences are zero-indexed, so the first element of a sequence is at index position zero, the second element is at index 1 and so on. Retrieve an item from a list by placing the index in square brackets after the name of the list:\n"
      ]
    },
    {
      "cell_type": "code",
      "metadata": {
        "id": "WE8jIPEmrxzY",
        "colab_type": "code",
        "outputId": "88e07ec4-27bd-4d0c-bff6-239fa98b61cf",
        "colab": {
          "base_uri": "https://localhost:8080/",
          "height": 54
        }
      },
      "source": [
        "another_list = [\"Hello\",\"my\", \"bestest\", \"old\", \"friend.\"]\n",
        "\n",
        "print (another_list[0])\n",
        "print (another_list[2])"
      ],
      "execution_count": 12,
      "outputs": [
        {
          "output_type": "stream",
          "text": [
            "Hello\n",
            "bestest\n"
          ],
          "name": "stdout"
        }
      ]
    },
    {
      "cell_type": "markdown",
      "metadata": {
        "id": "RT_HZzEeulJG",
        "colab_type": "text"
      },
      "source": [
        "If you supply a negative number when indexing into a list, it accesses items starting from the end of the `list (-1)` going backward:"
      ]
    },
    {
      "cell_type": "code",
      "metadata": {
        "id": "IS_ApgW3xdPw",
        "colab_type": "code",
        "colab": {
          "base_uri": "https://localhost:8080/",
          "height": 54
        },
        "outputId": "350480c7-ab33-4fb3-f4bb-ac0c17d3edb5"
      },
      "source": [
        "print (another_list[-1])\n",
        "print (another_list[-3])"
      ],
      "execution_count": 13,
      "outputs": [
        {
          "output_type": "stream",
          "text": [
            "friend.\n",
            "bestest\n"
          ],
          "name": "stdout"
        }
      ]
    },
    {
      "cell_type": "markdown",
      "metadata": {
        "id": "yCVMJ8lkx7gy",
        "colab_type": "text"
      },
      "source": [
        "Supplying an index outside of a lists range will result in an `IndexError:`"
      ]
    },
    {
      "cell_type": "code",
      "metadata": {
        "id": "H8xddfwux-r8",
        "colab_type": "code",
        "colab": {
          "base_uri": "https://localhost:8080/",
          "height": 172
        },
        "outputId": "d5f8405d-d2d2-4b44-fd18-bf33dcbe459c"
      },
      "source": [
        "print (another_list[5])"
      ],
      "execution_count": 14,
      "outputs": [
        {
          "output_type": "error",
          "ename": "IndexError",
          "evalue": "ignored",
          "traceback": [
            "\u001b[0;31m---------------------------------------------------------------------------\u001b[0m",
            "\u001b[0;31mIndexError\u001b[0m                                Traceback (most recent call last)",
            "\u001b[0;32m<ipython-input-14-f05d9ae73ae5>\u001b[0m in \u001b[0;36m<module>\u001b[0;34m()\u001b[0m\n\u001b[0;32m----> 1\u001b[0;31m \u001b[0mprint\u001b[0m \u001b[0;34m(\u001b[0m\u001b[0manother_list\u001b[0m\u001b[0;34m[\u001b[0m\u001b[0;36m5\u001b[0m\u001b[0;34m]\u001b[0m\u001b[0;34m)\u001b[0m\u001b[0;34m\u001b[0m\u001b[0;34m\u001b[0m\u001b[0m\n\u001b[0m",
            "\u001b[0;31mIndexError\u001b[0m: list index out of range"
          ]
        }
      ]
    },
    {
      "cell_type": "markdown",
      "metadata": {
        "id": "J3rYWnsJyZs_",
        "colab_type": "text"
      },
      "source": [
        "\n",
        "If your list contains other indexed objects, you can supply additional indexes to get items contained within the nested objects:\n"
      ]
    },
    {
      "cell_type": "code",
      "metadata": {
        "id": "G-yXu1h8ydT6",
        "colab_type": "code",
        "colab": {
          "base_uri": "https://localhost:8080/",
          "height": 35
        },
        "outputId": "be05d59a-8e48-4023-da2f-43016b58988e"
      },
      "source": [
        "nested_list = [[1,2,3],[4,5,6],[7,8,9]]\n",
        "\n",
        "print (nested_list[0][2])"
      ],
      "execution_count": 15,
      "outputs": [
        {
          "output_type": "stream",
          "text": [
            "3\n"
          ],
          "name": "stdout"
        }
      ]
    },
    {
      "cell_type": "markdown",
      "metadata": {
        "id": "9Qkwp1G4ymj6",
        "colab_type": "text"
      },
      "source": [
        "You can take a slice (sequential subset) of a list using the syntax [start:stop:step] where start and stop are the starting and ending indexes for the slice and step controls how frequently you sample values along the slice. The default step size is 1, meaning you take all values in the range provided, starting from the first, up to but not including the last:"
      ]
    },
    {
      "cell_type": "code",
      "metadata": {
        "id": "f8f1TOk1yutB",
        "colab_type": "code",
        "colab": {
          "base_uri": "https://localhost:8080/",
          "height": 35
        },
        "outputId": "668d61c2-bd27-4a0f-af73-562af0093e58"
      },
      "source": [
        "my_slice =  another_list[1:3]   # Slice index 1 and 2\n",
        "print(my_slice )"
      ],
      "execution_count": 16,
      "outputs": [
        {
          "output_type": "stream",
          "text": [
            "['my', 'bestest']\n"
          ],
          "name": "stdout"
        }
      ]
    },
    {
      "cell_type": "code",
      "metadata": {
        "id": "foL3LReHy77Z",
        "colab_type": "code",
        "colab": {
          "base_uri": "https://localhost:8080/",
          "height": 35
        },
        "outputId": "c6f54271-e53d-40b0-e446-39ca89daf0a1"
      },
      "source": [
        "# Slice the entire list but use step size 2 to get every other item:\n",
        "\n",
        "my_slice =  another_list[0:6:2] \n",
        "print(my_slice )"
      ],
      "execution_count": 17,
      "outputs": [
        {
          "output_type": "stream",
          "text": [
            "['Hello', 'bestest', 'friend.']\n"
          ],
          "name": "stdout"
        }
      ]
    },
    {
      "cell_type": "markdown",
      "metadata": {
        "id": "qAoWpOc20_3W",
        "colab_type": "text"
      },
      "source": [
        "\n",
        "You can leave the starting or ending index blank to slice from the beginning or up to the end of the list respectively:\n"
      ]
    },
    {
      "cell_type": "code",
      "metadata": {
        "id": "IB2UTvhN1B2O",
        "colab_type": "code",
        "colab": {
          "base_uri": "https://localhost:8080/",
          "height": 35
        },
        "outputId": "4f3f32d8-541e-4d20-bd89-57fedb5b2af7"
      },
      "source": [
        "slice1 = another_list[:4]   # Slice everything up to index 4\n",
        "print(slice1)"
      ],
      "execution_count": 18,
      "outputs": [
        {
          "output_type": "stream",
          "text": [
            "['Hello', 'my', 'bestest', 'old']\n"
          ],
          "name": "stdout"
        }
      ]
    },
    {
      "cell_type": "code",
      "metadata": {
        "id": "O1Fq5a6c1KI5",
        "colab_type": "code",
        "colab": {
          "base_uri": "https://localhost:8080/",
          "height": 35
        },
        "outputId": "f8e5e101-7ae3-469f-a166-cd5bf0ddb894"
      },
      "source": [
        "slice2 = another_list[3:]   # Slice everything from index 3 to the end\n",
        "print(slice2)"
      ],
      "execution_count": 19,
      "outputs": [
        {
          "output_type": "stream",
          "text": [
            "['old', 'friend.']\n"
          ],
          "name": "stdout"
        }
      ]
    },
    {
      "cell_type": "markdown",
      "metadata": {
        "id": "hUwVF1YQ1NJb",
        "colab_type": "text"
      },
      "source": [
        "If you provide a negative number as the step, the slice steps backward:\n"
      ]
    },
    {
      "cell_type": "code",
      "metadata": {
        "id": "KcSg4UzI1Qbr",
        "colab_type": "code",
        "colab": {
          "base_uri": "https://localhost:8080/",
          "height": 35
        },
        "outputId": "cb3bce3d-98c4-4ea4-9913-6537a454a80e"
      },
      "source": [
        "# Take a slice starting at index 4, backward to index 2\n",
        "\n",
        "my_slice =  another_list[4:2:-1] \n",
        "print(my_slice )"
      ],
      "execution_count": 20,
      "outputs": [
        {
          "output_type": "stream",
          "text": [
            "['friend.', 'old']\n"
          ],
          "name": "stdout"
        }
      ]
    },
    {
      "cell_type": "markdown",
      "metadata": {
        "id": "WVs6MFlE1YDD",
        "colab_type": "text"
      },
      "source": [
        "\n",
        "\n",
        "If you don't provide a start or ending index, you slice of the entire list:\n"
      ]
    },
    {
      "cell_type": "code",
      "metadata": {
        "id": "LJpuKVUC1bar",
        "colab_type": "code",
        "colab": {
          "base_uri": "https://localhost:8080/",
          "height": 35
        },
        "outputId": "f808be17-0ab5-4b84-ac92-3c6686cce465"
      },
      "source": [
        "my_slice =  another_list[:]   # This slice operation copies the list\n",
        "print(my_slice)"
      ],
      "execution_count": 21,
      "outputs": [
        {
          "output_type": "stream",
          "text": [
            "['Hello', 'my', 'bestest', 'old', 'friend.']\n"
          ],
          "name": "stdout"
        }
      ]
    },
    {
      "cell_type": "markdown",
      "metadata": {
        "id": "RYikchl11eGI",
        "colab_type": "text"
      },
      "source": [
        "\n",
        "\n",
        "Using a step of -1 without a starting or ending index slices the entire list in reverse, providing a shorthand to reverse a list:\n"
      ]
    },
    {
      "cell_type": "code",
      "metadata": {
        "id": "lAmuV1KK1fNO",
        "colab_type": "code",
        "colab": {
          "base_uri": "https://localhost:8080/",
          "height": 35
        },
        "outputId": "e71a687a-8b0f-4c54-f773-055b0aa7441e"
      },
      "source": [
        "my_slice =  another_list[::-1] # This slice operation reverses the list\n",
        "print(my_slice)"
      ],
      "execution_count": 22,
      "outputs": [
        {
          "output_type": "stream",
          "text": [
            "['friend.', 'old', 'bestest', 'my', 'Hello']\n"
          ],
          "name": "stdout"
        }
      ]
    },
    {
      "cell_type": "markdown",
      "metadata": {
        "id": "-etIyFBq1j1g",
        "colab_type": "text"
      },
      "source": [
        "You can use indexing to change the values within a list or delete items in a list:"
      ]
    },
    {
      "cell_type": "code",
      "metadata": {
        "id": "pg8SnXio1lJT",
        "colab_type": "code",
        "colab": {
          "base_uri": "https://localhost:8080/",
          "height": 54
        },
        "outputId": "fc940aa6-8480-4c44-b196-66027545764b"
      },
      "source": [
        "another_list[3] = \"new\"   # Set the value at index 3 to \"new\"\n",
        "\n",
        "print(another_list)\n",
        "\n",
        "del(another_list[3])      # Delete the item at index 3\n",
        "\n",
        "print(another_list)"
      ],
      "execution_count": 23,
      "outputs": [
        {
          "output_type": "stream",
          "text": [
            "['Hello', 'my', 'bestest', 'new', 'friend.']\n",
            "['Hello', 'my', 'bestest', 'friend.']\n"
          ],
          "name": "stdout"
        }
      ]
    },
    {
      "cell_type": "markdown",
      "metadata": {
        "id": "ccfOWKE61qSJ",
        "colab_type": "text"
      },
      "source": [
        "\n",
        "\n",
        "You can also remove items from a list using the `list.pop()` `function.pop()` removes the final item in a list and returns it:\n"
      ]
    },
    {
      "cell_type": "code",
      "metadata": {
        "id": "9pf-cGIf1yrn",
        "colab_type": "code",
        "colab": {
          "base_uri": "https://localhost:8080/",
          "height": 54
        },
        "outputId": "0fca6c75-698a-49c6-92eb-2fae0538c0ca"
      },
      "source": [
        "next_item = another_list.pop()\n",
        "\n",
        "print(next_item)\n",
        "print(another_list)"
      ],
      "execution_count": 24,
      "outputs": [
        {
          "output_type": "stream",
          "text": [
            "friend.\n",
            "['Hello', 'my', 'bestest']\n"
          ],
          "name": "stdout"
        }
      ]
    },
    {
      "cell_type": "markdown",
      "metadata": {
        "id": "ayJG7pcd16a7",
        "colab_type": "text"
      },
      "source": [
        "\n",
        "\n",
        "Notice that the list resizes itself dynamically as you delete or add items to it. Appending items to lists and removing items from the end of list with `list.pop()` are very fast operations. Deleting items at the front of a list or within the body of a lists is much slower.\n",
        "# Copying Lists\n",
        "\n",
        "In the code above, we saw that we can slice an entire list using the `[:]` indexing operation. You can also copy a list using the `list.copy()` function:\n"
      ]
    },
    {
      "cell_type": "code",
      "metadata": {
        "id": "T6wXp5BU2GTy",
        "colab_type": "code",
        "colab": {
          "base_uri": "https://localhost:8080/",
          "height": 54
        },
        "outputId": "0165024d-3537-4156-b9b8-17572b6f936f"
      },
      "source": [
        "list1 = [1,2,3]                        # Make a list\n",
        "\n",
        "list2 = list1.copy()                   # Copy the list\n",
        "\n",
        "list1.append(4)                        # Add an item to list 1\n",
        "\n",
        "print(\"List1:\", list1)                 # Print both lists\n",
        "print(\"List2:\", list2)"
      ],
      "execution_count": 25,
      "outputs": [
        {
          "output_type": "stream",
          "text": [
            "List1: [1, 2, 3, 4]\n",
            "List2: [1, 2, 3]\n"
          ],
          "name": "stdout"
        }
      ]
    },
    {
      "cell_type": "markdown",
      "metadata": {
        "id": "YHnZLM2d2V_H",
        "colab_type": "text"
      },
      "source": [
        "\n",
        "As expected, the copy was not affected by the append operation we performed on the original list. The copy function (and slicing an entire list with [:]) creates what is known as a \"shallow copy.\" A shallow copy makes a new list where each list element refers to the object at the same position (index) in the original list. This is fine when the list is contains immutable objects like ints, floats and strings, since they cannot change. Shallow copies can however, have undesired consequences when copying lists that contain mutable container objects, such as other lists.\n",
        "\n",
        "\n",
        "Consider the following copy operation:\n"
      ]
    },
    {
      "cell_type": "code",
      "metadata": {
        "id": "ED3epot02eZR",
        "colab_type": "code",
        "colab": {
          "base_uri": "https://localhost:8080/",
          "height": 146
        },
        "outputId": "dde415a2-3c3a-4764-ea66-3098526b90d1"
      },
      "source": [
        "list1 = [1,2,3]                        # Make a list\n",
        "\n",
        "list2 = [\"List within a list\", list1]  # Nest it in another list\n",
        "\n",
        "list3 = list2.copy()                   # Shallow copy list2\n",
        "\n",
        "print(\"Before appending to list1:\")\n",
        "print(\"List2:\", list2)\n",
        "print(\"List3:\", list3, \"\\n\")\n",
        "\n",
        "list1.append(4)                        # Add an item to list1\n",
        "print(\"After appending to list1:\")\n",
        "print(\"List2:\", list2)\n",
        "print(\"List3:\", list3)"
      ],
      "execution_count": 26,
      "outputs": [
        {
          "output_type": "stream",
          "text": [
            "Before appending to list1:\n",
            "List2: ['List within a list', [1, 2, 3]]\n",
            "List3: ['List within a list', [1, 2, 3]] \n",
            "\n",
            "After appending to list1:\n",
            "List2: ['List within a list', [1, 2, 3, 4]]\n",
            "List3: ['List within a list', [1, 2, 3, 4]]\n"
          ],
          "name": "stdout"
        }
      ]
    },
    {
      "cell_type": "markdown",
      "metadata": {
        "id": "Gw3X45Ep2mUo",
        "colab_type": "text"
      },
      "source": [
        "\n",
        "\n",
        "Notice that when we use a shallow copy on list2, the second element of list2 and its copy both refer to list1. Thus, when we append a new value into list1, the second element of list2 and the copy, list3, both change. When you are working with nested lists, you have to make a \"deepcopy\" if you want to truly copy nested objects in the original to avoid this behavior of shallow copies.\n",
        "\n",
        "You can make a deep copy using the deepcopy() function in the copy library:\n"
      ]
    },
    {
      "cell_type": "code",
      "metadata": {
        "id": "4Qc92qnl2n1K",
        "colab_type": "code",
        "colab": {
          "base_uri": "https://localhost:8080/",
          "height": 146
        },
        "outputId": "52c7d47c-6f25-4e2e-f553-1663654ca61f"
      },
      "source": [
        "import copy                            # Load the copy module\n",
        "\n",
        "list1 = [1,2,3]                        # Make a list\n",
        "\n",
        "list2 = [\"List within a list\", list1]  # Nest it in another list\n",
        "\n",
        "list3 = copy.deepcopy(list2)           # Deep copy list2\n",
        "\n",
        "print(\"Before appending to list1:\")\n",
        "print(\"List2:\", list2)\n",
        "print(\"List3:\", list3, \"\\n\")\n",
        "\n",
        "list1.append(4)                        # Add an item to list1\n",
        "print(\"After appending to list1:\")\n",
        "print(\"List2:\", list2)\n",
        "print(\"List3:\", list3)"
      ],
      "execution_count": 27,
      "outputs": [
        {
          "output_type": "stream",
          "text": [
            "Before appending to list1:\n",
            "List2: ['List within a list', [1, 2, 3]]\n",
            "List3: ['List within a list', [1, 2, 3]] \n",
            "\n",
            "After appending to list1:\n",
            "List2: ['List within a list', [1, 2, 3, 4]]\n",
            "List3: ['List within a list', [1, 2, 3]]\n"
          ],
          "name": "stdout"
        }
      ]
    },
    {
      "cell_type": "markdown",
      "metadata": {
        "id": "d4tchgtC2z_O",
        "colab_type": "text"
      },
      "source": [
        "\n",
        "\n",
        "This time `list3` is not changed when we append a new value into `list1` because the second element in `list3` is a copy of` list1` rather than a reference to `list1` itself.\n",
        "\n",
        "# Wrap Up\n",
        "\n",
        "Lists are one of the most ubiquitous data structures in Python, so it is important to be familiar with them, even though specialized data structures available in libraries are often better suited for data analysis tasks. Despite some quirks like the shallow vs. deep copy issue, lists are very useful as simple data containers.\n",
        "\n",
        "In the next lesson, we'll cover two more built in sequence objects, tuples and strings.\n"
      ]
    }
  ]
}