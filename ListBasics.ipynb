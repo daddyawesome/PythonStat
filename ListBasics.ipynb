{
  "nbformat": 4,
  "nbformat_minor": 0,
  "metadata": {
    "colab": {
      "name": "ListBasics.ipynb",
      "provenance": [],
      "authorship_tag": "ABX9TyMC8hRwWSWIseZ3/gJP455n",
      "include_colab_link": true
    },
    "kernelspec": {
      "name": "python3",
      "display_name": "Python 3"
    }
  },
  "cells": [
    {
      "cell_type": "markdown",
      "metadata": {
        "id": "view-in-github",
        "colab_type": "text"
      },
      "source": [
        "<a href=\"https://colab.research.google.com/github/daddyawesome/PythonStat/blob/master/ListBasics.ipynb\" target=\"_parent\"><img src=\"https://colab.research.google.com/assets/colab-badge.svg\" alt=\"Open In Colab\"/></a>"
      ]
    },
    {
      "cell_type": "markdown",
      "metadata": {
        "id": "DEvNthMqaVGU",
        "colab_type": "text"
      },
      "source": [
        "# List Basics\n",
        "A list is a mutable, ordered collection of objects. *\"Mutable\"* means a list can be altered after it is created. You can, for example, add new items to a list or remove existing items. Lists are heterogeneous, meaning they can hold objects of different types.\n",
        "\n",
        "Construct a list with a comma separated sequence of objects within square brackets:"
      ]
    },
    {
      "cell_type": "code",
      "metadata": {
        "id": "owWfIGscaL9Y",
        "colab_type": "code",
        "outputId": "b7602a3c-5945-4320-9a09-3a2641c85816",
        "colab": {
          "base_uri": "https://localhost:8080/",
          "height": 35
        }
      },
      "source": [
        "my_list = [\"Lesson\", 5, \"Is Fun?\", True]\n",
        "\n",
        "print(my_list)"
      ],
      "execution_count": 1,
      "outputs": [
        {
          "output_type": "stream",
          "text": [
            "['Lesson', 5, 'Is Fun?', True]\n"
          ],
          "name": "stdout"
        }
      ]
    },
    {
      "cell_type": "markdown",
      "metadata": {
        "id": "r5s5QI-8alSD",
        "colab_type": "text"
      },
      "source": [
        "Alternatively, you can construct a list by passing some other iterable into the `list()` function. An iterable describes an object you can look through one item at a time, such as lists, tuples, strings and other sequences."
      ]
    },
    {
      "cell_type": "code",
      "metadata": {
        "id": "HiPIgiWQatFL",
        "colab_type": "code",
        "outputId": "903e7763-88cc-482c-b478-5fb3607e9138",
        "colab": {
          "base_uri": "https://localhost:8080/",
          "height": 35
        }
      },
      "source": [
        "second_list = list(\"Life is Study\")  # Create a list from a string\n",
        "\n",
        "print(second_list)"
      ],
      "execution_count": 2,
      "outputs": [
        {
          "output_type": "stream",
          "text": [
            "['L', 'i', 'f', 'e', ' ', 'i', 's', ' ', 'S', 't', 'u', 'd', 'y']\n"
          ],
          "name": "stdout"
        }
      ]
    },
    {
      "cell_type": "markdown",
      "metadata": {
        "id": "NyKLXqOPzQlP",
        "colab_type": "text"
      },
      "source": [
        "A list with no contents is known as the empty list:"
      ]
    },
    {
      "cell_type": "code",
      "metadata": {
        "id": "OU3pBGnVzY5I",
        "colab_type": "code",
        "outputId": "7725e6d0-e7ad-45ec-e8d2-2f559705872b",
        "colab": {
          "base_uri": "https://localhost:8080/",
          "height": 35
        }
      },
      "source": [
        "empty_list = []\n",
        "\n",
        "print( empty_list )"
      ],
      "execution_count": 3,
      "outputs": [
        {
          "output_type": "stream",
          "text": [
            "[]\n"
          ],
          "name": "stdout"
        }
      ]
    },
    {
      "cell_type": "markdown",
      "metadata": {
        "id": "eT0qhDMPzy2b",
        "colab_type": "text"
      },
      "source": [
        "You can add an item to an existing list with the `list.append()` function:"
      ]
    },
    {
      "cell_type": "code",
      "metadata": {
        "id": "7HANYakRz1QZ",
        "colab_type": "code",
        "outputId": "15c6555e-13d1-43f8-bdc8-0928224c4023",
        "colab": {
          "base_uri": "https://localhost:8080/",
          "height": 35
        }
      },
      "source": [
        "empty_list.append(\"I'm no longer empty!\")\n",
        "\n",
        "print(empty_list)"
      ],
      "execution_count": 4,
      "outputs": [
        {
          "output_type": "stream",
          "text": [
            "[\"I'm no longer empty!\"]\n"
          ],
          "name": "stdout"
        }
      ]
    },
    {
      "cell_type": "markdown",
      "metadata": {
        "id": "YONxTa6gz7xI",
        "colab_type": "text"
      },
      "source": [
        "Remove a matching item from a list with `list.remove():`"
      ]
    },
    {
      "cell_type": "code",
      "metadata": {
        "id": "hFn_3D2p0AVY",
        "colab_type": "code",
        "outputId": "1853ea32-51c9-4c63-a8be-fa4bfee62a07",
        "colab": {
          "base_uri": "https://localhost:8080/",
          "height": 35
        }
      },
      "source": [
        "my_list.remove(5)\n",
        "\n",
        "print(my_list)"
      ],
      "execution_count": 5,
      "outputs": [
        {
          "output_type": "stream",
          "text": [
            "['Lesson', 'Is Fun?', True]\n"
          ],
          "name": "stdout"
        }
      ]
    },
    {
      "cell_type": "markdown",
      "metadata": {
        "id": "p2QNz_0E0PoI",
        "colab_type": "text"
      },
      "source": [
        "*Note: Remove deletes the first matching item only.*\n",
        "\n",
        "Join two lists together with the `+` operator:"
      ]
    },
    {
      "cell_type": "code",
      "metadata": {
        "id": "dZy7mype0To_",
        "colab_type": "code",
        "outputId": "ccd24c05-b7dc-43b9-bae0-8d69f85a19c8",
        "colab": {
          "base_uri": "https://localhost:8080/",
          "height": 35
        }
      },
      "source": [
        "combined_list = my_list + empty_list\n",
        "\n",
        "print(combined_list)"
      ],
      "execution_count": 6,
      "outputs": [
        {
          "output_type": "stream",
          "text": [
            "['Lesson', 'Is Fun?', True, \"I'm no longer empty!\"]\n"
          ],
          "name": "stdout"
        }
      ]
    },
    {
      "cell_type": "markdown",
      "metadata": {
        "id": "e4I2Um2R0a1X",
        "colab_type": "text"
      },
      "source": [
        "Check the length, maximum, minimum and sum of a list with the `len()`, `max()`, `min()` and `sum()` functions, respectively."
      ]
    },
    {
      "cell_type": "code",
      "metadata": {
        "id": "OmNB3Wi_0fmw",
        "colab_type": "code",
        "outputId": "a3117e93-0cbc-4f5a-f0df-61594e727258",
        "colab": {
          "base_uri": "https://localhost:8080/",
          "height": 109
        }
      },
      "source": [
        "num_list = [1, 3, 5, 7, 9]\n",
        "print( len(num_list))                # Check the length\n",
        "print( max(num_list))                # Check the max\n",
        "print( min(num_list))                # Check the min\n",
        "print( sum(num_list))                # Check the sum\n",
        "print( sum(num_list)/len(num_list))  # Check the mean*"
      ],
      "execution_count": 7,
      "outputs": [
        {
          "output_type": "stream",
          "text": [
            "5\n",
            "9\n",
            "1\n",
            "25\n",
            "5.0\n"
          ],
          "name": "stdout"
        }
      ]
    },
    {
      "cell_type": "markdown",
      "metadata": {
        "id": "nJKAWjo60mlX",
        "colab_type": "text"
      },
      "source": [
        "Note: *Python does not have a built in function to calculate the mean, but the numpy library we will introduce in upcoming lessons does.*\n",
        "\n",
        "You can check whether a list contains a certain object with the \"in\" keyword:"
      ]
    },
    {
      "cell_type": "code",
      "metadata": {
        "id": "rnl7Ar-c0yDv",
        "colab_type": "code",
        "outputId": "28929b77-95a4-4215-d256-201397b2d2cc",
        "colab": {
          "base_uri": "https://localhost:8080/",
          "height": 35
        }
      },
      "source": [
        "1 in num_list"
      ],
      "execution_count": 8,
      "outputs": [
        {
          "output_type": "execute_result",
          "data": {
            "text/plain": [
              "True"
            ]
          },
          "metadata": {
            "tags": []
          },
          "execution_count": 8
        }
      ]
    },
    {
      "cell_type": "markdown",
      "metadata": {
        "id": "MGtU2gGbq6fm",
        "colab_type": "text"
      },
      "source": [
        "Add the keyword \"`not`\" to test whether a list does not contain an object:"
      ]
    },
    {
      "cell_type": "code",
      "metadata": {
        "id": "jv9ITrYvq94x",
        "colab_type": "code",
        "colab": {
          "base_uri": "https://localhost:8080/",
          "height": 35
        },
        "outputId": "82ac94fc-6284-474b-acfc-3a7b6d4a9e3f"
      },
      "source": [
        "1 not in num_list"
      ],
      "execution_count": 9,
      "outputs": [
        {
          "output_type": "execute_result",
          "data": {
            "text/plain": [
              "False"
            ]
          },
          "metadata": {
            "tags": []
          },
          "execution_count": 9
        }
      ]
    },
    {
      "cell_type": "markdown",
      "metadata": {
        "id": "R-RjBJFSrBJJ",
        "colab_type": "text"
      },
      "source": [
        "Count the occurrences of an object within a list using the list.count() function:"
      ]
    },
    {
      "cell_type": "code",
      "metadata": {
        "id": "nPvjHoPmrHq4",
        "colab_type": "code",
        "colab": {
          "base_uri": "https://localhost:8080/",
          "height": 35
        },
        "outputId": "6c0dee9a-628f-420b-9bd6-fc3c874da33e"
      },
      "source": [
        "num_list.count(3)"
      ],
      "execution_count": 10,
      "outputs": [
        {
          "output_type": "execute_result",
          "data": {
            "text/plain": [
              "1"
            ]
          },
          "metadata": {
            "tags": []
          },
          "execution_count": 10
        }
      ]
    },
    {
      "cell_type": "markdown",
      "metadata": {
        "id": "e3rYo41GrQRP",
        "colab_type": "text"
      },
      "source": [
        "Other common list functions include `list.sort()` and `list.reverse()`:"
      ]
    },
    {
      "cell_type": "code",
      "metadata": {
        "id": "8CM25h6trWQ8",
        "colab_type": "code",
        "colab": {
          "base_uri": "https://localhost:8080/",
          "height": 54
        },
        "outputId": "9e28ab63-4291-48ed-e8b5-6dcae2d37420"
      },
      "source": [
        "new_list = [1, 5, 4, 2, 3, 6]      # Make a new list\n",
        "\n",
        "new_list.reverse()                 # Reverse the list\n",
        "print(\"Reversed list\", new_list)\n",
        "\n",
        "new_list.sort()                    # Sort the list\n",
        "print(\"Sorted list\", new_list)"
      ],
      "execution_count": 11,
      "outputs": [
        {
          "output_type": "stream",
          "text": [
            "Reversed list [6, 3, 2, 4, 5, 1]\n",
            "Sorted list [1, 2, 3, 4, 5, 6]\n"
          ],
          "name": "stdout"
        }
      ]
    },
    {
      "cell_type": "markdown",
      "metadata": {
        "id": "1PmnqzFjrt1M",
        "colab_type": "text"
      },
      "source": [
        "\n",
        "# List Indexing and Slicing\n",
        "\n",
        "Lists and other Python sequences are indexed, meaning each position in the sequence has a corresponding number called the index that you can use to look up the value at that position. Python sequences are zero-indexed, so the first element of a sequence is at index position zero, the second element is at index 1 and so on. Retrieve an item from a list by placing the index in square brackets after the name of the list:\n"
      ]
    },
    {
      "cell_type": "code",
      "metadata": {
        "id": "WE8jIPEmrxzY",
        "colab_type": "code",
        "colab": {
          "base_uri": "https://localhost:8080/",
          "height": 54
        },
        "outputId": "c9bced39-6bec-4670-cc34-5e542bfec02e"
      },
      "source": [
        "another_list = [\"Hello\",\"my\", \"bestest\", \"old\", \"friend.\"]\n",
        "\n",
        "print (another_list[0])\n",
        "print (another_list[2])"
      ],
      "execution_count": 12,
      "outputs": [
        {
          "output_type": "stream",
          "text": [
            "Hello\n",
            "bestest\n"
          ],
          "name": "stdout"
        }
      ]
    }
  ]
}