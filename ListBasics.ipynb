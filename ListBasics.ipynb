{
  "nbformat": 4,
  "nbformat_minor": 0,
  "metadata": {
    "colab": {
      "name": "ListBasics.ipynb",
      "provenance": [],
      "authorship_tag": "ABX9TyN9aBDwwK04lqTO8y81US1Z",
      "include_colab_link": true
    },
    "kernelspec": {
      "name": "python3",
      "display_name": "Python 3"
    }
  },
  "cells": [
    {
      "cell_type": "markdown",
      "metadata": {
        "id": "view-in-github",
        "colab_type": "text"
      },
      "source": [
        "<a href=\"https://colab.research.google.com/github/daddyawesome/PythonStat/blob/master/ListBasics.ipynb\" target=\"_parent\"><img src=\"https://colab.research.google.com/assets/colab-badge.svg\" alt=\"Open In Colab\"/></a>"
      ]
    },
    {
      "cell_type": "markdown",
      "metadata": {
        "id": "DEvNthMqaVGU",
        "colab_type": "text"
      },
      "source": [
        "# List Basics\n",
        "A list is a mutable, ordered collection of objects. *\"Mutable\"* means a list can be altered after it is created. You can, for example, add new items to a list or remove existing items. Lists are heterogeneous, meaning they can hold objects of different types.\n",
        "\n",
        "Construct a list with a comma separated sequence of objects within square brackets:"
      ]
    },
    {
      "cell_type": "code",
      "metadata": {
        "id": "owWfIGscaL9Y",
        "colab_type": "code",
        "outputId": "903ef754-f663-49f2-ac05-f53ba61c860a",
        "colab": {
          "base_uri": "https://localhost:8080/",
          "height": 34
        }
      },
      "source": [
        "my_list = [\"Lesson\", 5, \"Is Fun?\", True]\n",
        "\n",
        "print(my_list)"
      ],
      "execution_count": 4,
      "outputs": [
        {
          "output_type": "stream",
          "text": [
            "['Lesson', 5, 'Is Fun?', True]\n"
          ],
          "name": "stdout"
        }
      ]
    },
    {
      "cell_type": "markdown",
      "metadata": {
        "id": "r5s5QI-8alSD",
        "colab_type": "text"
      },
      "source": [
        "Alternatively, you can construct a list by passing some other iterable into the `list()` function. An iterable describes an object you can look through one item at a time, such as lists, tuples, strings and other sequences."
      ]
    },
    {
      "cell_type": "code",
      "metadata": {
        "id": "HiPIgiWQatFL",
        "colab_type": "code",
        "outputId": "c6b5da02-9b8f-4e6a-8c9e-b4c491620102",
        "colab": {
          "base_uri": "https://localhost:8080/",
          "height": 34
        }
      },
      "source": [
        "second_list = list(\"Life is Study\")  # Create a list from a string\n",
        "\n",
        "print(second_list)"
      ],
      "execution_count": 5,
      "outputs": [
        {
          "output_type": "stream",
          "text": [
            "['L', 'i', 'f', 'e', ' ', 'i', 's', ' ', 'S', 't', 'u', 'd', 'y']\n"
          ],
          "name": "stdout"
        }
      ]
    },
    {
      "cell_type": "markdown",
      "metadata": {
        "id": "NyKLXqOPzQlP",
        "colab_type": "text"
      },
      "source": [
        "A list with no contents is known as the empty list:"
      ]
    },
    {
      "cell_type": "code",
      "metadata": {
        "id": "OU3pBGnVzY5I",
        "colab_type": "code",
        "colab": {
          "base_uri": "https://localhost:8080/",
          "height": 34
        },
        "outputId": "8ff86abb-156a-48f7-f13b-b2fbb397c1ff"
      },
      "source": [
        "empty_list = []\n",
        "\n",
        "print( empty_list )"
      ],
      "execution_count": 6,
      "outputs": [
        {
          "output_type": "stream",
          "text": [
            "[]\n"
          ],
          "name": "stdout"
        }
      ]
    },
    {
      "cell_type": "markdown",
      "metadata": {
        "id": "eT0qhDMPzy2b",
        "colab_type": "text"
      },
      "source": [
        "You can add an item to an existing list with the `list.append()` function:"
      ]
    },
    {
      "cell_type": "code",
      "metadata": {
        "id": "7HANYakRz1QZ",
        "colab_type": "code",
        "colab": {
          "base_uri": "https://localhost:8080/",
          "height": 34
        },
        "outputId": "7ec0c45f-d7ff-4ebb-9397-5a20f5636dca"
      },
      "source": [
        "empty_list.append(\"I'm no longer empty!\")\n",
        "\n",
        "print(empty_list)"
      ],
      "execution_count": 7,
      "outputs": [
        {
          "output_type": "stream",
          "text": [
            "[\"I'm no longer empty!\"]\n"
          ],
          "name": "stdout"
        }
      ]
    },
    {
      "cell_type": "markdown",
      "metadata": {
        "id": "YONxTa6gz7xI",
        "colab_type": "text"
      },
      "source": [
        "Remove a matching item from a list with `list.remove():`"
      ]
    },
    {
      "cell_type": "code",
      "metadata": {
        "id": "hFn_3D2p0AVY",
        "colab_type": "code",
        "colab": {
          "base_uri": "https://localhost:8080/",
          "height": 34
        },
        "outputId": "4bb68778-3107-4910-9928-e6fb10481609"
      },
      "source": [
        "my_list.remove(5)\n",
        "\n",
        "print(my_list)"
      ],
      "execution_count": 8,
      "outputs": [
        {
          "output_type": "stream",
          "text": [
            "['Lesson', 'Is Fun?', True]\n"
          ],
          "name": "stdout"
        }
      ]
    },
    {
      "cell_type": "markdown",
      "metadata": {
        "id": "p2QNz_0E0PoI",
        "colab_type": "text"
      },
      "source": [
        "*Note: Remove deletes the first matching item only.*\n",
        "\n",
        "Join two lists together with the `+` operator:"
      ]
    },
    {
      "cell_type": "code",
      "metadata": {
        "id": "dZy7mype0To_",
        "colab_type": "code",
        "colab": {
          "base_uri": "https://localhost:8080/",
          "height": 34
        },
        "outputId": "b4f62acb-0801-491f-9e83-2367ec9a7eaf"
      },
      "source": [
        "combined_list = my_list + empty_list\n",
        "\n",
        "print(combined_list)"
      ],
      "execution_count": 9,
      "outputs": [
        {
          "output_type": "stream",
          "text": [
            "['Lesson', 'Is Fun?', True, \"I'm no longer empty!\"]\n"
          ],
          "name": "stdout"
        }
      ]
    },
    {
      "cell_type": "markdown",
      "metadata": {
        "id": "e4I2Um2R0a1X",
        "colab_type": "text"
      },
      "source": [
        "Check the length, maximum, minimum and sum of a list with the `len()`, `max()`, `min()` and `sum()` functions, respectively."
      ]
    },
    {
      "cell_type": "code",
      "metadata": {
        "id": "OmNB3Wi_0fmw",
        "colab_type": "code",
        "colab": {
          "base_uri": "https://localhost:8080/",
          "height": 102
        },
        "outputId": "f30227d2-3a23-4fdd-b4cd-d55a51548376"
      },
      "source": [
        "num_list = [1, 3, 5, 7, 9]\n",
        "print( len(num_list))                # Check the length\n",
        "print( max(num_list))                # Check the max\n",
        "print( min(num_list))                # Check the min\n",
        "print( sum(num_list))                # Check the sum\n",
        "print( sum(num_list)/len(num_list))  # Check the mean*"
      ],
      "execution_count": 10,
      "outputs": [
        {
          "output_type": "stream",
          "text": [
            "5\n",
            "9\n",
            "1\n",
            "25\n",
            "5.0\n"
          ],
          "name": "stdout"
        }
      ]
    },
    {
      "cell_type": "markdown",
      "metadata": {
        "id": "nJKAWjo60mlX",
        "colab_type": "text"
      },
      "source": [
        "Note: *Python does not have a built in function to calculate the mean, but the numpy library we will introduce in upcoming lessons does.*\n",
        "\n",
        "You can check whether a list contains a certain object with the \"in\" keyword:"
      ]
    },
    {
      "cell_type": "code",
      "metadata": {
        "id": "rnl7Ar-c0yDv",
        "colab_type": "code",
        "colab": {
          "base_uri": "https://localhost:8080/",
          "height": 34
        },
        "outputId": "61a40b89-7a47-4109-8ea6-5ec6ac9f317d"
      },
      "source": [
        "1 in num_list"
      ],
      "execution_count": 11,
      "outputs": [
        {
          "output_type": "execute_result",
          "data": {
            "text/plain": [
              "True"
            ]
          },
          "metadata": {
            "tags": []
          },
          "execution_count": 11
        }
      ]
    }
  ]
}