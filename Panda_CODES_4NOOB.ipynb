{
  "nbformat": 4,
  "nbformat_minor": 0,
  "metadata": {
    "colab": {
      "name": "Panda_CODES_4NOOB",
      "provenance": [],
      "include_colab_link": true
    },
    "kernelspec": {
      "name": "python3",
      "display_name": "Python 3"
    }
  },
  "cells": [
    {
      "cell_type": "markdown",
      "metadata": {
        "id": "view-in-github",
        "colab_type": "text"
      },
      "source": [
        "<a href=\"https://colab.research.google.com/github/daddyawesome/PythonStat/blob/master/Panda_CODES_4NOOB.ipynb\" target=\"_parent\"><img src=\"https://colab.research.google.com/assets/colab-badge.svg\" alt=\"Open In Colab\"/></a>"
      ]
    },
    {
      "cell_type": "markdown",
      "metadata": {
        "id": "6wcboQgPwXYO",
        "colab_type": "text"
      },
      "source": [
        "# FIRST DON'T Foget the imports"
      ]
    },
    {
      "cell_type": "code",
      "metadata": {
        "id": "sxlCCZWjwZ3H",
        "colab_type": "code",
        "colab": {}
      },
      "source": [
        "# Data manipulation\n",
        "import pandas as pd\n",
        "import numpy as np"
      ],
      "execution_count": 0,
      "outputs": []
    },
    {
      "cell_type": "markdown",
      "metadata": {
        "id": "_L9iPmHswATJ",
        "colab_type": "text"
      },
      "source": [
        "# Basic Dataset Information\n",
        "## (1) Read in a CSV dataset"
      ]
    },
    {
      "cell_type": "code",
      "metadata": {
        "id": "l33sNVq3geX3",
        "colab_type": "code",
        "colab": {}
      },
      "source": [
        "pd.DataFrame.from_csv(“csv_file”) \n",
        "\n",
        "# OR\n",
        "\n",
        "pd.read_csv(“csv_file”)"
      ],
      "execution_count": 0,
      "outputs": []
    }
  ]
}