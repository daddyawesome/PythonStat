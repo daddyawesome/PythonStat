{
  "nbformat": 4,
  "nbformat_minor": 0,
  "metadata": {
    "colab": {
      "name": "Panda_CODES_4NOOB",
      "provenance": [],
      "include_colab_link": true
    },
    "kernelspec": {
      "name": "python3",
      "display_name": "Python 3"
    }
  },
  "cells": [
    {
      "cell_type": "markdown",
      "metadata": {
        "id": "view-in-github",
        "colab_type": "text"
      },
      "source": [
        "<a href=\"https://colab.research.google.com/github/daddyawesome/PythonStat/blob/master/Panda_CODES_4NOOB.ipynb\" target=\"_parent\"><img src=\"https://colab.research.google.com/assets/colab-badge.svg\" alt=\"Open In Colab\"/></a>"
      ]
    },
    {
      "cell_type": "markdown",
      "metadata": {
        "id": "6wcboQgPwXYO",
        "colab_type": "text"
      },
      "source": [
        "# FIRST DON'T Foget the imports"
      ]
    },
    {
      "cell_type": "code",
      "metadata": {
        "id": "sxlCCZWjwZ3H",
        "colab_type": "code",
        "colab": {}
      },
      "source": [
        "# Data manipulation\n",
        "import pandas as pd\n",
        "import numpy as np"
      ],
      "execution_count": 0,
      "outputs": []
    },
    {
      "cell_type": "markdown",
      "metadata": {
        "id": "_L9iPmHswATJ",
        "colab_type": "text"
      },
      "source": [
        "# Basic Dataset Information\n",
        "## (1) Read in a CSV dataset"
      ]
    },
    {
      "cell_type": "code",
      "metadata": {
        "id": "l33sNVq3geX3",
        "colab_type": "code",
        "colab": {}
      },
      "source": [
        "pd.DataFrame.from_csv(“csv_file”)\n",
        "\n",
        "# OR\n",
        "\n",
        "pd.read_csv(“csv_file”)"
      ],
      "execution_count": 0,
      "outputs": []
    },
    {
      "cell_type": "markdown",
      "metadata": {
        "id": "n6CMicL9xNZQ",
        "colab_type": "text"
      },
      "source": [
        "## (2) Read in an Excel dataset"
      ]
    },
    {
      "cell_type": "code",
      "metadata": {
        "id": "iCvDQ7GgxOAN",
        "colab_type": "code",
        "colab": {}
      },
      "source": [
        "pd.read_excel(\"excel_file\")"
      ],
      "execution_count": 0,
      "outputs": []
    },
    {
      "cell_type": "markdown",
      "metadata": {
        "id": "BjjPaedVxOYD",
        "colab_type": "text"
      },
      "source": [
        "## (3) Write your data frame directly to csv\n",
        "\n",
        "Comma separated and without the indices"
      ]
    },
    {
      "cell_type": "code",
      "metadata": {
        "id": "wyyS_fwKxOnd",
        "colab_type": "code",
        "colab": {}
      },
      "source": [
        "df.to_csv(\"data.csv\", sep=\",\", index=False)"
      ],
      "execution_count": 0,
      "outputs": []
    },
    {
      "cell_type": "markdown",
      "metadata": {
        "id": "SbLNfuSbxO31",
        "colab_type": "text"
      },
      "source": [
        "## (4) Basic dataset feature info"
      ]
    },
    {
      "cell_type": "code",
      "metadata": {
        "id": "6IjaCTZ9xPID",
        "colab_type": "code",
        "colab": {}
      },
      "source": [
        "df.info()"
      ],
      "execution_count": 0,
      "outputs": []
    },
    {
      "cell_type": "markdown",
      "metadata": {
        "id": "gieatWYJxPaX",
        "colab_type": "text"
      },
      "source": [
        "## (5) Basic dataset statistics"
      ]
    },
    {
      "cell_type": "code",
      "metadata": {
        "id": "hy2gLQxoxPmn",
        "colab_type": "code",
        "colab": {}
      },
      "source": [
        "print(df.describe())"
      ],
      "execution_count": 0,
      "outputs": []
    },
    {
      "cell_type": "markdown",
      "metadata": {
        "id": "bZSmLFx9xPzs",
        "colab_type": "text"
      },
      "source": [
        ""
      ]
    },
    {
      "cell_type": "code",
      "metadata": {
        "id": "ddw-1cNPxQEN",
        "colab_type": "code",
        "colab": {}
      },
      "source": [
        ""
      ],
      "execution_count": 0,
      "outputs": []
    },
    {
      "cell_type": "markdown",
      "metadata": {
        "id": "Rec2isLWxQTb",
        "colab_type": "text"
      },
      "source": [
        ""
      ]
    },
    {
      "cell_type": "code",
      "metadata": {
        "id": "MHtkTkyQxQff",
        "colab_type": "code",
        "colab": {}
      },
      "source": [
        ""
      ],
      "execution_count": 0,
      "outputs": []
    },
    {
      "cell_type": "markdown",
      "metadata": {
        "id": "zmRm4SdJxQwL",
        "colab_type": "text"
      },
      "source": [
        ""
      ]
    },
    {
      "cell_type": "code",
      "metadata": {
        "id": "q2grkn1YxQ9e",
        "colab_type": "code",
        "colab": {}
      },
      "source": [
        ""
      ],
      "execution_count": 0,
      "outputs": []
    },
    {
      "cell_type": "markdown",
      "metadata": {
        "id": "T8ezPTiJxROC",
        "colab_type": "text"
      },
      "source": [
        ""
      ]
    },
    {
      "cell_type": "code",
      "metadata": {
        "id": "uDk7IVNlxRZ_",
        "colab_type": "code",
        "colab": {}
      },
      "source": [
        ""
      ],
      "execution_count": 0,
      "outputs": []
    },
    {
      "cell_type": "markdown",
      "metadata": {
        "id": "hlaRi6N2xRp1",
        "colab_type": "text"
      },
      "source": [
        ""
      ]
    },
    {
      "cell_type": "code",
      "metadata": {
        "id": "vbuyJCMAxR7s",
        "colab_type": "code",
        "colab": {}
      },
      "source": [
        ""
      ],
      "execution_count": 0,
      "outputs": []
    }
  ]
}