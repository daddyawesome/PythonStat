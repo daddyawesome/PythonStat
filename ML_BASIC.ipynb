{
  "nbformat": 4,
  "nbformat_minor": 0,
  "metadata": {
    "colab": {
      "name": "ML BASIC.ipynb",
      "provenance": [],
      "collapsed_sections": [],
      "authorship_tag": "ABX9TyPduDhp8TG07sLBs9gIrs79",
      "include_colab_link": true
    },
    "kernelspec": {
      "name": "python3",
      "display_name": "Python 3"
    }
  },
  "cells": [
    {
      "cell_type": "markdown",
      "metadata": {
        "id": "view-in-github",
        "colab_type": "text"
      },
      "source": [
        "<a href=\"https://colab.research.google.com/github/daddyawesome/PythonStat/blob/master/ML_BASIC.ipynb\" target=\"_parent\"><img src=\"https://colab.research.google.com/assets/colab-badge.svg\" alt=\"Open In Colab\"/></a>"
      ]
    },
    {
      "cell_type": "markdown",
      "metadata": {
        "id": "KHW6ZS5C077w",
        "colab_type": "text"
      },
      "source": [
        "# Type of Machine Learning\n",
        "1. Supervised Learning\n",
        "2. Unsupervised Learning\n",
        "3. Reinforcement LEarning\n",
        "\n",
        "## Supervise Learning\n",
        "Machine Learning model learns from the past input data and makes future prediction as output.\n",
        " - Types of Supervise Learning\n",
        "  1. Classification - is concerned with building models that separates data into distinct classes.\n",
        "      - Decision Tree\n",
        "      - Support Vector Machine\n",
        "  2. Regression - based on previous input data, the machine predicts continous output value\n",
        "      - Linear Regression\n",
        "      - Polynomial Regression\n",
        "      \n"
      ]
    },
    {
      "cell_type": "code",
      "metadata": {
        "id": "h2OA3anJ0fmW",
        "colab_type": "code",
        "colab": {
          "base_uri": "https://localhost:8080/",
          "height": 204
        },
        "outputId": "99d5905e-687b-479c-a1d8-d7ae5ef4ee66"
      },
      "source": [
        "#importing Numpy, Matplotlib and sklearn libraries\n",
        "import matplotlib.pyplot as plt\n",
        "import numpy as np\n",
        "\n",
        "#importing Datasets from scikit-learn\n",
        "from sklearn import datasets, linear_model\n",
        "\n",
        "#load the datasets\n",
        "house_price =[245, 312, 279, 308, 199, 219, 405, 324, 319, 255]\n",
        "size = [1400, 1600, 1700, 1875, 1100, 1550, 2350, 2450, 1425, 1700]\n",
        "\n",
        "print(size)\n",
        "#Reshape the input to your regression\n",
        "size2 = np.array(size).reshape((-1,1))\n",
        "print(size2)"
      ],
      "execution_count": 1,
      "outputs": [
        {
          "output_type": "stream",
          "text": [
            "[1400, 1600, 1700, 1875, 1100, 1550, 2350, 2450, 1425, 1700]\n",
            "[[1400]\n",
            " [1600]\n",
            " [1700]\n",
            " [1875]\n",
            " [1100]\n",
            " [1550]\n",
            " [2350]\n",
            " [2450]\n",
            " [1425]\n",
            " [1700]]\n"
          ],
          "name": "stdout"
        }
      ]
    },
    {
      "cell_type": "code",
      "metadata": {
        "id": "7q8aI7Dj5YV5",
        "colab_type": "code",
        "colab": {
          "base_uri": "https://localhost:8080/",
          "height": 347
        },
        "outputId": "2137a933-5bb4-4020-f555-948c58622882"
      },
      "source": [
        "#By using fit module in linear regression, user can fit the data frequently and quickly\n",
        "regr = linear_model.LinearRegression()\n",
        "regr.fit(size2, house_price)\n",
        "print(\"Coefficients: \\n\", regr.coef_)\n",
        "print(\"Intercepts: \\n\", regr.intercept_)\n",
        "\n",
        "#Formula obtained for the trained model\n",
        "def graph(formula, x_range):\n",
        "  x = np.array(x_range)\n",
        "  y = eval(formula)\n",
        "  plt.plot(x,y)\n",
        "\n",
        "#Plotting a prediction line\n",
        "fig = plt.figure()\n",
        "ax = fig.add_subplot(111)\n",
        "graph('regr.coef_*x + regr.intercept_', range(1000,2700))\n",
        "plt.scatter(size,house_price, color = 'black')\n",
        "plt.ylabel('house price')\n",
        "plt.xlabel('size of the house')\n",
        "[t.set_color('red') for t in ax.xaxis.get_ticklines()]\n",
        "[t.set_color('red') for t in ax.xaxis.get_ticklabels()]\n",
        "[t.set_color('red') for t in ax.yaxis.get_ticklines()]\n",
        "[t.set_color('red') for t in ax.yaxis.get_ticklabels()]\n",
        "plt.show()\n"
      ],
      "execution_count": 10,
      "outputs": [
        {
          "output_type": "stream",
          "text": [
            "Coefficients: \n",
            " [0.10976774]\n",
            "Intercepts: \n",
            " 98.24832962138078\n"
          ],
          "name": "stdout"
        },
        {
          "output_type": "display_data",
          "data": {
            "image/png": "[encoded data removed]",
            "text/plain": [
              "<Figure size 432x288 with 1 Axes>"
            ]
          },
          "metadata": {
            "tags": []
          }
        }
      ]
    },
    {
      "cell_type": "code",
      "metadata": {
        "id": "3vDxivN56U_2",
        "colab_type": "code",
        "colab": {
          "base_uri": "https://localhost:8080/",
          "height": 51
        },
        "outputId": "cbc5726a-063f-465d-d717-fb18fbd76c55"
      },
      "source": [
        "#prediction using mx + b\n",
        "size_new = 1400\n",
        "price = (size_new * regr.coef_) + regr.intercept_\n",
        "print(price)\n",
        "\n",
        "#prediction using .predict\n",
        "print(regr.predict([[size_new]]))"
      ],
      "execution_count": 11,
      "outputs": [
        {
          "output_type": "stream",
          "text": [
            "[251.92316258]\n",
            "[251.92316258]\n"
          ],
          "name": "stdout"
        }
      ]
    },
    {
      "cell_type": "markdown",
      "metadata": {
        "id": "295mP1Y5CI4k",
        "colab_type": "text"
      },
      "source": [
        "## Unsupervised Learning\n",
        "Machine learning model uses unlabeled input data and allows the algorithm to act on that information without guidance\n",
        "\n",
        "- Types of Unsupervised Learning\n",
        "  1. Clustering - is used fro analyzing and grouping data which does not include pre-labeled class or even a class attributed at all.\n",
        "      - K-Means\n",
        "      - Hierarchical Clustering\n",
        "      - Hidden Markov Model\n",
        "  2. Association - discovers the probability of the co-occurence of items in a collection.\n",
        "      - Apriori Algorithm\n",
        "      - FP-Growth\n",
        "       "
      ]
    }
  ]
}